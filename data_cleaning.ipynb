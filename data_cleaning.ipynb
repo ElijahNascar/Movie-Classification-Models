{
 "cells": [
  {
   "cell_type": "markdown",
   "id": "0c157954",
   "metadata": {},
   "source": [
    "# Data Cleaning\n",
    "- only keeping movies that were released (dropping anything pre-release)\n",
    "- get rid of the columns that we wont use\n",
    "- create binary response "
   ]
  },
  {
   "cell_type": "code",
   "execution_count": 1,
   "id": "66fdbd0b",
   "metadata": {},
   "outputs": [],
   "source": [
    "import pandas as pd\n",
    "import numpy as np"
   ]
  },
  {
   "cell_type": "code",
   "execution_count": 83,
   "id": "a615de0a",
   "metadata": {
    "scrolled": true
   },
   "outputs": [
    {
     "name": "stderr",
     "output_type": "stream",
     "text": [
      "C:\\Users\\csky2\\AppData\\Local\\Temp\\ipykernel_5024\\1536947796.py:2: DtypeWarning: Columns (10) have mixed types. Specify dtype option on import or set low_memory=False.\n",
      "  movies_metadata = pd.read_csv('movies_metadata.csv')\n"
     ]
    }
   ],
   "source": [
    "# importing csv file\n",
    "movies_metadata = pd.read_csv('movies_metadata.csv')"
   ]
  },
  {
   "cell_type": "code",
   "execution_count": 84,
   "id": "a2331365",
   "metadata": {},
   "outputs": [],
   "source": [
    "# only keeping movies that were released (dropping anything pre-release)\n",
    "# drops about 400 movies\n",
    "movies_metadata = movies_metadata.drop(np.where(movies_metadata['status'] != 'Released')[0])"
   ]
  },
  {
   "cell_type": "code",
   "execution_count": 85,
   "id": "ff9e1d91",
   "metadata": {},
   "outputs": [],
   "source": [
    "# dropping 9 columns that we will not use\n",
    "movies_metadata = movies_metadata.drop(['adult', 'homepage', 'id', 'imdb_id', 'original_title', 'poster_path', 'status', 'video', 'overview'], axis=1)"
   ]
  },
  {
   "cell_type": "code",
   "execution_count": 86,
   "id": "715672d4",
   "metadata": {},
   "outputs": [],
   "source": [
    "# cleaning belongs_to_collection - making it binary\n",
    "movies_metadata.loc[~movies_metadata.belongs_to_collection.isnull(), 'belongs_to_collection'] = 1  # not nan\n",
    "movies_metadata.loc[movies_metadata.belongs_to_collection.isnull(), 'belongs_to_collection'] = 0"
   ]
  },
  {
   "cell_type": "code",
   "execution_count": 87,
   "id": "9495fe81",
   "metadata": {},
   "outputs": [
    {
     "data": {
      "text/plain": [
       "Index(['belongs_to_collection', 'budget', 'genres', 'original_language',\n",
       "       'popularity', 'production_companies', 'production_countries',\n",
       "       'release_date', 'revenue', 'runtime', 'spoken_languages', 'tagline',\n",
       "       'title', 'vote_average', 'vote_count'],\n",
       "      dtype='object')"
      ]
     },
     "execution_count": 87,
     "metadata": {},
     "output_type": "execute_result"
    }
   ],
   "source": [
    "movies_metadata.columns"
   ]
  },
  {
   "cell_type": "code",
   "execution_count": 88,
   "id": "2f16cf86",
   "metadata": {},
   "outputs": [
    {
     "name": "stdout",
     "output_type": "stream",
     "text": [
      "num of movies that made money: 7395\n",
      "num of movies that didnt make money: 37619\n"
     ]
    }
   ],
   "source": [
    "print('num of movies that made money:', movies_metadata[movies_metadata['revenue']!=0].shape[0])\n",
    "print('num of movies that didnt make money:', movies_metadata[movies_metadata['revenue']==0].shape[0])"
   ]
  },
  {
   "cell_type": "code",
   "execution_count": 165,
   "id": "1b8c067a",
   "metadata": {},
   "outputs": [],
   "source": [
    "# making y binary\n",
    "movies_classification = movies_metadata.copy()\n",
    "movies_classification.loc[movies_metadata['revenue']!=0, 'revenue'] = 1\n",
    "movies_classification.loc[movies_metadata['revenue']==0, 'revenue'] = 0"
   ]
  },
  {
   "cell_type": "code",
   "execution_count": 166,
   "id": "cc8bc8db",
   "metadata": {},
   "outputs": [
    {
     "data": {
      "text/plain": [
       "\"[{'id': 16, 'name': 'Animation'}, {'id': 35, 'name': 'Comedy'}, {'id': 10751, 'name': 'Family'}]\""
      ]
     },
     "execution_count": 166,
     "metadata": {},
     "output_type": "execute_result"
    }
   ],
   "source": [
    "movies_classification.genres[0]"
   ]
  },
  {
   "cell_type": "code",
   "execution_count": 158,
   "id": "4027c6ce",
   "metadata": {},
   "outputs": [],
   "source": [
    "# turning genres into dummy vars\n",
    "\n",
    "# replace all the [] with ''\n",
    "# make each obs a list - string.split(\",\")\n",
    "# blank dict genre_types\n",
    "# for each list in movies_classification.genres:\n",
    "#     for each dict in the list:\n",
    "#          if id not in genre_types:\n",
    "#             genre_types |= dict\n",
    "\n",
    "# for name in genre_types:\n",
    "#     add a column to movies_classification\n",
    "# make all obs vals 0\n",
    "\n",
    "# for each name in dict:\n",
    "#    if name is in obs:\n",
    "#       movies_classification.loc[row, name] = 1\n",
    "# do movies_classification.apply(lambda..."
   ]
  },
  {
   "cell_type": "code",
   "execution_count": 170,
   "id": "9dad147c",
   "metadata": {},
   "outputs": [],
   "source": [
    "movies_classification.genres = movies_classification.genres.apply(lambda x:eval(x))"
   ]
  },
  {
   "cell_type": "code",
   "execution_count": 199,
   "id": "b46623c8",
   "metadata": {},
   "outputs": [],
   "source": [
    "genre_types = []\n",
    "for list_of_dicts in movies_classification.genres:\n",
    "    for dictionary in list_of_dicts:\n",
    "        if dictionary['name'] not in genre_types:\n",
    "            genre_types.append(dictionary['name'])"
   ]
  },
  {
   "cell_type": "code",
   "execution_count": 203,
   "id": "39b7969b",
   "metadata": {},
   "outputs": [
    {
     "ename": "SyntaxError",
     "evalue": "invalid syntax (3198499710.py, line 3)",
     "output_type": "error",
     "traceback": [
      "\u001b[1;36m  Cell \u001b[1;32mIn[203], line 3\u001b[1;36m\u001b[0m\n\u001b[1;33m    movies_classification[genre].apply(lambda x:1 if movies_classification.genres.isin([genre]))\u001b[0m\n\u001b[1;37m                                                                                               ^\u001b[0m\n\u001b[1;31mSyntaxError\u001b[0m\u001b[1;31m:\u001b[0m invalid syntax\n"
     ]
    }
   ],
   "source": [
    "for genre in genre_types:\n",
    "    movies_classification[genre] = 0\n"
   ]
  },
  {
   "cell_type": "code",
   "execution_count": 206,
   "id": "88741b80",
   "metadata": {},
   "outputs": [
    {
     "data": {
      "text/plain": [
       "0"
      ]
     },
     "execution_count": 206,
     "metadata": {},
     "output_type": "execute_result"
    }
   ],
   "source": [
    "movies_classification.genres.isin(['Horror']).sum()"
   ]
  },
  {
   "cell_type": "code",
   "execution_count": 204,
   "id": "640f5d8f",
   "metadata": {},
   "outputs": [
    {
     "ename": "SyntaxError",
     "evalue": "invalid syntax (1088092745.py, line 1)",
     "output_type": "error",
     "traceback": [
      "\u001b[1;36m  Cell \u001b[1;32mIn[204], line 1\u001b[1;36m\u001b[0m\n\u001b[1;33m    movies_classification['Horror'].apply(lambda x:1 if movies_classification.genres.isin(['Horror']))\u001b[0m\n\u001b[1;37m                                                                                                     ^\u001b[0m\n\u001b[1;31mSyntaxError\u001b[0m\u001b[1;31m:\u001b[0m invalid syntax\n"
     ]
    }
   ],
   "source": [
    "    movies_classification['Horror'].apply(lambda x:1 if movies_classification.genres.isin(['Horror']))"
   ]
  },
  {
   "cell_type": "code",
   "execution_count": 38,
   "id": "43cca20d",
   "metadata": {},
   "outputs": [
    {
     "name": "stderr",
     "output_type": "stream",
     "text": [
      "C:\\Users\\csky2\\AppData\\Local\\Temp\\ipykernel_5024\\1535929241.py:1: FutureWarning: In a future version, the Index constructor will not infer numeric dtypes when passed object-dtype sequences (matching Series behavior)\n",
      "  dummies = pd.get_dummies(movies_classification)\n"
     ]
    }
   ],
   "source": [
    "dummies = pd.get_dummies(movies_classification)"
   ]
  },
  {
   "cell_type": "code",
   "execution_count": 39,
   "id": "f4b4eb28",
   "metadata": {},
   "outputs": [
    {
     "data": {
      "text/plain": [
       "(45014, 155331)"
      ]
     },
     "execution_count": 39,
     "metadata": {},
     "output_type": "execute_result"
    }
   ],
   "source": [
    "dummies.shape"
   ]
  }
 ],
 "metadata": {
  "kernelspec": {
   "display_name": "Python 3 (ipykernel)",
   "language": "python",
   "name": "python3"
  },
  "language_info": {
   "codemirror_mode": {
    "name": "ipython",
    "version": 3
   },
   "file_extension": ".py",
   "mimetype": "text/x-python",
   "name": "python",
   "nbconvert_exporter": "python",
   "pygments_lexer": "ipython3",
   "version": "3.9.16"
  }
 },
 "nbformat": 4,
 "nbformat_minor": 5
}
