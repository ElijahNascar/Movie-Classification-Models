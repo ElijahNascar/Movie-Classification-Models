{
 "cells": [
  {
   "cell_type": "markdown",
   "id": "0c157954",
   "metadata": {},
   "source": [
    "# Data Cleaning\n",
    "- only keeping movies that were released (dropping anything pre-release)\n",
    "- get rid of the columns that we wont use\n",
    "- create binary response "
   ]
  },
  {
   "cell_type": "code",
   "execution_count": 19,
   "id": "66fdbd0b",
   "metadata": {},
   "outputs": [],
   "source": [
    "import pandas as pd\n",
    "import numpy as np"
   ]
  },
  {
   "cell_type": "code",
   "execution_count": 61,
   "id": "a615de0a",
   "metadata": {},
   "outputs": [
    {
     "name": "stderr",
     "output_type": "stream",
     "text": [
      "C:\\Users\\csky2\\AppData\\Local\\Temp\\ipykernel_4812\\1536947796.py:2: DtypeWarning: Columns (10) have mixed types. Specify dtype option on import or set low_memory=False.\n",
      "  movies_metadata = pd.read_csv('movies_metadata.csv')\n"
     ]
    }
   ],
   "source": [
    "# importing csv file\n",
    "movies_metadata = pd.read_csv('movies_metadata.csv')"
   ]
  },
  {
   "cell_type": "code",
   "execution_count": 62,
   "id": "a2331365",
   "metadata": {},
   "outputs": [],
   "source": [
    "# only keeping movies that were released (dropping anything pre-release)\n",
    "# drops about 400 movies\n",
    "movies_metadata = movies_metadata.drop(np.where(movies_metadata['status'] != 'Released')[0])"
   ]
  },
  {
   "cell_type": "code",
   "execution_count": 63,
   "id": "ff9e1d91",
   "metadata": {},
   "outputs": [],
   "source": [
    "# dropping 9 columns that we will not use\n",
    "movies_metadata = movies_metadata.drop(['adult', 'homepage', 'id', 'imdb_id', 'original_title', 'poster_path', 'status', 'video', 'overview'], axis=1)"
   ]
  },
  {
   "cell_type": "code",
   "execution_count": 64,
   "id": "715672d4",
   "metadata": {},
   "outputs": [],
   "source": [
    "# cleaning belongs_to_collection - making it binary\n",
    "movies_metadata.loc[~movies_metadata.belongs_to_collection.isnull(), 'belongs_to_collection'] = 1  # not nan\n",
    "movies_metadata.loc[movies_metadata.belongs_to_collection.isnull(), 'belongs_to_collection'] = 0"
   ]
  },
  {
   "cell_type": "code",
   "execution_count": 65,
   "id": "dd7b6aea",
   "metadata": {},
   "outputs": [
    {
     "data": {
      "text/html": [
       "<div>\n",
       "<style scoped>\n",
       "    .dataframe tbody tr th:only-of-type {\n",
       "        vertical-align: middle;\n",
       "    }\n",
       "\n",
       "    .dataframe tbody tr th {\n",
       "        vertical-align: top;\n",
       "    }\n",
       "\n",
       "    .dataframe thead th {\n",
       "        text-align: right;\n",
       "    }\n",
       "</style>\n",
       "<table border=\"1\" class=\"dataframe\">\n",
       "  <thead>\n",
       "    <tr style=\"text-align: right;\">\n",
       "      <th></th>\n",
       "      <th>belongs_to_collection</th>\n",
       "      <th>budget</th>\n",
       "      <th>genres</th>\n",
       "      <th>original_language</th>\n",
       "      <th>popularity</th>\n",
       "      <th>production_companies</th>\n",
       "      <th>production_countries</th>\n",
       "      <th>release_date</th>\n",
       "      <th>revenue</th>\n",
       "      <th>runtime</th>\n",
       "      <th>spoken_languages</th>\n",
       "      <th>tagline</th>\n",
       "      <th>title</th>\n",
       "      <th>vote_average</th>\n",
       "      <th>vote_count</th>\n",
       "    </tr>\n",
       "  </thead>\n",
       "  <tbody>\n",
       "    <tr>\n",
       "      <th>0</th>\n",
       "      <td>1</td>\n",
       "      <td>30000000</td>\n",
       "      <td>[{'id': 16, 'name': 'Animation'}, {'id': 35, '...</td>\n",
       "      <td>en</td>\n",
       "      <td>21.946943</td>\n",
       "      <td>[{'name': 'Pixar Animation Studios', 'id': 3}]</td>\n",
       "      <td>[{'iso_3166_1': 'US', 'name': 'United States o...</td>\n",
       "      <td>1995-10-30</td>\n",
       "      <td>373554033.0</td>\n",
       "      <td>81.0</td>\n",
       "      <td>[{'iso_639_1': 'en', 'name': 'English'}]</td>\n",
       "      <td>NaN</td>\n",
       "      <td>Toy Story</td>\n",
       "      <td>7.7</td>\n",
       "      <td>5415.0</td>\n",
       "    </tr>\n",
       "    <tr>\n",
       "      <th>1</th>\n",
       "      <td>0</td>\n",
       "      <td>65000000</td>\n",
       "      <td>[{'id': 12, 'name': 'Adventure'}, {'id': 14, '...</td>\n",
       "      <td>en</td>\n",
       "      <td>17.015539</td>\n",
       "      <td>[{'name': 'TriStar Pictures', 'id': 559}, {'na...</td>\n",
       "      <td>[{'iso_3166_1': 'US', 'name': 'United States o...</td>\n",
       "      <td>1995-12-15</td>\n",
       "      <td>262797249.0</td>\n",
       "      <td>104.0</td>\n",
       "      <td>[{'iso_639_1': 'en', 'name': 'English'}, {'iso...</td>\n",
       "      <td>Roll the dice and unleash the excitement!</td>\n",
       "      <td>Jumanji</td>\n",
       "      <td>6.9</td>\n",
       "      <td>2413.0</td>\n",
       "    </tr>\n",
       "    <tr>\n",
       "      <th>2</th>\n",
       "      <td>1</td>\n",
       "      <td>0</td>\n",
       "      <td>[{'id': 10749, 'name': 'Romance'}, {'id': 35, ...</td>\n",
       "      <td>en</td>\n",
       "      <td>11.7129</td>\n",
       "      <td>[{'name': 'Warner Bros.', 'id': 6194}, {'name'...</td>\n",
       "      <td>[{'iso_3166_1': 'US', 'name': 'United States o...</td>\n",
       "      <td>1995-12-22</td>\n",
       "      <td>0.0</td>\n",
       "      <td>101.0</td>\n",
       "      <td>[{'iso_639_1': 'en', 'name': 'English'}]</td>\n",
       "      <td>Still Yelling. Still Fighting. Still Ready for...</td>\n",
       "      <td>Grumpier Old Men</td>\n",
       "      <td>6.5</td>\n",
       "      <td>92.0</td>\n",
       "    </tr>\n",
       "    <tr>\n",
       "      <th>3</th>\n",
       "      <td>0</td>\n",
       "      <td>16000000</td>\n",
       "      <td>[{'id': 35, 'name': 'Comedy'}, {'id': 18, 'nam...</td>\n",
       "      <td>en</td>\n",
       "      <td>3.859495</td>\n",
       "      <td>[{'name': 'Twentieth Century Fox Film Corporat...</td>\n",
       "      <td>[{'iso_3166_1': 'US', 'name': 'United States o...</td>\n",
       "      <td>1995-12-22</td>\n",
       "      <td>81452156.0</td>\n",
       "      <td>127.0</td>\n",
       "      <td>[{'iso_639_1': 'en', 'name': 'English'}]</td>\n",
       "      <td>Friends are the people who let you be yourself...</td>\n",
       "      <td>Waiting to Exhale</td>\n",
       "      <td>6.1</td>\n",
       "      <td>34.0</td>\n",
       "    </tr>\n",
       "    <tr>\n",
       "      <th>4</th>\n",
       "      <td>1</td>\n",
       "      <td>0</td>\n",
       "      <td>[{'id': 35, 'name': 'Comedy'}]</td>\n",
       "      <td>en</td>\n",
       "      <td>8.387519</td>\n",
       "      <td>[{'name': 'Sandollar Productions', 'id': 5842}...</td>\n",
       "      <td>[{'iso_3166_1': 'US', 'name': 'United States o...</td>\n",
       "      <td>1995-02-10</td>\n",
       "      <td>76578911.0</td>\n",
       "      <td>106.0</td>\n",
       "      <td>[{'iso_639_1': 'en', 'name': 'English'}]</td>\n",
       "      <td>Just When His World Is Back To Normal... He's ...</td>\n",
       "      <td>Father of the Bride Part II</td>\n",
       "      <td>5.7</td>\n",
       "      <td>173.0</td>\n",
       "    </tr>\n",
       "    <tr>\n",
       "      <th>...</th>\n",
       "      <td>...</td>\n",
       "      <td>...</td>\n",
       "      <td>...</td>\n",
       "      <td>...</td>\n",
       "      <td>...</td>\n",
       "      <td>...</td>\n",
       "      <td>...</td>\n",
       "      <td>...</td>\n",
       "      <td>...</td>\n",
       "      <td>...</td>\n",
       "      <td>...</td>\n",
       "      <td>...</td>\n",
       "      <td>...</td>\n",
       "      <td>...</td>\n",
       "      <td>...</td>\n",
       "    </tr>\n",
       "    <tr>\n",
       "      <th>45461</th>\n",
       "      <td>0</td>\n",
       "      <td>0</td>\n",
       "      <td>[{'id': 18, 'name': 'Drama'}, {'id': 10751, 'n...</td>\n",
       "      <td>fa</td>\n",
       "      <td>0.072051</td>\n",
       "      <td>[]</td>\n",
       "      <td>[{'iso_3166_1': 'IR', 'name': 'Iran'}]</td>\n",
       "      <td>NaN</td>\n",
       "      <td>0.0</td>\n",
       "      <td>90.0</td>\n",
       "      <td>[{'iso_639_1': 'fa', 'name': 'فارسی'}]</td>\n",
       "      <td>Rising and falling between a man and woman</td>\n",
       "      <td>Subdue</td>\n",
       "      <td>4.0</td>\n",
       "      <td>1.0</td>\n",
       "    </tr>\n",
       "    <tr>\n",
       "      <th>45462</th>\n",
       "      <td>0</td>\n",
       "      <td>0</td>\n",
       "      <td>[{'id': 18, 'name': 'Drama'}]</td>\n",
       "      <td>tl</td>\n",
       "      <td>0.178241</td>\n",
       "      <td>[{'name': 'Sine Olivia', 'id': 19653}]</td>\n",
       "      <td>[{'iso_3166_1': 'PH', 'name': 'Philippines'}]</td>\n",
       "      <td>2011-11-17</td>\n",
       "      <td>0.0</td>\n",
       "      <td>360.0</td>\n",
       "      <td>[{'iso_639_1': 'tl', 'name': ''}]</td>\n",
       "      <td>NaN</td>\n",
       "      <td>Century of Birthing</td>\n",
       "      <td>9.0</td>\n",
       "      <td>3.0</td>\n",
       "    </tr>\n",
       "    <tr>\n",
       "      <th>45463</th>\n",
       "      <td>0</td>\n",
       "      <td>0</td>\n",
       "      <td>[{'id': 28, 'name': 'Action'}, {'id': 18, 'nam...</td>\n",
       "      <td>en</td>\n",
       "      <td>0.903007</td>\n",
       "      <td>[{'name': 'American World Pictures', 'id': 6165}]</td>\n",
       "      <td>[{'iso_3166_1': 'US', 'name': 'United States o...</td>\n",
       "      <td>2003-08-01</td>\n",
       "      <td>0.0</td>\n",
       "      <td>90.0</td>\n",
       "      <td>[{'iso_639_1': 'en', 'name': 'English'}]</td>\n",
       "      <td>A deadly game of wits.</td>\n",
       "      <td>Betrayal</td>\n",
       "      <td>3.8</td>\n",
       "      <td>6.0</td>\n",
       "    </tr>\n",
       "    <tr>\n",
       "      <th>45464</th>\n",
       "      <td>0</td>\n",
       "      <td>0</td>\n",
       "      <td>[]</td>\n",
       "      <td>en</td>\n",
       "      <td>0.003503</td>\n",
       "      <td>[{'name': 'Yermoliev', 'id': 88753}]</td>\n",
       "      <td>[{'iso_3166_1': 'RU', 'name': 'Russia'}]</td>\n",
       "      <td>1917-10-21</td>\n",
       "      <td>0.0</td>\n",
       "      <td>87.0</td>\n",
       "      <td>[]</td>\n",
       "      <td>NaN</td>\n",
       "      <td>Satan Triumphant</td>\n",
       "      <td>0.0</td>\n",
       "      <td>0.0</td>\n",
       "    </tr>\n",
       "    <tr>\n",
       "      <th>45465</th>\n",
       "      <td>0</td>\n",
       "      <td>0</td>\n",
       "      <td>[]</td>\n",
       "      <td>en</td>\n",
       "      <td>0.163015</td>\n",
       "      <td>[]</td>\n",
       "      <td>[{'iso_3166_1': 'GB', 'name': 'United Kingdom'}]</td>\n",
       "      <td>2017-06-09</td>\n",
       "      <td>0.0</td>\n",
       "      <td>75.0</td>\n",
       "      <td>[{'iso_639_1': 'en', 'name': 'English'}]</td>\n",
       "      <td>NaN</td>\n",
       "      <td>Queerama</td>\n",
       "      <td>0.0</td>\n",
       "      <td>0.0</td>\n",
       "    </tr>\n",
       "  </tbody>\n",
       "</table>\n",
       "<p>45014 rows × 15 columns</p>\n",
       "</div>"
      ],
      "text/plain": [
       "      belongs_to_collection    budget  \\\n",
       "0                         1  30000000   \n",
       "1                         0  65000000   \n",
       "2                         1         0   \n",
       "3                         0  16000000   \n",
       "4                         1         0   \n",
       "...                     ...       ...   \n",
       "45461                     0         0   \n",
       "45462                     0         0   \n",
       "45463                     0         0   \n",
       "45464                     0         0   \n",
       "45465                     0         0   \n",
       "\n",
       "                                                  genres original_language  \\\n",
       "0      [{'id': 16, 'name': 'Animation'}, {'id': 35, '...                en   \n",
       "1      [{'id': 12, 'name': 'Adventure'}, {'id': 14, '...                en   \n",
       "2      [{'id': 10749, 'name': 'Romance'}, {'id': 35, ...                en   \n",
       "3      [{'id': 35, 'name': 'Comedy'}, {'id': 18, 'nam...                en   \n",
       "4                         [{'id': 35, 'name': 'Comedy'}]                en   \n",
       "...                                                  ...               ...   \n",
       "45461  [{'id': 18, 'name': 'Drama'}, {'id': 10751, 'n...                fa   \n",
       "45462                      [{'id': 18, 'name': 'Drama'}]                tl   \n",
       "45463  [{'id': 28, 'name': 'Action'}, {'id': 18, 'nam...                en   \n",
       "45464                                                 []                en   \n",
       "45465                                                 []                en   \n",
       "\n",
       "      popularity                               production_companies  \\\n",
       "0      21.946943     [{'name': 'Pixar Animation Studios', 'id': 3}]   \n",
       "1      17.015539  [{'name': 'TriStar Pictures', 'id': 559}, {'na...   \n",
       "2        11.7129  [{'name': 'Warner Bros.', 'id': 6194}, {'name'...   \n",
       "3       3.859495  [{'name': 'Twentieth Century Fox Film Corporat...   \n",
       "4       8.387519  [{'name': 'Sandollar Productions', 'id': 5842}...   \n",
       "...          ...                                                ...   \n",
       "45461   0.072051                                                 []   \n",
       "45462   0.178241             [{'name': 'Sine Olivia', 'id': 19653}]   \n",
       "45463   0.903007  [{'name': 'American World Pictures', 'id': 6165}]   \n",
       "45464   0.003503               [{'name': 'Yermoliev', 'id': 88753}]   \n",
       "45465   0.163015                                                 []   \n",
       "\n",
       "                                    production_countries release_date  \\\n",
       "0      [{'iso_3166_1': 'US', 'name': 'United States o...   1995-10-30   \n",
       "1      [{'iso_3166_1': 'US', 'name': 'United States o...   1995-12-15   \n",
       "2      [{'iso_3166_1': 'US', 'name': 'United States o...   1995-12-22   \n",
       "3      [{'iso_3166_1': 'US', 'name': 'United States o...   1995-12-22   \n",
       "4      [{'iso_3166_1': 'US', 'name': 'United States o...   1995-02-10   \n",
       "...                                                  ...          ...   \n",
       "45461             [{'iso_3166_1': 'IR', 'name': 'Iran'}]          NaN   \n",
       "45462      [{'iso_3166_1': 'PH', 'name': 'Philippines'}]   2011-11-17   \n",
       "45463  [{'iso_3166_1': 'US', 'name': 'United States o...   2003-08-01   \n",
       "45464           [{'iso_3166_1': 'RU', 'name': 'Russia'}]   1917-10-21   \n",
       "45465   [{'iso_3166_1': 'GB', 'name': 'United Kingdom'}]   2017-06-09   \n",
       "\n",
       "           revenue  runtime  \\\n",
       "0      373554033.0     81.0   \n",
       "1      262797249.0    104.0   \n",
       "2              0.0    101.0   \n",
       "3       81452156.0    127.0   \n",
       "4       76578911.0    106.0   \n",
       "...            ...      ...   \n",
       "45461          0.0     90.0   \n",
       "45462          0.0    360.0   \n",
       "45463          0.0     90.0   \n",
       "45464          0.0     87.0   \n",
       "45465          0.0     75.0   \n",
       "\n",
       "                                        spoken_languages  \\\n",
       "0               [{'iso_639_1': 'en', 'name': 'English'}]   \n",
       "1      [{'iso_639_1': 'en', 'name': 'English'}, {'iso...   \n",
       "2               [{'iso_639_1': 'en', 'name': 'English'}]   \n",
       "3               [{'iso_639_1': 'en', 'name': 'English'}]   \n",
       "4               [{'iso_639_1': 'en', 'name': 'English'}]   \n",
       "...                                                  ...   \n",
       "45461             [{'iso_639_1': 'fa', 'name': 'فارسی'}]   \n",
       "45462                  [{'iso_639_1': 'tl', 'name': ''}]   \n",
       "45463           [{'iso_639_1': 'en', 'name': 'English'}]   \n",
       "45464                                                 []   \n",
       "45465           [{'iso_639_1': 'en', 'name': 'English'}]   \n",
       "\n",
       "                                                 tagline  \\\n",
       "0                                                    NaN   \n",
       "1              Roll the dice and unleash the excitement!   \n",
       "2      Still Yelling. Still Fighting. Still Ready for...   \n",
       "3      Friends are the people who let you be yourself...   \n",
       "4      Just When His World Is Back To Normal... He's ...   \n",
       "...                                                  ...   \n",
       "45461         Rising and falling between a man and woman   \n",
       "45462                                                NaN   \n",
       "45463                             A deadly game of wits.   \n",
       "45464                                                NaN   \n",
       "45465                                                NaN   \n",
       "\n",
       "                             title  vote_average  vote_count  \n",
       "0                        Toy Story           7.7      5415.0  \n",
       "1                          Jumanji           6.9      2413.0  \n",
       "2                 Grumpier Old Men           6.5        92.0  \n",
       "3                Waiting to Exhale           6.1        34.0  \n",
       "4      Father of the Bride Part II           5.7       173.0  \n",
       "...                            ...           ...         ...  \n",
       "45461                       Subdue           4.0         1.0  \n",
       "45462          Century of Birthing           9.0         3.0  \n",
       "45463                     Betrayal           3.8         6.0  \n",
       "45464             Satan Triumphant           0.0         0.0  \n",
       "45465                     Queerama           0.0         0.0  \n",
       "\n",
       "[45014 rows x 15 columns]"
      ]
     },
     "execution_count": 65,
     "metadata": {},
     "output_type": "execute_result"
    }
   ],
   "source": [
    "movies_metadata"
   ]
  },
  {
   "cell_type": "code",
   "execution_count": 18,
   "id": "9495fe81",
   "metadata": {},
   "outputs": [
    {
     "data": {
      "text/plain": [
       "Index(['adult', 'belongs_to_collection', 'budget', 'genres', 'homepage', 'id',\n",
       "       'imdb_id', 'original_language', 'original_title', 'overview',\n",
       "       'popularity', 'poster_path', 'production_companies',\n",
       "       'production_countries', 'release_date', 'revenue', 'runtime',\n",
       "       'spoken_languages', 'status', 'tagline', 'title', 'video',\n",
       "       'vote_average', 'vote_count'],\n",
       "      dtype='object')"
      ]
     },
     "execution_count": 18,
     "metadata": {},
     "output_type": "execute_result"
    }
   ],
   "source": [
    "movies_metadata.columns"
   ]
  },
  {
   "cell_type": "code",
   "execution_count": 26,
   "id": "33a77794",
   "metadata": {
    "scrolled": true
   },
   "outputs": [
    {
     "data": {
      "text/plain": [
       "adult                        0\n",
       "belongs_to_collection    40972\n",
       "budget                       0\n",
       "genres                       0\n",
       "homepage                 37684\n",
       "id                           0\n",
       "imdb_id                     17\n",
       "original_language           11\n",
       "original_title               0\n",
       "overview                   954\n",
       "popularity                   5\n",
       "poster_path                386\n",
       "production_companies         3\n",
       "production_countries         3\n",
       "release_date                87\n",
       "revenue                      6\n",
       "runtime                    263\n",
       "spoken_languages             6\n",
       "status                      87\n",
       "tagline                  25054\n",
       "title                        6\n",
       "video                        6\n",
       "vote_average                 6\n",
       "vote_count                   6\n",
       "dtype: int64"
      ]
     },
     "execution_count": 26,
     "metadata": {},
     "output_type": "execute_result"
    }
   ],
   "source": [
    "movies_metadata.isna().sum()"
   ]
  },
  {
   "cell_type": "code",
   "execution_count": 27,
   "id": "e9fef00a",
   "metadata": {},
   "outputs": [
    {
     "data": {
      "text/plain": [
       "count    4.546000e+04\n",
       "mean     1.120935e+07\n",
       "std      6.433225e+07\n",
       "min      0.000000e+00\n",
       "25%      0.000000e+00\n",
       "50%      0.000000e+00\n",
       "75%      0.000000e+00\n",
       "max      2.787965e+09\n",
       "Name: revenue, dtype: float64"
      ]
     },
     "execution_count": 27,
     "metadata": {},
     "output_type": "execute_result"
    }
   ],
   "source": [
    "movies_metadata.revenue.describe()"
   ]
  },
  {
   "cell_type": "code",
   "execution_count": 31,
   "id": "2f16cf86",
   "metadata": {},
   "outputs": [
    {
     "data": {
      "text/plain": [
       "revenue     \n",
       "0.000000e+00    38052\n",
       "1.200000e+07       20\n",
       "1.100000e+07       19\n",
       "1.000000e+07       19\n",
       "2.000000e+06       18\n",
       "                ...  \n",
       "6.101904e+06        1\n",
       "6.101046e+06        1\n",
       "6.100000e+06        1\n",
       "6.086508e+06        1\n",
       "2.787965e+09        1\n",
       "Length: 6863, dtype: int64"
      ]
     },
     "execution_count": 31,
     "metadata": {},
     "output_type": "execute_result"
    }
   ],
   "source": [
    "movies_metadata[['revenue']].value_counts()"
   ]
  },
  {
   "cell_type": "code",
   "execution_count": 32,
   "id": "e5cc216c",
   "metadata": {},
   "outputs": [
    {
     "data": {
      "text/plain": [
       "(45466, 24)"
      ]
     },
     "execution_count": 32,
     "metadata": {},
     "output_type": "execute_result"
    }
   ],
   "source": [
    "movies_metadata.shape"
   ]
  },
  {
   "cell_type": "code",
   "execution_count": 34,
   "id": "62f79810",
   "metadata": {},
   "outputs": [
    {
     "data": {
      "text/plain": [
       "count    45203.000000\n",
       "mean        94.128199\n",
       "std         38.407810\n",
       "min          0.000000\n",
       "25%         85.000000\n",
       "50%         95.000000\n",
       "75%        107.000000\n",
       "max       1256.000000\n",
       "Name: runtime, dtype: float64"
      ]
     },
     "execution_count": 34,
     "metadata": {},
     "output_type": "execute_result"
    }
   ],
   "source": [
    "movies_metadata.runtime.describe()"
   ]
  }
 ],
 "metadata": {
  "kernelspec": {
   "display_name": "Python 3 (ipykernel)",
   "language": "python",
   "name": "python3"
  },
  "language_info": {
   "codemirror_mode": {
    "name": "ipython",
    "version": 3
   },
   "file_extension": ".py",
   "mimetype": "text/x-python",
   "name": "python",
   "nbconvert_exporter": "python",
   "pygments_lexer": "ipython3",
   "version": "3.9.16"
  }
 },
 "nbformat": 4,
 "nbformat_minor": 5
}
