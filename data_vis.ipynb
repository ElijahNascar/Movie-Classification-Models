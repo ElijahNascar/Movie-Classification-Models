{
 "cells": [
  {
   "cell_type": "code",
   "execution_count": 1,
   "id": "a5f20a00",
   "metadata": {},
   "outputs": [],
   "source": [
    "import pandas as pd\n",
    "import seaborn as sns\n",
    "import matplotlib.pyplot as plt"
   ]
  },
  {
   "cell_type": "code",
   "execution_count": 24,
   "id": "427929c8",
   "metadata": {},
   "outputs": [],
   "source": [
    "data = pd.read_csv('movies_classification_updated.csv', index_col='Unnamed: 0')"
   ]
  },
  {
   "cell_type": "markdown",
   "id": "4e4396a5",
   "metadata": {},
   "source": [
    "# 1) Distribution of the response variable\n",
    "\n",
    "Barplot in case of classification (percentages of 0s and 1s)\n",
    "\n",
    "Purpose:\n",
    "\n",
    "Distribution of 0s and 1s may help justify the metric being used to evaluate the model (precision-recall / ROC curve). Note that other factors may also influence the metric being used."
   ]
  },
  {
   "cell_type": "code",
   "execution_count": 25,
   "id": "932028c7",
   "metadata": {},
   "outputs": [
    {
     "data": {
      "text/plain": [
       "0.0    37619\n",
       "1.0     7395\n",
       "Name: revenue, dtype: int64"
      ]
     },
     "execution_count": 25,
     "metadata": {},
     "output_type": "execute_result"
    }
   ],
   "source": [
    "data.revenue.value_counts()"
   ]
  },
  {
   "cell_type": "code",
   "execution_count": 26,
   "id": "d7105808",
   "metadata": {},
   "outputs": [
    {
     "data": {
      "text/plain": [
       "<Axes: xlabel='revenue', ylabel='Percent'>"
      ]
     },
     "execution_count": 26,
     "metadata": {},
     "output_type": "execute_result"
    },
    {
     "data": {
      "image/png": "[encoded data removed]",
      "text/plain": [
       "<Figure size 640x480 with 1 Axes>"
      ]
     },
     "metadata": {},
     "output_type": "display_data"
    }
   ],
   "source": [
    "sns.histplot(data.revenue, stat='percent')"
   ]
  },
  {
   "cell_type": "markdown",
   "id": "84394f1c",
   "metadata": {},
   "source": [
    "# 2) Distribution of each predictor\n",
    "\n",
    "Barplot in case of categorical predictors\n",
    "\n",
    "Purpose:\n",
    "\n",
    "a) If there are too many levels, some levels may be merged\n",
    "\n",
    "b) If the distribution is too skewed across levels, some levels may be merged "
   ]
  },
  {
   "cell_type": "code",
   "execution_count": null,
   "id": "ebe9617e",
   "metadata": {},
   "outputs": [],
   "source": [
    "preds = data.drop(['title', ''])\n",
    "sns.pairplot(data)"
   ]
  },
  {
   "cell_type": "markdown",
   "id": "f53c8759",
   "metadata": {},
   "source": [
    "# 3) Scatterplot / boxplot of each predictor vs response variable - note that the choice of the plot depends on regression/classification and continuous/categorical predictor\n",
    "\n",
    "Purpose:\n",
    "\n",
    "Scatterplots may help identify strong relationships that can be hard-coded before developing the model to improve prediction accuracy. For example, consider the scatterplots shown below for a classification problem, where the response is diagnosis. You should be able to see that there is perfect separation between classes for a subset of data. You don't need to make a model on this part of the dataset. Useful insights such as these greatly enhance prediction accuracy, and reduce the modeling load."
   ]
  },
  {
   "cell_type": "code",
   "execution_count": 27,
   "id": "0953ba15",
   "metadata": {},
   "outputs": [
    {
     "data": {
      "text/plain": [
       "Index(['belongs_to_collection', 'budget', 'popularity', 'revenue', 'runtime',\n",
       "       'title', 'vote_average', 'vote_count', 'Animation', 'Comedy', 'Family',\n",
       "       'Adventure', 'Fantasy', 'Romance', 'Drama', 'Action', 'Crime',\n",
       "       'Thriller', 'Horror', 'History', 'Science Fiction', 'Mystery', 'War',\n",
       "       'Foreign', 'Music', 'Documentary', 'Western', 'TV Movie', 'english',\n",
       "       'release_year', 'release_month'],\n",
       "      dtype='object')"
      ]
     },
     "execution_count": 27,
     "metadata": {},
     "output_type": "execute_result"
    }
   ],
   "source": [
    "data.columns"
   ]
  }
 ],
 "metadata": {
  "kernelspec": {
   "display_name": "Python 3 (ipykernel)",
   "language": "python",
   "name": "python3"
  },
  "language_info": {
   "codemirror_mode": {
    "name": "ipython",
    "version": 3
   },
   "file_extension": ".py",
   "mimetype": "text/x-python",
   "name": "python",
   "nbconvert_exporter": "python",
   "pygments_lexer": "ipython3",
   "version": "3.9.16"
  }
 },
 "nbformat": 4,
 "nbformat_minor": 5
}
