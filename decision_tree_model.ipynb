{
 "cells": [
  {
   "cell_type": "markdown",
   "id": "f752cbad",
   "metadata": {},
   "source": [
    "# USE THIS FOR ENSEMBLE ---------------------------"
   ]
  },
  {
   "cell_type": "code",
   "execution_count": 85,
   "id": "3a13635a",
   "metadata": {},
   "outputs": [],
   "source": [
    "import pandas as pd\n",
    "import numpy as np\n",
    "import seaborn as sns\n",
    "import matplotlib.pyplot as plt\n",
    "from sklearn.metrics import mean_squared_error, mean_absolute_error\n",
    "from sklearn.model_selection import cross_val_score,train_test_split, cross_val_predict\n",
    "from sklearn.metrics import mean_squared_error,r2_score, roc_curve, precision_recall_curve, auc, make_scorer, recall_score, accuracy_score, precision_score, confusion_matrix\n",
    "from sklearn.model_selection import KFold, StratifiedKFold\n",
    "from sklearn.tree import DecisionTreeRegressor, DecisionTreeClassifier\n",
    "from sklearn.model_selection import GridSearchCV, ParameterGrid, RandomizedSearchCV\n",
    "from sklearn.ensemble import BaggingRegressor,BaggingClassifier,RandomForestRegressor,RandomForestClassifier\n",
    "import itertools as it"
   ]
  },
  {
   "cell_type": "code",
   "execution_count": 86,
   "id": "14d67b22",
   "metadata": {},
   "outputs": [],
   "source": [
    "data = pd.read_csv('movies_classification_updated.csv', index_col='Unnamed: 0')"
   ]
  },
  {
   "cell_type": "code",
   "execution_count": 87,
   "id": "104494df",
   "metadata": {},
   "outputs": [],
   "source": [
    "y = data.revenue\n",
    "X = data.drop(['revenue', 'title'], axis = 1)"
   ]
  },
  {
   "cell_type": "code",
   "execution_count": 88,
   "id": "c868639e",
   "metadata": {},
   "outputs": [],
   "source": [
    "# splitting test/train data\n",
    "X_train, X_test, y_train, y_test = train_test_split(X, y, test_size = 0.20, random_state = 45)"
   ]
  },
  {
   "cell_type": "markdown",
   "id": "01e271f1",
   "metadata": {},
   "source": [
    "Not scaling the data: Decision trees and ensemble methods do not require feature scaling to be performed as they are not sensitive to the the variance in the data."
   ]
  },
  {
   "cell_type": "code",
   "execution_count": 89,
   "id": "5606865b",
   "metadata": {},
   "outputs": [
    {
     "data": {
      "text/plain": [
       "(35756, 26)"
      ]
     },
     "execution_count": 89,
     "metadata": {},
     "output_type": "execute_result"
    }
   ],
   "source": [
    "X_train.shape"
   ]
  },
  {
   "cell_type": "code",
   "execution_count": 90,
   "id": "12e23a12",
   "metadata": {},
   "outputs": [
    {
     "data": {
      "text/html": [
       "<style>#sk-container-id-10 {color: black;background-color: white;}#sk-container-id-10 pre{padding: 0;}#sk-container-id-10 div.sk-toggleable {background-color: white;}#sk-container-id-10 label.sk-toggleable__label {cursor: pointer;display: block;width: 100%;margin-bottom: 0;padding: 0.3em;box-sizing: border-box;text-align: center;}#sk-container-id-10 label.sk-toggleable__label-arrow:before {content: \"▸\";float: left;margin-right: 0.25em;color: #696969;}#sk-container-id-10 label.sk-toggleable__label-arrow:hover:before {color: black;}#sk-container-id-10 div.sk-estimator:hover label.sk-toggleable__label-arrow:before {color: black;}#sk-container-id-10 div.sk-toggleable__content {max-height: 0;max-width: 0;overflow: hidden;text-align: left;background-color: #f0f8ff;}#sk-container-id-10 div.sk-toggleable__content pre {margin: 0.2em;color: black;border-radius: 0.25em;background-color: #f0f8ff;}#sk-container-id-10 input.sk-toggleable__control:checked~div.sk-toggleable__content {max-height: 200px;max-width: 100%;overflow: auto;}#sk-container-id-10 input.sk-toggleable__control:checked~label.sk-toggleable__label-arrow:before {content: \"▾\";}#sk-container-id-10 div.sk-estimator input.sk-toggleable__control:checked~label.sk-toggleable__label {background-color: #d4ebff;}#sk-container-id-10 div.sk-label input.sk-toggleable__control:checked~label.sk-toggleable__label {background-color: #d4ebff;}#sk-container-id-10 input.sk-hidden--visually {border: 0;clip: rect(1px 1px 1px 1px);clip: rect(1px, 1px, 1px, 1px);height: 1px;margin: -1px;overflow: hidden;padding: 0;position: absolute;width: 1px;}#sk-container-id-10 div.sk-estimator {font-family: monospace;background-color: #f0f8ff;border: 1px dotted black;border-radius: 0.25em;box-sizing: border-box;margin-bottom: 0.5em;}#sk-container-id-10 div.sk-estimator:hover {background-color: #d4ebff;}#sk-container-id-10 div.sk-parallel-item::after {content: \"\";width: 100%;border-bottom: 1px solid gray;flex-grow: 1;}#sk-container-id-10 div.sk-label:hover label.sk-toggleable__label {background-color: #d4ebff;}#sk-container-id-10 div.sk-serial::before {content: \"\";position: absolute;border-left: 1px solid gray;box-sizing: border-box;top: 0;bottom: 0;left: 50%;z-index: 0;}#sk-container-id-10 div.sk-serial {display: flex;flex-direction: column;align-items: center;background-color: white;padding-right: 0.2em;padding-left: 0.2em;position: relative;}#sk-container-id-10 div.sk-item {position: relative;z-index: 1;}#sk-container-id-10 div.sk-parallel {display: flex;align-items: stretch;justify-content: center;background-color: white;position: relative;}#sk-container-id-10 div.sk-item::before, #sk-container-id-10 div.sk-parallel-item::before {content: \"\";position: absolute;border-left: 1px solid gray;box-sizing: border-box;top: 0;bottom: 0;left: 50%;z-index: -1;}#sk-container-id-10 div.sk-parallel-item {display: flex;flex-direction: column;z-index: 1;position: relative;background-color: white;}#sk-container-id-10 div.sk-parallel-item:first-child::after {align-self: flex-end;width: 50%;}#sk-container-id-10 div.sk-parallel-item:last-child::after {align-self: flex-start;width: 50%;}#sk-container-id-10 div.sk-parallel-item:only-child::after {width: 0;}#sk-container-id-10 div.sk-dashed-wrapped {border: 1px dashed gray;margin: 0 0.4em 0.5em 0.4em;box-sizing: border-box;padding-bottom: 0.4em;background-color: white;}#sk-container-id-10 div.sk-label label {font-family: monospace;font-weight: bold;display: inline-block;line-height: 1.2em;}#sk-container-id-10 div.sk-label-container {text-align: center;}#sk-container-id-10 div.sk-container {/* jupyter's `normalize.less` sets `[hidden] { display: none; }` but bootstrap.min.css set `[hidden] { display: none !important; }` so we also need the `!important` here to be able to override the default hidden behavior on the sphinx rendered scikit-learn.org. See: https://github.com/scikit-learn/scikit-learn/issues/21755 */display: inline-block !important;position: relative;}#sk-container-id-10 div.sk-text-repr-fallback {display: none;}</style><div id=\"sk-container-id-10\" class=\"sk-top-container\"><div class=\"sk-text-repr-fallback\"><pre>DecisionTreeClassifier(random_state=1)</pre><b>In a Jupyter environment, please rerun this cell to show the HTML representation or trust the notebook. <br />On GitHub, the HTML representation is unable to render, please try loading this page with nbviewer.org.</b></div><div class=\"sk-container\" hidden><div class=\"sk-item\"><div class=\"sk-estimator sk-toggleable\"><input class=\"sk-toggleable__control sk-hidden--visually\" id=\"sk-estimator-id-12\" type=\"checkbox\" checked><label for=\"sk-estimator-id-12\" class=\"sk-toggleable__label sk-toggleable__label-arrow\">DecisionTreeClassifier</label><div class=\"sk-toggleable__content\"><pre>DecisionTreeClassifier(random_state=1)</pre></div></div></div></div></div>"
      ],
      "text/plain": [
       "DecisionTreeClassifier(random_state=1)"
      ]
     },
     "execution_count": 90,
     "metadata": {},
     "output_type": "execute_result"
    }
   ],
   "source": [
    "# making base model to find the range of hyperparameters\n",
    "model = DecisionTreeClassifier(random_state = 1)\n",
    "model.fit(X_train, y_train)"
   ]
  },
  {
   "cell_type": "code",
   "execution_count": 91,
   "id": "e63507d3",
   "metadata": {},
   "outputs": [
    {
     "name": "stdout",
     "output_type": "stream",
     "text": [
      "accuracy: 0.8578299776286353\n",
      "recall: 0.5959944751381215\n",
      "Precision:  0.5571336346029696\n"
     ]
    }
   ],
   "source": [
    "# accuracy/recall without tuning\n",
    "pred=model.predict(X_test)\n",
    "print('accuracy:', accuracy_score(y_test, pred))\n",
    "print('recall:', recall_score(y_test, pred))\n",
    "print(\"Precision: \", precision_score(y_test, pred))"
   ]
  },
  {
   "cell_type": "code",
   "execution_count": 92,
   "id": "b3bb21dd",
   "metadata": {},
   "outputs": [
    {
     "name": "stdout",
     "output_type": "stream",
     "text": [
      "Maximum tree depth = 34\n",
      "Maximum leaves = 4737\n"
     ]
    }
   ],
   "source": [
    "# finding range of hyperparameters\n",
    "print(\"Maximum tree depth =\", model.get_depth())\n",
    "print(\"Maximum leaves =\", model.get_n_leaves())"
   ]
  },
  {
   "cell_type": "code",
   "execution_count": 93,
   "id": "982f5ba6",
   "metadata": {},
   "outputs": [
    {
     "name": "stdout",
     "output_type": "stream",
     "text": [
      "Fitting 5 folds for each of 1680 candidates, totalling 8400 fits\n"
     ]
    },
    {
     "data": {
      "text/html": [
       "<style>#sk-container-id-11 {color: black;background-color: white;}#sk-container-id-11 pre{padding: 0;}#sk-container-id-11 div.sk-toggleable {background-color: white;}#sk-container-id-11 label.sk-toggleable__label {cursor: pointer;display: block;width: 100%;margin-bottom: 0;padding: 0.3em;box-sizing: border-box;text-align: center;}#sk-container-id-11 label.sk-toggleable__label-arrow:before {content: \"▸\";float: left;margin-right: 0.25em;color: #696969;}#sk-container-id-11 label.sk-toggleable__label-arrow:hover:before {color: black;}#sk-container-id-11 div.sk-estimator:hover label.sk-toggleable__label-arrow:before {color: black;}#sk-container-id-11 div.sk-toggleable__content {max-height: 0;max-width: 0;overflow: hidden;text-align: left;background-color: #f0f8ff;}#sk-container-id-11 div.sk-toggleable__content pre {margin: 0.2em;color: black;border-radius: 0.25em;background-color: #f0f8ff;}#sk-container-id-11 input.sk-toggleable__control:checked~div.sk-toggleable__content {max-height: 200px;max-width: 100%;overflow: auto;}#sk-container-id-11 input.sk-toggleable__control:checked~label.sk-toggleable__label-arrow:before {content: \"▾\";}#sk-container-id-11 div.sk-estimator input.sk-toggleable__control:checked~label.sk-toggleable__label {background-color: #d4ebff;}#sk-container-id-11 div.sk-label input.sk-toggleable__control:checked~label.sk-toggleable__label {background-color: #d4ebff;}#sk-container-id-11 input.sk-hidden--visually {border: 0;clip: rect(1px 1px 1px 1px);clip: rect(1px, 1px, 1px, 1px);height: 1px;margin: -1px;overflow: hidden;padding: 0;position: absolute;width: 1px;}#sk-container-id-11 div.sk-estimator {font-family: monospace;background-color: #f0f8ff;border: 1px dotted black;border-radius: 0.25em;box-sizing: border-box;margin-bottom: 0.5em;}#sk-container-id-11 div.sk-estimator:hover {background-color: #d4ebff;}#sk-container-id-11 div.sk-parallel-item::after {content: \"\";width: 100%;border-bottom: 1px solid gray;flex-grow: 1;}#sk-container-id-11 div.sk-label:hover label.sk-toggleable__label {background-color: #d4ebff;}#sk-container-id-11 div.sk-serial::before {content: \"\";position: absolute;border-left: 1px solid gray;box-sizing: border-box;top: 0;bottom: 0;left: 50%;z-index: 0;}#sk-container-id-11 div.sk-serial {display: flex;flex-direction: column;align-items: center;background-color: white;padding-right: 0.2em;padding-left: 0.2em;position: relative;}#sk-container-id-11 div.sk-item {position: relative;z-index: 1;}#sk-container-id-11 div.sk-parallel {display: flex;align-items: stretch;justify-content: center;background-color: white;position: relative;}#sk-container-id-11 div.sk-item::before, #sk-container-id-11 div.sk-parallel-item::before {content: \"\";position: absolute;border-left: 1px solid gray;box-sizing: border-box;top: 0;bottom: 0;left: 50%;z-index: -1;}#sk-container-id-11 div.sk-parallel-item {display: flex;flex-direction: column;z-index: 1;position: relative;background-color: white;}#sk-container-id-11 div.sk-parallel-item:first-child::after {align-self: flex-end;width: 50%;}#sk-container-id-11 div.sk-parallel-item:last-child::after {align-self: flex-start;width: 50%;}#sk-container-id-11 div.sk-parallel-item:only-child::after {width: 0;}#sk-container-id-11 div.sk-dashed-wrapped {border: 1px dashed gray;margin: 0 0.4em 0.5em 0.4em;box-sizing: border-box;padding-bottom: 0.4em;background-color: white;}#sk-container-id-11 div.sk-label label {font-family: monospace;font-weight: bold;display: inline-block;line-height: 1.2em;}#sk-container-id-11 div.sk-label-container {text-align: center;}#sk-container-id-11 div.sk-container {/* jupyter's `normalize.less` sets `[hidden] { display: none; }` but bootstrap.min.css set `[hidden] { display: none !important; }` so we also need the `!important` here to be able to override the default hidden behavior on the sphinx rendered scikit-learn.org. See: https://github.com/scikit-learn/scikit-learn/issues/21755 */display: inline-block !important;position: relative;}#sk-container-id-11 div.sk-text-repr-fallback {display: none;}</style><div id=\"sk-container-id-11\" class=\"sk-top-container\"><div class=\"sk-text-repr-fallback\"><pre>GridSearchCV(cv=KFold(n_splits=5, random_state=1, shuffle=True),\n",
       "             estimator=DecisionTreeClassifier(random_state=1), n_jobs=-1,\n",
       "             param_grid={&#x27;max_depth&#x27;: range(2, 34, 5),\n",
       "                         &#x27;max_features&#x27;: range(1, 26, 5),\n",
       "                         &#x27;max_leaf_nodes&#x27;: range(2, 4737, 100)},\n",
       "             scoring=&#x27;precision&#x27;, verbose=1)</pre><b>In a Jupyter environment, please rerun this cell to show the HTML representation or trust the notebook. <br />On GitHub, the HTML representation is unable to render, please try loading this page with nbviewer.org.</b></div><div class=\"sk-container\" hidden><div class=\"sk-item sk-dashed-wrapped\"><div class=\"sk-label-container\"><div class=\"sk-label sk-toggleable\"><input class=\"sk-toggleable__control sk-hidden--visually\" id=\"sk-estimator-id-13\" type=\"checkbox\" ><label for=\"sk-estimator-id-13\" class=\"sk-toggleable__label sk-toggleable__label-arrow\">GridSearchCV</label><div class=\"sk-toggleable__content\"><pre>GridSearchCV(cv=KFold(n_splits=5, random_state=1, shuffle=True),\n",
       "             estimator=DecisionTreeClassifier(random_state=1), n_jobs=-1,\n",
       "             param_grid={&#x27;max_depth&#x27;: range(2, 34, 5),\n",
       "                         &#x27;max_features&#x27;: range(1, 26, 5),\n",
       "                         &#x27;max_leaf_nodes&#x27;: range(2, 4737, 100)},\n",
       "             scoring=&#x27;precision&#x27;, verbose=1)</pre></div></div></div><div class=\"sk-parallel\"><div class=\"sk-parallel-item\"><div class=\"sk-item\"><div class=\"sk-label-container\"><div class=\"sk-label sk-toggleable\"><input class=\"sk-toggleable__control sk-hidden--visually\" id=\"sk-estimator-id-14\" type=\"checkbox\" ><label for=\"sk-estimator-id-14\" class=\"sk-toggleable__label sk-toggleable__label-arrow\">estimator: DecisionTreeClassifier</label><div class=\"sk-toggleable__content\"><pre>DecisionTreeClassifier(random_state=1)</pre></div></div></div><div class=\"sk-serial\"><div class=\"sk-item\"><div class=\"sk-estimator sk-toggleable\"><input class=\"sk-toggleable__control sk-hidden--visually\" id=\"sk-estimator-id-15\" type=\"checkbox\" ><label for=\"sk-estimator-id-15\" class=\"sk-toggleable__label sk-toggleable__label-arrow\">DecisionTreeClassifier</label><div class=\"sk-toggleable__content\"><pre>DecisionTreeClassifier(random_state=1)</pre></div></div></div></div></div></div></div></div></div></div>"
      ],
      "text/plain": [
       "GridSearchCV(cv=KFold(n_splits=5, random_state=1, shuffle=True),\n",
       "             estimator=DecisionTreeClassifier(random_state=1), n_jobs=-1,\n",
       "             param_grid={'max_depth': range(2, 34, 5),\n",
       "                         'max_features': range(1, 26, 5),\n",
       "                         'max_leaf_nodes': range(2, 4737, 100)},\n",
       "             scoring='precision', verbose=1)"
      ]
     },
     "execution_count": 93,
     "metadata": {},
     "output_type": "execute_result"
    }
   ],
   "source": [
    "# coarse grid search\n",
    "parameters = {'max_depth':range(2,34, 5),\n",
    "              'max_leaf_nodes':range(2, 4737, 100), \n",
    "              'max_features': range(1, 26, 5)}\n",
    "\n",
    "cv = KFold(n_splits = 5,shuffle=True,random_state=1)\n",
    "\n",
    "grid_result = GridSearchCV(DecisionTreeClassifier(random_state=1), parameters, n_jobs=-1,verbose=1,cv=cv,\n",
    "                    scoring='precision')\n",
    "\n",
    "grid_result.fit(X_train, y_train)"
   ]
  },
  {
   "cell_type": "code",
   "execution_count": 94,
   "id": "efb8fe71",
   "metadata": {},
   "outputs": [
    {
     "name": "stdout",
     "output_type": "stream",
     "text": [
      "0.7764919330314938 {'max_depth': 12, 'max_features': 16, 'max_leaf_nodes': 102}\n"
     ]
    }
   ],
   "source": [
    "print(grid_result.best_score_, grid_result.best_params_) "
   ]
  },
  {
   "cell_type": "code",
   "execution_count": 95,
   "id": "32d917f4",
   "metadata": {
    "scrolled": true
   },
   "outputs": [
    {
     "data": {
      "text/html": [
       "<div>\n",
       "<style scoped>\n",
       "    .dataframe tbody tr th:only-of-type {\n",
       "        vertical-align: middle;\n",
       "    }\n",
       "\n",
       "    .dataframe tbody tr th {\n",
       "        vertical-align: top;\n",
       "    }\n",
       "\n",
       "    .dataframe thead th {\n",
       "        text-align: right;\n",
       "    }\n",
       "</style>\n",
       "<table border=\"1\" class=\"dataframe\">\n",
       "  <thead>\n",
       "    <tr style=\"text-align: right;\">\n",
       "      <th></th>\n",
       "      <th>mean_fit_time</th>\n",
       "      <th>std_fit_time</th>\n",
       "      <th>mean_score_time</th>\n",
       "      <th>std_score_time</th>\n",
       "      <th>param_max_depth</th>\n",
       "      <th>param_max_features</th>\n",
       "      <th>param_max_leaf_nodes</th>\n",
       "      <th>params</th>\n",
       "      <th>split0_test_score</th>\n",
       "      <th>split1_test_score</th>\n",
       "      <th>split2_test_score</th>\n",
       "      <th>split3_test_score</th>\n",
       "      <th>split4_test_score</th>\n",
       "      <th>mean_test_score</th>\n",
       "      <th>std_test_score</th>\n",
       "      <th>rank_test_score</th>\n",
       "    </tr>\n",
       "  </thead>\n",
       "  <tbody>\n",
       "    <tr>\n",
       "      <th>625</th>\n",
       "      <td>0.085410</td>\n",
       "      <td>0.009345</td>\n",
       "      <td>0.010340</td>\n",
       "      <td>0.000522</td>\n",
       "      <td>12</td>\n",
       "      <td>16</td>\n",
       "      <td>102</td>\n",
       "      <td>{'max_depth': 12, 'max_features': 16, 'max_lea...</td>\n",
       "      <td>0.772384</td>\n",
       "      <td>0.776879</td>\n",
       "      <td>0.792193</td>\n",
       "      <td>0.766147</td>\n",
       "      <td>0.774857</td>\n",
       "      <td>0.776492</td>\n",
       "      <td>0.008640</td>\n",
       "      <td>1</td>\n",
       "    </tr>\n",
       "    <tr>\n",
       "      <th>673</th>\n",
       "      <td>0.114472</td>\n",
       "      <td>0.003087</td>\n",
       "      <td>0.014435</td>\n",
       "      <td>0.002715</td>\n",
       "      <td>12</td>\n",
       "      <td>21</td>\n",
       "      <td>102</td>\n",
       "      <td>{'max_depth': 12, 'max_features': 21, 'max_lea...</td>\n",
       "      <td>0.773987</td>\n",
       "      <td>0.769492</td>\n",
       "      <td>0.794151</td>\n",
       "      <td>0.777650</td>\n",
       "      <td>0.767033</td>\n",
       "      <td>0.776462</td>\n",
       "      <td>0.009570</td>\n",
       "      <td>2</td>\n",
       "    </tr>\n",
       "    <tr>\n",
       "      <th>433</th>\n",
       "      <td>0.100379</td>\n",
       "      <td>0.011444</td>\n",
       "      <td>0.010704</td>\n",
       "      <td>0.000807</td>\n",
       "      <td>7</td>\n",
       "      <td>21</td>\n",
       "      <td>102</td>\n",
       "      <td>{'max_depth': 7, 'max_features': 21, 'max_leaf...</td>\n",
       "      <td>0.795139</td>\n",
       "      <td>0.767666</td>\n",
       "      <td>0.789766</td>\n",
       "      <td>0.761242</td>\n",
       "      <td>0.761905</td>\n",
       "      <td>0.775144</td>\n",
       "      <td>0.014409</td>\n",
       "      <td>3</td>\n",
       "    </tr>\n",
       "    <tr>\n",
       "      <th>865</th>\n",
       "      <td>0.089198</td>\n",
       "      <td>0.006311</td>\n",
       "      <td>0.011000</td>\n",
       "      <td>0.000316</td>\n",
       "      <td>17</td>\n",
       "      <td>16</td>\n",
       "      <td>102</td>\n",
       "      <td>{'max_depth': 17, 'max_features': 16, 'max_lea...</td>\n",
       "      <td>0.770140</td>\n",
       "      <td>0.781503</td>\n",
       "      <td>0.790564</td>\n",
       "      <td>0.765419</td>\n",
       "      <td>0.767494</td>\n",
       "      <td>0.775024</td>\n",
       "      <td>0.009553</td>\n",
       "      <td>4</td>\n",
       "    </tr>\n",
       "    <tr>\n",
       "      <th>1345</th>\n",
       "      <td>0.145757</td>\n",
       "      <td>0.008567</td>\n",
       "      <td>0.019091</td>\n",
       "      <td>0.001843</td>\n",
       "      <td>27</td>\n",
       "      <td>16</td>\n",
       "      <td>102</td>\n",
       "      <td>{'max_depth': 27, 'max_features': 16, 'max_lea...</td>\n",
       "      <td>0.770140</td>\n",
       "      <td>0.781503</td>\n",
       "      <td>0.790564</td>\n",
       "      <td>0.765419</td>\n",
       "      <td>0.767494</td>\n",
       "      <td>0.775024</td>\n",
       "      <td>0.009553</td>\n",
       "      <td>4</td>\n",
       "    </tr>\n",
       "    <tr>\n",
       "      <th>...</th>\n",
       "      <td>...</td>\n",
       "      <td>...</td>\n",
       "      <td>...</td>\n",
       "      <td>...</td>\n",
       "      <td>...</td>\n",
       "      <td>...</td>\n",
       "      <td>...</td>\n",
       "      <td>...</td>\n",
       "      <td>...</td>\n",
       "      <td>...</td>\n",
       "      <td>...</td>\n",
       "      <td>...</td>\n",
       "      <td>...</td>\n",
       "      <td>...</td>\n",
       "      <td>...</td>\n",
       "      <td>...</td>\n",
       "    </tr>\n",
       "    <tr>\n",
       "      <th>46</th>\n",
       "      <td>0.024113</td>\n",
       "      <td>0.003519</td>\n",
       "      <td>0.018368</td>\n",
       "      <td>0.007098</td>\n",
       "      <td>2</td>\n",
       "      <td>1</td>\n",
       "      <td>4602</td>\n",
       "      <td>{'max_depth': 2, 'max_features': 1, 'max_leaf_...</td>\n",
       "      <td>0.000000</td>\n",
       "      <td>0.000000</td>\n",
       "      <td>0.000000</td>\n",
       "      <td>0.000000</td>\n",
       "      <td>0.000000</td>\n",
       "      <td>0.000000</td>\n",
       "      <td>0.000000</td>\n",
       "      <td>1613</td>\n",
       "    </tr>\n",
       "    <tr>\n",
       "      <th>47</th>\n",
       "      <td>0.025774</td>\n",
       "      <td>0.003965</td>\n",
       "      <td>0.013762</td>\n",
       "      <td>0.002303</td>\n",
       "      <td>2</td>\n",
       "      <td>1</td>\n",
       "      <td>4702</td>\n",
       "      <td>{'max_depth': 2, 'max_features': 1, 'max_leaf_...</td>\n",
       "      <td>0.000000</td>\n",
       "      <td>0.000000</td>\n",
       "      <td>0.000000</td>\n",
       "      <td>0.000000</td>\n",
       "      <td>0.000000</td>\n",
       "      <td>0.000000</td>\n",
       "      <td>0.000000</td>\n",
       "      <td>1613</td>\n",
       "    </tr>\n",
       "    <tr>\n",
       "      <th>48</th>\n",
       "      <td>0.030916</td>\n",
       "      <td>0.002674</td>\n",
       "      <td>0.013129</td>\n",
       "      <td>0.002993</td>\n",
       "      <td>2</td>\n",
       "      <td>6</td>\n",
       "      <td>2</td>\n",
       "      <td>{'max_depth': 2, 'max_features': 6, 'max_leaf_...</td>\n",
       "      <td>0.000000</td>\n",
       "      <td>0.000000</td>\n",
       "      <td>0.000000</td>\n",
       "      <td>0.000000</td>\n",
       "      <td>0.000000</td>\n",
       "      <td>0.000000</td>\n",
       "      <td>0.000000</td>\n",
       "      <td>1613</td>\n",
       "    </tr>\n",
       "    <tr>\n",
       "      <th>42</th>\n",
       "      <td>0.024264</td>\n",
       "      <td>0.002318</td>\n",
       "      <td>0.014410</td>\n",
       "      <td>0.003829</td>\n",
       "      <td>2</td>\n",
       "      <td>1</td>\n",
       "      <td>4202</td>\n",
       "      <td>{'max_depth': 2, 'max_features': 1, 'max_leaf_...</td>\n",
       "      <td>0.000000</td>\n",
       "      <td>0.000000</td>\n",
       "      <td>0.000000</td>\n",
       "      <td>0.000000</td>\n",
       "      <td>0.000000</td>\n",
       "      <td>0.000000</td>\n",
       "      <td>0.000000</td>\n",
       "      <td>1613</td>\n",
       "    </tr>\n",
       "    <tr>\n",
       "      <th>0</th>\n",
       "      <td>0.033254</td>\n",
       "      <td>0.002527</td>\n",
       "      <td>0.016603</td>\n",
       "      <td>0.001917</td>\n",
       "      <td>2</td>\n",
       "      <td>1</td>\n",
       "      <td>2</td>\n",
       "      <td>{'max_depth': 2, 'max_features': 1, 'max_leaf_...</td>\n",
       "      <td>0.000000</td>\n",
       "      <td>0.000000</td>\n",
       "      <td>0.000000</td>\n",
       "      <td>0.000000</td>\n",
       "      <td>0.000000</td>\n",
       "      <td>0.000000</td>\n",
       "      <td>0.000000</td>\n",
       "      <td>1613</td>\n",
       "    </tr>\n",
       "  </tbody>\n",
       "</table>\n",
       "<p>1680 rows × 16 columns</p>\n",
       "</div>"
      ],
      "text/plain": [
       "      mean_fit_time  std_fit_time  mean_score_time  std_score_time  \\\n",
       "625        0.085410      0.009345         0.010340        0.000522   \n",
       "673        0.114472      0.003087         0.014435        0.002715   \n",
       "433        0.100379      0.011444         0.010704        0.000807   \n",
       "865        0.089198      0.006311         0.011000        0.000316   \n",
       "1345       0.145757      0.008567         0.019091        0.001843   \n",
       "...             ...           ...              ...             ...   \n",
       "46         0.024113      0.003519         0.018368        0.007098   \n",
       "47         0.025774      0.003965         0.013762        0.002303   \n",
       "48         0.030916      0.002674         0.013129        0.002993   \n",
       "42         0.024264      0.002318         0.014410        0.003829   \n",
       "0          0.033254      0.002527         0.016603        0.001917   \n",
       "\n",
       "     param_max_depth param_max_features param_max_leaf_nodes  \\\n",
       "625               12                 16                  102   \n",
       "673               12                 21                  102   \n",
       "433                7                 21                  102   \n",
       "865               17                 16                  102   \n",
       "1345              27                 16                  102   \n",
       "...              ...                ...                  ...   \n",
       "46                 2                  1                 4602   \n",
       "47                 2                  1                 4702   \n",
       "48                 2                  6                    2   \n",
       "42                 2                  1                 4202   \n",
       "0                  2                  1                    2   \n",
       "\n",
       "                                                 params  split0_test_score  \\\n",
       "625   {'max_depth': 12, 'max_features': 16, 'max_lea...           0.772384   \n",
       "673   {'max_depth': 12, 'max_features': 21, 'max_lea...           0.773987   \n",
       "433   {'max_depth': 7, 'max_features': 21, 'max_leaf...           0.795139   \n",
       "865   {'max_depth': 17, 'max_features': 16, 'max_lea...           0.770140   \n",
       "1345  {'max_depth': 27, 'max_features': 16, 'max_lea...           0.770140   \n",
       "...                                                 ...                ...   \n",
       "46    {'max_depth': 2, 'max_features': 1, 'max_leaf_...           0.000000   \n",
       "47    {'max_depth': 2, 'max_features': 1, 'max_leaf_...           0.000000   \n",
       "48    {'max_depth': 2, 'max_features': 6, 'max_leaf_...           0.000000   \n",
       "42    {'max_depth': 2, 'max_features': 1, 'max_leaf_...           0.000000   \n",
       "0     {'max_depth': 2, 'max_features': 1, 'max_leaf_...           0.000000   \n",
       "\n",
       "      split1_test_score  split2_test_score  split3_test_score  \\\n",
       "625            0.776879           0.792193           0.766147   \n",
       "673            0.769492           0.794151           0.777650   \n",
       "433            0.767666           0.789766           0.761242   \n",
       "865            0.781503           0.790564           0.765419   \n",
       "1345           0.781503           0.790564           0.765419   \n",
       "...                 ...                ...                ...   \n",
       "46             0.000000           0.000000           0.000000   \n",
       "47             0.000000           0.000000           0.000000   \n",
       "48             0.000000           0.000000           0.000000   \n",
       "42             0.000000           0.000000           0.000000   \n",
       "0              0.000000           0.000000           0.000000   \n",
       "\n",
       "      split4_test_score  mean_test_score  std_test_score  rank_test_score  \n",
       "625            0.774857         0.776492        0.008640                1  \n",
       "673            0.767033         0.776462        0.009570                2  \n",
       "433            0.761905         0.775144        0.014409                3  \n",
       "865            0.767494         0.775024        0.009553                4  \n",
       "1345           0.767494         0.775024        0.009553                4  \n",
       "...                 ...              ...             ...              ...  \n",
       "46             0.000000         0.000000        0.000000             1613  \n",
       "47             0.000000         0.000000        0.000000             1613  \n",
       "48             0.000000         0.000000        0.000000             1613  \n",
       "42             0.000000         0.000000        0.000000             1613  \n",
       "0              0.000000         0.000000        0.000000             1613  \n",
       "\n",
       "[1680 rows x 16 columns]"
      ]
     },
     "execution_count": 95,
     "metadata": {},
     "output_type": "execute_result"
    }
   ],
   "source": [
    "pd.DataFrame(grid_result.cv_results_).sort_values('rank_test_score')"
   ]
  },
  {
   "cell_type": "code",
   "execution_count": 104,
   "id": "dd87d6ae",
   "metadata": {},
   "outputs": [
    {
     "data": {
      "text/html": [
       "<style>#sk-container-id-14 {color: black;background-color: white;}#sk-container-id-14 pre{padding: 0;}#sk-container-id-14 div.sk-toggleable {background-color: white;}#sk-container-id-14 label.sk-toggleable__label {cursor: pointer;display: block;width: 100%;margin-bottom: 0;padding: 0.3em;box-sizing: border-box;text-align: center;}#sk-container-id-14 label.sk-toggleable__label-arrow:before {content: \"▸\";float: left;margin-right: 0.25em;color: #696969;}#sk-container-id-14 label.sk-toggleable__label-arrow:hover:before {color: black;}#sk-container-id-14 div.sk-estimator:hover label.sk-toggleable__label-arrow:before {color: black;}#sk-container-id-14 div.sk-toggleable__content {max-height: 0;max-width: 0;overflow: hidden;text-align: left;background-color: #f0f8ff;}#sk-container-id-14 div.sk-toggleable__content pre {margin: 0.2em;color: black;border-radius: 0.25em;background-color: #f0f8ff;}#sk-container-id-14 input.sk-toggleable__control:checked~div.sk-toggleable__content {max-height: 200px;max-width: 100%;overflow: auto;}#sk-container-id-14 input.sk-toggleable__control:checked~label.sk-toggleable__label-arrow:before {content: \"▾\";}#sk-container-id-14 div.sk-estimator input.sk-toggleable__control:checked~label.sk-toggleable__label {background-color: #d4ebff;}#sk-container-id-14 div.sk-label input.sk-toggleable__control:checked~label.sk-toggleable__label {background-color: #d4ebff;}#sk-container-id-14 input.sk-hidden--visually {border: 0;clip: rect(1px 1px 1px 1px);clip: rect(1px, 1px, 1px, 1px);height: 1px;margin: -1px;overflow: hidden;padding: 0;position: absolute;width: 1px;}#sk-container-id-14 div.sk-estimator {font-family: monospace;background-color: #f0f8ff;border: 1px dotted black;border-radius: 0.25em;box-sizing: border-box;margin-bottom: 0.5em;}#sk-container-id-14 div.sk-estimator:hover {background-color: #d4ebff;}#sk-container-id-14 div.sk-parallel-item::after {content: \"\";width: 100%;border-bottom: 1px solid gray;flex-grow: 1;}#sk-container-id-14 div.sk-label:hover label.sk-toggleable__label {background-color: #d4ebff;}#sk-container-id-14 div.sk-serial::before {content: \"\";position: absolute;border-left: 1px solid gray;box-sizing: border-box;top: 0;bottom: 0;left: 50%;z-index: 0;}#sk-container-id-14 div.sk-serial {display: flex;flex-direction: column;align-items: center;background-color: white;padding-right: 0.2em;padding-left: 0.2em;position: relative;}#sk-container-id-14 div.sk-item {position: relative;z-index: 1;}#sk-container-id-14 div.sk-parallel {display: flex;align-items: stretch;justify-content: center;background-color: white;position: relative;}#sk-container-id-14 div.sk-item::before, #sk-container-id-14 div.sk-parallel-item::before {content: \"\";position: absolute;border-left: 1px solid gray;box-sizing: border-box;top: 0;bottom: 0;left: 50%;z-index: -1;}#sk-container-id-14 div.sk-parallel-item {display: flex;flex-direction: column;z-index: 1;position: relative;background-color: white;}#sk-container-id-14 div.sk-parallel-item:first-child::after {align-self: flex-end;width: 50%;}#sk-container-id-14 div.sk-parallel-item:last-child::after {align-self: flex-start;width: 50%;}#sk-container-id-14 div.sk-parallel-item:only-child::after {width: 0;}#sk-container-id-14 div.sk-dashed-wrapped {border: 1px dashed gray;margin: 0 0.4em 0.5em 0.4em;box-sizing: border-box;padding-bottom: 0.4em;background-color: white;}#sk-container-id-14 div.sk-label label {font-family: monospace;font-weight: bold;display: inline-block;line-height: 1.2em;}#sk-container-id-14 div.sk-label-container {text-align: center;}#sk-container-id-14 div.sk-container {/* jupyter's `normalize.less` sets `[hidden] { display: none; }` but bootstrap.min.css set `[hidden] { display: none !important; }` so we also need the `!important` here to be able to override the default hidden behavior on the sphinx rendered scikit-learn.org. See: https://github.com/scikit-learn/scikit-learn/issues/21755 */display: inline-block !important;position: relative;}#sk-container-id-14 div.sk-text-repr-fallback {display: none;}</style><div id=\"sk-container-id-14\" class=\"sk-top-container\"><div class=\"sk-text-repr-fallback\"><pre>DecisionTreeClassifier(max_depth=12, max_features=16, max_leaf_nodes=102,\n",
       "                       random_state=1)</pre><b>In a Jupyter environment, please rerun this cell to show the HTML representation or trust the notebook. <br />On GitHub, the HTML representation is unable to render, please try loading this page with nbviewer.org.</b></div><div class=\"sk-container\" hidden><div class=\"sk-item\"><div class=\"sk-estimator sk-toggleable\"><input class=\"sk-toggleable__control sk-hidden--visually\" id=\"sk-estimator-id-18\" type=\"checkbox\" checked><label for=\"sk-estimator-id-18\" class=\"sk-toggleable__label sk-toggleable__label-arrow\">DecisionTreeClassifier</label><div class=\"sk-toggleable__content\"><pre>DecisionTreeClassifier(max_depth=12, max_features=16, max_leaf_nodes=102,\n",
       "                       random_state=1)</pre></div></div></div></div></div>"
      ],
      "text/plain": [
       "DecisionTreeClassifier(max_depth=12, max_features=16, max_leaf_nodes=102,\n",
       "                       random_state=1)"
      ]
     },
     "execution_count": 104,
     "metadata": {},
     "output_type": "execute_result"
    }
   ],
   "source": [
    "model = DecisionTreeClassifier(random_state = 1, max_depth= 12, max_features = 16, max_leaf_nodes = 102)\n",
    "model.fit(X_train, y_train)"
   ]
  },
  {
   "cell_type": "code",
   "execution_count": 105,
   "id": "e545a658",
   "metadata": {},
   "outputs": [
    {
     "name": "stdout",
     "output_type": "stream",
     "text": [
      "accuracy: 0.9052572706935123\n",
      "recall: 0.5904696132596685\n",
      "Precision:  0.7709648331830478\n"
     ]
    }
   ],
   "source": [
    "# accuracy/recall\n",
    "pred=model.predict(X_test)\n",
    "print('accuracy:', accuracy_score(y_test, pred))\n",
    "print('recall:', recall_score(y_test, pred))\n",
    "print(\"Precision: \", precision_score(y_test, pred))"
   ]
  },
  {
   "cell_type": "markdown",
   "id": "5e43b918",
   "metadata": {},
   "source": [
    "With the hyperparameters tuned based on maximizing precision, the precision has increased by 20%, the accuracy by 3%, and the recall has decrease by 10%. Let's do a finer grid search focused on precision and plot the precision-accuracy curve to find the optimal hyperparameters. I also need to find the optimal decision threshold probability."
   ]
  },
  {
   "cell_type": "code",
   "execution_count": 106,
   "id": "0ac9f6c5",
   "metadata": {},
   "outputs": [
    {
     "name": "stdout",
     "output_type": "stream",
     "text": [
      "Fitting 5 folds for each of 315 candidates, totalling 1575 fits\n",
      "0.7836584372111675 {'max_depth': 9, 'max_features': 20, 'max_leaf_nodes': 140}\n"
     ]
    }
   ],
   "source": [
    "# finer grid search\n",
    "parameters = {'max_depth':range(7,17, 2),\n",
    "              'max_leaf_nodes':range(90, 300, 25), \n",
    "              'max_features': range(16, 29, 2)}\n",
    "\n",
    "cv = KFold(n_splits = 5,shuffle=True,random_state=1)\n",
    "\n",
    "grid_result = GridSearchCV(DecisionTreeClassifier(random_state=1), parameters, n_jobs=-1,verbose=1,cv=cv,\n",
    "                    scoring='precision')\n",
    "\n",
    "grid_result.fit(X_train, y_train)\n",
    "print (grid_result.best_score_, grid_result.best_params_) "
   ]
  },
  {
   "cell_type": "code",
   "execution_count": 107,
   "id": "d058858a",
   "metadata": {},
   "outputs": [
    {
     "data": {
      "text/html": [
       "<style>#sk-container-id-15 {color: black;background-color: white;}#sk-container-id-15 pre{padding: 0;}#sk-container-id-15 div.sk-toggleable {background-color: white;}#sk-container-id-15 label.sk-toggleable__label {cursor: pointer;display: block;width: 100%;margin-bottom: 0;padding: 0.3em;box-sizing: border-box;text-align: center;}#sk-container-id-15 label.sk-toggleable__label-arrow:before {content: \"▸\";float: left;margin-right: 0.25em;color: #696969;}#sk-container-id-15 label.sk-toggleable__label-arrow:hover:before {color: black;}#sk-container-id-15 div.sk-estimator:hover label.sk-toggleable__label-arrow:before {color: black;}#sk-container-id-15 div.sk-toggleable__content {max-height: 0;max-width: 0;overflow: hidden;text-align: left;background-color: #f0f8ff;}#sk-container-id-15 div.sk-toggleable__content pre {margin: 0.2em;color: black;border-radius: 0.25em;background-color: #f0f8ff;}#sk-container-id-15 input.sk-toggleable__control:checked~div.sk-toggleable__content {max-height: 200px;max-width: 100%;overflow: auto;}#sk-container-id-15 input.sk-toggleable__control:checked~label.sk-toggleable__label-arrow:before {content: \"▾\";}#sk-container-id-15 div.sk-estimator input.sk-toggleable__control:checked~label.sk-toggleable__label {background-color: #d4ebff;}#sk-container-id-15 div.sk-label input.sk-toggleable__control:checked~label.sk-toggleable__label {background-color: #d4ebff;}#sk-container-id-15 input.sk-hidden--visually {border: 0;clip: rect(1px 1px 1px 1px);clip: rect(1px, 1px, 1px, 1px);height: 1px;margin: -1px;overflow: hidden;padding: 0;position: absolute;width: 1px;}#sk-container-id-15 div.sk-estimator {font-family: monospace;background-color: #f0f8ff;border: 1px dotted black;border-radius: 0.25em;box-sizing: border-box;margin-bottom: 0.5em;}#sk-container-id-15 div.sk-estimator:hover {background-color: #d4ebff;}#sk-container-id-15 div.sk-parallel-item::after {content: \"\";width: 100%;border-bottom: 1px solid gray;flex-grow: 1;}#sk-container-id-15 div.sk-label:hover label.sk-toggleable__label {background-color: #d4ebff;}#sk-container-id-15 div.sk-serial::before {content: \"\";position: absolute;border-left: 1px solid gray;box-sizing: border-box;top: 0;bottom: 0;left: 50%;z-index: 0;}#sk-container-id-15 div.sk-serial {display: flex;flex-direction: column;align-items: center;background-color: white;padding-right: 0.2em;padding-left: 0.2em;position: relative;}#sk-container-id-15 div.sk-item {position: relative;z-index: 1;}#sk-container-id-15 div.sk-parallel {display: flex;align-items: stretch;justify-content: center;background-color: white;position: relative;}#sk-container-id-15 div.sk-item::before, #sk-container-id-15 div.sk-parallel-item::before {content: \"\";position: absolute;border-left: 1px solid gray;box-sizing: border-box;top: 0;bottom: 0;left: 50%;z-index: -1;}#sk-container-id-15 div.sk-parallel-item {display: flex;flex-direction: column;z-index: 1;position: relative;background-color: white;}#sk-container-id-15 div.sk-parallel-item:first-child::after {align-self: flex-end;width: 50%;}#sk-container-id-15 div.sk-parallel-item:last-child::after {align-self: flex-start;width: 50%;}#sk-container-id-15 div.sk-parallel-item:only-child::after {width: 0;}#sk-container-id-15 div.sk-dashed-wrapped {border: 1px dashed gray;margin: 0 0.4em 0.5em 0.4em;box-sizing: border-box;padding-bottom: 0.4em;background-color: white;}#sk-container-id-15 div.sk-label label {font-family: monospace;font-weight: bold;display: inline-block;line-height: 1.2em;}#sk-container-id-15 div.sk-label-container {text-align: center;}#sk-container-id-15 div.sk-container {/* jupyter's `normalize.less` sets `[hidden] { display: none; }` but bootstrap.min.css set `[hidden] { display: none !important; }` so we also need the `!important` here to be able to override the default hidden behavior on the sphinx rendered scikit-learn.org. See: https://github.com/scikit-learn/scikit-learn/issues/21755 */display: inline-block !important;position: relative;}#sk-container-id-15 div.sk-text-repr-fallback {display: none;}</style><div id=\"sk-container-id-15\" class=\"sk-top-container\"><div class=\"sk-text-repr-fallback\"><pre>DecisionTreeClassifier(max_depth=9, max_features=20, max_leaf_nodes=140,\n",
       "                       random_state=1)</pre><b>In a Jupyter environment, please rerun this cell to show the HTML representation or trust the notebook. <br />On GitHub, the HTML representation is unable to render, please try loading this page with nbviewer.org.</b></div><div class=\"sk-container\" hidden><div class=\"sk-item\"><div class=\"sk-estimator sk-toggleable\"><input class=\"sk-toggleable__control sk-hidden--visually\" id=\"sk-estimator-id-19\" type=\"checkbox\" checked><label for=\"sk-estimator-id-19\" class=\"sk-toggleable__label sk-toggleable__label-arrow\">DecisionTreeClassifier</label><div class=\"sk-toggleable__content\"><pre>DecisionTreeClassifier(max_depth=9, max_features=20, max_leaf_nodes=140,\n",
       "                       random_state=1)</pre></div></div></div></div></div>"
      ],
      "text/plain": [
       "DecisionTreeClassifier(max_depth=9, max_features=20, max_leaf_nodes=140,\n",
       "                       random_state=1)"
      ]
     },
     "execution_count": 107,
     "metadata": {},
     "output_type": "execute_result"
    }
   ],
   "source": [
    "model = DecisionTreeClassifier(random_state = 1, max_depth= 9, max_features = 20, max_leaf_nodes = 140)\n",
    "model.fit(X_train, y_train)"
   ]
  },
  {
   "cell_type": "code",
   "execution_count": 108,
   "id": "68c56071",
   "metadata": {},
   "outputs": [
    {
     "name": "stdout",
     "output_type": "stream",
     "text": [
      "accuracy: 0.9059284116331097\n",
      "recall: 0.6022099447513812\n",
      "Precision:  0.7669305189094108\n"
     ]
    }
   ],
   "source": [
    "# accuracy/recall\n",
    "pred=model.predict(X_test)\n",
    "print('accuracy:', accuracy_score(y_test, pred))\n",
    "print('recall:', recall_score(y_test, pred))\n",
    "print(\"Precision: \", precision_score(y_test, pred))"
   ]
  },
  {
   "cell_type": "markdown",
   "id": "0ef38fd9",
   "metadata": {},
   "source": [
    "NOPE FIX THOS: With the finer grid search parameters, the accuracy stayed about the same, the recall dropped about 10%, and the precision increased by almost 10%. "
   ]
  },
  {
   "cell_type": "code",
   "execution_count": 109,
   "id": "9096a2c1",
   "metadata": {
    "scrolled": false
   },
   "outputs": [
    {
     "data": {
      "image/png": "[encoded data removed]",
      "text/plain": [
       "<Figure size 800x800 with 1 Axes>"
      ]
     },
     "metadata": {},
     "output_type": "display_data"
    }
   ],
   "source": [
    "# Note that we are using the cross-validated predicted probabilities, instead of directly using the \n",
    "# predicted probabilities on train data, as the model may be overfitting on the train data, and \n",
    "# may lead to misleading results\n",
    "\n",
    "cross_val_ypred = cross_val_predict(model, X_train, y_train, cv = 5, method = 'predict_proba')\n",
    "\n",
    "p, r, thresholds = precision_recall_curve(y_train, cross_val_ypred[:,1])\n",
    "acc = np.ndarray(shape = (len(thresholds),))\n",
    "i = 0\n",
    "for th in thresholds:\n",
    "    y_pred = cross_val_ypred[:,1] > th\n",
    "    y_pred = y_pred.astype(int)\n",
    "    acc[i] = accuracy_score(y_pred, y_train)\n",
    "    i = i + 1\n",
    "def plot_precision_recall_vs_threshold(precisions, recalls, thresholds):\n",
    "    plt.figure(figsize=(8, 8))\n",
    "    plt.title(\"Precision and Recall Scores as a function of the decision threshold\")\n",
    "    plt.plot(thresholds, precisions[:-1], \"b--\", label=\"Precision\")\n",
    "    plt.plot(thresholds, recalls[:-1], \"g-\", label=\"Recall\")\n",
    "    plt.plot(thresholds, acc, \"r-\", label=\"Accuracy\")\n",
    "    plt.plot(thresholds, precisions[:-1], \"o\", color = 'blue')\n",
    "    plt.plot(thresholds, recalls[:-1], \"o\", color = 'green')\n",
    "    plt.plot(thresholds, acc, \"o\", color = 'red')\n",
    "    plt.ylabel(\"Score\")\n",
    "    plt.xlabel(\"Decision Threshold\")\n",
    "    plt.legend(loc='best')\n",
    "    plt.legend()\n",
    "plot_precision_recall_vs_threshold(p, r, thresholds)"
   ]
  },
  {
   "cell_type": "code",
   "execution_count": 110,
   "id": "71bbbde8",
   "metadata": {},
   "outputs": [],
   "source": [
    "all_thresholds = pd.DataFrame({'thresholds': thresholds, \n",
    "                           'precision': p[:-1],\n",
    "                           'recall': r[:-1],\n",
    "                           'accuracy': acc})"
   ]
  },
  {
   "cell_type": "code",
   "execution_count": 112,
   "id": "c33becb2",
   "metadata": {},
   "outputs": [
    {
     "data": {
      "text/html": [
       "<div>\n",
       "<style scoped>\n",
       "    .dataframe tbody tr th:only-of-type {\n",
       "        vertical-align: middle;\n",
       "    }\n",
       "\n",
       "    .dataframe tbody tr th {\n",
       "        vertical-align: top;\n",
       "    }\n",
       "\n",
       "    .dataframe thead th {\n",
       "        text-align: right;\n",
       "    }\n",
       "</style>\n",
       "<table border=\"1\" class=\"dataframe\">\n",
       "  <thead>\n",
       "    <tr style=\"text-align: right;\">\n",
       "      <th></th>\n",
       "      <th>thresholds</th>\n",
       "      <th>precision</th>\n",
       "      <th>recall</th>\n",
       "      <th>accuracy</th>\n",
       "    </tr>\n",
       "  </thead>\n",
       "  <tbody>\n",
       "    <tr>\n",
       "      <th>333</th>\n",
       "      <td>0.957895</td>\n",
       "      <td>0.911232</td>\n",
       "      <td>0.169332</td>\n",
       "      <td>0.854094</td>\n",
       "    </tr>\n",
       "    <tr>\n",
       "      <th>330</th>\n",
       "      <td>0.952381</td>\n",
       "      <td>0.911170</td>\n",
       "      <td>0.174381</td>\n",
       "      <td>0.859968</td>\n",
       "    </tr>\n",
       "    <tr>\n",
       "      <th>331</th>\n",
       "      <td>0.953125</td>\n",
       "      <td>0.911092</td>\n",
       "      <td>0.174213</td>\n",
       "      <td>0.859520</td>\n",
       "    </tr>\n",
       "    <tr>\n",
       "      <th>329</th>\n",
       "      <td>0.951923</td>\n",
       "      <td>0.911035</td>\n",
       "      <td>0.179263</td>\n",
       "      <td>0.859996</td>\n",
       "    </tr>\n",
       "    <tr>\n",
       "      <th>332</th>\n",
       "      <td>0.957447</td>\n",
       "      <td>0.909821</td>\n",
       "      <td>0.171520</td>\n",
       "      <td>0.859240</td>\n",
       "    </tr>\n",
       "    <tr>\n",
       "      <th>...</th>\n",
       "      <td>...</td>\n",
       "      <td>...</td>\n",
       "      <td>...</td>\n",
       "      <td>...</td>\n",
       "    </tr>\n",
       "    <tr>\n",
       "      <th>4</th>\n",
       "      <td>0.007812</td>\n",
       "      <td>0.172422</td>\n",
       "      <td>0.986703</td>\n",
       "      <td>0.225417</td>\n",
       "    </tr>\n",
       "    <tr>\n",
       "      <th>3</th>\n",
       "      <td>0.007186</td>\n",
       "      <td>0.170296</td>\n",
       "      <td>0.987376</td>\n",
       "      <td>0.210902</td>\n",
       "    </tr>\n",
       "    <tr>\n",
       "      <th>2</th>\n",
       "      <td>0.006957</td>\n",
       "      <td>0.167480</td>\n",
       "      <td>0.988217</td>\n",
       "      <td>0.198596</td>\n",
       "    </tr>\n",
       "    <tr>\n",
       "      <th>0</th>\n",
       "      <td>0.000000</td>\n",
       "      <td>0.166154</td>\n",
       "      <td>1.000000</td>\n",
       "      <td>0.166797</td>\n",
       "    </tr>\n",
       "    <tr>\n",
       "      <th>1</th>\n",
       "      <td>0.006827</td>\n",
       "      <td>0.165042</td>\n",
       "      <td>0.989059</td>\n",
       "      <td>0.181844</td>\n",
       "    </tr>\n",
       "  </tbody>\n",
       "</table>\n",
       "<p>344 rows × 4 columns</p>\n",
       "</div>"
      ],
      "text/plain": [
       "     thresholds  precision    recall  accuracy\n",
       "333    0.957895   0.911232  0.169332  0.854094\n",
       "330    0.952381   0.911170  0.174381  0.859968\n",
       "331    0.953125   0.911092  0.174213  0.859520\n",
       "329    0.951923   0.911035  0.179263  0.859996\n",
       "332    0.957447   0.909821  0.171520  0.859240\n",
       "..          ...        ...       ...       ...\n",
       "4      0.007812   0.172422  0.986703  0.225417\n",
       "3      0.007186   0.170296  0.987376  0.210902\n",
       "2      0.006957   0.167480  0.988217  0.198596\n",
       "0      0.000000   0.166154  1.000000  0.166797\n",
       "1      0.006827   0.165042  0.989059  0.181844\n",
       "\n",
       "[344 rows x 4 columns]"
      ]
     },
     "execution_count": 112,
     "metadata": {},
     "output_type": "execute_result"
    }
   ],
   "source": [
    "all_thresholds.sort_values('precision', ascending=False)"
   ]
  },
  {
   "cell_type": "code",
   "execution_count": 113,
   "id": "b90bbf5d",
   "metadata": {},
   "outputs": [
    {
     "name": "stdout",
     "output_type": "stream",
     "text": [
      "Accuracy:  0.8583454525114667\n",
      "ROC-AUC:  0.9083850382639302\n",
      "Precision:  0.9781659388646288\n",
      "Recall:  0.1508163608820064\n"
     ]
    },
    {
     "data": {
      "image/png": "[encoded data removed]",
      "text/plain": [
       "<Figure size 640x480 with 2 Axes>"
      ]
     },
     "metadata": {},
     "output_type": "display_data"
    }
   ],
   "source": [
    "#Performance metrics computation for the optimum decision threshold probability - training data\n",
    "desired_threshold = 0.957895\n",
    "#choosing this threshold bc it has a very high accuracy and precision both around 88%\n",
    "\n",
    "y_pred_prob = model.predict_proba(X_train)[:,1] \n",
    "\n",
    "# Classifying observations in the positive class (y = 1) if the predicted probability is greater\n",
    "# than the desired decision threshold probability\n",
    "y_pred = y_pred_prob > desired_threshold\n",
    "y_pred = y_pred.astype(int)\n",
    "\n",
    "#Computing the accuracy\n",
    "print(\"Accuracy: \",accuracy_score(y_pred, y_train))  \n",
    "\n",
    "#Computing the ROC-AUC\n",
    "fpr, tpr, auc_thresholds = roc_curve(y_train, y_pred_prob)\n",
    "print(\"ROC-AUC: \",auc(fpr, tpr))# AUC of ROC\n",
    "\n",
    "#Computing the precision and recall\n",
    "print(\"Precision: \", precision_score(y_train, y_pred))\n",
    "print(\"Recall: \", recall_score(y_train, y_pred))\n",
    "\n",
    "#Confusion matrix\n",
    "cm = pd.DataFrame(confusion_matrix(y_train, y_pred), \n",
    "                  columns=['Predicted 0', 'Predicted 1'], index = ['Actual 0', 'Actual 1'])\n",
    "sns.heatmap(cm, annot=True, cmap='Blues', fmt='g');"
   ]
  },
  {
   "cell_type": "code",
   "execution_count": 114,
   "id": "cfd96734",
   "metadata": {
    "scrolled": false
   },
   "outputs": [
    {
     "name": "stdout",
     "output_type": "stream",
     "text": [
      "Test Accuracy:  0.858165548098434\n",
      "Test ROC-AUC:  0.8977130393967192\n",
      "Test Precision:  0.9326923076923077\n",
      "Test Recall:  0.13397790055248618\n"
     ]
    },
    {
     "data": {
      "image/png": "[encoded data removed]",
      "text/plain": [
       "<Figure size 640x480 with 2 Axes>"
      ]
     },
     "metadata": {},
     "output_type": "display_data"
    }
   ],
   "source": [
    "#Performance metrics computation for the optimum decision threshold probability - test data\n",
    "y_pred_prob = model.predict_proba(X_test)[:,1] \n",
    "\n",
    "# Classifying observations in the positive class (y = 1) if the predicted probability is greater\n",
    "# than the desired decision threshold probability\n",
    "y_pred = y_pred_prob > desired_threshold\n",
    "y_pred = y_pred.astype(int)\n",
    "\n",
    "#Computing the accuracy\n",
    "print(\"Test Accuracy: \",accuracy_score(y_pred, y_test))  \n",
    "\n",
    "#Computing the ROC-AUC\n",
    "fpr, tpr, auc_thresholds = roc_curve(y_test, y_pred_prob)\n",
    "print(\"Test ROC-AUC: \",auc(fpr, tpr))# AUC of ROC\n",
    "\n",
    "#Computing the precision and recall\n",
    "print(\"Test Precision: \", precision_score(y_test, y_pred))\n",
    "print(\"Test Recall: \", recall_score(y_test, y_pred))\n",
    "\n",
    "#Confusion matrix\n",
    "cm = pd.DataFrame(confusion_matrix(y_test, y_pred), \n",
    "                  columns=['Predicted 0', 'Predicted 1'], index = ['Actual 0', 'Actual 1'])\n",
    "sns.heatmap(cm, annot=True, cmap='Blues', fmt='g');"
   ]
  },
  {
   "cell_type": "markdown",
   "id": "672062e9",
   "metadata": {},
   "source": [
    "# STOP HERE FOR ENSEMBLE ---------------------------"
   ]
  },
  {
   "cell_type": "markdown",
   "id": "92032c99",
   "metadata": {},
   "source": [
    "# Cost Complexity Pruning\n",
    "While optimizing parameters above, we optimized them within a range that we thought was reasonable. While doing so, we restricted ourselves to considering only a subset of the unpruned tree. Thus, we could have missed out on finding the optimal tree (or the best model).\n",
    "\n",
    "With cost complexity pruning, we first develop an unpruned tree without any restrictions. Then, using cross validation, we find the optimal value of the tuning parameter \n"
   ]
  },
  {
   "cell_type": "code",
   "execution_count": 26,
   "id": "90e1ef59",
   "metadata": {},
   "outputs": [],
   "source": [
    "model = DecisionTreeClassifier(random_state = 1) #model without any restrictions\n",
    "path= model.cost_complexity_pruning_path(X_train,y_train) # Compute the pruning path during Minimal Cost-Complexity Pruning."
   ]
  },
  {
   "cell_type": "code",
   "execution_count": 27,
   "id": "fa7d522d",
   "metadata": {},
   "outputs": [
    {
     "data": {
      "text/plain": [
       "1420"
      ]
     },
     "execution_count": 27,
     "metadata": {},
     "output_type": "execute_result"
    }
   ],
   "source": [
    "alphas=path['ccp_alphas']\n",
    "len(alphas)"
   ]
  },
  {
   "cell_type": "code",
   "execution_count": 35,
   "id": "b0183d13",
   "metadata": {},
   "outputs": [
    {
     "name": "stdout",
     "output_type": "stream",
     "text": [
      "Fitting 5 folds for each of 1420 candidates, totalling 7100 fits\n",
      "Best params for recall\n",
      "{'ccp_alpha': 0.0013034274896670112}\n"
     ]
    }
   ],
   "source": [
    "#Grid search to optimize parameter values\n",
    "\n",
    "skf = StratifiedKFold(n_splits=5)\n",
    "grid_search = GridSearchCV(DecisionTreeClassifier(random_state = 1), param_grid = {'ccp_alpha':alphas}, \n",
    "                                                  scoring=['precision','recall','accuracy'], \n",
    "                                                  refit=\"precision\", cv=skf, n_jobs=-1, verbose = True)\n",
    "grid_search.fit(X_train, y_train)\n",
    "\n",
    "# make the predictions\n",
    "y_pred = grid_search.predict(X_test)\n",
    "\n",
    "print('Best params for precision')\n",
    "print(grid_search.best_params_)"
   ]
  },
  {
   "cell_type": "code",
   "execution_count": 36,
   "id": "6f745155",
   "metadata": {},
   "outputs": [],
   "source": [
    "optimal_alpha =0.0013034274896670112"
   ]
  },
  {
   "cell_type": "code",
   "execution_count": 37,
   "id": "d4f6302b",
   "metadata": {},
   "outputs": [
    {
     "data": {
      "text/html": [
       "<style>#sk-container-id-5 {color: black;background-color: white;}#sk-container-id-5 pre{padding: 0;}#sk-container-id-5 div.sk-toggleable {background-color: white;}#sk-container-id-5 label.sk-toggleable__label {cursor: pointer;display: block;width: 100%;margin-bottom: 0;padding: 0.3em;box-sizing: border-box;text-align: center;}#sk-container-id-5 label.sk-toggleable__label-arrow:before {content: \"▸\";float: left;margin-right: 0.25em;color: #696969;}#sk-container-id-5 label.sk-toggleable__label-arrow:hover:before {color: black;}#sk-container-id-5 div.sk-estimator:hover label.sk-toggleable__label-arrow:before {color: black;}#sk-container-id-5 div.sk-toggleable__content {max-height: 0;max-width: 0;overflow: hidden;text-align: left;background-color: #f0f8ff;}#sk-container-id-5 div.sk-toggleable__content pre {margin: 0.2em;color: black;border-radius: 0.25em;background-color: #f0f8ff;}#sk-container-id-5 input.sk-toggleable__control:checked~div.sk-toggleable__content {max-height: 200px;max-width: 100%;overflow: auto;}#sk-container-id-5 input.sk-toggleable__control:checked~label.sk-toggleable__label-arrow:before {content: \"▾\";}#sk-container-id-5 div.sk-estimator input.sk-toggleable__control:checked~label.sk-toggleable__label {background-color: #d4ebff;}#sk-container-id-5 div.sk-label input.sk-toggleable__control:checked~label.sk-toggleable__label {background-color: #d4ebff;}#sk-container-id-5 input.sk-hidden--visually {border: 0;clip: rect(1px 1px 1px 1px);clip: rect(1px, 1px, 1px, 1px);height: 1px;margin: -1px;overflow: hidden;padding: 0;position: absolute;width: 1px;}#sk-container-id-5 div.sk-estimator {font-family: monospace;background-color: #f0f8ff;border: 1px dotted black;border-radius: 0.25em;box-sizing: border-box;margin-bottom: 0.5em;}#sk-container-id-5 div.sk-estimator:hover {background-color: #d4ebff;}#sk-container-id-5 div.sk-parallel-item::after {content: \"\";width: 100%;border-bottom: 1px solid gray;flex-grow: 1;}#sk-container-id-5 div.sk-label:hover label.sk-toggleable__label {background-color: #d4ebff;}#sk-container-id-5 div.sk-serial::before {content: \"\";position: absolute;border-left: 1px solid gray;box-sizing: border-box;top: 0;bottom: 0;left: 50%;z-index: 0;}#sk-container-id-5 div.sk-serial {display: flex;flex-direction: column;align-items: center;background-color: white;padding-right: 0.2em;padding-left: 0.2em;position: relative;}#sk-container-id-5 div.sk-item {position: relative;z-index: 1;}#sk-container-id-5 div.sk-parallel {display: flex;align-items: stretch;justify-content: center;background-color: white;position: relative;}#sk-container-id-5 div.sk-item::before, #sk-container-id-5 div.sk-parallel-item::before {content: \"\";position: absolute;border-left: 1px solid gray;box-sizing: border-box;top: 0;bottom: 0;left: 50%;z-index: -1;}#sk-container-id-5 div.sk-parallel-item {display: flex;flex-direction: column;z-index: 1;position: relative;background-color: white;}#sk-container-id-5 div.sk-parallel-item:first-child::after {align-self: flex-end;width: 50%;}#sk-container-id-5 div.sk-parallel-item:last-child::after {align-self: flex-start;width: 50%;}#sk-container-id-5 div.sk-parallel-item:only-child::after {width: 0;}#sk-container-id-5 div.sk-dashed-wrapped {border: 1px dashed gray;margin: 0 0.4em 0.5em 0.4em;box-sizing: border-box;padding-bottom: 0.4em;background-color: white;}#sk-container-id-5 div.sk-label label {font-family: monospace;font-weight: bold;display: inline-block;line-height: 1.2em;}#sk-container-id-5 div.sk-label-container {text-align: center;}#sk-container-id-5 div.sk-container {/* jupyter's `normalize.less` sets `[hidden] { display: none; }` but bootstrap.min.css set `[hidden] { display: none !important; }` so we also need the `!important` here to be able to override the default hidden behavior on the sphinx rendered scikit-learn.org. See: https://github.com/scikit-learn/scikit-learn/issues/21755 */display: inline-block !important;position: relative;}#sk-container-id-5 div.sk-text-repr-fallback {display: none;}</style><div id=\"sk-container-id-5\" class=\"sk-top-container\"><div class=\"sk-text-repr-fallback\"><pre>DecisionTreeClassifier(ccp_alpha=0.0013034274896670112, random_state=1)</pre><b>In a Jupyter environment, please rerun this cell to show the HTML representation or trust the notebook. <br />On GitHub, the HTML representation is unable to render, please try loading this page with nbviewer.org.</b></div><div class=\"sk-container\" hidden><div class=\"sk-item\"><div class=\"sk-estimator sk-toggleable\"><input class=\"sk-toggleable__control sk-hidden--visually\" id=\"sk-estimator-id-7\" type=\"checkbox\" checked><label for=\"sk-estimator-id-7\" class=\"sk-toggleable__label sk-toggleable__label-arrow\">DecisionTreeClassifier</label><div class=\"sk-toggleable__content\"><pre>DecisionTreeClassifier(ccp_alpha=0.0013034274896670112, random_state=1)</pre></div></div></div></div></div>"
      ],
      "text/plain": [
       "DecisionTreeClassifier(ccp_alpha=0.0013034274896670112, random_state=1)"
      ]
     },
     "execution_count": 37,
     "metadata": {},
     "output_type": "execute_result"
    }
   ],
   "source": [
    "# Model with the optimal value of 'ccp_alpha'\n",
    "model_w_alpha = DecisionTreeClassifier(ccp_alpha=optimal_alpha,random_state=1)\n",
    "model_w_alpha.fit(X_train, y_train)"
   ]
  },
  {
   "cell_type": "code",
   "execution_count": 38,
   "id": "bce6a7d9",
   "metadata": {},
   "outputs": [
    {
     "name": "stdout",
     "output_type": "stream",
     "text": [
      "accuracy: 0.9073825503355705\n",
      "recall: 0.5511049723756906\n",
      "Precision:  0.8176229508196722\n"
     ]
    }
   ],
   "source": [
    "# accuracy/recall\n",
    "pred=model_w_alpha.predict(X_test)\n",
    "print('accuracy:', accuracy_score(y_test, pred))\n",
    "print('recall:', recall_score(y_test, pred))\n",
    "print(\"Precision: \", precision_score(y_test, pred))"
   ]
  },
  {
   "cell_type": "markdown",
   "id": "ca09fc2f",
   "metadata": {},
   "source": [
    "Here, our accuracy is about the same, recall is slightly higher, but precision has dropped by about 10%."
   ]
  },
  {
   "cell_type": "code",
   "execution_count": 39,
   "id": "e5a0ed23",
   "metadata": {},
   "outputs": [
    {
     "data": {
      "image/png": "[encoded data removed]",
      "text/plain": [
       "<Figure size 800x800 with 1 Axes>"
      ]
     },
     "metadata": {},
     "output_type": "display_data"
    }
   ],
   "source": [
    "# finding decision threshold prob\n",
    "\n",
    "cross_val_ypred = cross_val_predict(model_w_alpha, X_train, y_train, cv = 5, method = 'predict_proba')\n",
    "\n",
    "p, r, thresholds = precision_recall_curve(y_train, cross_val_ypred[:,1])\n",
    "acc = np.ndarray(shape = (len(thresholds),))\n",
    "i = 0\n",
    "for th in thresholds:\n",
    "    y_pred = cross_val_ypred[:,1] > th\n",
    "    y_pred = y_pred.astype(int)\n",
    "    acc[i] = accuracy_score(y_pred, y_train)\n",
    "    i = i + 1\n",
    "def plot_precision_recall_vs_threshold(precisions, recalls, thresholds):\n",
    "    plt.figure(figsize=(8, 8))\n",
    "    plt.title(\"Precision and Recall Scores as a function of the decision threshold\")\n",
    "    plt.plot(thresholds, precisions[:-1], \"b--\", label=\"Precision\")\n",
    "    plt.plot(thresholds, recalls[:-1], \"g-\", label=\"Recall\")\n",
    "    plt.plot(thresholds, acc, \"r-\", label=\"Accuracy\")\n",
    "    plt.plot(thresholds, precisions[:-1], \"o\", color = 'blue')\n",
    "    plt.plot(thresholds, recalls[:-1], \"o\", color = 'green')\n",
    "    plt.plot(thresholds, acc, \"o\", color = 'red')\n",
    "    plt.ylabel(\"Score\")\n",
    "    plt.xlabel(\"Decision Threshold\")\n",
    "    plt.legend(loc='best')\n",
    "    plt.legend()\n",
    "plot_precision_recall_vs_threshold(p, r, thresholds)"
   ]
  },
  {
   "cell_type": "code",
   "execution_count": 42,
   "id": "d412305c",
   "metadata": {},
   "outputs": [
    {
     "data": {
      "text/html": [
       "<div>\n",
       "<style scoped>\n",
       "    .dataframe tbody tr th:only-of-type {\n",
       "        vertical-align: middle;\n",
       "    }\n",
       "\n",
       "    .dataframe tbody tr th {\n",
       "        vertical-align: top;\n",
       "    }\n",
       "\n",
       "    .dataframe thead th {\n",
       "        text-align: right;\n",
       "    }\n",
       "</style>\n",
       "<table border=\"1\" class=\"dataframe\">\n",
       "  <thead>\n",
       "    <tr style=\"text-align: right;\">\n",
       "      <th></th>\n",
       "      <th>thresholds</th>\n",
       "      <th>precision</th>\n",
       "      <th>recall</th>\n",
       "      <th>accuracy</th>\n",
       "    </tr>\n",
       "  </thead>\n",
       "  <tbody>\n",
       "    <tr>\n",
       "      <th>26</th>\n",
       "      <td>0.848161</td>\n",
       "      <td>0.860243</td>\n",
       "      <td>0.166807</td>\n",
       "      <td>0.845005</td>\n",
       "    </tr>\n",
       "    <tr>\n",
       "      <th>27</th>\n",
       "      <td>0.862155</td>\n",
       "      <td>0.856887</td>\n",
       "      <td>0.080626</td>\n",
       "      <td>0.833846</td>\n",
       "    </tr>\n",
       "    <tr>\n",
       "      <th>25</th>\n",
       "      <td>0.841608</td>\n",
       "      <td>0.848367</td>\n",
       "      <td>0.258037</td>\n",
       "      <td>0.857059</td>\n",
       "    </tr>\n",
       "    <tr>\n",
       "      <th>24</th>\n",
       "      <td>0.839734</td>\n",
       "      <td>0.844771</td>\n",
       "      <td>0.348090</td>\n",
       "      <td>0.869057</td>\n",
       "    </tr>\n",
       "    <tr>\n",
       "      <th>23</th>\n",
       "      <td>0.839608</td>\n",
       "      <td>0.842769</td>\n",
       "      <td>0.438478</td>\n",
       "      <td>0.881055</td>\n",
       "    </tr>\n",
       "    <tr>\n",
       "      <th>22</th>\n",
       "      <td>0.730845</td>\n",
       "      <td>0.837939</td>\n",
       "      <td>0.454301</td>\n",
       "      <td>0.893109</td>\n",
       "    </tr>\n",
       "    <tr>\n",
       "      <th>21</th>\n",
       "      <td>0.705104</td>\n",
       "      <td>0.831390</td>\n",
       "      <td>0.468103</td>\n",
       "      <td>0.894731</td>\n",
       "    </tr>\n",
       "    <tr>\n",
       "      <th>20</th>\n",
       "      <td>0.687500</td>\n",
       "      <td>0.827815</td>\n",
       "      <td>0.483925</td>\n",
       "      <td>0.895850</td>\n",
       "    </tr>\n",
       "    <tr>\n",
       "      <th>19</th>\n",
       "      <td>0.681051</td>\n",
       "      <td>0.825640</td>\n",
       "      <td>0.499748</td>\n",
       "      <td>0.897528</td>\n",
       "    </tr>\n",
       "    <tr>\n",
       "      <th>18</th>\n",
       "      <td>0.670227</td>\n",
       "      <td>0.810548</td>\n",
       "      <td>0.519946</td>\n",
       "      <td>0.899346</td>\n",
       "    </tr>\n",
       "    <tr>\n",
       "      <th>17</th>\n",
       "      <td>0.528497</td>\n",
       "      <td>0.809228</td>\n",
       "      <td>0.525501</td>\n",
       "      <td>0.900045</td>\n",
       "    </tr>\n",
       "    <tr>\n",
       "      <th>16</th>\n",
       "      <td>0.478764</td>\n",
       "      <td>0.782879</td>\n",
       "      <td>0.551086</td>\n",
       "      <td>0.900576</td>\n",
       "    </tr>\n",
       "    <tr>\n",
       "      <th>15</th>\n",
       "      <td>0.451818</td>\n",
       "      <td>0.762873</td>\n",
       "      <td>0.568591</td>\n",
       "      <td>0.900017</td>\n",
       "    </tr>\n",
       "    <tr>\n",
       "      <th>14</th>\n",
       "      <td>0.443074</td>\n",
       "      <td>0.744068</td>\n",
       "      <td>0.591146</td>\n",
       "      <td>0.898954</td>\n",
       "    </tr>\n",
       "    <tr>\n",
       "      <th>13</th>\n",
       "      <td>0.437442</td>\n",
       "      <td>0.730391</td>\n",
       "      <td>0.612860</td>\n",
       "      <td>0.898283</td>\n",
       "    </tr>\n",
       "    <tr>\n",
       "      <th>12</th>\n",
       "      <td>0.401500</td>\n",
       "      <td>0.706025</td>\n",
       "      <td>0.637098</td>\n",
       "      <td>0.898087</td>\n",
       "    </tr>\n",
       "    <tr>\n",
       "      <th>11</th>\n",
       "      <td>0.306516</td>\n",
       "      <td>0.678093</td>\n",
       "      <td>0.655950</td>\n",
       "      <td>0.895626</td>\n",
       "    </tr>\n",
       "    <tr>\n",
       "      <th>10</th>\n",
       "      <td>0.301672</td>\n",
       "      <td>0.654403</td>\n",
       "      <td>0.676654</td>\n",
       "      <td>0.891095</td>\n",
       "    </tr>\n",
       "    <tr>\n",
       "      <th>9</th>\n",
       "      <td>0.301316</td>\n",
       "      <td>0.635065</td>\n",
       "      <td>0.695674</td>\n",
       "      <td>0.886900</td>\n",
       "    </tr>\n",
       "    <tr>\n",
       "      <th>8</th>\n",
       "      <td>0.300326</td>\n",
       "      <td>0.618693</td>\n",
       "      <td>0.714190</td>\n",
       "      <td>0.883013</td>\n",
       "    </tr>\n",
       "    <tr>\n",
       "      <th>7</th>\n",
       "      <td>0.244755</td>\n",
       "      <td>0.608333</td>\n",
       "      <td>0.724962</td>\n",
       "      <td>0.879377</td>\n",
       "    </tr>\n",
       "    <tr>\n",
       "      <th>6</th>\n",
       "      <td>0.075566</td>\n",
       "      <td>0.412938</td>\n",
       "      <td>0.773607</td>\n",
       "      <td>0.876748</td>\n",
       "    </tr>\n",
       "    <tr>\n",
       "      <th>5</th>\n",
       "      <td>0.075014</td>\n",
       "      <td>0.321581</td>\n",
       "      <td>0.824440</td>\n",
       "      <td>0.779645</td>\n",
       "    </tr>\n",
       "    <tr>\n",
       "      <th>4</th>\n",
       "      <td>0.056924</td>\n",
       "      <td>0.249284</td>\n",
       "      <td>0.879650</td>\n",
       "      <td>0.681844</td>\n",
       "    </tr>\n",
       "    <tr>\n",
       "      <th>3</th>\n",
       "      <td>0.056685</td>\n",
       "      <td>0.208090</td>\n",
       "      <td>0.936038</td>\n",
       "      <td>0.539853</td>\n",
       "    </tr>\n",
       "    <tr>\n",
       "      <th>2</th>\n",
       "      <td>0.056596</td>\n",
       "      <td>0.181502</td>\n",
       "      <td>0.992930</td>\n",
       "      <td>0.397500</td>\n",
       "    </tr>\n",
       "    <tr>\n",
       "      <th>1</th>\n",
       "      <td>0.011321</td>\n",
       "      <td>0.173219</td>\n",
       "      <td>0.995960</td>\n",
       "      <td>0.254838</td>\n",
       "    </tr>\n",
       "    <tr>\n",
       "      <th>0</th>\n",
       "      <td>0.010279</td>\n",
       "      <td>0.166154</td>\n",
       "      <td>1.000000</td>\n",
       "      <td>0.209475</td>\n",
       "    </tr>\n",
       "  </tbody>\n",
       "</table>\n",
       "</div>"
      ],
      "text/plain": [
       "    thresholds  precision    recall  accuracy\n",
       "26    0.848161   0.860243  0.166807  0.845005\n",
       "27    0.862155   0.856887  0.080626  0.833846\n",
       "25    0.841608   0.848367  0.258037  0.857059\n",
       "24    0.839734   0.844771  0.348090  0.869057\n",
       "23    0.839608   0.842769  0.438478  0.881055\n",
       "22    0.730845   0.837939  0.454301  0.893109\n",
       "21    0.705104   0.831390  0.468103  0.894731\n",
       "20    0.687500   0.827815  0.483925  0.895850\n",
       "19    0.681051   0.825640  0.499748  0.897528\n",
       "18    0.670227   0.810548  0.519946  0.899346\n",
       "17    0.528497   0.809228  0.525501  0.900045\n",
       "16    0.478764   0.782879  0.551086  0.900576\n",
       "15    0.451818   0.762873  0.568591  0.900017\n",
       "14    0.443074   0.744068  0.591146  0.898954\n",
       "13    0.437442   0.730391  0.612860  0.898283\n",
       "12    0.401500   0.706025  0.637098  0.898087\n",
       "11    0.306516   0.678093  0.655950  0.895626\n",
       "10    0.301672   0.654403  0.676654  0.891095\n",
       "9     0.301316   0.635065  0.695674  0.886900\n",
       "8     0.300326   0.618693  0.714190  0.883013\n",
       "7     0.244755   0.608333  0.724962  0.879377\n",
       "6     0.075566   0.412938  0.773607  0.876748\n",
       "5     0.075014   0.321581  0.824440  0.779645\n",
       "4     0.056924   0.249284  0.879650  0.681844\n",
       "3     0.056685   0.208090  0.936038  0.539853\n",
       "2     0.056596   0.181502  0.992930  0.397500\n",
       "1     0.011321   0.173219  0.995960  0.254838\n",
       "0     0.010279   0.166154  1.000000  0.209475"
      ]
     },
     "execution_count": 42,
     "metadata": {},
     "output_type": "execute_result"
    }
   ],
   "source": [
    "all_alpha_thresholds = pd.DataFrame({'thresholds': thresholds, \n",
    "                           'precision': p[:-1],\n",
    "                           'recall': r[:-1],\n",
    "                           'accuracy': acc})\n",
    "all_alpha_thresholds.sort_values('precision', ascending=False)"
   ]
  },
  {
   "cell_type": "markdown",
   "id": "26a89c5b",
   "metadata": {},
   "source": [
    "choosing the threshold with index 22"
   ]
  },
  {
   "cell_type": "code",
   "execution_count": 43,
   "id": "f0518431",
   "metadata": {},
   "outputs": [
    {
     "name": "stdout",
     "output_type": "stream",
     "text": [
      "Accuracy:  0.8943394115672894\n",
      "ROC-AUC:  0.8337047488294183\n",
      "Precision:  0.8387096774193549\n",
      "Recall:  0.45076586433260396\n"
     ]
    },
    {
     "data": {
      "image/png": "[encoded data removed]",
      "text/plain": [
       "<Figure size 640x480 with 2 Axes>"
      ]
     },
     "metadata": {},
     "output_type": "display_data"
    }
   ],
   "source": [
    "#Performance metrics computation for the optimum decision threshold probability - training data\n",
    "desired_threshold = 0.730845\n",
    "#choosing this threshold bc it has a very high accuracy and precision both around 88%\n",
    "\n",
    "y_pred_prob = model_w_alpha.predict_proba(X_train)[:,1] \n",
    "\n",
    "# Classifying observations in the positive class (y = 1) if the predicted probability is greater\n",
    "# than the desired decision threshold probability\n",
    "y_pred = y_pred_prob > desired_threshold\n",
    "y_pred = y_pred.astype(int)\n",
    "\n",
    "#Computing the accuracy\n",
    "print(\"Accuracy: \",accuracy_score(y_pred, y_train))  \n",
    "\n",
    "#Computing the ROC-AUC\n",
    "fpr, tpr, auc_thresholds = roc_curve(y_train, y_pred_prob)\n",
    "print(\"ROC-AUC: \",auc(fpr, tpr))# AUC of ROC\n",
    "\n",
    "#Computing the precision and recall\n",
    "print(\"Precision: \", precision_score(y_train, y_pred))\n",
    "print(\"Recall: \", recall_score(y_train, y_pred))\n",
    "\n",
    "#Confusion matrix\n",
    "cm = pd.DataFrame(confusion_matrix(y_train, y_pred), \n",
    "                  columns=['Predicted 0', 'Predicted 1'], index = ['Actual 0', 'Actual 1'])\n",
    "sns.heatmap(cm, annot=True, cmap='Blues', fmt='g');"
   ]
  },
  {
   "cell_type": "code",
   "execution_count": 44,
   "id": "45085821",
   "metadata": {},
   "outputs": [
    {
     "name": "stdout",
     "output_type": "stream",
     "text": [
      "Test Accuracy:  0.8992170022371365\n",
      "Test ROC-AUC:  0.8410819146315922\n",
      "Test Precision:  0.8457648546144121\n",
      "Test Recall:  0.4620165745856354\n"
     ]
    },
    {
     "data": {
      "image/png": "[encoded data removed]",
      "text/plain": [
       "<Figure size 640x480 with 2 Axes>"
      ]
     },
     "metadata": {},
     "output_type": "display_data"
    }
   ],
   "source": [
    "#Performance metrics computation for the optimum decision threshold probability - test data\n",
    "y_pred_prob = model_w_alpha.predict_proba(X_test)[:,1] \n",
    "\n",
    "# Classifying observations in the positive class (y = 1) if the predicted probability is greater\n",
    "# than the desired decision threshold probability\n",
    "y_pred = y_pred_prob > desired_threshold\n",
    "y_pred = y_pred.astype(int)\n",
    "\n",
    "#Computing the accuracy\n",
    "print(\"Test Accuracy: \",accuracy_score(y_pred, y_test))  \n",
    "\n",
    "#Computing the ROC-AUC\n",
    "fpr, tpr, auc_thresholds = roc_curve(y_test, y_pred_prob)\n",
    "print(\"Test ROC-AUC: \",auc(fpr, tpr))# AUC of ROC\n",
    "\n",
    "#Computing the precision and recall\n",
    "print(\"Test Precision: \", precision_score(y_test, y_pred))\n",
    "print(\"Test Recall: \", recall_score(y_test, y_pred))\n",
    "\n",
    "#Confusion matrix\n",
    "cm = pd.DataFrame(confusion_matrix(y_test, y_pred), \n",
    "                  columns=['Predicted 0', 'Predicted 1'], index = ['Actual 0', 'Actual 1'])\n",
    "sns.heatmap(cm, annot=True, cmap='Blues', fmt='g');"
   ]
  },
  {
   "cell_type": "markdown",
   "id": "b5493da2",
   "metadata": {},
   "source": [
    "This model has a lower accuracy, lower precision, and only slightly higher recall. Since we are trying to optimize precision, i will try to combine the cost complexity pruning as well as tuning other hyperparameters to see if this improves the precision."
   ]
  },
  {
   "cell_type": "markdown",
   "id": "ad354408",
   "metadata": {},
   "source": [
    "# pruned model with tuned hyperparameters and"
   ]
  },
  {
   "cell_type": "code",
   "execution_count": 59,
   "id": "d131f9aa",
   "metadata": {},
   "outputs": [
    {
     "name": "stdout",
     "output_type": "stream",
     "text": [
      "Fitting 5 folds for each of 10 candidates, totalling 50 fits\n",
      "0.7520968242674874 {'max_leaf_nodes': 402, 'max_features': 6, 'max_depth': 32, 'ccp_alpha': 1.3532581042116992e-05}\n"
     ]
    }
   ],
   "source": [
    "parameters = {'max_depth':range(2,34, 5),\n",
    "              'max_leaf_nodes':range(2, 4737, 100), \n",
    "              'max_features': range(1, 26, 5),\n",
    "              'ccp_alpha':alphas}\n",
    "\n",
    "cv = KFold(n_splits = 5,shuffle=True,random_state=1)\n",
    "\n",
    "grid_result = RandomizedSearchCV(DecisionTreeClassifier(random_state=1), parameters, n_jobs=-1,verbose=1,cv=cv,\n",
    "                    scoring=\"precision\")\n",
    "\n",
    "grid_result.fit(X_train, y_train)\n",
    "print (grid_result.best_score_, grid_result.best_params_) "
   ]
  },
  {
   "cell_type": "code",
   "execution_count": 61,
   "id": "f4a9b361",
   "metadata": {
    "scrolled": true
   },
   "outputs": [
    {
     "data": {
      "text/html": [
       "<div>\n",
       "<style scoped>\n",
       "    .dataframe tbody tr th:only-of-type {\n",
       "        vertical-align: middle;\n",
       "    }\n",
       "\n",
       "    .dataframe tbody tr th {\n",
       "        vertical-align: top;\n",
       "    }\n",
       "\n",
       "    .dataframe thead th {\n",
       "        text-align: right;\n",
       "    }\n",
       "</style>\n",
       "<table border=\"1\" class=\"dataframe\">\n",
       "  <thead>\n",
       "    <tr style=\"text-align: right;\">\n",
       "      <th></th>\n",
       "      <th>mean_fit_time</th>\n",
       "      <th>std_fit_time</th>\n",
       "      <th>mean_score_time</th>\n",
       "      <th>std_score_time</th>\n",
       "      <th>param_max_leaf_nodes</th>\n",
       "      <th>param_max_features</th>\n",
       "      <th>param_max_depth</th>\n",
       "      <th>param_ccp_alpha</th>\n",
       "      <th>params</th>\n",
       "      <th>split0_test_score</th>\n",
       "      <th>split1_test_score</th>\n",
       "      <th>split2_test_score</th>\n",
       "      <th>split3_test_score</th>\n",
       "      <th>split4_test_score</th>\n",
       "      <th>mean_test_score</th>\n",
       "      <th>std_test_score</th>\n",
       "      <th>rank_test_score</th>\n",
       "    </tr>\n",
       "  </thead>\n",
       "  <tbody>\n",
       "    <tr>\n",
       "      <th>5</th>\n",
       "      <td>0.066199</td>\n",
       "      <td>0.009119</td>\n",
       "      <td>0.011014</td>\n",
       "      <td>0.002029</td>\n",
       "      <td>402</td>\n",
       "      <td>6</td>\n",
       "      <td>32</td>\n",
       "      <td>0.000014</td>\n",
       "      <td>{'max_leaf_nodes': 402, 'max_features': 6, 'ma...</td>\n",
       "      <td>0.763307</td>\n",
       "      <td>0.739659</td>\n",
       "      <td>0.764045</td>\n",
       "      <td>0.760369</td>\n",
       "      <td>0.733104</td>\n",
       "      <td>0.752097</td>\n",
       "      <td>0.013056</td>\n",
       "      <td>1</td>\n",
       "    </tr>\n",
       "    <tr>\n",
       "      <th>2</th>\n",
       "      <td>0.126792</td>\n",
       "      <td>0.016757</td>\n",
       "      <td>0.010033</td>\n",
       "      <td>0.000812</td>\n",
       "      <td>3302</td>\n",
       "      <td>16</td>\n",
       "      <td>12</td>\n",
       "      <td>0.000048</td>\n",
       "      <td>{'max_leaf_nodes': 3302, 'max_features': 16, '...</td>\n",
       "      <td>0.761478</td>\n",
       "      <td>0.743619</td>\n",
       "      <td>0.744518</td>\n",
       "      <td>0.752723</td>\n",
       "      <td>0.738122</td>\n",
       "      <td>0.748092</td>\n",
       "      <td>0.008159</td>\n",
       "      <td>2</td>\n",
       "    </tr>\n",
       "    <tr>\n",
       "      <th>3</th>\n",
       "      <td>0.100749</td>\n",
       "      <td>0.009939</td>\n",
       "      <td>0.012111</td>\n",
       "      <td>0.002401</td>\n",
       "      <td>502</td>\n",
       "      <td>16</td>\n",
       "      <td>27</td>\n",
       "      <td>0.00004</td>\n",
       "      <td>{'max_leaf_nodes': 502, 'max_features': 16, 'm...</td>\n",
       "      <td>0.757642</td>\n",
       "      <td>0.718947</td>\n",
       "      <td>0.771234</td>\n",
       "      <td>0.749175</td>\n",
       "      <td>0.729167</td>\n",
       "      <td>0.745233</td>\n",
       "      <td>0.018945</td>\n",
       "      <td>3</td>\n",
       "    </tr>\n",
       "    <tr>\n",
       "      <th>7</th>\n",
       "      <td>0.076928</td>\n",
       "      <td>0.012641</td>\n",
       "      <td>0.016620</td>\n",
       "      <td>0.010589</td>\n",
       "      <td>1002</td>\n",
       "      <td>6</td>\n",
       "      <td>12</td>\n",
       "      <td>0.000037</td>\n",
       "      <td>{'max_leaf_nodes': 1002, 'max_features': 6, 'm...</td>\n",
       "      <td>0.761905</td>\n",
       "      <td>0.726363</td>\n",
       "      <td>0.756312</td>\n",
       "      <td>0.737010</td>\n",
       "      <td>0.730519</td>\n",
       "      <td>0.742422</td>\n",
       "      <td>0.014152</td>\n",
       "      <td>4</td>\n",
       "    </tr>\n",
       "    <tr>\n",
       "      <th>8</th>\n",
       "      <td>0.041045</td>\n",
       "      <td>0.006553</td>\n",
       "      <td>0.015250</td>\n",
       "      <td>0.010317</td>\n",
       "      <td>2602</td>\n",
       "      <td>16</td>\n",
       "      <td>2</td>\n",
       "      <td>0.000075</td>\n",
       "      <td>{'max_leaf_nodes': 2602, 'max_features': 16, '...</td>\n",
       "      <td>0.713352</td>\n",
       "      <td>0.710704</td>\n",
       "      <td>0.748266</td>\n",
       "      <td>0.712107</td>\n",
       "      <td>0.711089</td>\n",
       "      <td>0.719104</td>\n",
       "      <td>0.014610</td>\n",
       "      <td>5</td>\n",
       "    </tr>\n",
       "    <tr>\n",
       "      <th>1</th>\n",
       "      <td>0.035390</td>\n",
       "      <td>0.005151</td>\n",
       "      <td>0.009404</td>\n",
       "      <td>0.000805</td>\n",
       "      <td>902</td>\n",
       "      <td>1</td>\n",
       "      <td>32</td>\n",
       "      <td>0.000042</td>\n",
       "      <td>{'max_leaf_nodes': 902, 'max_features': 1, 'ma...</td>\n",
       "      <td>0.750769</td>\n",
       "      <td>0.678771</td>\n",
       "      <td>0.749311</td>\n",
       "      <td>0.734615</td>\n",
       "      <td>0.657210</td>\n",
       "      <td>0.714135</td>\n",
       "      <td>0.038704</td>\n",
       "      <td>6</td>\n",
       "    </tr>\n",
       "    <tr>\n",
       "      <th>9</th>\n",
       "      <td>0.029053</td>\n",
       "      <td>0.004421</td>\n",
       "      <td>0.008995</td>\n",
       "      <td>0.004497</td>\n",
       "      <td>2402</td>\n",
       "      <td>1</td>\n",
       "      <td>12</td>\n",
       "      <td>0.000032</td>\n",
       "      <td>{'max_leaf_nodes': 2402, 'max_features': 1, 'm...</td>\n",
       "      <td>0.733157</td>\n",
       "      <td>0.716263</td>\n",
       "      <td>0.750000</td>\n",
       "      <td>0.683353</td>\n",
       "      <td>0.681452</td>\n",
       "      <td>0.712845</td>\n",
       "      <td>0.027056</td>\n",
       "      <td>7</td>\n",
       "    </tr>\n",
       "    <tr>\n",
       "      <th>4</th>\n",
       "      <td>0.046306</td>\n",
       "      <td>0.006179</td>\n",
       "      <td>0.012377</td>\n",
       "      <td>0.003077</td>\n",
       "      <td>2202</td>\n",
       "      <td>1</td>\n",
       "      <td>27</td>\n",
       "      <td>0.000027</td>\n",
       "      <td>{'max_leaf_nodes': 2202, 'max_features': 1, 'm...</td>\n",
       "      <td>0.722838</td>\n",
       "      <td>0.643068</td>\n",
       "      <td>0.683180</td>\n",
       "      <td>0.713772</td>\n",
       "      <td>0.659677</td>\n",
       "      <td>0.684507</td>\n",
       "      <td>0.030533</td>\n",
       "      <td>8</td>\n",
       "    </tr>\n",
       "    <tr>\n",
       "      <th>6</th>\n",
       "      <td>0.077467</td>\n",
       "      <td>0.010526</td>\n",
       "      <td>0.014537</td>\n",
       "      <td>0.007328</td>\n",
       "      <td>4602</td>\n",
       "      <td>1</td>\n",
       "      <td>27</td>\n",
       "      <td>0.000029</td>\n",
       "      <td>{'max_leaf_nodes': 4602, 'max_features': 1, 'm...</td>\n",
       "      <td>0.657216</td>\n",
       "      <td>0.640000</td>\n",
       "      <td>0.691299</td>\n",
       "      <td>0.694836</td>\n",
       "      <td>0.653753</td>\n",
       "      <td>0.667421</td>\n",
       "      <td>0.021747</td>\n",
       "      <td>9</td>\n",
       "    </tr>\n",
       "    <tr>\n",
       "      <th>0</th>\n",
       "      <td>0.122926</td>\n",
       "      <td>0.003615</td>\n",
       "      <td>0.011804</td>\n",
       "      <td>0.002468</td>\n",
       "      <td>4002</td>\n",
       "      <td>11</td>\n",
       "      <td>32</td>\n",
       "      <td>0.000023</td>\n",
       "      <td>{'max_leaf_nodes': 4002, 'max_features': 11, '...</td>\n",
       "      <td>0.613699</td>\n",
       "      <td>0.604630</td>\n",
       "      <td>0.611668</td>\n",
       "      <td>0.624210</td>\n",
       "      <td>0.584821</td>\n",
       "      <td>0.607806</td>\n",
       "      <td>0.013093</td>\n",
       "      <td>10</td>\n",
       "    </tr>\n",
       "  </tbody>\n",
       "</table>\n",
       "</div>"
      ],
      "text/plain": [
       "   mean_fit_time  std_fit_time  mean_score_time  std_score_time  \\\n",
       "5       0.066199      0.009119         0.011014        0.002029   \n",
       "2       0.126792      0.016757         0.010033        0.000812   \n",
       "3       0.100749      0.009939         0.012111        0.002401   \n",
       "7       0.076928      0.012641         0.016620        0.010589   \n",
       "8       0.041045      0.006553         0.015250        0.010317   \n",
       "1       0.035390      0.005151         0.009404        0.000805   \n",
       "9       0.029053      0.004421         0.008995        0.004497   \n",
       "4       0.046306      0.006179         0.012377        0.003077   \n",
       "6       0.077467      0.010526         0.014537        0.007328   \n",
       "0       0.122926      0.003615         0.011804        0.002468   \n",
       "\n",
       "  param_max_leaf_nodes param_max_features param_max_depth param_ccp_alpha  \\\n",
       "5                  402                  6              32        0.000014   \n",
       "2                 3302                 16              12        0.000048   \n",
       "3                  502                 16              27         0.00004   \n",
       "7                 1002                  6              12        0.000037   \n",
       "8                 2602                 16               2        0.000075   \n",
       "1                  902                  1              32        0.000042   \n",
       "9                 2402                  1              12        0.000032   \n",
       "4                 2202                  1              27        0.000027   \n",
       "6                 4602                  1              27        0.000029   \n",
       "0                 4002                 11              32        0.000023   \n",
       "\n",
       "                                              params  split0_test_score  \\\n",
       "5  {'max_leaf_nodes': 402, 'max_features': 6, 'ma...           0.763307   \n",
       "2  {'max_leaf_nodes': 3302, 'max_features': 16, '...           0.761478   \n",
       "3  {'max_leaf_nodes': 502, 'max_features': 16, 'm...           0.757642   \n",
       "7  {'max_leaf_nodes': 1002, 'max_features': 6, 'm...           0.761905   \n",
       "8  {'max_leaf_nodes': 2602, 'max_features': 16, '...           0.713352   \n",
       "1  {'max_leaf_nodes': 902, 'max_features': 1, 'ma...           0.750769   \n",
       "9  {'max_leaf_nodes': 2402, 'max_features': 1, 'm...           0.733157   \n",
       "4  {'max_leaf_nodes': 2202, 'max_features': 1, 'm...           0.722838   \n",
       "6  {'max_leaf_nodes': 4602, 'max_features': 1, 'm...           0.657216   \n",
       "0  {'max_leaf_nodes': 4002, 'max_features': 11, '...           0.613699   \n",
       "\n",
       "   split1_test_score  split2_test_score  split3_test_score  split4_test_score  \\\n",
       "5           0.739659           0.764045           0.760369           0.733104   \n",
       "2           0.743619           0.744518           0.752723           0.738122   \n",
       "3           0.718947           0.771234           0.749175           0.729167   \n",
       "7           0.726363           0.756312           0.737010           0.730519   \n",
       "8           0.710704           0.748266           0.712107           0.711089   \n",
       "1           0.678771           0.749311           0.734615           0.657210   \n",
       "9           0.716263           0.750000           0.683353           0.681452   \n",
       "4           0.643068           0.683180           0.713772           0.659677   \n",
       "6           0.640000           0.691299           0.694836           0.653753   \n",
       "0           0.604630           0.611668           0.624210           0.584821   \n",
       "\n",
       "   mean_test_score  std_test_score  rank_test_score  \n",
       "5         0.752097        0.013056                1  \n",
       "2         0.748092        0.008159                2  \n",
       "3         0.745233        0.018945                3  \n",
       "7         0.742422        0.014152                4  \n",
       "8         0.719104        0.014610                5  \n",
       "1         0.714135        0.038704                6  \n",
       "9         0.712845        0.027056                7  \n",
       "4         0.684507        0.030533                8  \n",
       "6         0.667421        0.021747                9  \n",
       "0         0.607806        0.013093               10  "
      ]
     },
     "execution_count": 61,
     "metadata": {},
     "output_type": "execute_result"
    }
   ],
   "source": [
    "pd.DataFrame(grid_result.cv_results_).sort_values('rank_test_score')"
   ]
  },
  {
   "cell_type": "code",
   "execution_count": 64,
   "id": "03252ee7",
   "metadata": {},
   "outputs": [
    {
     "data": {
      "text/html": [
       "<style>#sk-container-id-7 {color: black;background-color: white;}#sk-container-id-7 pre{padding: 0;}#sk-container-id-7 div.sk-toggleable {background-color: white;}#sk-container-id-7 label.sk-toggleable__label {cursor: pointer;display: block;width: 100%;margin-bottom: 0;padding: 0.3em;box-sizing: border-box;text-align: center;}#sk-container-id-7 label.sk-toggleable__label-arrow:before {content: \"▸\";float: left;margin-right: 0.25em;color: #696969;}#sk-container-id-7 label.sk-toggleable__label-arrow:hover:before {color: black;}#sk-container-id-7 div.sk-estimator:hover label.sk-toggleable__label-arrow:before {color: black;}#sk-container-id-7 div.sk-toggleable__content {max-height: 0;max-width: 0;overflow: hidden;text-align: left;background-color: #f0f8ff;}#sk-container-id-7 div.sk-toggleable__content pre {margin: 0.2em;color: black;border-radius: 0.25em;background-color: #f0f8ff;}#sk-container-id-7 input.sk-toggleable__control:checked~div.sk-toggleable__content {max-height: 200px;max-width: 100%;overflow: auto;}#sk-container-id-7 input.sk-toggleable__control:checked~label.sk-toggleable__label-arrow:before {content: \"▾\";}#sk-container-id-7 div.sk-estimator input.sk-toggleable__control:checked~label.sk-toggleable__label {background-color: #d4ebff;}#sk-container-id-7 div.sk-label input.sk-toggleable__control:checked~label.sk-toggleable__label {background-color: #d4ebff;}#sk-container-id-7 input.sk-hidden--visually {border: 0;clip: rect(1px 1px 1px 1px);clip: rect(1px, 1px, 1px, 1px);height: 1px;margin: -1px;overflow: hidden;padding: 0;position: absolute;width: 1px;}#sk-container-id-7 div.sk-estimator {font-family: monospace;background-color: #f0f8ff;border: 1px dotted black;border-radius: 0.25em;box-sizing: border-box;margin-bottom: 0.5em;}#sk-container-id-7 div.sk-estimator:hover {background-color: #d4ebff;}#sk-container-id-7 div.sk-parallel-item::after {content: \"\";width: 100%;border-bottom: 1px solid gray;flex-grow: 1;}#sk-container-id-7 div.sk-label:hover label.sk-toggleable__label {background-color: #d4ebff;}#sk-container-id-7 div.sk-serial::before {content: \"\";position: absolute;border-left: 1px solid gray;box-sizing: border-box;top: 0;bottom: 0;left: 50%;z-index: 0;}#sk-container-id-7 div.sk-serial {display: flex;flex-direction: column;align-items: center;background-color: white;padding-right: 0.2em;padding-left: 0.2em;position: relative;}#sk-container-id-7 div.sk-item {position: relative;z-index: 1;}#sk-container-id-7 div.sk-parallel {display: flex;align-items: stretch;justify-content: center;background-color: white;position: relative;}#sk-container-id-7 div.sk-item::before, #sk-container-id-7 div.sk-parallel-item::before {content: \"\";position: absolute;border-left: 1px solid gray;box-sizing: border-box;top: 0;bottom: 0;left: 50%;z-index: -1;}#sk-container-id-7 div.sk-parallel-item {display: flex;flex-direction: column;z-index: 1;position: relative;background-color: white;}#sk-container-id-7 div.sk-parallel-item:first-child::after {align-self: flex-end;width: 50%;}#sk-container-id-7 div.sk-parallel-item:last-child::after {align-self: flex-start;width: 50%;}#sk-container-id-7 div.sk-parallel-item:only-child::after {width: 0;}#sk-container-id-7 div.sk-dashed-wrapped {border: 1px dashed gray;margin: 0 0.4em 0.5em 0.4em;box-sizing: border-box;padding-bottom: 0.4em;background-color: white;}#sk-container-id-7 div.sk-label label {font-family: monospace;font-weight: bold;display: inline-block;line-height: 1.2em;}#sk-container-id-7 div.sk-label-container {text-align: center;}#sk-container-id-7 div.sk-container {/* jupyter's `normalize.less` sets `[hidden] { display: none; }` but bootstrap.min.css set `[hidden] { display: none !important; }` so we also need the `!important` here to be able to override the default hidden behavior on the sphinx rendered scikit-learn.org. See: https://github.com/scikit-learn/scikit-learn/issues/21755 */display: inline-block !important;position: relative;}#sk-container-id-7 div.sk-text-repr-fallback {display: none;}</style><div id=\"sk-container-id-7\" class=\"sk-top-container\"><div class=\"sk-text-repr-fallback\"><pre>DecisionTreeClassifier(ccp_alpha=1.3532581042116992e-05, max_depth=32,\n",
       "                       max_features=6, max_leaf_nodes=402, random_state=1)</pre><b>In a Jupyter environment, please rerun this cell to show the HTML representation or trust the notebook. <br />On GitHub, the HTML representation is unable to render, please try loading this page with nbviewer.org.</b></div><div class=\"sk-container\" hidden><div class=\"sk-item\"><div class=\"sk-estimator sk-toggleable\"><input class=\"sk-toggleable__control sk-hidden--visually\" id=\"sk-estimator-id-9\" type=\"checkbox\" checked><label for=\"sk-estimator-id-9\" class=\"sk-toggleable__label sk-toggleable__label-arrow\">DecisionTreeClassifier</label><div class=\"sk-toggleable__content\"><pre>DecisionTreeClassifier(ccp_alpha=1.3532581042116992e-05, max_depth=32,\n",
       "                       max_features=6, max_leaf_nodes=402, random_state=1)</pre></div></div></div></div></div>"
      ],
      "text/plain": [
       "DecisionTreeClassifier(ccp_alpha=1.3532581042116992e-05, max_depth=32,\n",
       "                       max_features=6, max_leaf_nodes=402, random_state=1)"
      ]
     },
     "execution_count": 64,
     "metadata": {},
     "output_type": "execute_result"
    }
   ],
   "source": [
    "model_combined = DecisionTreeClassifier(ccp_alpha=1.3532581042116992e-05,random_state=1, max_leaf_nodes=402, max_features=6, max_depth=32)\n",
    "model_combined.fit(X_train, y_train)"
   ]
  },
  {
   "cell_type": "code",
   "execution_count": 67,
   "id": "38e9a8f0",
   "metadata": {},
   "outputs": [
    {
     "name": "stdout",
     "output_type": "stream",
     "text": [
      "accuracy: 0.8968680089485459\n",
      "recall: 0.5752762430939227\n",
      "Precision:  0.730701754385965\n"
     ]
    }
   ],
   "source": [
    "# accuracy/recall\n",
    "pred=model_combined.predict(X_test)\n",
    "print('accuracy:', accuracy_score(y_test, pred))\n",
    "print('recall:', recall_score(y_test, pred))\n",
    "print(\"Precision: \", precision_score(y_test, pred))"
   ]
  },
  {
   "cell_type": "code",
   "execution_count": 76,
   "id": "1bbef54a",
   "metadata": {},
   "outputs": [
    {
     "data": {
      "image/png": "[encoded data removed]",
      "text/plain": [
       "<Figure size 800x800 with 1 Axes>"
      ]
     },
     "metadata": {},
     "output_type": "display_data"
    }
   ],
   "source": [
    "# finding decision threshold prob\n",
    "\n",
    "cross_val_ypred = cross_val_predict(model_combined, X_train, y_train, cv = 5, method = 'predict_proba')\n",
    "\n",
    "p, r, thresholds = precision_recall_curve(y_train, cross_val_ypred[:,1])\n",
    "acc = np.ndarray(shape = (len(thresholds),))\n",
    "i = 0\n",
    "for th in thresholds:\n",
    "    y_pred = cross_val_ypred[:,1] > th\n",
    "    y_pred = y_pred.astype(int)\n",
    "    acc[i] = accuracy_score(y_pred, y_train)\n",
    "    i = i + 1\n",
    "def plot_precision_recall_vs_threshold(precisions, recalls, thresholds):\n",
    "    plt.figure(figsize=(8, 8))\n",
    "    plt.title(\"Precision and Recall Scores as a function of the decision threshold\")\n",
    "    plt.plot(thresholds, precisions[:-1], \"b--\", label=\"Precision\")\n",
    "    plt.plot(thresholds, recalls[:-1], \"g-\", label=\"Recall\")\n",
    "    plt.plot(thresholds, acc, \"r-\", label=\"Accuracy\")\n",
    "    plt.plot(thresholds, precisions[:-1], \"o\", color = 'blue')\n",
    "    plt.plot(thresholds, recalls[:-1], \"o\", color = 'green')\n",
    "    plt.plot(thresholds, acc, \"o\", color = 'red')\n",
    "    plt.ylabel(\"Score\")\n",
    "    plt.xlabel(\"Decision Threshold\")\n",
    "    plt.legend(loc='best')\n",
    "    plt.legend()\n",
    "plot_precision_recall_vs_threshold(p, r, thresholds)"
   ]
  },
  {
   "cell_type": "code",
   "execution_count": 78,
   "id": "1c53846b",
   "metadata": {
    "scrolled": true
   },
   "outputs": [
    {
     "data": {
      "text/html": [
       "<div>\n",
       "<style scoped>\n",
       "    .dataframe tbody tr th:only-of-type {\n",
       "        vertical-align: middle;\n",
       "    }\n",
       "\n",
       "    .dataframe tbody tr th {\n",
       "        vertical-align: top;\n",
       "    }\n",
       "\n",
       "    .dataframe thead th {\n",
       "        text-align: right;\n",
       "    }\n",
       "</style>\n",
       "<table border=\"1\" class=\"dataframe\">\n",
       "  <thead>\n",
       "    <tr style=\"text-align: right;\">\n",
       "      <th></th>\n",
       "      <th>thresholds</th>\n",
       "      <th>precision</th>\n",
       "      <th>recall</th>\n",
       "      <th>accuracy</th>\n",
       "    </tr>\n",
       "  </thead>\n",
       "  <tbody>\n",
       "    <tr>\n",
       "      <th>402</th>\n",
       "      <td>0.870288</td>\n",
       "      <td>0.815336</td>\n",
       "      <td>0.263087</td>\n",
       "      <td>0.862932</td>\n",
       "    </tr>\n",
       "    <tr>\n",
       "      <th>401</th>\n",
       "      <td>0.869565</td>\n",
       "      <td>0.814256</td>\n",
       "      <td>0.263424</td>\n",
       "      <td>0.867659</td>\n",
       "    </tr>\n",
       "    <tr>\n",
       "      <th>400</th>\n",
       "      <td>0.866667</td>\n",
       "      <td>0.814123</td>\n",
       "      <td>0.263929</td>\n",
       "      <td>0.867631</td>\n",
       "    </tr>\n",
       "    <tr>\n",
       "      <th>399</th>\n",
       "      <td>0.865169</td>\n",
       "      <td>0.812532</td>\n",
       "      <td>0.268473</td>\n",
       "      <td>0.867687</td>\n",
       "    </tr>\n",
       "    <tr>\n",
       "      <th>398</th>\n",
       "      <td>0.864865</td>\n",
       "      <td>0.811168</td>\n",
       "      <td>0.268978</td>\n",
       "      <td>0.868162</td>\n",
       "    </tr>\n",
       "    <tr>\n",
       "      <th>391</th>\n",
       "      <td>0.843750</td>\n",
       "      <td>0.810976</td>\n",
       "      <td>0.291028</td>\n",
       "      <td>0.869924</td>\n",
       "    </tr>\n",
       "    <tr>\n",
       "      <th>397</th>\n",
       "      <td>0.863636</td>\n",
       "      <td>0.810553</td>\n",
       "      <td>0.271503</td>\n",
       "      <td>0.868134</td>\n",
       "    </tr>\n",
       "    <tr>\n",
       "      <th>396</th>\n",
       "      <td>0.860759</td>\n",
       "      <td>0.810259</td>\n",
       "      <td>0.273860</td>\n",
       "      <td>0.868414</td>\n",
       "    </tr>\n",
       "    <tr>\n",
       "      <th>394</th>\n",
       "      <td>0.851852</td>\n",
       "      <td>0.809942</td>\n",
       "      <td>0.279751</td>\n",
       "      <td>0.868833</td>\n",
       "    </tr>\n",
       "    <tr>\n",
       "      <th>392</th>\n",
       "      <td>0.846154</td>\n",
       "      <td>0.809798</td>\n",
       "      <td>0.283791</td>\n",
       "      <td>0.869672</td>\n",
       "    </tr>\n",
       "    <tr>\n",
       "      <th>390</th>\n",
       "      <td>0.835920</td>\n",
       "      <td>0.809139</td>\n",
       "      <td>0.336812</td>\n",
       "      <td>0.870931</td>\n",
       "    </tr>\n",
       "    <tr>\n",
       "      <th>393</th>\n",
       "      <td>0.847059</td>\n",
       "      <td>0.808973</td>\n",
       "      <td>0.282276</td>\n",
       "      <td>0.869421</td>\n",
       "    </tr>\n",
       "    <tr>\n",
       "      <th>395</th>\n",
       "      <td>0.857143</td>\n",
       "      <td>0.808889</td>\n",
       "      <td>0.275711</td>\n",
       "      <td>0.868693</td>\n",
       "    </tr>\n",
       "    <tr>\n",
       "      <th>405</th>\n",
       "      <td>0.882353</td>\n",
       "      <td>0.808779</td>\n",
       "      <td>0.226393</td>\n",
       "      <td>0.862513</td>\n",
       "    </tr>\n",
       "    <tr>\n",
       "      <th>404</th>\n",
       "      <td>0.877193</td>\n",
       "      <td>0.808561</td>\n",
       "      <td>0.228918</td>\n",
       "      <td>0.862569</td>\n",
       "    </tr>\n",
       "    <tr>\n",
       "      <th>406</th>\n",
       "      <td>0.884058</td>\n",
       "      <td>0.808549</td>\n",
       "      <td>0.226056</td>\n",
       "      <td>0.860807</td>\n",
       "    </tr>\n",
       "    <tr>\n",
       "      <th>403</th>\n",
       "      <td>0.875000</td>\n",
       "      <td>0.805882</td>\n",
       "      <td>0.230601</td>\n",
       "      <td>0.862876</td>\n",
       "    </tr>\n",
       "    <tr>\n",
       "      <th>410</th>\n",
       "      <td>0.892655</td>\n",
       "      <td>0.804186</td>\n",
       "      <td>0.200471</td>\n",
       "      <td>0.858206</td>\n",
       "    </tr>\n",
       "    <tr>\n",
       "      <th>409</th>\n",
       "      <td>0.891304</td>\n",
       "      <td>0.804131</td>\n",
       "      <td>0.203164</td>\n",
       "      <td>0.859045</td>\n",
       "    </tr>\n",
       "    <tr>\n",
       "      <th>388</th>\n",
       "      <td>0.831579</td>\n",
       "      <td>0.803839</td>\n",
       "      <td>0.352466</td>\n",
       "      <td>0.876916</td>\n",
       "    </tr>\n",
       "  </tbody>\n",
       "</table>\n",
       "</div>"
      ],
      "text/plain": [
       "     thresholds  precision    recall  accuracy\n",
       "402    0.870288   0.815336  0.263087  0.862932\n",
       "401    0.869565   0.814256  0.263424  0.867659\n",
       "400    0.866667   0.814123  0.263929  0.867631\n",
       "399    0.865169   0.812532  0.268473  0.867687\n",
       "398    0.864865   0.811168  0.268978  0.868162\n",
       "391    0.843750   0.810976  0.291028  0.869924\n",
       "397    0.863636   0.810553  0.271503  0.868134\n",
       "396    0.860759   0.810259  0.273860  0.868414\n",
       "394    0.851852   0.809942  0.279751  0.868833\n",
       "392    0.846154   0.809798  0.283791  0.869672\n",
       "390    0.835920   0.809139  0.336812  0.870931\n",
       "393    0.847059   0.808973  0.282276  0.869421\n",
       "395    0.857143   0.808889  0.275711  0.868693\n",
       "405    0.882353   0.808779  0.226393  0.862513\n",
       "404    0.877193   0.808561  0.228918  0.862569\n",
       "406    0.884058   0.808549  0.226056  0.860807\n",
       "403    0.875000   0.805882  0.230601  0.862876\n",
       "410    0.892655   0.804186  0.200471  0.858206\n",
       "409    0.891304   0.804131  0.203164  0.859045\n",
       "388    0.831579   0.803839  0.352466  0.876916"
      ]
     },
     "execution_count": 78,
     "metadata": {},
     "output_type": "execute_result"
    }
   ],
   "source": [
    "all_alpha_thresholds = pd.DataFrame({'thresholds': thresholds, \n",
    "                           'precision': p[:-1],\n",
    "                           'recall': r[:-1],\n",
    "                           'accuracy': acc})\n",
    "all_alpha_thresholds.sort_values('precision', ascending=False).head(20)"
   ]
  },
  {
   "cell_type": "code",
   "execution_count": 116,
   "id": "d20b81da",
   "metadata": {},
   "outputs": [
    {
     "name": "stdout",
     "output_type": "stream",
     "text": [
      "Test Accuracy:  0.866331096196868\n",
      "Test ROC-AUC:  0.8585481050874155\n",
      "Test Precision:  0.8302872062663186\n",
      "Test Recall:  0.21961325966850828\n"
     ]
    }
   ],
   "source": [
    "desired_threshold = 0.870288\n",
    "y_pred_prob = model_combined.predict_proba(X_test)[:,1] \n",
    "\n",
    "# Classifying observations in the positive class (y = 1) if the predicted probability is greater\n",
    "# than the desired decision threshold probability\n",
    "y_pred = y_pred_prob > desired_threshold\n",
    "y_pred = y_pred.astype(int)\n",
    "\n",
    "#Computing the accuracy\n",
    "print(\"Test Accuracy: \",accuracy_score(y_pred, y_test))  \n",
    "\n",
    "#Computing the ROC-AUC\n",
    "fpr, tpr, auc_thresholds = roc_curve(y_test, y_pred_prob)\n",
    "print(\"Test ROC-AUC: \",auc(fpr, tpr))# AUC of ROC\n",
    "\n",
    "#Computing the precision and recall\n",
    "print(\"Test Precision: \", precision_score(y_test, y_pred))\n",
    "print(\"Test Recall: \", recall_score(y_test, y_pred))"
   ]
  },
  {
   "cell_type": "markdown",
   "id": "1caef13c",
   "metadata": {},
   "source": [
    "None of these combinations are as good as previous ones."
   ]
  },
  {
   "cell_type": "markdown",
   "id": "fe5acec9",
   "metadata": {},
   "source": [
    "# Pruned model combined with hyperparameters optimized separately"
   ]
  },
  {
   "cell_type": "code",
   "execution_count": 120,
   "id": "5e436c81",
   "metadata": {},
   "outputs": [
    {
     "data": {
      "text/html": [
       "<style>#sk-container-id-16 {color: black;background-color: white;}#sk-container-id-16 pre{padding: 0;}#sk-container-id-16 div.sk-toggleable {background-color: white;}#sk-container-id-16 label.sk-toggleable__label {cursor: pointer;display: block;width: 100%;margin-bottom: 0;padding: 0.3em;box-sizing: border-box;text-align: center;}#sk-container-id-16 label.sk-toggleable__label-arrow:before {content: \"▸\";float: left;margin-right: 0.25em;color: #696969;}#sk-container-id-16 label.sk-toggleable__label-arrow:hover:before {color: black;}#sk-container-id-16 div.sk-estimator:hover label.sk-toggleable__label-arrow:before {color: black;}#sk-container-id-16 div.sk-toggleable__content {max-height: 0;max-width: 0;overflow: hidden;text-align: left;background-color: #f0f8ff;}#sk-container-id-16 div.sk-toggleable__content pre {margin: 0.2em;color: black;border-radius: 0.25em;background-color: #f0f8ff;}#sk-container-id-16 input.sk-toggleable__control:checked~div.sk-toggleable__content {max-height: 200px;max-width: 100%;overflow: auto;}#sk-container-id-16 input.sk-toggleable__control:checked~label.sk-toggleable__label-arrow:before {content: \"▾\";}#sk-container-id-16 div.sk-estimator input.sk-toggleable__control:checked~label.sk-toggleable__label {background-color: #d4ebff;}#sk-container-id-16 div.sk-label input.sk-toggleable__control:checked~label.sk-toggleable__label {background-color: #d4ebff;}#sk-container-id-16 input.sk-hidden--visually {border: 0;clip: rect(1px 1px 1px 1px);clip: rect(1px, 1px, 1px, 1px);height: 1px;margin: -1px;overflow: hidden;padding: 0;position: absolute;width: 1px;}#sk-container-id-16 div.sk-estimator {font-family: monospace;background-color: #f0f8ff;border: 1px dotted black;border-radius: 0.25em;box-sizing: border-box;margin-bottom: 0.5em;}#sk-container-id-16 div.sk-estimator:hover {background-color: #d4ebff;}#sk-container-id-16 div.sk-parallel-item::after {content: \"\";width: 100%;border-bottom: 1px solid gray;flex-grow: 1;}#sk-container-id-16 div.sk-label:hover label.sk-toggleable__label {background-color: #d4ebff;}#sk-container-id-16 div.sk-serial::before {content: \"\";position: absolute;border-left: 1px solid gray;box-sizing: border-box;top: 0;bottom: 0;left: 50%;z-index: 0;}#sk-container-id-16 div.sk-serial {display: flex;flex-direction: column;align-items: center;background-color: white;padding-right: 0.2em;padding-left: 0.2em;position: relative;}#sk-container-id-16 div.sk-item {position: relative;z-index: 1;}#sk-container-id-16 div.sk-parallel {display: flex;align-items: stretch;justify-content: center;background-color: white;position: relative;}#sk-container-id-16 div.sk-item::before, #sk-container-id-16 div.sk-parallel-item::before {content: \"\";position: absolute;border-left: 1px solid gray;box-sizing: border-box;top: 0;bottom: 0;left: 50%;z-index: -1;}#sk-container-id-16 div.sk-parallel-item {display: flex;flex-direction: column;z-index: 1;position: relative;background-color: white;}#sk-container-id-16 div.sk-parallel-item:first-child::after {align-self: flex-end;width: 50%;}#sk-container-id-16 div.sk-parallel-item:last-child::after {align-self: flex-start;width: 50%;}#sk-container-id-16 div.sk-parallel-item:only-child::after {width: 0;}#sk-container-id-16 div.sk-dashed-wrapped {border: 1px dashed gray;margin: 0 0.4em 0.5em 0.4em;box-sizing: border-box;padding-bottom: 0.4em;background-color: white;}#sk-container-id-16 div.sk-label label {font-family: monospace;font-weight: bold;display: inline-block;line-height: 1.2em;}#sk-container-id-16 div.sk-label-container {text-align: center;}#sk-container-id-16 div.sk-container {/* jupyter's `normalize.less` sets `[hidden] { display: none; }` but bootstrap.min.css set `[hidden] { display: none !important; }` so we also need the `!important` here to be able to override the default hidden behavior on the sphinx rendered scikit-learn.org. See: https://github.com/scikit-learn/scikit-learn/issues/21755 */display: inline-block !important;position: relative;}#sk-container-id-16 div.sk-text-repr-fallback {display: none;}</style><div id=\"sk-container-id-16\" class=\"sk-top-container\"><div class=\"sk-text-repr-fallback\"><pre>DecisionTreeClassifier(ccp_alpha=0.0013034274896670112, max_depth=2,\n",
       "                       max_features=28, max_leaf_nodes=2000, random_state=1)</pre><b>In a Jupyter environment, please rerun this cell to show the HTML representation or trust the notebook. <br />On GitHub, the HTML representation is unable to render, please try loading this page with nbviewer.org.</b></div><div class=\"sk-container\" hidden><div class=\"sk-item\"><div class=\"sk-estimator sk-toggleable\"><input class=\"sk-toggleable__control sk-hidden--visually\" id=\"sk-estimator-id-20\" type=\"checkbox\" checked><label for=\"sk-estimator-id-20\" class=\"sk-toggleable__label sk-toggleable__label-arrow\">DecisionTreeClassifier</label><div class=\"sk-toggleable__content\"><pre>DecisionTreeClassifier(ccp_alpha=0.0013034274896670112, max_depth=2,\n",
       "                       max_features=28, max_leaf_nodes=2000, random_state=1)</pre></div></div></div></div></div>"
      ],
      "text/plain": [
       "DecisionTreeClassifier(ccp_alpha=0.0013034274896670112, max_depth=2,\n",
       "                       max_features=28, max_leaf_nodes=2000, random_state=1)"
      ]
     },
     "execution_count": 120,
     "metadata": {},
     "output_type": "execute_result"
    }
   ],
   "source": [
    "model_combined_2 = DecisionTreeClassifier(random_state = 1, max_depth= 2, max_features = 28, max_leaf_nodes = 2000, ccp_alpha=optimal_alpha)\n",
    "model_combined_2.fit(X_train, y_train)"
   ]
  },
  {
   "cell_type": "code",
   "execution_count": 121,
   "id": "6f4c748a",
   "metadata": {},
   "outputs": [
    {
     "name": "stdout",
     "output_type": "stream",
     "text": [
      "accuracy: 0.9002237136465324\n",
      "recall: 0.6429558011049724\n",
      "Precision:  0.7128637059724349\n"
     ]
    }
   ],
   "source": [
    "# accuracy/recall\n",
    "pred=model_combined_2.predict(X_test)\n",
    "print('accuracy:', accuracy_score(y_test, pred))\n",
    "print('recall:', recall_score(y_test, pred))\n",
    "print(\"Precision: \", precision_score(y_test, pred))"
   ]
  },
  {
   "cell_type": "code",
   "execution_count": 122,
   "id": "c8ed4c5c",
   "metadata": {},
   "outputs": [
    {
     "data": {
      "image/png": "[encoded data removed]",
      "text/plain": [
       "<Figure size 800x800 with 1 Axes>"
      ]
     },
     "metadata": {},
     "output_type": "display_data"
    }
   ],
   "source": [
    "# finding decision threshold prob\n",
    "\n",
    "cross_val_ypred = cross_val_predict(model_combined_2, X_train, y_train, cv = 5, method = 'predict_proba')\n",
    "\n",
    "p, r, thresholds = precision_recall_curve(y_train, cross_val_ypred[:,1])\n",
    "acc = np.ndarray(shape = (len(thresholds),))\n",
    "i = 0\n",
    "for th in thresholds:\n",
    "    y_pred = cross_val_ypred[:,1] > th\n",
    "    y_pred = y_pred.astype(int)\n",
    "    acc[i] = accuracy_score(y_pred, y_train)\n",
    "    i = i + 1\n",
    "def plot_precision_recall_vs_threshold(precisions, recalls, thresholds):\n",
    "    plt.figure(figsize=(8, 8))\n",
    "    plt.title(\"Precision and Recall Scores as a function of the decision threshold\")\n",
    "    plt.plot(thresholds, precisions[:-1], \"b--\", label=\"Precision\")\n",
    "    plt.plot(thresholds, recalls[:-1], \"g-\", label=\"Recall\")\n",
    "    plt.plot(thresholds, acc, \"r-\", label=\"Accuracy\")\n",
    "    plt.plot(thresholds, precisions[:-1], \"o\", color = 'blue')\n",
    "    plt.plot(thresholds, recalls[:-1], \"o\", color = 'green')\n",
    "    plt.plot(thresholds, acc, \"o\", color = 'red')\n",
    "    plt.ylabel(\"Score\")\n",
    "    plt.xlabel(\"Decision Threshold\")\n",
    "    plt.legend(loc='best')\n",
    "    plt.legend()\n",
    "plot_precision_recall_vs_threshold(p, r, thresholds)"
   ]
  },
  {
   "cell_type": "code",
   "execution_count": 123,
   "id": "eb03951d",
   "metadata": {},
   "outputs": [
    {
     "data": {
      "text/html": [
       "<div>\n",
       "<style scoped>\n",
       "    .dataframe tbody tr th:only-of-type {\n",
       "        vertical-align: middle;\n",
       "    }\n",
       "\n",
       "    .dataframe tbody tr th {\n",
       "        vertical-align: top;\n",
       "    }\n",
       "\n",
       "    .dataframe thead th {\n",
       "        text-align: right;\n",
       "    }\n",
       "</style>\n",
       "<table border=\"1\" class=\"dataframe\">\n",
       "  <thead>\n",
       "    <tr style=\"text-align: right;\">\n",
       "      <th></th>\n",
       "      <th>thresholds</th>\n",
       "      <th>precision</th>\n",
       "      <th>recall</th>\n",
       "      <th>accuracy</th>\n",
       "    </tr>\n",
       "  </thead>\n",
       "  <tbody>\n",
       "    <tr>\n",
       "      <th>19</th>\n",
       "      <td>0.848161</td>\n",
       "      <td>0.863406</td>\n",
       "      <td>0.086181</td>\n",
       "      <td>0.833846</td>\n",
       "    </tr>\n",
       "    <tr>\n",
       "      <th>18</th>\n",
       "      <td>0.841608</td>\n",
       "      <td>0.844551</td>\n",
       "      <td>0.177411</td>\n",
       "      <td>0.845900</td>\n",
       "    </tr>\n",
       "    <tr>\n",
       "      <th>17</th>\n",
       "      <td>0.839734</td>\n",
       "      <td>0.841186</td>\n",
       "      <td>0.267463</td>\n",
       "      <td>0.857898</td>\n",
       "    </tr>\n",
       "    <tr>\n",
       "      <th>15</th>\n",
       "      <td>0.837263</td>\n",
       "      <td>0.840663</td>\n",
       "      <td>0.444033</td>\n",
       "      <td>0.881950</td>\n",
       "    </tr>\n",
       "    <tr>\n",
       "      <th>16</th>\n",
       "      <td>0.839608</td>\n",
       "      <td>0.839652</td>\n",
       "      <td>0.357852</td>\n",
       "      <td>0.869896</td>\n",
       "    </tr>\n",
       "    <tr>\n",
       "      <th>14</th>\n",
       "      <td>0.549889</td>\n",
       "      <td>0.802895</td>\n",
       "      <td>0.485440</td>\n",
       "      <td>0.893640</td>\n",
       "    </tr>\n",
       "    <tr>\n",
       "      <th>13</th>\n",
       "      <td>0.526638</td>\n",
       "      <td>0.778086</td>\n",
       "      <td>0.518768</td>\n",
       "      <td>0.894703</td>\n",
       "    </tr>\n",
       "    <tr>\n",
       "      <th>12</th>\n",
       "      <td>0.525498</td>\n",
       "      <td>0.757011</td>\n",
       "      <td>0.554284</td>\n",
       "      <td>0.895458</td>\n",
       "    </tr>\n",
       "    <tr>\n",
       "      <th>11</th>\n",
       "      <td>0.524652</td>\n",
       "      <td>0.738155</td>\n",
       "      <td>0.592661</td>\n",
       "      <td>0.896381</td>\n",
       "    </tr>\n",
       "    <tr>\n",
       "      <th>10</th>\n",
       "      <td>0.492329</td>\n",
       "      <td>0.706025</td>\n",
       "      <td>0.637098</td>\n",
       "      <td>0.897388</td>\n",
       "    </tr>\n",
       "    <tr>\n",
       "      <th>9</th>\n",
       "      <td>0.306516</td>\n",
       "      <td>0.678093</td>\n",
       "      <td>0.655950</td>\n",
       "      <td>0.895626</td>\n",
       "    </tr>\n",
       "    <tr>\n",
       "      <th>8</th>\n",
       "      <td>0.301672</td>\n",
       "      <td>0.654403</td>\n",
       "      <td>0.676654</td>\n",
       "      <td>0.891095</td>\n",
       "    </tr>\n",
       "    <tr>\n",
       "      <th>7</th>\n",
       "      <td>0.301316</td>\n",
       "      <td>0.635065</td>\n",
       "      <td>0.695674</td>\n",
       "      <td>0.886900</td>\n",
       "    </tr>\n",
       "    <tr>\n",
       "      <th>6</th>\n",
       "      <td>0.300326</td>\n",
       "      <td>0.618693</td>\n",
       "      <td>0.714190</td>\n",
       "      <td>0.883013</td>\n",
       "    </tr>\n",
       "    <tr>\n",
       "      <th>5</th>\n",
       "      <td>0.244755</td>\n",
       "      <td>0.608333</td>\n",
       "      <td>0.724962</td>\n",
       "      <td>0.879377</td>\n",
       "    </tr>\n",
       "    <tr>\n",
       "      <th>4</th>\n",
       "      <td>0.057776</td>\n",
       "      <td>0.360807</td>\n",
       "      <td>0.776637</td>\n",
       "      <td>0.876748</td>\n",
       "    </tr>\n",
       "    <tr>\n",
       "      <th>3</th>\n",
       "      <td>0.056924</td>\n",
       "      <td>0.267229</td>\n",
       "      <td>0.831510</td>\n",
       "      <td>0.734282</td>\n",
       "    </tr>\n",
       "    <tr>\n",
       "      <th>2</th>\n",
       "      <td>0.056924</td>\n",
       "      <td>0.217515</td>\n",
       "      <td>0.886719</td>\n",
       "      <td>0.593159</td>\n",
       "    </tr>\n",
       "    <tr>\n",
       "      <th>1</th>\n",
       "      <td>0.056685</td>\n",
       "      <td>0.186897</td>\n",
       "      <td>0.943107</td>\n",
       "      <td>0.451169</td>\n",
       "    </tr>\n",
       "    <tr>\n",
       "      <th>0</th>\n",
       "      <td>0.056596</td>\n",
       "      <td>0.166154</td>\n",
       "      <td>1.000000</td>\n",
       "      <td>0.308815</td>\n",
       "    </tr>\n",
       "  </tbody>\n",
       "</table>\n",
       "</div>"
      ],
      "text/plain": [
       "    thresholds  precision    recall  accuracy\n",
       "19    0.848161   0.863406  0.086181  0.833846\n",
       "18    0.841608   0.844551  0.177411  0.845900\n",
       "17    0.839734   0.841186  0.267463  0.857898\n",
       "15    0.837263   0.840663  0.444033  0.881950\n",
       "16    0.839608   0.839652  0.357852  0.869896\n",
       "14    0.549889   0.802895  0.485440  0.893640\n",
       "13    0.526638   0.778086  0.518768  0.894703\n",
       "12    0.525498   0.757011  0.554284  0.895458\n",
       "11    0.524652   0.738155  0.592661  0.896381\n",
       "10    0.492329   0.706025  0.637098  0.897388\n",
       "9     0.306516   0.678093  0.655950  0.895626\n",
       "8     0.301672   0.654403  0.676654  0.891095\n",
       "7     0.301316   0.635065  0.695674  0.886900\n",
       "6     0.300326   0.618693  0.714190  0.883013\n",
       "5     0.244755   0.608333  0.724962  0.879377\n",
       "4     0.057776   0.360807  0.776637  0.876748\n",
       "3     0.056924   0.267229  0.831510  0.734282\n",
       "2     0.056924   0.217515  0.886719  0.593159\n",
       "1     0.056685   0.186897  0.943107  0.451169\n",
       "0     0.056596   0.166154  1.000000  0.308815"
      ]
     },
     "execution_count": 123,
     "metadata": {},
     "output_type": "execute_result"
    }
   ],
   "source": [
    "all_alpha_thresholds = pd.DataFrame({'thresholds': thresholds, \n",
    "                           'precision': p[:-1],\n",
    "                           'recall': r[:-1],\n",
    "                           'accuracy': acc})\n",
    "all_alpha_thresholds.sort_values('precision', ascending=False)"
   ]
  },
  {
   "cell_type": "code",
   "execution_count": 124,
   "id": "dfa69c55",
   "metadata": {},
   "outputs": [
    {
     "name": "stdout",
     "output_type": "stream",
     "text": [
      "Test Accuracy:  0.8380313199105145\n",
      "Test ROC-AUC:  0.8402539135667363\n",
      "Test Precision:  0.0\n",
      "Test Recall:  0.0\n"
     ]
    },
    {
     "name": "stderr",
     "output_type": "stream",
     "text": [
      "C:\\Users\\csky2\\anaconda3\\lib\\site-packages\\sklearn\\metrics\\_classification.py:1344: UndefinedMetricWarning: Precision is ill-defined and being set to 0.0 due to no predicted samples. Use `zero_division` parameter to control this behavior.\n",
      "  _warn_prf(average, modifier, msg_start, len(result))\n"
     ]
    }
   ],
   "source": [
    "desired_threshold = 0.848161\n",
    "y_pred_prob = model_combined_2.predict_proba(X_test)[:,1] \n",
    "\n",
    "# Classifying observations in the positive class (y = 1) if the predicted probability is greater\n",
    "# than the desired decision threshold probability\n",
    "y_pred = y_pred_prob > desired_threshold\n",
    "y_pred = y_pred.astype(int)\n",
    "\n",
    "#Computing the accuracy\n",
    "print(\"Test Accuracy: \",accuracy_score(y_pred, y_test))  \n",
    "\n",
    "#Computing the ROC-AUC\n",
    "fpr, tpr, auc_thresholds = roc_curve(y_test, y_pred_prob)\n",
    "print(\"Test ROC-AUC: \",auc(fpr, tpr))# AUC of ROC\n",
    "\n",
    "#Computing the precision and recall\n",
    "print(\"Test Precision: \", precision_score(y_test, y_pred))\n",
    "print(\"Test Recall: \", recall_score(y_test, y_pred))"
   ]
  },
  {
   "cell_type": "markdown",
   "id": "75ee8809",
   "metadata": {},
   "source": [
    "These are also worse. The best model is just the tuned hyperparameter one"
   ]
  }
 ],
 "metadata": {
  "kernelspec": {
   "display_name": "Python 3 (ipykernel)",
   "language": "python",
   "name": "python3"
  },
  "language_info": {
   "codemirror_mode": {
    "name": "ipython",
    "version": 3
   },
   "file_extension": ".py",
   "mimetype": "text/x-python",
   "name": "python",
   "nbconvert_exporter": "python",
   "pygments_lexer": "ipython3",
   "version": "3.9.16"
  }
 },
 "nbformat": 4,
 "nbformat_minor": 5
}
