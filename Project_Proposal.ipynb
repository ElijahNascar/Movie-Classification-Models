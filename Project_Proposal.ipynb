{
 "cells": [
  {
   "cell_type": "raw",
   "id": "33dd6c4c",
   "metadata": {},
   "source": [
    "---\n",
    "title: \"Project proposal\"\n",
    "format: \n",
    "  html:\n",
    "    toc: true\n",
    "    toc-title: Contents\n",
    "    code-fold: show\n",
    "    self-contained: true\n",
    "jupyter: python3\n",
    "---"
   ]
  },
  {
   "cell_type": "markdown",
   "id": "0116f49b",
   "metadata": {},
   "source": [
    "## Instructions {-}\n",
    "\n",
    "1. Please answer the following questions as part of your project proposal.\n",
    "\n",
    "2. Write your answers in the *Markdown* cells of the Jupyter notebook. You don't need to write any code, but if you want to, you may use the *Code* cells.\n",
    "\n",
    "3. Use [Quarto](https://quarto.org/docs/output-formats/html-basics.html) to print the *.ipynb* file as HTML. You will need to open the command prompt, navigate to the directory containing the file, and use the command: `quarto render filename.ipynb --to html`. Submit the HTML file.\n",
    "\n",
    "4. The project proposal is worth 8 points, and is due on **18th April 2023 at 11:59 pm**. \n",
    "\n",
    "5. You must make one submission as a group, and not individually.\n",
    "\n",
    "6. Maintaining a GitHub repository is optional, though encouraged for the project.\n",
    "\n",
    "7. Share the link of your project's GitHub repository [here](https://docs.google.com/spreadsheets/d/1khao3unpj_vsx4kOSg_Zzo77YK1UWL2w73Oa0aAirOo/edit#gid=0) (optional)."
   ]
  },
  {
   "cell_type": "markdown",
   "id": "fe7ea9bb",
   "metadata": {},
   "source": [
    "# 1) Team name\n",
    "Mention your team name.\n",
    "\n",
    "*(0 points)*"
   ]
  },
  {
   "attachments": {},
   "cell_type": "markdown",
   "id": "5ffe4735",
   "metadata": {},
   "source": [
    "**Krish's Fanclub**"
   ]
  },
  {
   "cell_type": "markdown",
   "id": "16fccc9b",
   "metadata": {},
   "source": [
    "# 2) Member names\n",
    "Mention the names of your team members.\n",
    "\n",
    "*(0 points)*"
   ]
  },
  {
   "attachments": {},
   "cell_type": "markdown",
   "id": "0f71d172",
   "metadata": {},
   "source": [
    "**Tess Wagner, Jack McNally, Samuel Sword, Elijah Nacar**"
   ]
  },
  {
   "cell_type": "markdown",
   "id": "220a6528",
   "metadata": {},
   "source": [
    "# 3) Link to the GitHub repository (optional)\n",
    "Share the link of the team's project repository on GitHub.\n",
    "\n",
    "Also, put the link of your project's GitHub repository [here](https://docs.google.com/spreadsheets/d/1khao3unpj_vsx4kOSg_Zzo77YK1UWL2w73Oa0aAirOo/edit#gid=0).\n",
    "\n",
    "We believe there is no harm in having other teams view your GitHub repository. However, if you don't want anyone to see your team's work, you may make the repository *Private* and add your instructor and graduate TA as *Colloborators* in it.\n",
    "\n",
    "*(0 points)*"
   ]
  },
  {
   "attachments": {},
   "cell_type": "markdown",
   "id": "0a53dae8",
   "metadata": {},
   "source": [
    "*https://github.com/ElijahNascar/stat303project*"
   ]
  },
  {
   "cell_type": "markdown",
   "id": "16c1a490",
   "metadata": {},
   "source": [
    "# 4) Topic\n",
    "Mention the topic of your course project.\n",
    "\n",
    "*(0 points)*"
   ]
  },
  {
   "attachments": {},
   "cell_type": "markdown",
   "id": "e6585716",
   "metadata": {},
   "source": [
    "**Rotten Tomatoes Movies and Reviews**"
   ]
  },
  {
   "attachments": {},
   "cell_type": "markdown",
   "id": "9403cdfb",
   "metadata": {},
   "source": [
    "# 5) Problem statement\n",
    "\n",
    "We think that movie studios would want to know in advance whether their movie would get a good rating or not. Since Rotten Tomatoes is one of the most well known sites for audiences to review and rate movies, we are going to build a model to predict whether a movie has a Rotten Tomatoes rating of “fresh” or “rotten.” Because movies are not rated “fresh” or “rotten” until after audience members have seen the movies, it would be useful for movie companies to be able to estimate their movies’ ratings before they are released to the public. The ratings of “fresh” and “rotten” are binary, so this is a classification problem. To optimize our model, we will focus on minimizing the false positives. It would be better to predict a fresh movie as rotten rather than a rotten movie as fresh because companies would not want to mess up the trustworthiness of fresh ratings. By optimizing the accuracy, we are reducing the risk that companies lose customers due to bad movies getting high ratings.\n",
    "\n",
    "*(4 points)*\n"
   ]
  },
  {
   "cell_type": "markdown",
   "id": "57701e9e",
   "metadata": {},
   "source": [
    "## 5d) Naive model accuracy\n",
    "What is the accuracy of the naive model (Standard deviation of response in case of continuous response / proportion of the majority class in case of classification model)"
   ]
  },
  {
   "attachments": {},
   "cell_type": "markdown",
   "id": "1aa70f1d",
   "metadata": {},
   "source": [
    "**A naive model considering only the numerical variables in the dataset has a test accuracy of ~74.213%**"
   ]
  },
  {
   "cell_type": "markdown",
   "id": "3eb2d4f2",
   "metadata": {},
   "source": [
    "# 6) Data\n",
    "\n",
    "## 6a) Source\n",
    "What data sources will you use, and how will the data help solve the problem? Explain.\n",
    "If the data is open source, share the link of the data.\n",
    "\n",
    "*(0.5 point)*"
   ]
  },
  {
   "attachments": {},
   "cell_type": "markdown",
   "id": "b0cca329",
   "metadata": {},
   "source": [
    "The data source we will use is a Kaggle data set containing more than 1.4 million reviews on 140 thousand movies. The data will help Krish's Fan Club predict whether a movie is \"rotten\" or \"fresh\" based off of critics' ratings, who the critics are, where the review was published, the sentiment of the review, and when the review was published. These predictors will help us form and validate a model to address our problem statement. The data set can be found here: https://www.kaggle.com/datasets/andrezaza/clapper-massive-rotten-tomatoes-movies-and-reviews?select=rotten_tomatoes_movie_reviews.csv\n",
    "\n",
    "The other dataset being used has extensive information on the movies themselves. This dataset will provide additional information to improve our model and prediction accuracy. The data sets can be found here: https://www.kaggle.com/datasets/andrezaza/clapper-massive-rotten-tomatoes-movies-and-reviews?select=rotten_tomatoes_movie_reviews.csv"
   ]
  },
  {
   "cell_type": "markdown",
   "id": "87bee818",
   "metadata": {},
   "source": [
    "## 6b) Response & predictors\n",
    "What is the response, and mention some of the predictors.\n",
    "\n",
    "*(0.5 point)*"
   ]
  },
  {
   "attachments": {},
   "cell_type": "markdown",
   "id": "9cec378d",
   "metadata": {},
   "source": [
    "As mentioned, the response will be whether a movie is deemed to be \"rotten\" or \"fresh\" as classified by Rotten Tomatoes, a popular movie and tv show reviewing platform. Movies are deemed \"rotten\" if they receive an acumulative score of being less than 60%, and deemed \"fresh\" if they receive a score being higher than 60%. The predictors used to create our models will be critics' ratings, who the critics are, where the review was published, the sentiment of the review, and when the review was published. In the data set providing information about the movie itself, the predictors utilized will be the movie's title, audienceScore, rating, releaseDateTheaters, releaseDateStreaming, runtimeMinutes, genre, director, and boxOffice revenue."
   ]
  },
  {
   "cell_type": "markdown",
   "id": "8eb561c3",
   "metadata": {},
   "source": [
    "## 6c) Size\n",
    "What is the number of continuous predictors, categorical predictors, and observations in your dataset(s). If you are using multiple datasets, please provide the information for each dataset. When counting predictors, count only those that have sufficient non-missing values, and will be useful.\n",
    "\n",
    "*(1 point)*"
   ]
  },
  {
   "attachments": {},
   "cell_type": "markdown",
   "id": "604a15be",
   "metadata": {},
   "source": [
    "For the data set containing movie reviews, there are 69,263 observations of movie reviews. In this data set there are four continous predictors and four categorical predictors. For the data set on the movies themselves, there are 142,052 observations of movies. This data set includes six continous variables and nine categorical variables.  "
   ]
  },
  {
   "attachments": {},
   "cell_type": "markdown",
   "id": "0450286f",
   "metadata": {},
   "source": [
    "# 7) Existing solutions\n",
    "Are there existing solutions of your problem? Almost all Kaggle datasets have exisiting solutions. If yes, then how do you plan to build up on those solutions? **What is the highest model accuracy / performance achieved in the existing solutions?**\n",
    "\n",
    "*(1 point)*"
   ]
  },
  {
   "attachments": {},
   "cell_type": "markdown",
   "id": "4a4d4ae8",
   "metadata": {},
   "source": [
    "There are no existing solutions to our problem. The dataset is very recent, having been posted on Kaggle 5 days ago."
   ]
  },
  {
   "cell_type": "markdown",
   "id": "cb8a845f",
   "metadata": {},
   "source": [
    "# 8) Stakeholders"
   ]
  },
  {
   "attachments": {},
   "cell_type": "markdown",
   "id": "d39c782c",
   "metadata": {},
   "source": [
    "Our stakeholders are audience members and movie studios. Our project would benefit audience members because it would help them to determine which movies they should watch and which movies they would be more likely to enjoy. Movie companies could use our model to determine whether a movie is likely to be fresh or a flop before it is released. They could use this information to decide how much money to spend on promoting the movie and which movies are better investments.\n",
    "\n",
    "*(1 point)*"
   ]
  },
  {
   "cell_type": "markdown",
   "id": "0c874b4f",
   "metadata": {},
   "source": [
    "# 9) Work-split\n",
    "*(This question is answered for you)*\n",
    "\n",
    "How do you plan to split the project work amongst individual team members?\n",
    "\n",
    "We will learn to develop and tune the following models in the STAT303 sequence:\n",
    "\n",
    "1. MARS\n",
    "\n",
    "2. Decision trees with cost-complexity pruning\n",
    "\n",
    "3. Bagging (Bagging MARS / decision trees)\n",
    "\n",
    "4. Random Forests\n",
    "\n",
    "5. AdaBoost\n",
    "\n",
    "6. Gradient boosting\n",
    "\n",
    "7. XGBoost\n",
    "\n",
    "8. Lasso / Ridge / Stepwise selection \n",
    "\n",
    "Each team member is required to develop and tune at least one of the above models. In the end, the team will combine all the developed models to create a model more accurate than each of the individual models.\n",
    "\n",
    "*(0 points)*"
   ]
  }
 ],
 "metadata": {
  "kernelspec": {
   "display_name": "Python 3",
   "language": "python",
   "name": "python3"
  },
  "language_info": {
   "codemirror_mode": {
    "name": "ipython",
    "version": 3
   },
   "file_extension": ".py",
   "mimetype": "text/x-python",
   "name": "python",
   "nbconvert_exporter": "python",
   "pygments_lexer": "ipython3",
   "version": "3.8.8"
  }
 },
 "nbformat": 4,
 "nbformat_minor": 5
}
