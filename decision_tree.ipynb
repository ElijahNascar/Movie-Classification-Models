{
 "cells": [
  {
   "cell_type": "markdown",
   "id": "1f8b7524",
   "metadata": {},
   "source": [
    "Decision Tree Classification Model to predict "
   ]
  },
  {
   "cell_type": "code",
   "execution_count": 1,
   "id": "c46f15d7",
   "metadata": {},
   "outputs": [],
   "source": [
    "import pandas as pd"
   ]
  },
  {
   "cell_type": "code",
   "execution_count": 3,
   "id": "1aebf8c3",
   "metadata": {},
   "outputs": [],
   "source": [
    "movie_data = pd.read_csv('rotten_tomatoes_movies.csv')"
   ]
  },
  {
   "cell_type": "code",
   "execution_count": 17,
   "id": "d529c144",
   "metadata": {},
   "outputs": [],
   "source": [
    "# dropping the rows that have any missing data\n",
    "\n",
    "invalid_rows = [index for index, row in movie_data.iterrows() if row.isnull().any()]\n"
   ]
  },
  {
   "cell_type": "code",
   "execution_count": 22,
   "id": "98d2f48d",
   "metadata": {},
   "outputs": [
    {
     "data": {
      "text/plain": [
       "(143258, 16)"
      ]
     },
     "execution_count": 22,
     "metadata": {},
     "output_type": "execute_result"
    }
   ],
   "source": [
    "movie_data.shape"
   ]
  },
  {
   "cell_type": "code",
   "execution_count": 21,
   "id": "75b5257f",
   "metadata": {},
   "outputs": [
    {
     "data": {
      "text/plain": [
       "(140130, 16)"
      ]
     },
     "execution_count": 21,
     "metadata": {},
     "output_type": "execute_result"
    }
   ],
   "source": [
    "movie_data.loc[invalid_rows, :].shape"
   ]
  },
  {
   "cell_type": "code",
   "execution_count": 25,
   "id": "2aa3c1db",
   "metadata": {},
   "outputs": [
    {
     "data": {
      "text/plain": [
       "Index(['id', 'title', 'audienceScore', 'tomatoMeter', 'rating',\n",
       "       'ratingContents', 'releaseDateTheaters', 'releaseDateStreaming',\n",
       "       'runtimeMinutes', 'genre', 'originalLanguage', 'director', 'writer',\n",
       "       'boxOffice', 'distributor', 'soundMix'],\n",
       "      dtype='object')"
      ]
     },
     "execution_count": 25,
     "metadata": {},
     "output_type": "execute_result"
    }
   ],
   "source": [
    "movie_data.columns"
   ]
  },
  {
   "cell_type": "code",
   "execution_count": 27,
   "id": "ec207a51",
   "metadata": {},
   "outputs": [
    {
     "data": {
      "text/plain": [
       "title               367\n",
       "audienceScore     70010\n",
       "rating           129267\n",
       "dtype: int64"
      ]
     },
     "execution_count": 27,
     "metadata": {},
     "output_type": "execute_result"
    }
   ],
   "source": [
    "movie_data[['title', 'audienceScore', 'rating']].isna().sum() #releaseDateTheaters, releaseDateStreaming, runtimeMinutes, genre, director, and boxOffice revenue"
   ]
  },
  {
   "cell_type": "code",
   "execution_count": null,
   "id": "252317fb",
   "metadata": {},
   "outputs": [],
   "source": []
  },
  {
   "cell_type": "code",
   "execution_count": null,
   "id": "f1686e6d",
   "metadata": {},
   "outputs": [],
   "source": []
  }
 ],
 "metadata": {
  "kernelspec": {
   "display_name": "Python 3 (ipykernel)",
   "language": "python",
   "name": "python3"
  },
  "language_info": {
   "codemirror_mode": {
    "name": "ipython",
    "version": 3
   },
   "file_extension": ".py",
   "mimetype": "text/x-python",
   "name": "python",
   "nbconvert_exporter": "python",
   "pygments_lexer": "ipython3",
   "version": "3.9.16"
  }
 },
 "nbformat": 4,
 "nbformat_minor": 5
}
