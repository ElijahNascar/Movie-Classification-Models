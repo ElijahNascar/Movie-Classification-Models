{
 "cells": [
  {
   "cell_type": "raw",
   "id": "33dd6c4c",
   "metadata": {
    "id": "33dd6c4c"
   },
   "source": [
    "---\n",
    "title: \"Project Report\"\n",
    "subtitle: Krish's Fanclub\n",
    "author: Eli Nacar, Jack McNally, Sam Sword, and Tess Wagner\n",
    "date: 06/07/2023\n",
    "number-sections: true\n",
    "abstract: _The ABSTRACT is to be in fully-justified italicized text at the top of the report, below the author information. The abstract section must summarise the problem statement, the developed model(s), the metric(s) optimized and the recommendations to the stakeholders based on the model (if any). You may also briefly mention any major EDA-based insights that helped develop the model or directly translated into recommendations to the stakeholders. However, the abstract must not be more than 200 words in length_.\n",
    "format: \n",
    "  html:\n",
    "    toc: true\n",
    "    toc-title: Contents\n",
    "    self-contained: true\n",
    "    font-size: 100%\n",
    "    toc-depth: 4\n",
    "    mainfont: serif\n",
    "    echo: false\n",
    "jupyter: python3\n",
    "---"
   ]
  },
  {
   "cell_type": "markdown",
   "id": "93d3d9ed",
   "metadata": {
    "id": "93d3d9ed"
   },
   "source": [
    "## Code should be put separately in the code template {-}\n",
    "Your report should be in a research-paper like style. If there is something that can only be explained by showing the code, then you may put it, otherwise do not put the code in the report. We will check your code in the code template. \n",
    "\n",
    "However, feel free to write code that prints output and then hide the code using the *yaml* setting as shown in an example below *(in the EDA section)*\n",
    "\n",
    "**Delete this section from the report, when using this template.** "
   ]
  },
  {
   "cell_type": "markdown",
   "id": "0116f49b",
   "metadata": {
    "id": "0116f49b"
   },
   "source": [
    "## Background / Motivation"
   ]
  },
  {
   "cell_type": "markdown",
   "id": "48434852",
   "metadata": {},
   "source": [
    "The film industry is a dynamic landscape where many movies are produced and released each year. However, not all films achieve financial success or resonate with audiences. The ability to accurately predict a movie's revenue potential before its release can be extremely valuable to filmmakers, investors, and screenwriters, allowing them to make informed decisions and allocate resources such as time and money more effectively.\n",
    "\n",
    "The predictors considered in this data science project, such as genre, budget, language, and release date, are key factors that influence a movie's success. Genre plays a role in attracting specific audiences, while budget reflects the financial investment and production values associated with a film. Language can determine the film's potential global reach and release date affects competition between movies for capturing audiences. Ultimately, the motivation behind this data science project was to use movie data and predictive analytics to enhance decision-making in the film industry, offering a more systematic and evidence-based approach to assessing a movie's revenue potential. \n"
   ]
  },
  {
   "cell_type": "markdown",
   "id": "84ff1421",
   "metadata": {
    "id": "84ff1421"
   },
   "source": [
    "## Problem statement "
   ]
  },
  {
   "cell_type": "markdown",
   "id": "a359d2c7",
   "metadata": {},
   "source": [
    "Traditionally, the decision-making process in the film industry has been heavily reliant on subjective judgments, making it inherently risky. However, the rise of big data and data science has the potential to revolutionize this approach. With the proliferation of digital platforms and online ticket sales, an enormous amount of data is generated, capturing various attributes of movies.\n",
    "\n",
    "The primary objective of this project was to develop a model that could accurately determine whether a movie would generate revenue based on a variety of different attributes related to the movie itself. As part of this process in developing a predictive model, one secondary objective was to identify the factors that had the greatest impact on a movie generating revenue. By attaining both of these goals, recommendations could be made to major players in the film industry to improve decision making and movie selection.\n"
   ]
  },
  {
   "cell_type": "markdown",
   "id": "38c7b95f",
   "metadata": {
    "id": "38c7b95f"
   },
   "source": [
    "## Data sources"
   ]
  },
  {
   "cell_type": "markdown",
   "id": "736f4942",
   "metadata": {},
   "source": [
    "The data used was a Kaggle dataset originally from the Full MovieLens Dataset released in July 2017. The dataset includes about 45,000 movies all released before July 2017 along with relevant attributes of these movies such as their budgets, genres, language, and release date. In addition, the dataset has 26 million ratings from around 270,000 people on all of the movies. This data was extracted from the website GroupLens (grouplens.org). \n",
    "\n",
    "https://www.kaggle.com/datasets/rounakbanik/the-movies-dataset?select=movies_metadata.csv\n"
   ]
  },
  {
   "cell_type": "markdown",
   "id": "8c255035",
   "metadata": {
    "id": "8c255035"
   },
   "source": [
    "## Stakeholders"
   ]
  },
  {
   "cell_type": "markdown",
   "id": "76962e1d",
   "metadata": {},
   "source": [
    "As discussed in our problem statement, there are many relevant stakeholders interested in the ability to predict a movie's profitability before the actual release of the film.  \n",
    "1. Movie Studios: If a movie studio is able to utilize our model to predict the profitability of a movie from only a few characteristics such as genre, runtime, and language, movie studios will be able to optimize for those types of movies; thus, choosing to work on the movies that will make them profit.  \n",
    "2. Actors/Actress: When selecting which movies to act in, our model will allow actors/actress to determine which movies have the most profitable structure (relevant genres/runtime/language/etc...) and; thus, which movies will best further their career and notority in the film industry.  \n",
    "3. Screenwriters: With our model, a screenwriter will be able to better understand the percevied profitability of their movie. By optimizing their scripts to befit our model, the movies written by a screenwriter are much more likely to be picked up by movie studios and further a screenwriter's career.  "
   ]
  },
  {
   "cell_type": "markdown",
   "id": "fe7ea9bb",
   "metadata": {
    "id": "fe7ea9bb"
   },
   "source": [
    "## Data quality check / cleaning / preparation "
   ]
  },
  {
   "cell_type": "markdown",
   "id": "f264782d",
   "metadata": {
    "id": "f264782d"
   },
   "source": [
    "Because the question we are trying to answer is a classification problem, we had to rework the structure of the response and some of the variables. For example, instead of looking at how much revenue each movie produced, we are predicting whether a movie produced revenue or not. To effectively do this, we changed `revenue` from a continuous variable to a categorical, binary response. We did this for a few of the predictors as well in order to better understand the relationships between the predictors and the response. After parsing through the data, we did not identify any observations that appeared to have incorrect values. While there were a large amount of missing values for `belongs_to_collection`, we identified that a missing value in this column represented a movie that did not belong to a collection. We changed this predictor into a binary variable to fix this issue. There were very few true missing values, and we decided to drop them because they would have been very difficult to impute correctly. For example, it is impossible to come up with a formula to impute missing release dates of movies based on the information of other movies. We decided that dropping these predictions would have a better result on our predictions than trying to impute these values, especially since these observations were a very small portion of the total data. "
   ]
  },
  {
   "cell_type": "code",
   "execution_count": 45,
   "id": "838bb6b9",
   "metadata": {
    "id": "842c15f5",
    "outputId": "8d58137d-ebee-46ac-80bb-2d9db1a51c17"
   },
   "outputs": [
    {
     "name": "stderr",
     "output_type": "stream",
     "text": [
      "C:\\Users\\csky2\\AppData\\Local\\Temp\\ipykernel_25244\\2780617125.py:8: DtypeWarning: Columns (10) have mixed types. Specify dtype option on import or set low_memory=False.\n",
      "  data_raw = pd.read_csv('movies_metadata.csv')\n"
     ]
    }
   ],
   "source": [
    "## | echo: false\n",
    "#| warning: false\n",
    "import pandas as pd\n",
    "import numpy as np\n",
    "import matplotlib.pyplot as plt\n",
    "import seaborn as sns\n",
    "data = pd.read_csv('movies_classification_updated.csv', index_col = 'Unnamed: 0')\n",
    "data_raw = pd.read_csv('movies_metadata.csv')"
   ]
  },
  {
   "cell_type": "markdown",
   "id": "915e610d",
   "metadata": {
    "id": "915e610d"
   },
   "source": [
    "Distribution of Response (original data):"
   ]
  },
  {
   "cell_type": "code",
   "execution_count": null,
   "id": "12181bbf",
   "metadata": {
    "id": "12181bbf",
    "outputId": "147f96b1-4a36-4ed5-a87c-7e6a516a9919"
   },
   "outputs": [
    {
     "data": {
      "text/html": [
       "<div>\n",
       "<style scoped>\n",
       "    .dataframe tbody tr th:only-of-type {\n",
       "        vertical-align: middle;\n",
       "    }\n",
       "\n",
       "    .dataframe tbody tr th {\n",
       "        vertical-align: top;\n",
       "    }\n",
       "\n",
       "    .dataframe thead th {\n",
       "        text-align: right;\n",
       "    }\n",
       "</style>\n",
       "<table border=\"1\" class=\"dataframe\">\n",
       "  <thead>\n",
       "    <tr style=\"text-align: right;\">\n",
       "      <th></th>\n",
       "      <th>revenue</th>\n",
       "    </tr>\n",
       "  </thead>\n",
       "  <tbody>\n",
       "    <tr>\n",
       "      <th>count</th>\n",
       "      <td>4.546000e+04</td>\n",
       "    </tr>\n",
       "    <tr>\n",
       "      <th>mean</th>\n",
       "      <td>1.120935e+07</td>\n",
       "    </tr>\n",
       "    <tr>\n",
       "      <th>std</th>\n",
       "      <td>6.433225e+07</td>\n",
       "    </tr>\n",
       "    <tr>\n",
       "      <th>min</th>\n",
       "      <td>0.000000e+00</td>\n",
       "    </tr>\n",
       "    <tr>\n",
       "      <th>25%</th>\n",
       "      <td>0.000000e+00</td>\n",
       "    </tr>\n",
       "    <tr>\n",
       "      <th>50%</th>\n",
       "      <td>0.000000e+00</td>\n",
       "    </tr>\n",
       "    <tr>\n",
       "      <th>75%</th>\n",
       "      <td>0.000000e+00</td>\n",
       "    </tr>\n",
       "    <tr>\n",
       "      <th>max</th>\n",
       "      <td>2.787965e+09</td>\n",
       "    </tr>\n",
       "  </tbody>\n",
       "</table>\n",
       "</div>"
      ],
      "text/plain": [
       "            revenue\n",
       "count  4.546000e+04\n",
       "mean   1.120935e+07\n",
       "std    6.433225e+07\n",
       "min    0.000000e+00\n",
       "25%    0.000000e+00\n",
       "50%    0.000000e+00\n",
       "75%    0.000000e+00\n",
       "max    2.787965e+09"
      ]
     },
     "execution_count": 151,
     "metadata": {},
     "output_type": "execute_result"
    }
   ],
   "source": [
    "#| echo: false\n",
    "\n",
    "data_raw.describe()[['revenue']]"
   ]
  },
  {
   "cell_type": "markdown",
   "id": "e914dba8",
   "metadata": {
    "id": "e914dba8"
   },
   "source": [
    "Distribution of Response (cleaned data):"
   ]
  },
  {
   "cell_type": "code",
   "execution_count": null,
   "id": "3db91671",
   "metadata": {
    "id": "3db91671",
    "outputId": "d61cf1d4-9c97-4d87-dc58-2b3c2c949916"
   },
   "outputs": [
    {
     "data": {
      "text/html": [
       "<div>\n",
       "<style scoped>\n",
       "    .dataframe tbody tr th:only-of-type {\n",
       "        vertical-align: middle;\n",
       "    }\n",
       "\n",
       "    .dataframe tbody tr th {\n",
       "        vertical-align: top;\n",
       "    }\n",
       "\n",
       "    .dataframe thead th {\n",
       "        text-align: right;\n",
       "    }\n",
       "</style>\n",
       "<table border=\"1\" class=\"dataframe\">\n",
       "  <thead>\n",
       "    <tr style=\"text-align: right;\">\n",
       "      <th></th>\n",
       "      <th>revenue</th>\n",
       "    </tr>\n",
       "  </thead>\n",
       "  <tbody>\n",
       "    <tr>\n",
       "      <th>0.0</th>\n",
       "      <td>0.834683</td>\n",
       "    </tr>\n",
       "    <tr>\n",
       "      <th>1.0</th>\n",
       "      <td>0.165317</td>\n",
       "    </tr>\n",
       "  </tbody>\n",
       "</table>\n",
       "</div>"
      ],
      "text/plain": [
       "      revenue\n",
       "0.0  0.834683\n",
       "1.0  0.165317"
      ]
     },
     "execution_count": 152,
     "metadata": {},
     "output_type": "execute_result"
    }
   ],
   "source": [
    "#| echo: false\n",
    "pd.DataFrame(data.revenue.value_counts()/data.shape[0])"
   ]
  },
  {
   "cell_type": "markdown",
   "id": "0e2a9753",
   "metadata": {
    "id": "0e2a9753"
   },
   "source": [
    "#### Distribution of predictors (original data):\n",
    "Missing Values (original data):"
   ]
  },
  {
   "cell_type": "code",
   "execution_count": null,
   "id": "7e1ab074",
   "metadata": {
    "id": "7e1ab074",
    "outputId": "432e4a70-d5a3-4546-d237-eede99875211",
    "scrolled": true
   },
   "outputs": [
    {
     "data": {
      "text/html": [
       "<div>\n",
       "<style scoped>\n",
       "    .dataframe tbody tr th:only-of-type {\n",
       "        vertical-align: middle;\n",
       "    }\n",
       "\n",
       "    .dataframe tbody tr th {\n",
       "        vertical-align: top;\n",
       "    }\n",
       "\n",
       "    .dataframe thead th {\n",
       "        text-align: right;\n",
       "    }\n",
       "</style>\n",
       "<table border=\"1\" class=\"dataframe\">\n",
       "  <thead>\n",
       "    <tr style=\"text-align: right;\">\n",
       "      <th></th>\n",
       "      <th>Missing Values Totals</th>\n",
       "      <th>Unique Values Totals</th>\n",
       "    </tr>\n",
       "  </thead>\n",
       "  <tbody>\n",
       "    <tr>\n",
       "      <th>belongs_to_collection</th>\n",
       "      <td>40972</td>\n",
       "      <td>1698</td>\n",
       "    </tr>\n",
       "    <tr>\n",
       "      <th>budget</th>\n",
       "      <td>0</td>\n",
       "      <td>1226</td>\n",
       "    </tr>\n",
       "    <tr>\n",
       "      <th>genres</th>\n",
       "      <td>0</td>\n",
       "      <td>4069</td>\n",
       "    </tr>\n",
       "    <tr>\n",
       "      <th>original_language</th>\n",
       "      <td>11</td>\n",
       "      <td>92</td>\n",
       "    </tr>\n",
       "    <tr>\n",
       "      <th>release_date</th>\n",
       "      <td>87</td>\n",
       "      <td>17336</td>\n",
       "    </tr>\n",
       "    <tr>\n",
       "      <th>runtime</th>\n",
       "      <td>263</td>\n",
       "      <td>353</td>\n",
       "    </tr>\n",
       "  </tbody>\n",
       "</table>\n",
       "</div>"
      ],
      "text/plain": [
       "                       Missing Values Totals  Unique Values Totals\n",
       "belongs_to_collection                  40972                  1698\n",
       "budget                                     0                  1226\n",
       "genres                                     0                  4069\n",
       "original_language                         11                    92\n",
       "release_date                              87                 17336\n",
       "runtime                                  263                   353"
      ]
     },
     "execution_count": 153,
     "metadata": {},
     "output_type": "execute_result"
    }
   ],
   "source": [
    "#| echo: false\n",
    "data_raw_predictors = data_raw.drop(['revenue', 'adult', 'homepage', 'id', 'imdb_id', 'original_title', 'poster_path', 'status', 'video', 'overview', 'production_companies', 'production_countries', 'spoken_languages', 'tagline', 'popularity', 'vote_average', 'vote_count', 'title'], axis=1)\n",
    "isna_preds_raw = data_raw_predictors.isna().sum()\n",
    "nunique_preds_raw = data_raw_predictors.nunique()\n",
    "pd.DataFrame({'Missing Values Totals': isna_preds_raw,\n",
    "             'Unique Values Totals': nunique_preds_raw})"
   ]
  },
  {
   "cell_type": "markdown",
   "id": "5fe53f60",
   "metadata": {
    "id": "5fe53f60"
   },
   "source": [
    "Frequency of Predictors (original data):"
   ]
  },
  {
   "cell_type": "code",
   "execution_count": null,
   "id": "d79008fc",
   "metadata": {
    "id": "d79008fc",
    "outputId": "d2ba3246-f832-41e9-de53-3ce63112ee4f"
   },
   "outputs": [
    {
     "data": {
      "text/html": [
       "<div>\n",
       "<style scoped>\n",
       "    .dataframe tbody tr th:only-of-type {\n",
       "        vertical-align: middle;\n",
       "    }\n",
       "\n",
       "    .dataframe tbody tr th {\n",
       "        vertical-align: top;\n",
       "    }\n",
       "\n",
       "    .dataframe thead th {\n",
       "        text-align: right;\n",
       "    }\n",
       "</style>\n",
       "<table border=\"1\" class=\"dataframe\">\n",
       "  <thead>\n",
       "    <tr style=\"text-align: right;\">\n",
       "      <th></th>\n",
       "      <th></th>\n",
       "      <th>Top Levels</th>\n",
       "      <th>Frequency</th>\n",
       "    </tr>\n",
       "  </thead>\n",
       "  <tbody>\n",
       "    <tr>\n",
       "      <th rowspan=\"3\" valign=\"top\">belongs_to_collection</th>\n",
       "      <th></th>\n",
       "      <td>{'id': 415931, 'name': 'The Bowery Boys', 'pos...</td>\n",
       "      <td>29</td>\n",
       "    </tr>\n",
       "    <tr>\n",
       "      <th></th>\n",
       "      <td>{'id': 421566, 'name': 'Totò Collection', 'pos...</td>\n",
       "      <td>27</td>\n",
       "    </tr>\n",
       "    <tr>\n",
       "      <th></th>\n",
       "      <td>{'id': 645, 'name': 'James Bond Collection', '...</td>\n",
       "      <td>26</td>\n",
       "    </tr>\n",
       "    <tr>\n",
       "      <th rowspan=\"3\" valign=\"top\">budget</th>\n",
       "      <th></th>\n",
       "      <td>0</td>\n",
       "      <td>36573</td>\n",
       "    </tr>\n",
       "    <tr>\n",
       "      <th></th>\n",
       "      <td>5000000</td>\n",
       "      <td>286</td>\n",
       "    </tr>\n",
       "    <tr>\n",
       "      <th></th>\n",
       "      <td>10000000</td>\n",
       "      <td>259</td>\n",
       "    </tr>\n",
       "    <tr>\n",
       "      <th rowspan=\"3\" valign=\"top\">genres</th>\n",
       "      <th></th>\n",
       "      <td>[{'id': 18, 'name': 'Drama'}]</td>\n",
       "      <td>5000</td>\n",
       "    </tr>\n",
       "    <tr>\n",
       "      <th></th>\n",
       "      <td>[{'id': 35, 'name': 'Comedy'}]</td>\n",
       "      <td>3621</td>\n",
       "    </tr>\n",
       "    <tr>\n",
       "      <th></th>\n",
       "      <td>[{'id': 99, 'name': 'Documentary'}]</td>\n",
       "      <td>2723</td>\n",
       "    </tr>\n",
       "    <tr>\n",
       "      <th rowspan=\"3\" valign=\"top\">original_language</th>\n",
       "      <th></th>\n",
       "      <td>en</td>\n",
       "      <td>32269</td>\n",
       "    </tr>\n",
       "    <tr>\n",
       "      <th></th>\n",
       "      <td>fr</td>\n",
       "      <td>2438</td>\n",
       "    </tr>\n",
       "    <tr>\n",
       "      <th></th>\n",
       "      <td>it</td>\n",
       "      <td>1529</td>\n",
       "    </tr>\n",
       "    <tr>\n",
       "      <th rowspan=\"3\" valign=\"top\">release_date</th>\n",
       "      <th></th>\n",
       "      <td>2008-01-01</td>\n",
       "      <td>136</td>\n",
       "    </tr>\n",
       "    <tr>\n",
       "      <th></th>\n",
       "      <td>2009-01-01</td>\n",
       "      <td>121</td>\n",
       "    </tr>\n",
       "    <tr>\n",
       "      <th></th>\n",
       "      <td>2007-01-01</td>\n",
       "      <td>118</td>\n",
       "    </tr>\n",
       "    <tr>\n",
       "      <th rowspan=\"3\" valign=\"top\">runtime</th>\n",
       "      <th></th>\n",
       "      <td>90.0</td>\n",
       "      <td>1558</td>\n",
       "    </tr>\n",
       "    <tr>\n",
       "      <th></th>\n",
       "      <td>0.0</td>\n",
       "      <td>107</td>\n",
       "    </tr>\n",
       "    <tr>\n",
       "      <th></th>\n",
       "      <td>100.0</td>\n",
       "      <td>33</td>\n",
       "    </tr>\n",
       "  </tbody>\n",
       "</table>\n",
       "</div>"
      ],
      "text/plain": [
       "                                                               Top Levels  \\\n",
       "belongs_to_collection   {'id': 415931, 'name': 'The Bowery Boys', 'pos...   \n",
       "                        {'id': 421566, 'name': 'Totò Collection', 'pos...   \n",
       "                        {'id': 645, 'name': 'James Bond Collection', '...   \n",
       "budget                                                                  0   \n",
       "                                                                  5000000   \n",
       "                                                                 10000000   \n",
       "genres                                      [{'id': 18, 'name': 'Drama'}]   \n",
       "                                           [{'id': 35, 'name': 'Comedy'}]   \n",
       "                                      [{'id': 99, 'name': 'Documentary'}]   \n",
       "original_language                                                      en   \n",
       "                                                                       fr   \n",
       "                                                                       it   \n",
       "release_date                                                   2008-01-01   \n",
       "                                                               2009-01-01   \n",
       "                                                               2007-01-01   \n",
       "runtime                                                              90.0   \n",
       "                                                                      0.0   \n",
       "                                                                    100.0   \n",
       "\n",
       "                       Frequency  \n",
       "belongs_to_collection         29  \n",
       "                              27  \n",
       "                              26  \n",
       "budget                     36573  \n",
       "                             286  \n",
       "                             259  \n",
       "genres                      5000  \n",
       "                            3621  \n",
       "                            2723  \n",
       "original_language          32269  \n",
       "                            2438  \n",
       "                            1529  \n",
       "release_date                 136  \n",
       "                             121  \n",
       "                             118  \n",
       "runtime                     1558  \n",
       "                             107  \n",
       "                              33  "
      ]
     },
     "execution_count": 157,
     "metadata": {},
     "output_type": "execute_result"
    }
   ],
   "source": [
    "#| echo: false\n",
    "#| results-fold: true\n",
    "frequencies = []\n",
    "for col in data_raw_predictors.columns:\n",
    "    for num in range(0, 3):\n",
    "        a = str(data_raw_predictors[col].value_counts().index[num])\n",
    "        b = str(data_raw_predictors[col].value_counts()[num])\n",
    "        holder = [a, b]\n",
    "        frequencies.append(holder)\n",
    "        \n",
    "df_freq = pd.DataFrame(frequencies,index = [['belongs_to_collection']*3+['budget']*3+['genres']*3+['original_language']*3+['release_date']*3+['runtime']*3,\n",
    "                                      ['','','',\n",
    "                                       '','','',\n",
    "                                      '','','',\n",
    "                                      '','','',\n",
    "                                      '','','',\n",
    "                                      '','','']],\n",
    "                    columns = ['Top Levels','Frequency'])\n",
    "df_freq"
   ]
  },
  {
   "cell_type": "markdown",
   "id": "57307d0e",
   "metadata": {
    "id": "1c6bb251",
    "outputId": "4ea3bfb7-2346-4e64-9f39-048684ee1098",
    "scrolled": true
   },
   "source": [
    "*(See project code for the frecuency of levels table for the cleaned data)*"
   ]
  },
  {
   "cell_type": "markdown",
   "id": "fbb11c9b",
   "metadata": {
    "id": "fbb11c9b"
   },
   "source": [
    "## Exploratory data analysis"
   ]
  },
  {
   "cell_type": "markdown",
   "id": "e4bd74a9",
   "metadata": {
    "id": "e4bd74a9"
   },
   "source": [
    "Movies with larger budgets seemed to have a better chance of making a profit than movies with smaller budgets. Movies with shorter run times seemed to have a better chance of making a profit. These two predictors were identified as having high importances by some of our individual models. These relationships were helpful to recognize that these predictors were potentially more influential than others in our models."
   ]
  },
  {
   "cell_type": "code",
   "execution_count": 47,
   "id": "5f0164e8",
   "metadata": {
    "id": "5f0164e8",
    "outputId": "a759b7cd-0e6e-4007-b3c9-104fcfb354c7"
   },
   "outputs": [
    {
     "data": {
      "text/plain": [
       "<Axes: xlabel='runtime', ylabel='revenue'>"
      ]
     },
     "execution_count": 47,
     "metadata": {},
     "output_type": "execute_result"
    },
    {
     "data": {
      "image/png": "[encoded data removed]",
      "text/plain": [
       "<Figure size 400x100 with 2 Axes>"
      ]
     },
     "metadata": {},
     "output_type": "display_data"
    }
   ],
   "source": [
    "fig, axes = plt.subplots(nrows = 1, ncols = 2, figsize = (4,1))\n",
    "plt.subplots_adjust(wspace = 0.3)\n",
    "sns.scatterplot(ax = axes[0], x = data.budget, y = data.revenue)\n",
    "sns.scatterplot(ax = axes[1], x = data.runtime, y = data.revenue)"
   ]
  },
  {
   "cell_type": "markdown",
   "id": "d1f12d5d",
   "metadata": {
    "id": "d1f12d5d"
   },
   "source": [
    "While most genres generally had more movies that produced revenue, there were a few expections.\n",
    "# add why this is useful"
   ]
  },
  {
   "cell_type": "code",
   "execution_count": 53,
   "id": "61979fba",
   "metadata": {
    "id": "61979fba",
    "outputId": "741e67bd-5efc-4a42-da7a-e4e38e90605b"
   },
   "outputs": [
    {
     "data": {
      "text/plain": [
       "<Axes: xlabel='TV Movie', ylabel='revenue'>"
      ]
     },
     "execution_count": 53,
     "metadata": {},
     "output_type": "execute_result"
    },
    {
     "data": {
      "image/png": "[encoded data removed]",
      "text/plain": [
       "<Figure size 800x250 with 6 Axes>"
      ]
     },
     "metadata": {},
     "output_type": "display_data"
    }
   ],
   "source": [
    "fig, axes = plt.subplots(nrows = 2, ncols = 3, figsize = (8,2.5))\n",
    "plt.subplots_adjust(wspace = 0.5, hspace = 0.6)\n",
    "\n",
    "sns.barplot(ax = axes[0,0], x = data.Foreign, y = data.revenue)\n",
    "sns.barplot(ax = axes[0,1], x = data.Horror, y = data.revenue)\n",
    "sns.barplot(ax = axes[0,2], x = data.Documentary, y = data.revenue)\n",
    "sns.barplot(ax = axes[1,0], x = data.Western, y = data.revenue)\n",
    "sns.barplot(ax = axes[1,1], x = data['TV Movie'], y = data.revenue)"
   ]
  },
  {
   "cell_type": "markdown",
   "id": "d39c782c",
   "metadata": {
    "id": "d39c782c"
   },
   "source": [
    "## Approach"
   ]
  },
  {
   "cell_type": "markdown",
   "id": "3db9bd11",
   "metadata": {},
   "source": [
    "Models:  \n",
    "1. Basic: AdaBoostClassification(), DecisionTreeClassifier(), XGBoostClassifier(), RandomForestClassifier()  \n",
    "2. Ensembles: (Hard) VotingRegressor(), StackingRegressor()  \n",
    "\n",
    "With our model choices, we hoped to develop a deep and varied selection of models for ultimate ensembles. In these models, we optimized for both accuracy and precision. This was because, for our stakeholders, predicting a movie to be profitable when it is not it much more devastating than predicting a movie to not be profitable while it actually is. By optimizing accuracy and prediction, we ensure our model's election of the positive class (a movie being profitable) is trustworthy. Our approach is very traditional, focusing on EDA insights and hyperparameter tunings to optimize our models. With a plentiful data source and direct approach, we did not anticipate many issues with our model creation. As anticipated, we did not run into many issues during the creation of our model; however, we did run into many unanticipated outcomes, primarily, the models that we believed would be successful and those that actually found success. Our problem did not have any prior solutions. We did not utilize any code repositories.   "
   ]
  },
  {
   "cell_type": "markdown",
   "id": "acab331a",
   "metadata": {
    "id": "acab331a"
   },
   "source": [
    "## Developing the model: Hyperparameter tuning"
   ]
  },
  {
   "cell_type": "code",
   "execution_count": 37,
   "id": "6f36dc2d",
   "metadata": {},
   "outputs": [],
   "source": [
    "import pandas as pd\n",
    "import numpy as np\n",
    "import seaborn as sns\n",
    "import matplotlib.pyplot as plt\n",
    "from sklearn.metrics import mean_squared_error, mean_absolute_error\n",
    "from sklearn.model_selection import cross_val_score,train_test_split, cross_val_predict\n",
    "from sklearn.metrics import mean_squared_error,r2_score, roc_curve, precision_recall_curve, auc, make_scorer, recall_score, accuracy_score, precision_score, confusion_matrix\n",
    "from sklearn.model_selection import KFold, StratifiedKFold\n",
    "from sklearn.tree import DecisionTreeRegressor, DecisionTreeClassifier\n",
    "from sklearn.model_selection import GridSearchCV, ParameterGrid, RandomizedSearchCV\n",
    "from sklearn.ensemble import BaggingRegressor,BaggingClassifier,RandomForestRegressor,RandomForestClassifier\n",
    "import itertools as it\n",
    "from sklearn.preprocessing import StandardScaler\n",
    "from sklearn.linear_model import LinearRegression,LogisticRegression, Lasso, LassoCV, RidgeCV, ElasticNetCV\n",
    "from sklearn.ensemble import VotingRegressor, VotingClassifier, StackingRegressor, StackingClassifier, GradientBoostingRegressor,GradientBoostingClassifier, BaggingRegressor,BaggingClassifier,RandomForestRegressor,RandomForestClassifier,AdaBoostRegressor,AdaBoostClassifier\n",
    "\n",
    "import itertools as it\n",
    "\n",
    "#Libraries for visualizing trees\n",
    "from sklearn.tree import export_graphviz \n",
    "from six import StringIO\n",
    "from IPython.display import Image  \n",
    "import time as time"
   ]
  },
  {
   "cell_type": "code",
   "execution_count": 5,
   "id": "5471225b",
   "metadata": {},
   "outputs": [],
   "source": [
    "# separating predictors and response\n",
    "y = data.revenue\n",
    "X = data.drop(['revenue', 'title'], axis = 1)\n",
    "\n",
    "# creating test train split\n",
    "X_train, X_test, y_train, y_test = train_test_split(X, y, test_size = 0.20, random_state = 45)"
   ]
  },
  {
   "cell_type": "markdown",
   "id": "ae5ec4c9",
   "metadata": {
    "id": "ae5ec4c9"
   },
   "source": [
    "Every person must describe their hyperparameter tuning procedure. Show the grid of hyperparameter values over which the initial search was done *(you may paste your grid search / random search / any other search code)*, and the optimal hyperparameter values obtained. After getting the initial search results, how did you make decisions *(if any)* to further fine-tune your model. Did you do another grid / random search or did you tune hyperparameters sequentially? If you think you didn't need any fine tuning after the initial results, then mention that and explain why.\n",
    "\n",
    "Put each model in a section of its name and mention the name of the team-member tuning the model. Below is an example:"
   ]
  },
  {
   "cell_type": "markdown",
   "id": "ea422beb",
   "metadata": {
    "id": "ea422beb"
   },
   "source": [
    "### RandomForest\n",
    "*By Elijah Nacar*"
   ]
  },
  {
   "cell_type": "markdown",
   "id": "aa372160",
   "metadata": {},
   "source": [
    "To begin, I split the data into a train/testing split and scaled/imputed the data. I began with the parameter grid shown below and found great success with a model accuracy of ~87.56% and a model precision of ~66.48%. "
   ]
  },
  {
   "cell_type": "code",
   "execution_count": 5,
   "id": "03215306",
   "metadata": {},
   "outputs": [],
   "source": [
    "from sklearn.ensemble import RandomForestClassifier\n",
    "from sklearn.model_selection import GridSearchCV, train_test_split\n",
    "from sklearn.impute import SimpleImputer\n",
    "\n",
    "data = pd.read_csv('movies_classification_updated.csv')\n",
    "data.drop(['Unnamed: 0' , 'title'], axis=1, inplace=True)\n",
    "data.head()\n",
    "\n",
    "X = data.drop('revenue', axis=1)\n",
    "y = data.revenue\n",
    "\n",
    "# Split the data into training and testing sets\n",
    "X_train, X_test, y_train, y_test = train_test_split(X, y, test_size=0.2, random_state=1)\n",
    "\n",
    "# Scale the data\n",
    "scaler = StandardScaler()\n",
    "X_train_scaled = scaler.fit_transform(X_train)\n",
    "X_test_scaled = scaler.transform(X_test)\n",
    "\n",
    "# Create an instance of the SimpleImputer\n",
    "imputer = SimpleImputer()\n",
    "X_train_imputed = imputer.fit_transform(X_train_scaled)\n",
    "X_test_imputed = imputer.transform(X_test_scaled)"
   ]
  },
  {
   "cell_type": "code",
   "execution_count": 9,
   "id": "19f185a7",
   "metadata": {
    "scrolled": true
   },
   "outputs": [
    {
     "name": "stdout",
     "output_type": "stream",
     "text": [
      "params=  (2000, 1, 15, 2, 45)\n"
     ]
    }
   ],
   "source": [
    "params = {'n_estimators': [2000],\n",
    "          'max_features': [.5, 0.75, 1],\n",
    "          'max_depth': [5, 10, 15],\n",
    "          'min_samples_split': [2, 5, 8, 10],\n",
    "          'max_leaf_nodes': [20, 30, 45]\n",
    "         }\n",
    "\n",
    "param_list=list(it.product(*(params[Name] for Name in list(params.keys()))))\n",
    "oob_recall = [0]*len(param_list)\n",
    "\n",
    "i=0\n",
    "for pr in param_list:\n",
    "    model = RandomForestClassifier(random_state=1,oob_score=True,verbose=False,n_estimators = pr[0],\n",
    "                                  max_features=pr[1], n_jobs=-1).fit(X_train_imputed,y_train)\n",
    "    \n",
    "    oob_pred = (model.oob_decision_function_[:,1]>=0.5).astype(int)     \n",
    "    oob_recall[i] = precision_score(y_train, oob_pred)\n",
    "    i=i+1\n",
    "    \n",
    "print(\"params= \", param_list[np.argmax(oob_recall)])"
   ]
  },
  {
   "cell_type": "markdown",
   "id": "752c7b47",
   "metadata": {},
   "source": [
    "After this initial tuning, I noticed that both max_depth and max_leaf_nodes selected the highest value possible for their hyperparameter. I chose to tune these parameters further as I believed it would be the most beneficial way to improve the model with only an assignment's-worth of time. "
   ]
  },
  {
   "cell_type": "code",
   "execution_count": 63,
   "id": "4f00419c",
   "metadata": {},
   "outputs": [
    {
     "data": {
      "image/png": "[encoded data removed]",
      "text/plain": [
       "<Figure size 400x250 with 1 Axes>"
      ]
     },
     "metadata": {},
     "output_type": "display_data"
    }
   ],
   "source": [
    "# Define the values of max_depth to explore\n",
    "max_depth_values = range(10, 25)\n",
    "\n",
    "# Train random forest models with different max_depth values\n",
    "accuracies = []\n",
    "for max_depth in max_depth_values:\n",
    "    rf = RandomForestClassifier(random_state=1, max_depth=max_depth)\n",
    "    rf.fit(X_train_imputed, y_train)\n",
    "    accuracy = rf.score(X_test_imputed, y_test)\n",
    "    accuracies.append(accuracy)\n",
    "    \n",
    "# Plot the max_depth values vs accuracies\n",
    "plt.figure(figsize=(4, 2.5))\n",
    "plt.plot(max_depth_values, accuracies, marker='o')\n",
    "plt.xlabel('max_depth')\n",
    "plt.ylabel('Accuracy')\n",
    "plt.title('Accuracy vs max_depth in Random Forest')\n",
    "plt.grid(True)\n",
    "plt.show()"
   ]
  },
  {
   "cell_type": "code",
   "execution_count": 64,
   "id": "e53ac76c",
   "metadata": {},
   "outputs": [
    {
     "data": {
      "image/png": "[encoded data removed]",
      "text/plain": [
       "<Figure size 400x250 with 1 Axes>"
      ]
     },
     "metadata": {},
     "output_type": "display_data"
    }
   ],
   "source": [
    "# Define the values of max_leaf_nodes to explore\n",
    "max_leaf_nodes_values = range(25, 50)  \n",
    "\n",
    "# Train random forest models with different max_leaf_nodes values\n",
    "accuracies = []\n",
    "for max_leaf_nodes in max_leaf_nodes_values:\n",
    "    rf = RandomForestClassifier(random_state=1, max_leaf_nodes=max_leaf_nodes)\n",
    "    rf.fit(X_train_imputed, y_train)\n",
    "    accuracy = rf.score(X_test_imputed, y_test)\n",
    "    accuracies.append(accuracy)\n",
    "\n",
    "# Plot the max_leaf_nodes values vs accuracies\n",
    "plt.figure(figsize=(4, 2.5))\n",
    "plt.plot(max_leaf_nodes_values, accuracies, marker='o')\n",
    "plt.xlabel('max_leaf_nodes')\n",
    "plt.ylabel('Accuracy')\n",
    "plt.title('Accuracy vs max_leaf_nodes in Random Forest')\n",
    "plt.grid(True)\n",
    "plt.show()"
   ]
  },
  {
   "cell_type": "markdown",
   "id": "af4b5bc6",
   "metadata": {},
   "source": [
    "I then used the new hyperparameters found by using this approach (max_depth = 15 | max_leaf_nodes = 45) to tune the decision threshold probability. With a decision threshold of 0.38, my model was able to achieve an accuracy of ~86.09% and a precision ~91.54%. A slight decrease in a accuracy for a massive increase in precision."
   ]
  },
  {
   "cell_type": "code",
   "execution_count": 21,
   "id": "f99b4d7d",
   "metadata": {},
   "outputs": [
    {
     "name": "stdout",
     "output_type": "stream",
     "text": [
      "Accuracy:  86.08501118568232\n",
      "Precision:  0.9154929577464789\n"
     ]
    },
    {
     "data": {
      "image/png": "[encoded data removed]",
      "text/plain": [
       "<Figure size 400x400 with 2 Axes>"
      ]
     },
     "metadata": {},
     "output_type": "display_data"
    }
   ],
   "source": [
    "model = RandomForestClassifier(random_state=1, max_features=1, n_estimators = 2000, \n",
    "                               oob_score=True, max_depth = 15, max_leaf_nodes = 45, min_samples_split=2).fit(X_train_imputed, y_train)\n",
    "\n",
    "# Tuned Decision Threshold and got 0.39\n",
    "\n",
    "# Performance metrics computation for the optimum decision threshold probability\n",
    "desired_threshold = 0.39\n",
    "\n",
    "y_pred_prob = model.predict_proba(X_test_imputed)[:,1] \n",
    "\n",
    "# Classifying observations in the positive class (y = 1) if the predicted probability is greater\n",
    "# than the desired decision threshold probability\n",
    "y_pred = y_pred_prob > desired_threshold\n",
    "y_pred = y_pred.astype(int)\n",
    "\n",
    "#Computing the accuracy\n",
    "print(\"Accuracy: \",accuracy_score(y_pred, y_test)*100)  \n",
    "\n",
    "#Computing the precision and recall\n",
    "print(\"Precision: \", precision_score(y_test, y_pred))\n",
    "\n",
    "#Confusion matrix\n",
    "cm = pd.DataFrame(confusion_matrix(y_test, y_pred), \n",
    "                  columns=['Predicted 0', 'Predicted 1'], index = ['Actual 0', 'Actual 1'])\n",
    "\n",
    "fig, ax = plt.subplots(figsize=(4,4))\n",
    "sns.heatmap(ax=ax, data=cm, annot=True, cmap='Blues', fmt='g');"
   ]
  },
  {
   "cell_type": "markdown",
   "id": "b78fbd0e",
   "metadata": {
    "id": "b78fbd0e"
   },
   "source": [
    "### AdaBoost \n",
    "*By Jack McNally*"
   ]
  },
  {
   "cell_type": "code",
   "execution_count": 15,
   "id": "9447d707",
   "metadata": {},
   "outputs": [
    {
     "name": "stdout",
     "output_type": "stream",
     "text": [
      "Best: 0.806693 using {'base_estimator': DecisionTreeClassifier(max_depth=3), 'learning_rate': 0.01, 'n_estimators': 1}\n"
     ]
    },
    {
     "name": "stderr",
     "output_type": "stream",
     "text": [
      "C:\\Users\\csky2\\anaconda3\\lib\\site-packages\\sklearn\\ensemble\\_base.py:166: FutureWarning: `base_estimator` was renamed to `estimator` in version 1.2 and will be removed in 1.4.\n",
      "  warnings.warn(\n"
     ]
    }
   ],
   "source": [
    "#| warning: false\n",
    "#Tuning the hyperparameters of the AdaBoost model with a coarse search\n",
    "model = AdaBoostRegressor(random_state=1)\n",
    "grid = dict()\n",
    "grid['n_estimators'] = range(1, 200, 50) \n",
    "grid['learning_rate'] = [0.01,0.1, 1.0]\n",
    "grid['base_estimator'] = [DecisionTreeClassifier(max_depth=3), DecisionTreeClassifier(max_depth=25), \n",
    "                          DecisionTreeClassifier(max_depth=100)]\n",
    "\n",
    "# define the evaluation procedure\n",
    "cv = KFold(n_splits=2, shuffle=True, random_state=1)\n",
    "\n",
    "# define the grid search procedure\n",
    "grid_search = GridSearchCV(estimator=model, param_grid=grid, n_jobs=-1, cv=cv, scoring='precision')\n",
    "\n",
    "# execute the grid search\n",
    "grid_result = grid_search.fit(X_train, y_train)\n",
    "\n",
    "# summarize the best score and configuration\n",
    "print(\"Best: %f using %s\" % (grid_result.best_score_, grid_result.best_params_))\n",
    "\n",
    "# summarize all scores that were evaluated\n",
    "means = grid_result.cv_results_['mean_test_score']\n",
    "stds = grid_result.cv_results_['std_test_score']\n",
    "params = grid_result.cv_results_['params']"
   ]
  },
  {
   "cell_type": "code",
   "execution_count": 62,
   "id": "e1866409",
   "metadata": {},
   "outputs": [
    {
     "data": {
      "text/plain": [
       "Text(0.5, 0, 'Number of trees')"
      ]
     },
     "execution_count": 62,
     "metadata": {},
     "output_type": "execute_result"
    },
    {
     "data": {
      "image/png": "[encoded data removed]",
      "text/plain": [
       "<Figure size 400x250 with 1 Axes>"
      ]
     },
     "metadata": {},
     "output_type": "display_data"
    }
   ],
   "source": [
    "#Tuning only the number of trees in the model\n",
    "def get_models():\n",
    "    models = dict()\n",
    "    # define number of trees to consider\n",
    "    n_trees = [10, 20, 40, 50, 70]\n",
    "    for n in n_trees:\n",
    "        models[str(n)] = AdaBoostClassifier(n_estimators=n,random_state=1)\n",
    "    return models\n",
    "\n",
    "# evaluate a given model using cross-validation\n",
    "def evaluate_model(model, X_train, y_train):\n",
    "    # define the evaluation procedure\n",
    "    cv = KFold(n_splits=5, shuffle=True, random_state=1)\n",
    "    # evaluate the model and collect the results\n",
    "    scores = np.sqrt(-cross_val_score(model, X_train, y_train, scoring='neg_mean_absolute_error', cv=cv, n_jobs=-1))\n",
    "    return scores\n",
    "\n",
    "# get the models to evaluate\n",
    "models = get_models()\n",
    "# evaluate the models and store results\n",
    "results, names = list(), list()\n",
    "for name, model in models.items():\n",
    "    # evaluate the model\n",
    "    scores = evaluate_model(model, X_train, y_train)\n",
    "    # store the results\n",
    "    results.append(scores)\n",
    "    names.append(name)\n",
    "    # summarize the performance along the way\n",
    "    #print('>%s %.3f (%.3f)' % (name, np.mean(scores), np.std(scores)))\n",
    "# plot model performance for comparison\n",
    "plt.figure(figsize=(4, 2.5))\n",
    "plt.boxplot(results, labels=names, showmeans=True)\n",
    "plt.ylabel('Cross validation error',fontsize=10)\n",
    "plt.xlabel('Number of trees',fontsize=10)"
   ]
  },
  {
   "cell_type": "code",
   "execution_count": 61,
   "id": "7fbd62fb",
   "metadata": {},
   "outputs": [
    {
     "data": {
      "text/plain": [
       "Text(0.5, 0, 'Depth of each tree')"
      ]
     },
     "execution_count": 61,
     "metadata": {},
     "output_type": "execute_result"
    },
    {
     "data": {
      "image/png": "[encoded data removed]",
      "text/plain": [
       "<Figure size 400x250 with 1 Axes>"
      ]
     },
     "metadata": {},
     "output_type": "display_data"
    }
   ],
   "source": [
    "# Tuning only the depth of the model\n",
    "def get_models():\n",
    "    models = dict()\n",
    "    n_depth = range(1, 50, 3)\n",
    "    for n in n_depth:\n",
    "        # define base model\n",
    "        base = DecisionTreeClassifier(max_depth=n)\n",
    "        # define ensemble model\n",
    "        models[str(n)] = AdaBoostClassifier(base_estimator=base,n_estimators=50)\n",
    "    return models\n",
    "\n",
    "# evaluate a given model using cross-validation\n",
    "def evaluate_model(model, X_train, y_train):\n",
    "    # define the evaluation procedure\n",
    "    cv = KFold(n_splits=10, shuffle=True, random_state=1)\n",
    "    # evaluate the model and collect the results\n",
    "    scores = np.sqrt(-cross_val_score(model, X_train, y_train, scoring='neg_mean_absolute_error', cv=cv, n_jobs=-1))\n",
    "    return scores\n",
    "\n",
    "# get the models to evaluate\n",
    "models = get_models()\n",
    "# evaluate the models and store results\n",
    "results, names = list(), list()\n",
    "for name, model in models.items():\n",
    "    # evaluate the model\n",
    "    scores = evaluate_model(model, X_train, y_train)\n",
    "    # store the results\n",
    "    results.append(scores)\n",
    "    names.append(name)\n",
    "    # summarize the performance along the way\n",
    "    #print('>%s %.3f (%.3f)' % (name, np.mean(scores), np.std(scores)))\n",
    "plt.figure(figsize=(4, 2.5))\n",
    "plt.boxplot(results, labels=names, showmeans=True)\n",
    "plt.ylabel('Cross validation error',fontsize=10)\n",
    "plt.xlabel('Depth of each tree',fontsize=10)"
   ]
  },
  {
   "cell_type": "code",
   "execution_count": 60,
   "id": "0645d9a6",
   "metadata": {},
   "outputs": [
    {
     "data": {
      "text/plain": [
       "Text(0.5, 0, 'Learning rate')"
      ]
     },
     "execution_count": 60,
     "metadata": {},
     "output_type": "execute_result"
    },
    {
     "data": {
      "image/png": "[encoded data removed]",
      "text/plain": [
       "<Figure size 400x250 with 1 Axes>"
      ]
     },
     "metadata": {},
     "output_type": "display_data"
    }
   ],
   "source": [
    "#Tuning only the learning rate of the model\n",
    "def get_models():\n",
    "    models = dict()\n",
    "    # explore learning rates from 0.1 to 2 in 0.1 increments\n",
    "    n_rate = [0.001, 0.01, 0.1, 1.0, 1.1]\n",
    "    for n in n_rate:\n",
    "        models[n] = AdaBoostClassifier(learning_rate=n)\n",
    "    return models\n",
    "\n",
    "# evaluate a given model using cross-validation\n",
    "def evaluate_model(model, X_train, y_train):\n",
    "    # define the evaluation procedure\n",
    "    cv = KFold(n_splits=10, shuffle=True, random_state=1)\n",
    "    # evaluate the model and collect the results\n",
    "    scores = np.sqrt(-cross_val_score(model, X_train, y_train, scoring='neg_mean_absolute_error', cv=cv, n_jobs=-1))\n",
    "    return scores\n",
    "\n",
    "# get the models to evaluate\n",
    "models = get_models()\n",
    "# evaluate the models and store results\n",
    "results, names = list(), list()\n",
    "for name, model in models.items():\n",
    "    # evaluate the model\n",
    "    scores = evaluate_model(model, X_train, y_train)\n",
    "    # store the results\n",
    "    results.append(scores)\n",
    "    names.append(name)\n",
    "    # summarize the performance along the way\n",
    "    #print('>%s %.1f (%.1f)' % (name, np.mean(scores), np.std(scores)))\n",
    "# plot model performance for comparison\n",
    "plt.figure(figsize=(4, 2.5))\n",
    "plt.boxplot(results, labels=names, showmeans=True)\n",
    "plt.ylabel('Cross validation error',fontsize=10)\n",
    "plt.xlabel('Learning rate',fontsize=10)"
   ]
  },
  {
   "cell_type": "code",
   "execution_count": 25,
   "id": "aa31afe9",
   "metadata": {},
   "outputs": [
    {
     "name": "stderr",
     "output_type": "stream",
     "text": [
      "C:\\Users\\csky2\\anaconda3\\lib\\site-packages\\sklearn\\ensemble\\_base.py:166: FutureWarning: `base_estimator` was renamed to `estimator` in version 1.2 and will be removed in 1.4.\n",
      "  warnings.warn(\n"
     ]
    },
    {
     "name": "stdout",
     "output_type": "stream",
     "text": [
      "Best: 0.798358 using {'base_estimator': DecisionTreeClassifier(max_depth=3), 'learning_rate': 0.001, 'n_estimators': 25}\n"
     ]
    }
   ],
   "source": [
    "#| warning: false\n",
    "#More specifically tuning the hyperparameters of the model\n",
    "model = AdaBoostClassifier(random_state=1)\n",
    "grid = dict()\n",
    "grid['n_estimators'] = [25, 50, 70]\n",
    "grid['learning_rate'] = [0.001, 0.01, 0.1, 1]\n",
    "grid['base_estimator'] = [DecisionTreeClassifier(max_depth=3), DecisionTreeClassifier(max_depth=4), \n",
    "                          DecisionTreeClassifier(max_depth=6)]\n",
    "\n",
    "# define the evaluation procedure\n",
    "cv = KFold(n_splits=5, shuffle=True, random_state=1)\n",
    "\n",
    "# define the grid search procedure\n",
    "grid_search = GridSearchCV(estimator=model, param_grid=grid, n_jobs=-1, cv=cv, scoring='precision')\n",
    "\n",
    "# execute the grid search\n",
    "grid_result = grid_search.fit(X_train, y_train)\n",
    "\n",
    "# summarize the best score and configuration\n",
    "print(\"Best: %f using %s\" % (grid_result.best_score_, grid_result.best_params_))\n",
    "\n",
    "# summarize all scores that were evaluated\n",
    "means = grid_result.cv_results_['mean_test_score']\n",
    "stds = grid_result.cv_results_['std_test_score']\n",
    "params = grid_result.cv_results_['params']"
   ]
  },
  {
   "cell_type": "code",
   "execution_count": 26,
   "id": "47e1f2f4",
   "metadata": {},
   "outputs": [],
   "source": [
    "#Model with most optimal hyperparameters\n",
    "model = AdaBoostClassifier(DecisionTreeClassifier(max_depth=3), random_state=1,n_estimators=25,learning_rate = 0.001).fit(X_train,y_train)\n"
   ]
  },
  {
   "cell_type": "markdown",
   "id": "0fb54ad1",
   "metadata": {},
   "source": [
    "For hyperparameter tuning, I first started with a coare search to get a foundational understanding of what hyperparameters would be most optimal. I then proceeded to tune the number of trees, the depth of the model, and the learning rates individually. I took this approach as the computational time was significantly less, while also allowing me to fine tune one parameter at a time. After finding the optimal values for each hyperparameter, I then performed a fine tuned search where each range of values considered surrounded the optimal values I had previously found. I took this approach so that my grid search could find the best hyperparameter combinations when considered in unison. After this fine tuned search, I felt confident about my results as minor changes to the parameters did not improve my precision accuracy. "
   ]
  },
  {
   "cell_type": "markdown",
   "id": "2916849c",
   "metadata": {
    "id": "2916849c"
   },
   "source": [
    "### Decision Tree\n",
    "*By Tess Wagner*"
   ]
  },
  {
   "cell_type": "code",
   "execution_count": 6,
   "id": "785de070",
   "metadata": {},
   "outputs": [
    {
     "data": {
      "text/html": [
       "<style>#sk-container-id-1 {color: black;background-color: white;}#sk-container-id-1 pre{padding: 0;}#sk-container-id-1 div.sk-toggleable {background-color: white;}#sk-container-id-1 label.sk-toggleable__label {cursor: pointer;display: block;width: 100%;margin-bottom: 0;padding: 0.3em;box-sizing: border-box;text-align: center;}#sk-container-id-1 label.sk-toggleable__label-arrow:before {content: \"▸\";float: left;margin-right: 0.25em;color: #696969;}#sk-container-id-1 label.sk-toggleable__label-arrow:hover:before {color: black;}#sk-container-id-1 div.sk-estimator:hover label.sk-toggleable__label-arrow:before {color: black;}#sk-container-id-1 div.sk-toggleable__content {max-height: 0;max-width: 0;overflow: hidden;text-align: left;background-color: #f0f8ff;}#sk-container-id-1 div.sk-toggleable__content pre {margin: 0.2em;color: black;border-radius: 0.25em;background-color: #f0f8ff;}#sk-container-id-1 input.sk-toggleable__control:checked~div.sk-toggleable__content {max-height: 200px;max-width: 100%;overflow: auto;}#sk-container-id-1 input.sk-toggleable__control:checked~label.sk-toggleable__label-arrow:before {content: \"▾\";}#sk-container-id-1 div.sk-estimator input.sk-toggleable__control:checked~label.sk-toggleable__label {background-color: #d4ebff;}#sk-container-id-1 div.sk-label input.sk-toggleable__control:checked~label.sk-toggleable__label {background-color: #d4ebff;}#sk-container-id-1 input.sk-hidden--visually {border: 0;clip: rect(1px 1px 1px 1px);clip: rect(1px, 1px, 1px, 1px);height: 1px;margin: -1px;overflow: hidden;padding: 0;position: absolute;width: 1px;}#sk-container-id-1 div.sk-estimator {font-family: monospace;background-color: #f0f8ff;border: 1px dotted black;border-radius: 0.25em;box-sizing: border-box;margin-bottom: 0.5em;}#sk-container-id-1 div.sk-estimator:hover {background-color: #d4ebff;}#sk-container-id-1 div.sk-parallel-item::after {content: \"\";width: 100%;border-bottom: 1px solid gray;flex-grow: 1;}#sk-container-id-1 div.sk-label:hover label.sk-toggleable__label {background-color: #d4ebff;}#sk-container-id-1 div.sk-serial::before {content: \"\";position: absolute;border-left: 1px solid gray;box-sizing: border-box;top: 0;bottom: 0;left: 50%;z-index: 0;}#sk-container-id-1 div.sk-serial {display: flex;flex-direction: column;align-items: center;background-color: white;padding-right: 0.2em;padding-left: 0.2em;position: relative;}#sk-container-id-1 div.sk-item {position: relative;z-index: 1;}#sk-container-id-1 div.sk-parallel {display: flex;align-items: stretch;justify-content: center;background-color: white;position: relative;}#sk-container-id-1 div.sk-item::before, #sk-container-id-1 div.sk-parallel-item::before {content: \"\";position: absolute;border-left: 1px solid gray;box-sizing: border-box;top: 0;bottom: 0;left: 50%;z-index: -1;}#sk-container-id-1 div.sk-parallel-item {display: flex;flex-direction: column;z-index: 1;position: relative;background-color: white;}#sk-container-id-1 div.sk-parallel-item:first-child::after {align-self: flex-end;width: 50%;}#sk-container-id-1 div.sk-parallel-item:last-child::after {align-self: flex-start;width: 50%;}#sk-container-id-1 div.sk-parallel-item:only-child::after {width: 0;}#sk-container-id-1 div.sk-dashed-wrapped {border: 1px dashed gray;margin: 0 0.4em 0.5em 0.4em;box-sizing: border-box;padding-bottom: 0.4em;background-color: white;}#sk-container-id-1 div.sk-label label {font-family: monospace;font-weight: bold;display: inline-block;line-height: 1.2em;}#sk-container-id-1 div.sk-label-container {text-align: center;}#sk-container-id-1 div.sk-container {/* jupyter's `normalize.less` sets `[hidden] { display: none; }` but bootstrap.min.css set `[hidden] { display: none !important; }` so we also need the `!important` here to be able to override the default hidden behavior on the sphinx rendered scikit-learn.org. See: https://github.com/scikit-learn/scikit-learn/issues/21755 */display: inline-block !important;position: relative;}#sk-container-id-1 div.sk-text-repr-fallback {display: none;}</style><div id=\"sk-container-id-1\" class=\"sk-top-container\"><div class=\"sk-text-repr-fallback\"><pre>DecisionTreeClassifier(random_state=1)</pre><b>In a Jupyter environment, please rerun this cell to show the HTML representation or trust the notebook. <br />On GitHub, the HTML representation is unable to render, please try loading this page with nbviewer.org.</b></div><div class=\"sk-container\" hidden><div class=\"sk-item\"><div class=\"sk-estimator sk-toggleable\"><input class=\"sk-toggleable__control sk-hidden--visually\" id=\"sk-estimator-id-1\" type=\"checkbox\" checked><label for=\"sk-estimator-id-1\" class=\"sk-toggleable__label sk-toggleable__label-arrow\">DecisionTreeClassifier</label><div class=\"sk-toggleable__content\"><pre>DecisionTreeClassifier(random_state=1)</pre></div></div></div></div></div>"
      ],
      "text/plain": [
       "DecisionTreeClassifier(random_state=1)"
      ]
     },
     "execution_count": 6,
     "metadata": {},
     "output_type": "execute_result"
    }
   ],
   "source": [
    "# making base model to find the range of hyperparameters\n",
    "model_base = DecisionTreeClassifier(random_state = 1)\n",
    "model_base.fit(X_train, y_train)"
   ]
  },
  {
   "cell_type": "code",
   "execution_count": 8,
   "id": "2328d7d3",
   "metadata": {},
   "outputs": [
    {
     "name": "stdout",
     "output_type": "stream",
     "text": [
      "Accuracy:  0.8502069582727374\n",
      "Precision:  0.5462889697736983\n",
      "Recall:  0.5810469617909443\n"
     ]
    }
   ],
   "source": [
    "# accuracy/recall/precision without tuning\n",
    "cross_val_ypred = cross_val_predict(model_base, X_train, y_train, cv = 5, method = 'predict_proba')\n",
    "y_pred = cross_val_ypred[:,1] > 0.5\n",
    "y_pred = y_pred.astype(int)\n",
    "print(\"Accuracy: \",accuracy_score(y_pred, y_train))\n",
    "print(\"Precision: \", precision_score(y_train, y_pred))\n",
    "print(\"Recall: \", recall_score(y_train, y_pred))"
   ]
  },
  {
   "cell_type": "code",
   "execution_count": 9,
   "id": "c041d6b2",
   "metadata": {},
   "outputs": [
    {
     "name": "stdout",
     "output_type": "stream",
     "text": [
      "Maximum tree depth = 34\n",
      "Maximum leaves = 4737\n"
     ]
    }
   ],
   "source": [
    "# finding range of hyperparameters\n",
    "print(\"Maximum tree depth =\", model_base.get_depth())\n",
    "print(\"Maximum leaves =\", model_base.get_n_leaves())"
   ]
  },
  {
   "cell_type": "code",
   "execution_count": 10,
   "id": "f446b9cb",
   "metadata": {},
   "outputs": [
    {
     "name": "stdout",
     "output_type": "stream",
     "text": [
      "Fitting 5 folds for each of 1680 candidates, totalling 8400 fits\n"
     ]
    },
    {
     "data": {
      "text/html": [
       "<style>#sk-container-id-2 {color: black;background-color: white;}#sk-container-id-2 pre{padding: 0;}#sk-container-id-2 div.sk-toggleable {background-color: white;}#sk-container-id-2 label.sk-toggleable__label {cursor: pointer;display: block;width: 100%;margin-bottom: 0;padding: 0.3em;box-sizing: border-box;text-align: center;}#sk-container-id-2 label.sk-toggleable__label-arrow:before {content: \"▸\";float: left;margin-right: 0.25em;color: #696969;}#sk-container-id-2 label.sk-toggleable__label-arrow:hover:before {color: black;}#sk-container-id-2 div.sk-estimator:hover label.sk-toggleable__label-arrow:before {color: black;}#sk-container-id-2 div.sk-toggleable__content {max-height: 0;max-width: 0;overflow: hidden;text-align: left;background-color: #f0f8ff;}#sk-container-id-2 div.sk-toggleable__content pre {margin: 0.2em;color: black;border-radius: 0.25em;background-color: #f0f8ff;}#sk-container-id-2 input.sk-toggleable__control:checked~div.sk-toggleable__content {max-height: 200px;max-width: 100%;overflow: auto;}#sk-container-id-2 input.sk-toggleable__control:checked~label.sk-toggleable__label-arrow:before {content: \"▾\";}#sk-container-id-2 div.sk-estimator input.sk-toggleable__control:checked~label.sk-toggleable__label {background-color: #d4ebff;}#sk-container-id-2 div.sk-label input.sk-toggleable__control:checked~label.sk-toggleable__label {background-color: #d4ebff;}#sk-container-id-2 input.sk-hidden--visually {border: 0;clip: rect(1px 1px 1px 1px);clip: rect(1px, 1px, 1px, 1px);height: 1px;margin: -1px;overflow: hidden;padding: 0;position: absolute;width: 1px;}#sk-container-id-2 div.sk-estimator {font-family: monospace;background-color: #f0f8ff;border: 1px dotted black;border-radius: 0.25em;box-sizing: border-box;margin-bottom: 0.5em;}#sk-container-id-2 div.sk-estimator:hover {background-color: #d4ebff;}#sk-container-id-2 div.sk-parallel-item::after {content: \"\";width: 100%;border-bottom: 1px solid gray;flex-grow: 1;}#sk-container-id-2 div.sk-label:hover label.sk-toggleable__label {background-color: #d4ebff;}#sk-container-id-2 div.sk-serial::before {content: \"\";position: absolute;border-left: 1px solid gray;box-sizing: border-box;top: 0;bottom: 0;left: 50%;z-index: 0;}#sk-container-id-2 div.sk-serial {display: flex;flex-direction: column;align-items: center;background-color: white;padding-right: 0.2em;padding-left: 0.2em;position: relative;}#sk-container-id-2 div.sk-item {position: relative;z-index: 1;}#sk-container-id-2 div.sk-parallel {display: flex;align-items: stretch;justify-content: center;background-color: white;position: relative;}#sk-container-id-2 div.sk-item::before, #sk-container-id-2 div.sk-parallel-item::before {content: \"\";position: absolute;border-left: 1px solid gray;box-sizing: border-box;top: 0;bottom: 0;left: 50%;z-index: -1;}#sk-container-id-2 div.sk-parallel-item {display: flex;flex-direction: column;z-index: 1;position: relative;background-color: white;}#sk-container-id-2 div.sk-parallel-item:first-child::after {align-self: flex-end;width: 50%;}#sk-container-id-2 div.sk-parallel-item:last-child::after {align-self: flex-start;width: 50%;}#sk-container-id-2 div.sk-parallel-item:only-child::after {width: 0;}#sk-container-id-2 div.sk-dashed-wrapped {border: 1px dashed gray;margin: 0 0.4em 0.5em 0.4em;box-sizing: border-box;padding-bottom: 0.4em;background-color: white;}#sk-container-id-2 div.sk-label label {font-family: monospace;font-weight: bold;display: inline-block;line-height: 1.2em;}#sk-container-id-2 div.sk-label-container {text-align: center;}#sk-container-id-2 div.sk-container {/* jupyter's `normalize.less` sets `[hidden] { display: none; }` but bootstrap.min.css set `[hidden] { display: none !important; }` so we also need the `!important` here to be able to override the default hidden behavior on the sphinx rendered scikit-learn.org. See: https://github.com/scikit-learn/scikit-learn/issues/21755 */display: inline-block !important;position: relative;}#sk-container-id-2 div.sk-text-repr-fallback {display: none;}</style><div id=\"sk-container-id-2\" class=\"sk-top-container\"><div class=\"sk-text-repr-fallback\"><pre>GridSearchCV(cv=StratifiedKFold(n_splits=5, random_state=1, shuffle=True),\n",
       "             estimator=DecisionTreeClassifier(random_state=1), n_jobs=-1,\n",
       "             param_grid={&#x27;max_depth&#x27;: range(2, 34, 5),\n",
       "                         &#x27;max_features&#x27;: range(1, 26, 5),\n",
       "                         &#x27;max_leaf_nodes&#x27;: range(2, 4737, 100)},\n",
       "             scoring=&#x27;precision&#x27;, verbose=1)</pre><b>In a Jupyter environment, please rerun this cell to show the HTML representation or trust the notebook. <br />On GitHub, the HTML representation is unable to render, please try loading this page with nbviewer.org.</b></div><div class=\"sk-container\" hidden><div class=\"sk-item sk-dashed-wrapped\"><div class=\"sk-label-container\"><div class=\"sk-label sk-toggleable\"><input class=\"sk-toggleable__control sk-hidden--visually\" id=\"sk-estimator-id-2\" type=\"checkbox\" ><label for=\"sk-estimator-id-2\" class=\"sk-toggleable__label sk-toggleable__label-arrow\">GridSearchCV</label><div class=\"sk-toggleable__content\"><pre>GridSearchCV(cv=StratifiedKFold(n_splits=5, random_state=1, shuffle=True),\n",
       "             estimator=DecisionTreeClassifier(random_state=1), n_jobs=-1,\n",
       "             param_grid={&#x27;max_depth&#x27;: range(2, 34, 5),\n",
       "                         &#x27;max_features&#x27;: range(1, 26, 5),\n",
       "                         &#x27;max_leaf_nodes&#x27;: range(2, 4737, 100)},\n",
       "             scoring=&#x27;precision&#x27;, verbose=1)</pre></div></div></div><div class=\"sk-parallel\"><div class=\"sk-parallel-item\"><div class=\"sk-item\"><div class=\"sk-label-container\"><div class=\"sk-label sk-toggleable\"><input class=\"sk-toggleable__control sk-hidden--visually\" id=\"sk-estimator-id-3\" type=\"checkbox\" ><label for=\"sk-estimator-id-3\" class=\"sk-toggleable__label sk-toggleable__label-arrow\">estimator: DecisionTreeClassifier</label><div class=\"sk-toggleable__content\"><pre>DecisionTreeClassifier(random_state=1)</pre></div></div></div><div class=\"sk-serial\"><div class=\"sk-item\"><div class=\"sk-estimator sk-toggleable\"><input class=\"sk-toggleable__control sk-hidden--visually\" id=\"sk-estimator-id-4\" type=\"checkbox\" ><label for=\"sk-estimator-id-4\" class=\"sk-toggleable__label sk-toggleable__label-arrow\">DecisionTreeClassifier</label><div class=\"sk-toggleable__content\"><pre>DecisionTreeClassifier(random_state=1)</pre></div></div></div></div></div></div></div></div></div></div>"
      ],
      "text/plain": [
       "GridSearchCV(cv=StratifiedKFold(n_splits=5, random_state=1, shuffle=True),\n",
       "             estimator=DecisionTreeClassifier(random_state=1), n_jobs=-1,\n",
       "             param_grid={'max_depth': range(2, 34, 5),\n",
       "                         'max_features': range(1, 26, 5),\n",
       "                         'max_leaf_nodes': range(2, 4737, 100)},\n",
       "             scoring='precision', verbose=1)"
      ]
     },
     "execution_count": 10,
     "metadata": {},
     "output_type": "execute_result"
    }
   ],
   "source": [
    "# coarse grid search\n",
    "parameters = {'max_depth':range(2,34, 5),\n",
    "              'max_leaf_nodes':range(2, 4737, 100), \n",
    "              'max_features': range(1, 26, 5)}\n",
    "\n",
    "cv = StratifiedKFold(n_splits = 5,shuffle=True,random_state=1)\n",
    "\n",
    "grid_result = GridSearchCV(DecisionTreeClassifier(random_state=1), parameters, n_jobs=-1,verbose=1,cv=cv,\n",
    "                    scoring='precision')\n",
    "\n",
    "grid_result.fit(X_train, y_train)"
   ]
  },
  {
   "cell_type": "code",
   "execution_count": 11,
   "id": "92d92a5a",
   "metadata": {},
   "outputs": [
    {
     "name": "stdout",
     "output_type": "stream",
     "text": [
      "0.7774043203107854 {'max_depth': 7, 'max_features': 16, 'max_leaf_nodes': 102}\n"
     ]
    }
   ],
   "source": [
    "# best results in the grid search\n",
    "print(grid_result.best_score_, grid_result.best_params_) "
   ]
  },
  {
   "cell_type": "markdown",
   "id": "d4a7a3da",
   "metadata": {},
   "source": [
    "After the original grid search, I did a finer grid search based on the top combinations of values returned by the original grid search. I chose to do another grid search because the original range of values was very wide, and I thought I would try to get a higher training precision."
   ]
  },
  {
   "cell_type": "code",
   "execution_count": 12,
   "id": "ae1cca13",
   "metadata": {},
   "outputs": [
    {
     "name": "stdout",
     "output_type": "stream",
     "text": [
      "Fitting 5 folds for each of 315 candidates, totalling 1575 fits\n"
     ]
    },
    {
     "data": {
      "text/html": [
       "<style>#sk-container-id-3 {color: black;background-color: white;}#sk-container-id-3 pre{padding: 0;}#sk-container-id-3 div.sk-toggleable {background-color: white;}#sk-container-id-3 label.sk-toggleable__label {cursor: pointer;display: block;width: 100%;margin-bottom: 0;padding: 0.3em;box-sizing: border-box;text-align: center;}#sk-container-id-3 label.sk-toggleable__label-arrow:before {content: \"▸\";float: left;margin-right: 0.25em;color: #696969;}#sk-container-id-3 label.sk-toggleable__label-arrow:hover:before {color: black;}#sk-container-id-3 div.sk-estimator:hover label.sk-toggleable__label-arrow:before {color: black;}#sk-container-id-3 div.sk-toggleable__content {max-height: 0;max-width: 0;overflow: hidden;text-align: left;background-color: #f0f8ff;}#sk-container-id-3 div.sk-toggleable__content pre {margin: 0.2em;color: black;border-radius: 0.25em;background-color: #f0f8ff;}#sk-container-id-3 input.sk-toggleable__control:checked~div.sk-toggleable__content {max-height: 200px;max-width: 100%;overflow: auto;}#sk-container-id-3 input.sk-toggleable__control:checked~label.sk-toggleable__label-arrow:before {content: \"▾\";}#sk-container-id-3 div.sk-estimator input.sk-toggleable__control:checked~label.sk-toggleable__label {background-color: #d4ebff;}#sk-container-id-3 div.sk-label input.sk-toggleable__control:checked~label.sk-toggleable__label {background-color: #d4ebff;}#sk-container-id-3 input.sk-hidden--visually {border: 0;clip: rect(1px 1px 1px 1px);clip: rect(1px, 1px, 1px, 1px);height: 1px;margin: -1px;overflow: hidden;padding: 0;position: absolute;width: 1px;}#sk-container-id-3 div.sk-estimator {font-family: monospace;background-color: #f0f8ff;border: 1px dotted black;border-radius: 0.25em;box-sizing: border-box;margin-bottom: 0.5em;}#sk-container-id-3 div.sk-estimator:hover {background-color: #d4ebff;}#sk-container-id-3 div.sk-parallel-item::after {content: \"\";width: 100%;border-bottom: 1px solid gray;flex-grow: 1;}#sk-container-id-3 div.sk-label:hover label.sk-toggleable__label {background-color: #d4ebff;}#sk-container-id-3 div.sk-serial::before {content: \"\";position: absolute;border-left: 1px solid gray;box-sizing: border-box;top: 0;bottom: 0;left: 50%;z-index: 0;}#sk-container-id-3 div.sk-serial {display: flex;flex-direction: column;align-items: center;background-color: white;padding-right: 0.2em;padding-left: 0.2em;position: relative;}#sk-container-id-3 div.sk-item {position: relative;z-index: 1;}#sk-container-id-3 div.sk-parallel {display: flex;align-items: stretch;justify-content: center;background-color: white;position: relative;}#sk-container-id-3 div.sk-item::before, #sk-container-id-3 div.sk-parallel-item::before {content: \"\";position: absolute;border-left: 1px solid gray;box-sizing: border-box;top: 0;bottom: 0;left: 50%;z-index: -1;}#sk-container-id-3 div.sk-parallel-item {display: flex;flex-direction: column;z-index: 1;position: relative;background-color: white;}#sk-container-id-3 div.sk-parallel-item:first-child::after {align-self: flex-end;width: 50%;}#sk-container-id-3 div.sk-parallel-item:last-child::after {align-self: flex-start;width: 50%;}#sk-container-id-3 div.sk-parallel-item:only-child::after {width: 0;}#sk-container-id-3 div.sk-dashed-wrapped {border: 1px dashed gray;margin: 0 0.4em 0.5em 0.4em;box-sizing: border-box;padding-bottom: 0.4em;background-color: white;}#sk-container-id-3 div.sk-label label {font-family: monospace;font-weight: bold;display: inline-block;line-height: 1.2em;}#sk-container-id-3 div.sk-label-container {text-align: center;}#sk-container-id-3 div.sk-container {/* jupyter's `normalize.less` sets `[hidden] { display: none; }` but bootstrap.min.css set `[hidden] { display: none !important; }` so we also need the `!important` here to be able to override the default hidden behavior on the sphinx rendered scikit-learn.org. See: https://github.com/scikit-learn/scikit-learn/issues/21755 */display: inline-block !important;position: relative;}#sk-container-id-3 div.sk-text-repr-fallback {display: none;}</style><div id=\"sk-container-id-3\" class=\"sk-top-container\"><div class=\"sk-text-repr-fallback\"><pre>GridSearchCV(cv=KFold(n_splits=5, random_state=1, shuffle=True),\n",
       "             estimator=DecisionTreeClassifier(random_state=1), n_jobs=-1,\n",
       "             param_grid={&#x27;max_depth&#x27;: range(7, 17, 2),\n",
       "                         &#x27;max_features&#x27;: range(16, 29, 2),\n",
       "                         &#x27;max_leaf_nodes&#x27;: range(90, 300, 25)},\n",
       "             scoring=&#x27;precision&#x27;, verbose=1)</pre><b>In a Jupyter environment, please rerun this cell to show the HTML representation or trust the notebook. <br />On GitHub, the HTML representation is unable to render, please try loading this page with nbviewer.org.</b></div><div class=\"sk-container\" hidden><div class=\"sk-item sk-dashed-wrapped\"><div class=\"sk-label-container\"><div class=\"sk-label sk-toggleable\"><input class=\"sk-toggleable__control sk-hidden--visually\" id=\"sk-estimator-id-5\" type=\"checkbox\" ><label for=\"sk-estimator-id-5\" class=\"sk-toggleable__label sk-toggleable__label-arrow\">GridSearchCV</label><div class=\"sk-toggleable__content\"><pre>GridSearchCV(cv=KFold(n_splits=5, random_state=1, shuffle=True),\n",
       "             estimator=DecisionTreeClassifier(random_state=1), n_jobs=-1,\n",
       "             param_grid={&#x27;max_depth&#x27;: range(7, 17, 2),\n",
       "                         &#x27;max_features&#x27;: range(16, 29, 2),\n",
       "                         &#x27;max_leaf_nodes&#x27;: range(90, 300, 25)},\n",
       "             scoring=&#x27;precision&#x27;, verbose=1)</pre></div></div></div><div class=\"sk-parallel\"><div class=\"sk-parallel-item\"><div class=\"sk-item\"><div class=\"sk-label-container\"><div class=\"sk-label sk-toggleable\"><input class=\"sk-toggleable__control sk-hidden--visually\" id=\"sk-estimator-id-6\" type=\"checkbox\" ><label for=\"sk-estimator-id-6\" class=\"sk-toggleable__label sk-toggleable__label-arrow\">estimator: DecisionTreeClassifier</label><div class=\"sk-toggleable__content\"><pre>DecisionTreeClassifier(random_state=1)</pre></div></div></div><div class=\"sk-serial\"><div class=\"sk-item\"><div class=\"sk-estimator sk-toggleable\"><input class=\"sk-toggleable__control sk-hidden--visually\" id=\"sk-estimator-id-7\" type=\"checkbox\" ><label for=\"sk-estimator-id-7\" class=\"sk-toggleable__label sk-toggleable__label-arrow\">DecisionTreeClassifier</label><div class=\"sk-toggleable__content\"><pre>DecisionTreeClassifier(random_state=1)</pre></div></div></div></div></div></div></div></div></div></div>"
      ],
      "text/plain": [
       "GridSearchCV(cv=KFold(n_splits=5, random_state=1, shuffle=True),\n",
       "             estimator=DecisionTreeClassifier(random_state=1), n_jobs=-1,\n",
       "             param_grid={'max_depth': range(7, 17, 2),\n",
       "                         'max_features': range(16, 29, 2),\n",
       "                         'max_leaf_nodes': range(90, 300, 25)},\n",
       "             scoring='precision', verbose=1)"
      ]
     },
     "execution_count": 12,
     "metadata": {},
     "output_type": "execute_result"
    }
   ],
   "source": [
    "# finer grid search\n",
    "parameters = {'max_depth':range(7,17, 2),\n",
    "              'max_leaf_nodes':range(90, 300, 25), \n",
    "              'max_features': range(16, 29, 2)}\n",
    "\n",
    "cv = KFold(n_splits = 5,shuffle=True,random_state=1)\n",
    "\n",
    "grid_result = GridSearchCV(DecisionTreeClassifier(random_state=1), parameters, n_jobs=-1,verbose=1,cv=cv,\n",
    "                    scoring='precision')\n",
    "\n",
    "grid_result.fit(X_train, y_train)"
   ]
  },
  {
   "cell_type": "code",
   "execution_count": 13,
   "id": "70c26746",
   "metadata": {},
   "outputs": [
    {
     "name": "stdout",
     "output_type": "stream",
     "text": [
      "0.7836584372111675 {'max_depth': 9, 'max_features': 20, 'max_leaf_nodes': 140}\n"
     ]
    }
   ],
   "source": [
    "# best results in the grid search\n",
    "print (grid_result.best_score_, grid_result.best_params_) "
   ]
  },
  {
   "cell_type": "code",
   "execution_count": 31,
   "id": "f70d0f52",
   "metadata": {},
   "outputs": [
    {
     "data": {
      "text/html": [
       "<style>#sk-container-id-2 {color: black;background-color: white;}#sk-container-id-2 pre{padding: 0;}#sk-container-id-2 div.sk-toggleable {background-color: white;}#sk-container-id-2 label.sk-toggleable__label {cursor: pointer;display: block;width: 100%;margin-bottom: 0;padding: 0.3em;box-sizing: border-box;text-align: center;}#sk-container-id-2 label.sk-toggleable__label-arrow:before {content: \"▸\";float: left;margin-right: 0.25em;color: #696969;}#sk-container-id-2 label.sk-toggleable__label-arrow:hover:before {color: black;}#sk-container-id-2 div.sk-estimator:hover label.sk-toggleable__label-arrow:before {color: black;}#sk-container-id-2 div.sk-toggleable__content {max-height: 0;max-width: 0;overflow: hidden;text-align: left;background-color: #f0f8ff;}#sk-container-id-2 div.sk-toggleable__content pre {margin: 0.2em;color: black;border-radius: 0.25em;background-color: #f0f8ff;}#sk-container-id-2 input.sk-toggleable__control:checked~div.sk-toggleable__content {max-height: 200px;max-width: 100%;overflow: auto;}#sk-container-id-2 input.sk-toggleable__control:checked~label.sk-toggleable__label-arrow:before {content: \"▾\";}#sk-container-id-2 div.sk-estimator input.sk-toggleable__control:checked~label.sk-toggleable__label {background-color: #d4ebff;}#sk-container-id-2 div.sk-label input.sk-toggleable__control:checked~label.sk-toggleable__label {background-color: #d4ebff;}#sk-container-id-2 input.sk-hidden--visually {border: 0;clip: rect(1px 1px 1px 1px);clip: rect(1px, 1px, 1px, 1px);height: 1px;margin: -1px;overflow: hidden;padding: 0;position: absolute;width: 1px;}#sk-container-id-2 div.sk-estimator {font-family: monospace;background-color: #f0f8ff;border: 1px dotted black;border-radius: 0.25em;box-sizing: border-box;margin-bottom: 0.5em;}#sk-container-id-2 div.sk-estimator:hover {background-color: #d4ebff;}#sk-container-id-2 div.sk-parallel-item::after {content: \"\";width: 100%;border-bottom: 1px solid gray;flex-grow: 1;}#sk-container-id-2 div.sk-label:hover label.sk-toggleable__label {background-color: #d4ebff;}#sk-container-id-2 div.sk-serial::before {content: \"\";position: absolute;border-left: 1px solid gray;box-sizing: border-box;top: 0;bottom: 0;left: 50%;z-index: 0;}#sk-container-id-2 div.sk-serial {display: flex;flex-direction: column;align-items: center;background-color: white;padding-right: 0.2em;padding-left: 0.2em;position: relative;}#sk-container-id-2 div.sk-item {position: relative;z-index: 1;}#sk-container-id-2 div.sk-parallel {display: flex;align-items: stretch;justify-content: center;background-color: white;position: relative;}#sk-container-id-2 div.sk-item::before, #sk-container-id-2 div.sk-parallel-item::before {content: \"\";position: absolute;border-left: 1px solid gray;box-sizing: border-box;top: 0;bottom: 0;left: 50%;z-index: -1;}#sk-container-id-2 div.sk-parallel-item {display: flex;flex-direction: column;z-index: 1;position: relative;background-color: white;}#sk-container-id-2 div.sk-parallel-item:first-child::after {align-self: flex-end;width: 50%;}#sk-container-id-2 div.sk-parallel-item:last-child::after {align-self: flex-start;width: 50%;}#sk-container-id-2 div.sk-parallel-item:only-child::after {width: 0;}#sk-container-id-2 div.sk-dashed-wrapped {border: 1px dashed gray;margin: 0 0.4em 0.5em 0.4em;box-sizing: border-box;padding-bottom: 0.4em;background-color: white;}#sk-container-id-2 div.sk-label label {font-family: monospace;font-weight: bold;display: inline-block;line-height: 1.2em;}#sk-container-id-2 div.sk-label-container {text-align: center;}#sk-container-id-2 div.sk-container {/* jupyter's `normalize.less` sets `[hidden] { display: none; }` but bootstrap.min.css set `[hidden] { display: none !important; }` so we also need the `!important` here to be able to override the default hidden behavior on the sphinx rendered scikit-learn.org. See: https://github.com/scikit-learn/scikit-learn/issues/21755 */display: inline-block !important;position: relative;}#sk-container-id-2 div.sk-text-repr-fallback {display: none;}</style><div id=\"sk-container-id-2\" class=\"sk-top-container\"><div class=\"sk-text-repr-fallback\"><pre>DecisionTreeClassifier(max_depth=9, max_features=20, max_leaf_nodes=140,\n",
       "                       random_state=1)</pre><b>In a Jupyter environment, please rerun this cell to show the HTML representation or trust the notebook. <br />On GitHub, the HTML representation is unable to render, please try loading this page with nbviewer.org.</b></div><div class=\"sk-container\" hidden><div class=\"sk-item\"><div class=\"sk-estimator sk-toggleable\"><input class=\"sk-toggleable__control sk-hidden--visually\" id=\"sk-estimator-id-2\" type=\"checkbox\" checked><label for=\"sk-estimator-id-2\" class=\"sk-toggleable__label sk-toggleable__label-arrow\">DecisionTreeClassifier</label><div class=\"sk-toggleable__content\"><pre>DecisionTreeClassifier(max_depth=9, max_features=20, max_leaf_nodes=140,\n",
       "                       random_state=1)</pre></div></div></div></div></div>"
      ],
      "text/plain": [
       "DecisionTreeClassifier(max_depth=9, max_features=20, max_leaf_nodes=140,\n",
       "                       random_state=1)"
      ]
     },
     "execution_count": 31,
     "metadata": {},
     "output_type": "execute_result"
    }
   ],
   "source": [
    "# training the model with the best results\n",
    "model = DecisionTreeClassifier(random_state = 1, max_depth= 9, max_features = 20, max_leaf_nodes = 140)\n",
    "model.fit(X_train, y_train)"
   ]
  },
  {
   "cell_type": "code",
   "execution_count": 32,
   "id": "ba54417b",
   "metadata": {},
   "outputs": [
    {
     "data": {
      "image/png": "[encoded data removed]",
      "text/plain": [
       "<Figure size 400x400 with 1 Axes>"
      ]
     },
     "metadata": {},
     "output_type": "display_data"
    }
   ],
   "source": [
    "# finding the optimal decision threshold probability to maximize precision\n",
    "cross_val_ypred = cross_val_predict(model, X_train, y_train, cv = 5, method = 'predict_proba')\n",
    "\n",
    "p, r, thresholds = precision_recall_curve(y_train, cross_val_ypred[:,1])\n",
    "acc = np.ndarray(shape = (len(thresholds),))\n",
    "i = 0\n",
    "for th in thresholds:\n",
    "    y_pred = cross_val_ypred[:,1] > th\n",
    "    y_pred = y_pred.astype(int)\n",
    "    acc[i] = accuracy_score(y_pred, y_train)\n",
    "    i = i + 1\n",
    "def plot_precision_recall_vs_threshold(precisions, recalls, thresholds):\n",
    "    plt.figure(figsize=(4, 4))\n",
    "    plt.title(\"Precision and Recall Scores as a function of the decision threshold\")\n",
    "    plt.plot(thresholds, precisions[:-1], \"b--\", label=\"Precision\")\n",
    "    plt.plot(thresholds, recalls[:-1], \"g-\", label=\"Recall\")\n",
    "    plt.plot(thresholds, acc, \"r-\", label=\"Accuracy\")\n",
    "    plt.plot(thresholds, precisions[:-1], \"o\", color = 'blue')\n",
    "    plt.plot(thresholds, recalls[:-1], \"o\", color = 'green')\n",
    "    plt.plot(thresholds, acc, \"o\", color = 'red')\n",
    "    plt.ylabel(\"Score\")\n",
    "    plt.xlabel(\"Decision Threshold\")\n",
    "    plt.legend(loc='best')\n",
    "    plt.legend()\n",
    "plot_precision_recall_vs_threshold(p, r, thresholds)"
   ]
  },
  {
   "cell_type": "code",
   "execution_count": 33,
   "id": "6e0f9a30",
   "metadata": {},
   "outputs": [
    {
     "data": {
      "text/html": [
       "<div>\n",
       "<style scoped>\n",
       "    .dataframe tbody tr th:only-of-type {\n",
       "        vertical-align: middle;\n",
       "    }\n",
       "\n",
       "    .dataframe tbody tr th {\n",
       "        vertical-align: top;\n",
       "    }\n",
       "\n",
       "    .dataframe thead th {\n",
       "        text-align: right;\n",
       "    }\n",
       "</style>\n",
       "<table border=\"1\" class=\"dataframe\">\n",
       "  <thead>\n",
       "    <tr style=\"text-align: right;\">\n",
       "      <th></th>\n",
       "      <th>thresholds</th>\n",
       "      <th>precision</th>\n",
       "      <th>recall</th>\n",
       "      <th>accuracy</th>\n",
       "    </tr>\n",
       "  </thead>\n",
       "  <tbody>\n",
       "    <tr>\n",
       "      <th>347</th>\n",
       "      <td>0.947368</td>\n",
       "      <td>0.90417</td>\n",
       "      <td>0.172449</td>\n",
       "      <td>0.8598</td>\n",
       "    </tr>\n",
       "  </tbody>\n",
       "</table>\n",
       "</div>"
      ],
      "text/plain": [
       "     thresholds  precision    recall  accuracy\n",
       "347    0.947368    0.90417  0.172449    0.8598"
      ]
     },
     "execution_count": 33,
     "metadata": {},
     "output_type": "execute_result"
    }
   ],
   "source": [
    "all_thresholds = pd.DataFrame({'thresholds': thresholds, \n",
    "                           'precision': p[:-1],\n",
    "                           'recall': r[:-1],\n",
    "                           'accuracy': acc})\n",
    "all_thresholds.sort_values('precision', ascending=False).head(1)"
   ]
  },
  {
   "cell_type": "code",
   "execution_count": 34,
   "id": "d2be8c7e",
   "metadata": {},
   "outputs": [
    {
     "name": "stdout",
     "output_type": "stream",
     "text": [
      "Accuracy:  0.8603031659022262\n",
      "ROC-AUC:  0.9089531201557569\n",
      "Precision:  0.9730848861283644\n",
      "Recall:  0.1590793704518531\n"
     ]
    },
    {
     "data": {
      "image/png": "[encoded data removed]",
      "text/plain": [
       "<Figure size 400x400 with 2 Axes>"
      ]
     },
     "metadata": {},
     "output_type": "display_data"
    }
   ],
   "source": [
    "optimal_threshold = all_thresholds.sort_values('precision', ascending=False).loc[347, 'thresholds']\n",
    "\n",
    "y_pred_prob = model.predict_proba(X_train)[:,1] \n",
    "\n",
    "# Classifying observations in the positive class (y = 1) if the predicted probability is greater\n",
    "# than the desired decision threshold probability\n",
    "y_pred = y_pred_prob > optimal_threshold\n",
    "y_pred = y_pred.astype(int)\n",
    "\n",
    "#Computing the accuracy\n",
    "print(\"Accuracy: \",accuracy_score(y_pred, y_train))  \n",
    "\n",
    "#Computing the ROC-AUC\n",
    "fpr, tpr, auc_thresholds = roc_curve(y_train, y_pred_prob)\n",
    "print(\"ROC-AUC: \",auc(fpr, tpr))# AUC of ROC\n",
    "\n",
    "#Computing the precision and recall\n",
    "print(\"Precision: \", precision_score(y_train, y_pred))\n",
    "print(\"Recall: \", recall_score(y_train, y_pred))\n",
    "\n",
    "#Confusion matrix\n",
    "cm = pd.DataFrame(confusion_matrix(y_train, y_pred), \n",
    "                  columns=['Predicted 0', 'Predicted 1'], index = ['Actual 0', 'Actual 1'])\n",
    "\n",
    "fig, ax = plt.subplots(figsize=(4,4))\n",
    "sns.heatmap(ax=ax, data=cm, annot=True, cmap='Blues', fmt='g');"
   ]
  },
  {
   "cell_type": "code",
   "execution_count": 35,
   "id": "bc4cfccf",
   "metadata": {},
   "outputs": [
    {
     "name": "stdout",
     "output_type": "stream",
     "text": [
      "Test Accuracy:  0.8562639821029083\n",
      "Test ROC-AUC:  0.8878818563872182\n",
      "Test Precision:  0.9148936170212766\n",
      "Test Recall:  0.14527027027027026\n"
     ]
    },
    {
     "data": {
      "image/png": "[encoded data removed]",
      "text/plain": [
       "<Figure size 400x400 with 2 Axes>"
      ]
     },
     "metadata": {},
     "output_type": "display_data"
    }
   ],
   "source": [
    "y_pred_prob = model.predict_proba(X_test)[:,1] \n",
    "\n",
    "# Classifying observations in the positive class (y = 1) if the predicted probability is greater\n",
    "# than the desired decision threshold probability\n",
    "y_pred = y_pred_prob > optimal_threshold\n",
    "y_pred = y_pred.astype(int)\n",
    "\n",
    "#Computing the accuracy\n",
    "print(\"Test Accuracy: \",accuracy_score(y_pred, y_test))  \n",
    "\n",
    "#Computing the ROC-AUC\n",
    "fpr, tpr, auc_thresholds = roc_curve(y_test, y_pred_prob)\n",
    "print(\"Test ROC-AUC: \",auc(fpr, tpr))# AUC of ROC\n",
    "\n",
    "#Computing the precision and recall\n",
    "print(\"Test Precision: \", precision_score(y_test, y_pred))\n",
    "print(\"Test Recall: \", recall_score(y_test, y_pred))\n",
    "\n",
    "#Confusion matrix\n",
    "cm = pd.DataFrame(confusion_matrix(y_test, y_pred), \n",
    "                  columns=['Predicted 0', 'Predicted 1'], index = ['Actual 0', 'Actual 1'])\n",
    "\n",
    "fig, ax = plt.subplots(figsize=(4,4))\n",
    "sns.heatmap(ax=ax, data=cm, annot=True, cmap='Blues', fmt='g');"
   ]
  },
  {
   "cell_type": "markdown",
   "id": "7b6be18a",
   "metadata": {},
   "source": [
    "The cross validated training accuracy of the tuned model has stayed about the same, the training recall has decreased by about 43%, and the training precision has improved by about 43% compared to the base model. There were only 20 movies that were predicted to produce revenue and did not with this model.\n",
    "\n",
    "After finding the optimal hyperparameters using grid searches, I used cost-complexity pruning to find the optimal `ccp_alpha`. Next, I found the optimal decsision threshold probability to maximize precision. When using this decision threshold, this model predicted every observation as 0. In the process of trying to maximize precision, this model became too conservative. Using this cutoff is not useful because main idea of our project is to determine which movies will produce revenue. After choosing the threshold with the highest precision that didn't only predict zeros, the cross validated training precision was about 14% lower than the precision of the model with the tuned hyperparameters. \n",
    "\n",
    "I tried one more model where I used a grid search to find the optimal `ccp_alpha` and the optimal hyperparameters simultaneously. After tuning the decision threshold probability with the cross validated training predictions, the training precision was still slightly lower than the training precision of the model with just the tuned hyperparameters. Ultimately, the model with only the tuned hyperparameters had the best performance."
   ]
  },
  {
   "cell_type": "markdown",
   "id": "37f552ef",
   "metadata": {
    "id": "37f552ef"
   },
   "source": [
    "### XGBoost\n",
    "*By Samuel Sword*"
   ]
  },
  {
   "cell_type": "code",
   "execution_count": null,
   "id": "Dno1wvVmi_KI",
   "metadata": {
    "id": "Dno1wvVmi_KI"
   },
   "outputs": [],
   "source": [
    "model = xgb.XGBClassifier().fit(X_train, y_train)"
   ]
  },
  {
   "cell_type": "code",
   "execution_count": null,
   "id": "qenYolPwjEqQ",
   "metadata": {
    "colab": {
     "base_uri": "https://localhost:8080/"
    },
    "id": "qenYolPwjEqQ",
    "outputId": "969bf2bd-ba05-4c2f-f407-e4cb4b453a0e"
   },
   "outputs": [
    {
     "name": "stdout",
     "output_type": "stream",
     "text": [
      "Test data performance metrics (with decision threshold of 0.818):\n",
      "Accuracy:  88.5234899328859\n",
      "Precision:  0.8982456140350877\n"
     ]
    }
   ],
   "source": [
    "# Performance metrics computation for the optimum decision threshold probability\n",
    "desired_threshold = 0.85\n",
    "\n",
    "y_pred_prob = model.predict_proba(X_test)[:,1] \n",
    "\n",
    "# Classifying observations in the positive class (y = 1) if the predicted probability is greater\n",
    "# than the desired decision threshold probability\n",
    "y_pred = y_pred_prob > desired_threshold\n",
    "y_pred = y_pred.astype(int)\n",
    "\n",
    "print('Test data performance metrics (with decision threshold of 0.818):')\n",
    "#Computing the accuracy\n",
    "print(\"Accuracy: \",accuracy_score(y_pred, y_test)*100)  \n",
    "#Computing the recall\n",
    "print(\"Precision: \", precision_score(y_test, y_pred))"
   ]
  },
  {
   "cell_type": "markdown",
   "id": "zbtMSwgCy7-h",
   "metadata": {
    "id": "zbtMSwgCy7-h"
   },
   "source": [
    "The naive model performs fairly well; however, hyperparameter tuning was done to optimize the model."
   ]
  },
  {
   "cell_type": "code",
   "execution_count": null,
   "id": "u7AJKchdaz3E",
   "metadata": {
    "colab": {
     "base_uri": "https://localhost:8080/"
    },
    "id": "u7AJKchdaz3E",
    "outputId": "92050642-bb7f-48eb-cce6-4655572b09a4"
   },
   "outputs": [
    {
     "name": "stdout",
     "output_type": "stream",
     "text": [
      "Fitting 5 folds for each of 200 candidates, totalling 1000 fits\n"
     ]
    },
    {
     "name": "stderr",
     "output_type": "stream",
     "text": [
      "/usr/local/lib/python3.10/dist-packages/xgboost/sklearn.py:1395: UserWarning: `use_label_encoder` is deprecated in 1.7.0.\n",
      "  warnings.warn(\"`use_label_encoder` is deprecated in 1.7.0.\")\n"
     ]
    },
    {
     "name": "stdout",
     "output_type": "stream",
     "text": [
      "{'scale_pos_weight': 1.25, 'reg_lambda': 100, 'n_estimators': 100, 'max_depth': 6, 'learning_rate': 0.3, 'gamma': 0} 0.9068128681178177\n",
      "Time taken =  7.520998700459798  minutes\n"
     ]
    }
   ],
   "source": [
    "#| warning: false\n",
    "#randomizedsearch\n",
    "start_time = time.time()\n",
    "param_grid = {'n_estimators':[10,100,500],\n",
    "                'max_depth': [2,4,6,8],\n",
    "              'learning_rate': [0.01,0.1, 0.3],\n",
    "               'gamma':[0,10,100,1000],\n",
    "               'reg_lambda':[0,10,100],\n",
    "                'scale_pos_weight':[1.25,1.75,2.25]#Control the balance of positive and negative weights, useful for unbalanced classes. A typical value to consider: sum(negative instances) / sum(positive instances).\n",
    "             }\n",
    "\n",
    "cv = StratifiedKFold(n_splits=5,shuffle=True,random_state=1)\n",
    "optimal_params = RandomizedSearchCV(estimator=xgb.XGBClassifier(objective = 'binary:logistic',random_state=1,\n",
    "                                                         use_label_encoder=False),\n",
    "                             param_distributions = param_grid,\n",
    "                             n_iter = 200,\n",
    "                             scoring = 'accuracy',\n",
    "                             verbose = 1,\n",
    "                             n_jobs=-1,\n",
    "                             cv = cv)\n",
    "optimal_params.fit(X_train,y_train)\n",
    "print(optimal_params.best_params_,optimal_params.best_score_)\n",
    "print(\"Time taken = \", (time.time()-start_time)/60, \" minutes\")"
   ]
  },
  {
   "cell_type": "markdown",
   "id": "Pb03gszP0oeH",
   "metadata": {
    "id": "Pb03gszP0oeH"
   },
   "source": [
    "Note: after the tuning above, some further grid searches, along with manual tuning of learning rate and n_estimators was done, in which the following parameters were found:"
   ]
  },
  {
   "cell_type": "code",
   "execution_count": 41,
   "id": "TM0ZvhDfXSG4",
   "metadata": {
    "id": "TM0ZvhDfXSG4"
   },
   "outputs": [],
   "source": [
    "import xgboost as xgb\n",
    "model = xgb.XGBClassifier(gamma= 0, learning_rate=0.25, max_depth=6, n_estimators= 150, reg_lambda=100, scale_pos_weight=1).fit(X_train, y_train)"
   ]
  },
  {
   "cell_type": "code",
   "execution_count": null,
   "id": "0NkN4AlU7Jpp",
   "metadata": {
    "colab": {
     "base_uri": "https://localhost:8080/"
    },
    "id": "0NkN4AlU7Jpp",
    "outputId": "ba520c4e-6c85-4d59-dcb7-47d1773d45c7"
   },
   "outputs": [
    {
     "name": "stdout",
     "output_type": "stream",
     "text": [
      "Test data performance metrics:\n",
      "Accuracy:  88.87024608501119\n",
      "Precision:  0.9307282415630551\n"
     ]
    }
   ],
   "source": [
    "# Performance metrics computation for the optimum decision threshold probability\n",
    "desired_threshold = 0.849\n",
    "\n",
    "y_pred_prob = model.predict_proba(X_test)[:,1] \n",
    "\n",
    "# Classifying observations in the positive class (y = 1) if the predicted probability is greater\n",
    "# than the desired decision threshold probability\n",
    "y_pred = y_pred_prob > desired_threshold\n",
    "y_pred = y_pred.astype(int)\n",
    "\n",
    "print('Test data performance metrics:')\n",
    "#Computing the accuracy\n",
    "print(\"Accuracy: \",accuracy_score(y_pred, y_test)*100)  \n",
    "#Computing the recall\n",
    "print(\"Precision: \", precision_score(y_test, y_pred))"
   ]
  },
  {
   "cell_type": "markdown",
   "id": "3_vY_RCH0m_2",
   "metadata": {
    "id": "3_vY_RCH0m_2"
   },
   "source": [
    "#### LassoCV model"
   ]
  },
  {
   "cell_type": "markdown",
   "id": "s4Btbfw78qRV",
   "metadata": {
    "id": "s4Btbfw78qRV"
   },
   "source": [
    "Naive model:"
   ]
  },
  {
   "cell_type": "code",
   "execution_count": 38,
   "id": "QiOJGinD2yJR",
   "metadata": {
    "id": "QiOJGinD2yJR"
   },
   "outputs": [],
   "source": [
    "model = LogisticRegression(penalty='l1', solver='liblinear').fit(X_train, y_train)"
   ]
  },
  {
   "cell_type": "code",
   "execution_count": null,
   "id": "I_5_LJwj2yJR",
   "metadata": {
    "colab": {
     "base_uri": "https://localhost:8080/"
    },
    "id": "I_5_LJwj2yJR",
    "outputId": "9d8e1f2b-1e9a-48a6-d9bd-4283c56bdaf0"
   },
   "outputs": [
    {
     "name": "stdout",
     "output_type": "stream",
     "text": [
      "Test data performance metrics:\n",
      "Accuracy:  88.46756152125279\n",
      "Precision:  0.8931698774080561\n"
     ]
    }
   ],
   "source": [
    "# Performance metrics computation for the optimum decision threshold probability\n",
    "desired_threshold = 0.793\n",
    "y_pred_prob = model.predict_proba(X_test)[:,1] \n",
    "\n",
    "# Classifying observations in the positive class (y = 1) if the predicted probability is greater\n",
    "# than the desired decision threshold probability\n",
    "y_pred = y_pred_prob > desired_threshold\n",
    "y_pred = y_pred.astype(int)\n",
    "\n",
    "print('Test data performance metrics:')\n",
    "#Computing the accuracy\n",
    "print(\"Accuracy: \",accuracy_score(y_pred, y_test)*100)  \n",
    "#Computing the recall\n",
    "print(\"Precision: \", precision_score(y_test, y_pred))"
   ]
  },
  {
   "cell_type": "markdown",
   "id": "DnB-Cr8J8iJh",
   "metadata": {
    "id": "DnB-Cr8J8iJh"
   },
   "source": [
    "Tuning of the hyperparameter C yielded minimal success:"
   ]
  },
  {
   "cell_type": "code",
   "execution_count": 39,
   "id": "N4OVwhaP4cod",
   "metadata": {
    "id": "N4OVwhaP4cod"
   },
   "outputs": [],
   "source": [
    "model = LogisticRegression(penalty='l1', solver='liblinear', C=0.1).fit(X_train, y_train)"
   ]
  },
  {
   "cell_type": "code",
   "execution_count": null,
   "id": "tprs2MiCAqxB",
   "metadata": {
    "colab": {
     "base_uri": "https://localhost:8080/"
    },
    "id": "tprs2MiCAqxB",
    "outputId": "1caefe30-cb87-452c-ebe5-54e13079f2a7"
   },
   "outputs": [
    {
     "name": "stdout",
     "output_type": "stream",
     "text": [
      "Test data performance metrics:\n",
      "Accuracy:  88.46756152125279\n",
      "Precision:  0.8945518453427065\n"
     ]
    }
   ],
   "source": [
    "print('Test data performance metrics:')\n",
    "#Computing the accuracy\n",
    "print(\"Accuracy: \",accuracy_score(y_pred, y_test)*100)  \n",
    "#Computing the recall\n",
    "print(\"Precision: \", precision_score(y_test, y_pred))"
   ]
  },
  {
   "cell_type": "markdown",
   "id": "be2594f1",
   "metadata": {
    "id": "be2594f1"
   },
   "source": [
    "## Model Ensemble "
   ]
  },
  {
   "cell_type": "markdown",
   "id": "66c5924a",
   "metadata": {
    "id": "66c5924a"
   },
   "source": [
    "### Voting ensemble"
   ]
  },
  {
   "cell_type": "code",
   "execution_count": 43,
   "id": "MOTFTV473Ols",
   "metadata": {
    "id": "MOTFTV473Ols"
   },
   "outputs": [],
   "source": [
    "#hard voting\n",
    "predictions = pd.DataFrame({'Decision Tree': y_pred_DT, 'XGBoost': y_pred_XGB, 'ADABoost': y_pred_ADA, 'Random Forest':y_pred_RF, 'Lasso': y_pred_lasso})\n",
    "predictions['majority'] = predictions['Decision Tree'] + predictions.XGBoost + predictions.ADABoost + predictions['Random Forest'] + predictions['Lasso']"
   ]
  },
  {
   "cell_type": "code",
   "execution_count": null,
   "id": "sujrXpvr4Pvp",
   "metadata": {
    "id": "sujrXpvr4Pvp"
   },
   "outputs": [],
   "source": [
    "majority_predictions = []\n",
    "for x in predictions.majority:\n",
    "    if x > 2:\n",
    "        majority_predictions.append(1)\n",
    "    if x <= 2:\n",
    "        majority_predictions.append(0)"
   ]
  },
  {
   "cell_type": "code",
   "execution_count": null,
   "id": "HHwEV2F046sw",
   "metadata": {
    "colab": {
     "base_uri": "https://localhost:8080/"
    },
    "id": "HHwEV2F046sw",
    "outputId": "a0e91c98-588e-4bcc-d3a4-34565ea59d1c"
   },
   "outputs": [
    {
     "name": "stdout",
     "output_type": "stream",
     "text": [
      "Test data performance metrics of ensemble:\n",
      "Accuracy:  87.88590604026845\n",
      "Precision:  0.93058568329718\n"
     ]
    }
   ],
   "source": [
    "print('Test data performance metrics of ensemble:')\n",
    "print('Accuracy:', accuracy_score(y_test, majority_predictions))\n",
    "print('Precision:', precision_score(y_test, majority_predictions))"
   ]
  },
  {
   "cell_type": "markdown",
   "id": "bcff4cda",
   "metadata": {
    "id": "bcff4cda"
   },
   "source": [
    "### Stacking ensemble\n",
    "Try out different models as the metamodel. You may split work as follows. The person who worked on certain types of models *(say AdaBoost and MARS)* also uses those models as a metamodel in the stacking ensemble."
   ]
  },
  {
   "cell_type": "markdown",
   "id": "1b46343d",
   "metadata": {
    "id": "1b46343d"
   },
   "source": [
    "## Limitations of the model with regard to prediction"
   ]
  },
  {
   "cell_type": "markdown",
   "id": "0dc96c13",
   "metadata": {},
   "source": [
    "While our team did find great success optimizing for our performance metrics (accuracy and precision), with more time or resources, we believe there is potential for each of our individual models to be better tuned to the input data. While we did utilize EDA, with more time, we could cater specific EDA to each of our models (i.e which predictors are best for XGBoost, Random Forest, etc...) and likely better prepare our data for our models. Additionally, with more time, we could allocate more resources to tuning the models and ensure we are utilizing the best hyperparameters available.  \n",
    "\n",
    "In terms of convenience, all of our stakeholders (movie studios, actors/actresses, and screenwriters) should have easy access to the relevant predictors in our model as each party has access to a movie's script. With our model, as soon as a script is finalized with runtime, language, and the related, our stakeholders should be able to predict whether the movie script they are analyzing will be profitable or not.  \n",
    "\n",
    "Inherently, when discussing a movie's profitability, there is always a consideration for popular culture of the time and what is profitable during a breadth of years. With changes to popular culture and what audiences want, our model will need to be retrained on more representative data. This limiation is constant as we cannot predict what external changes will occur and their impact on movie viewing; thus, our current will become obselete once a cultural shift occurs in movie viewing and popularity. Hopefully, by retraining our model on newer data, our model can continue to be relevant through these cultural shifts.  "
   ]
  },
  {
   "cell_type": "markdown",
   "id": "62a185cb",
   "metadata": {
    "id": "62a185cb"
   },
   "source": [
    "## Conclusions and Recommendations to stakeholder(s)\n",
    "\n",
    "What conclusions do you draw based on your model? You may draw conclusions based on prediction accuracy, or other performance metrics.\n",
    "\n",
    "How do you use those conclusions to come up with meaningful recommendations for stakeholders? The recommendations must be action-items for stakeholders that they can directly implement without any further analysis. Be as precise as possible. The stakeholder(s) are depending on you to come up with practically implementable recommendations, instead of having to think for themselves.\n",
    "\n",
    "If your recommendations are not practically implementable by stakeholders, how will they help them? Is there some additional data / analysis / domain expertise you need to do to make the recommendations implementable? \n",
    "\n",
    "Do the stakeholder(s) need to be aware about some limitations of your model? Is your model only good for one-time use, or is it possible to update your model at a certain frequency (based on recent data) to keep using it in the future? If it can be used in the future, then for how far into the future?"
   ]
  },
  {
   "cell_type": "markdown",
   "id": "13944897",
   "metadata": {},
   "source": [
    "Based on our models, we have found that our relevant predictors are both greatly accurate, and precise, in their ability to determine whether a movie will be profitable or not. To our stakeholders, we yield a few recommendations.  \n",
    "1. A higher budget leads to profit: From our models, the most important feature for predicting whether a movie would be profitable or not was its budget. While it may seem obvious, pouring more money into a movie that our stakeholders think have the ability to succeed ultimately does increase its probability of finding a profit.  \n",
    "2. Genres have little importance: While there is slight notable difference between the genres, notably, no genre has a significantly higher chance of making a movie profitable. For movie studios, any genre can be profitable depending on other aspects of the movie. For actors, being flexible in roles is still valuable as every genre can thrive. To screenwriters, any type of story can succeed.  \n",
    "While not immediately implementable, our model has shown success in its ability to predict a movie's profit and we would recommend its utilization to all of our stakeholders. As a note, our model is limited to the data it is trained upon and the current trends of movies / popular culture. Our model has the ability to adapt to new trends; however, it must be trained upon up-to date data so that it will be able to properly capture current trend.  "
   ]
  },
  {
   "cell_type": "markdown",
   "id": "5505da5c",
   "metadata": {
    "id": "5505da5c"
   },
   "source": [
    "<html>\n",
    "<style>\n",
    "table, td, th {\n",
    "  border: 1px solid black;\n",
    "}\n",
    "\n",
    "table {\n",
    "  border-collapse: collapse;\n",
    "  width: 100%;\n",
    "}\n",
    "\n",
    "th {\n",
    "  text-align: left;\n",
    "}\n",
    "    \n",
    "\n",
    "</style>\n",
    "<body>\n",
    "\n",
    "<h2>Individual contribution</h2>\n",
    "\n",
    "<table style=\"width:100%\">\n",
    "     <colgroup>\n",
    "       <col span=\"1\" style=\"width: 15%;\">\n",
    "       <col span=\"1\" style=\"width: 20%;\">\n",
    "       <col span=\"1\" style=\"width: 25%;\">\n",
    "       <col span=\"1\" style=\"width: 40%;\">\n",
    "    </colgroup>\n",
    "  <tr>\n",
    "    <th>Team member</th>\n",
    "    <th>Individual Model</th>\n",
    "    <th>Work other than individual model</th>    \n",
    "    <th>Details of work other than individual model</th>\n",
    "  </tr>\n",
    "  <tr>\n",
    "    <td>Elijah Nacar</td>\n",
    "    <td>RandomForestClassifier</td>\n",
    "    <td>Data Search and Performance Metrics</td>    \n",
    "    <td>Searched for data sources and determined performance metrics</td>\n",
    "  </tr>\n",
    "  <tr>\n",
    "    <td>Jack McNally</td>\n",
    "    <td>AdaBoost</td>\n",
    "    <td>Variable selection</td>    \n",
    "    <td>Variable selection based on feature importance</td>\n",
    "  </tr>\n",
    "    <tr>\n",
    "    <td>Tess Wagner</td>\n",
    "    <td>Decision Tree</td>\n",
    "    <td>Data Cleaning, EDA, Ensembling</td>    \n",
    "    <td>Transformed response/predictors, Created tables/plots of variable distributions, Stacking Ensemble</td>\n",
    "  </tr>\n",
    "    <tr>\n",
    "    <td>Sam Sword</td>\n",
    "    <td>XGBoost and Lasso</td>\n",
    "    <td>Ensembling</td>    \n",
    "    <td>Voting ensemble</td> \n",
    "  </tr>\n",
    "</table>"
   ]
  },
  {
   "cell_type": "markdown",
   "id": "00b1cafe",
   "metadata": {
    "id": "00b1cafe"
   },
   "source": [
    "## References {-}"
   ]
  },
  {
   "cell_type": "markdown",
   "id": "ebdb1aad",
   "metadata": {
    "id": "ebdb1aad"
   },
   "source": [
    "List and number all bibliographical references. When referenced in the text, enclose the citation number in square brackets, for example [1].\n",
    "\n",
    "[1] Authors. The frobnicatable foo filter, 2014. Face and Gesture submission ID 324. Supplied as additional material\n",
    "fg324.pdf. 3\n"
   ]
  }
 ],
 "metadata": {
  "colab": {
   "provenance": []
  },
  "kernelspec": {
   "display_name": "Python 3 (ipykernel)",
   "language": "python",
   "name": "python3"
  },
  "language_info": {
   "codemirror_mode": {
    "name": "ipython",
    "version": 3
   },
   "file_extension": ".py",
   "mimetype": "text/x-python",
   "name": "python",
   "nbconvert_exporter": "python",
   "pygments_lexer": "ipython3",
   "version": "3.10.9"
  }
 },
 "nbformat": 4,
 "nbformat_minor": 5
}
