{
<<<<<<< HEAD
  "cells": [
    {
      "cell_type": "raw",
      "id": "33dd6c4c",
      "metadata": {
        "id": "33dd6c4c"
      },
      "source": [
        "---\n",
        "title: \"Project Report\"\n",
        "subtitle: Krish's Fanclub\n",
        "author: Eli Nacar, Jack McNally, Sam Sword, and Tess Wagner\n",
        "date: 05/23/2023\n",
        "number-sections: true\n",
        "abstract: _The ABSTRACT is to be in fully-justified italicized text at the top of the report, below the author information. The abstract section must summarise the problem statement, the developed model(s), the metric(s) optimized and the recommendations to the stakeholders based on the model (if any). You may also briefly mention any major EDA-based insights that helped develop the model or directly translated into recommendations to the stakeholders. However, the abstract must not be more than 200 words in length_.\n",
        "format: \n",
        "  html:\n",
        "    toc: true\n",
        "    toc-title: Contents\n",
        "    self-contained: true\n",
        "    font-size: 100%\n",
        "    toc-depth: 4\n",
        "    mainfont: serif\n",
        "jupyter: python3\n",
        "---"
      ]
    },
    {
      "cell_type": "markdown",
      "id": "aba5ee91",
      "metadata": {
        "id": "aba5ee91"
      },
      "source": [
        "## Length of the report {-}\n",
        "The length of the report must be no more than 15 pages, when printed as PDF. However, there is no requirement on the minimum number of pages.\n",
        "\n",
        "You may put additional stuff as Appendix. You may refer to the Appendix in the main report to support your arguments. However, your appendix is unlikely to be checked while grading, unless the grader deems it necessary. The appendix and references will not be included in the page count, and there is no limit on the length of the appendix.\n",
        "\n",
        "**Delete this section from the report, when using this template.** "
      ]
    },
    {
      "cell_type": "markdown",
      "id": "93d3d9ed",
      "metadata": {
        "id": "93d3d9ed"
      },
      "source": [
        "## Code should be put separately in the code template {-}\n",
        "Your report should be in a research-paper like style. If there is something that can only be explained by showing the code, then you may put it, otherwise do not put the code in the report. We will check your code in the code template. \n",
        "\n",
        "However, feel free to write code that prints output and then hide the code using the *yaml* setting as shown in an example below *(in the EDA section)*\n",
        "\n",
        "**Delete this section from the report, when using this template.** "
      ]
    },
    {
      "cell_type": "markdown",
      "id": "0116f49b",
      "metadata": {
        "id": "0116f49b"
      },
      "source": [
        "## Background / Motivation\n",
        "\n",
        "What motivated you to work on this problem?\n",
        "\n",
        "Mention any background about the problem, if it is required to understand your analysis later on."
      ]
    },
    {
      "cell_type": "markdown",
      "id": "84ff1421",
      "metadata": {
        "id": "84ff1421"
      },
      "source": [
        "## Problem statement \n",
        "\n",
        "Describe your problem statement. Articulate your objectives using absolutely no jargon. "
      ]
    },
    {
      "cell_type": "markdown",
      "id": "38c7b95f",
      "metadata": {
        "id": "38c7b95f"
      },
      "source": [
        "## Data sources\n",
        "What data did you use? Provide details about your data. Include links to data if you are using open-access data."
      ]
    },
    {
      "cell_type": "markdown",
      "id": "8c255035",
      "metadata": {
        "id": "8c255035"
      },
      "source": [
        "## Stakeholders\n",
        "Who cares? If you are successful, what difference will it make to them?"
      ]
    },
    {
      "cell_type": "markdown",
      "id": "fe7ea9bb",
      "metadata": {
        "id": "fe7ea9bb"
      },
      "source": [
        "## Data quality check / cleaning / preparation \n",
        "\n",
        "For all other content, as mentioned below, just provide the highlights *(if any)* and put the details in the appendix.\n",
        "\n",
        "Mention any useful insights you obtained from the data quality check that helped you develop the model or helped you realize the necessary data cleaning / preparation. Its ok if there were none.\n",
        "\n",
        "Were there any potentially incorrect values of variables that required cleaning? If yes, how did you clean them? Were there missing values? How did you handle them? Its ok if the data was already clean.\n",
        "\n",
        "Did you do any data wrangling or data preparation before the data was ready to use for model development? Did you create any new predictors from exisiting predictors? For example, if you have number of transactions and spend in a credit card dataset, you may create spend per transaction for predicting if a customer pays their credit card bill. Mention the steps at a broad level, you may put minor details in the appendix. Only mention the steps that ended up being useful towards developing your model(s)."
      ]
    },
    {
      "cell_type": "code",
      "execution_count": null,
      "id": "842c15f5",
      "metadata": {
        "id": "842c15f5",
        "outputId": "0fc322c3-0ef3-4786-8919-99864acf833c"
      },
      "outputs": [
        {
          "name": "stderr",
          "output_type": "stream",
          "text": [
            "C:\\Users\\csky2\\AppData\\Local\\Temp\\ipykernel_9748\\2482983392.py:5: DtypeWarning: Columns (10) have mixed types. Specify dtype option on import or set low_memory=False.\n",
            "  data_raw = pd.read_csv('movies_metadata.csv')\n"
          ]
        }
      ],
      "source": [
        "#| echo: false\n",
        "import pandas as pd\n",
        "import numpy as np\n",
        "data = pd.read_csv('movies_classification_updated.csv', index_col = 'Unnamed: 0')\n",
        "data_raw = pd.read_csv('movies_metadata.csv')"
      ]
    },
    {
      "cell_type": "markdown",
      "id": "915e610d",
      "metadata": {
        "id": "915e610d"
      },
      "source": [
        "Distribution of Response (original data):"
      ]
    },
    {
      "cell_type": "code",
      "execution_count": null,
      "id": "12181bbf",
      "metadata": {
        "id": "12181bbf",
        "outputId": "5181d387-d855-4ece-8968-69f708bd39db"
      },
      "outputs": [
        {
          "data": {
            "text/html": [
              "<div>\n",
              "<style scoped>\n",
              "    .dataframe tbody tr th:only-of-type {\n",
              "        vertical-align: middle;\n",
              "    }\n",
              "\n",
              "    .dataframe tbody tr th {\n",
              "        vertical-align: top;\n",
              "    }\n",
              "\n",
              "    .dataframe thead th {\n",
              "        text-align: right;\n",
              "    }\n",
              "</style>\n",
              "<table border=\"1\" class=\"dataframe\">\n",
              "  <thead>\n",
              "    <tr style=\"text-align: right;\">\n",
              "      <th></th>\n",
              "      <th>revenue</th>\n",
              "    </tr>\n",
              "  </thead>\n",
              "  <tbody>\n",
              "    <tr>\n",
              "      <th>count</th>\n",
              "      <td>4.546000e+04</td>\n",
              "    </tr>\n",
              "    <tr>\n",
              "      <th>mean</th>\n",
              "      <td>1.120935e+07</td>\n",
              "    </tr>\n",
              "    <tr>\n",
              "      <th>std</th>\n",
              "      <td>6.433225e+07</td>\n",
              "    </tr>\n",
              "    <tr>\n",
              "      <th>min</th>\n",
              "      <td>0.000000e+00</td>\n",
              "    </tr>\n",
              "    <tr>\n",
              "      <th>25%</th>\n",
              "      <td>0.000000e+00</td>\n",
              "    </tr>\n",
              "    <tr>\n",
              "      <th>50%</th>\n",
              "      <td>0.000000e+00</td>\n",
              "    </tr>\n",
              "    <tr>\n",
              "      <th>75%</th>\n",
              "      <td>0.000000e+00</td>\n",
              "    </tr>\n",
              "    <tr>\n",
              "      <th>max</th>\n",
              "      <td>2.787965e+09</td>\n",
              "    </tr>\n",
              "  </tbody>\n",
              "</table>\n",
              "</div>"
            ],
            "text/plain": [
              "            revenue\n",
              "count  4.546000e+04\n",
              "mean   1.120935e+07\n",
              "std    6.433225e+07\n",
              "min    0.000000e+00\n",
              "25%    0.000000e+00\n",
              "50%    0.000000e+00\n",
              "75%    0.000000e+00\n",
              "max    2.787965e+09"
            ]
          },
          "execution_count": 20,
          "metadata": {},
          "output_type": "execute_result"
        }
      ],
      "source": [
        "#| echo: false\n",
        "data_raw.describe()[['revenue']]"
      ]
    },
    {
      "cell_type": "markdown",
      "id": "e914dba8",
      "metadata": {
        "id": "e914dba8"
      },
      "source": [
        "Distribution of Response (cleaned data):"
      ]
    },
    {
      "cell_type": "code",
      "execution_count": null,
      "id": "3db91671",
      "metadata": {
        "id": "3db91671",
        "outputId": "c03bf938-7179-4b52-dc82-1a5c5d886a78"
      },
      "outputs": [
        {
          "data": {
            "text/html": [
              "<div>\n",
              "<style scoped>\n",
              "    .dataframe tbody tr th:only-of-type {\n",
              "        vertical-align: middle;\n",
              "    }\n",
              "\n",
              "    .dataframe tbody tr th {\n",
              "        vertical-align: top;\n",
              "    }\n",
              "\n",
              "    .dataframe thead th {\n",
              "        text-align: right;\n",
              "    }\n",
              "</style>\n",
              "<table border=\"1\" class=\"dataframe\">\n",
              "  <thead>\n",
              "    <tr style=\"text-align: right;\">\n",
              "      <th></th>\n",
              "      <th>revenue</th>\n",
              "    </tr>\n",
              "  </thead>\n",
              "  <tbody>\n",
              "    <tr>\n",
              "      <th>0.0</th>\n",
              "      <td>0.834683</td>\n",
              "    </tr>\n",
              "    <tr>\n",
              "      <th>1.0</th>\n",
              "      <td>0.165317</td>\n",
              "    </tr>\n",
              "  </tbody>\n",
              "</table>\n",
              "</div>"
            ],
            "text/plain": [
              "      revenue\n",
              "0.0  0.834683\n",
              "1.0  0.165317"
            ]
          },
          "execution_count": 16,
          "metadata": {},
          "output_type": "execute_result"
        }
      ],
      "source": [
        "#| echo: false\n",
        "pd.DataFrame(data.revenue.value_counts()/data.shape[0])"
      ]
    },
    {
      "cell_type": "markdown",
      "id": "e7f78db3",
      "metadata": {
        "id": "e7f78db3"
      },
      "source": [
        "In a tabular form, show the distribution of values of each variable used in the analysis - for both categorical and continuous variables. Distribution of a categorical variable must include the number of missing values, the number of unique values, the frequency of all its levels. If a categorical variable has too many levels, you may just include the counts of the top 3-5 levels."
      ]
    },
    {
      "cell_type": "markdown",
      "id": "0e2a9753",
      "metadata": {
        "id": "0e2a9753"
      },
      "source": [
        "Distribution of predictors (original data):"
      ]
    },
    {
      "cell_type": "code",
      "execution_count": null,
      "id": "7e1ab074",
      "metadata": {
        "id": "7e1ab074",
        "outputId": "d04bdd9e-e24c-4731-a184-347722e1e8f4"
      },
      "outputs": [
        {
          "data": {
            "text/html": [
              "<div>\n",
              "<style scoped>\n",
              "    .dataframe tbody tr th:only-of-type {\n",
              "        vertical-align: middle;\n",
              "    }\n",
              "\n",
              "    .dataframe tbody tr th {\n",
              "        vertical-align: top;\n",
              "    }\n",
              "\n",
              "    .dataframe thead th {\n",
              "        text-align: right;\n",
              "    }\n",
              "</style>\n",
              "<table border=\"1\" class=\"dataframe\">\n",
              "  <thead>\n",
              "    <tr style=\"text-align: right;\">\n",
              "      <th></th>\n",
              "      <th>Missing Values Totals</th>\n",
              "      <th>Unique Values Totals</th>\n",
              "    </tr>\n",
              "  </thead>\n",
              "  <tbody>\n",
              "    <tr>\n",
              "      <th>belongs_to_collection</th>\n",
              "      <td>40972</td>\n",
              "      <td>1698</td>\n",
              "    </tr>\n",
              "    <tr>\n",
              "      <th>budget</th>\n",
              "      <td>0</td>\n",
              "      <td>1226</td>\n",
              "    </tr>\n",
              "    <tr>\n",
              "      <th>genres</th>\n",
              "      <td>0</td>\n",
              "      <td>4069</td>\n",
              "    </tr>\n",
              "    <tr>\n",
              "      <th>original_language</th>\n",
              "      <td>11</td>\n",
              "      <td>92</td>\n",
              "    </tr>\n",
              "    <tr>\n",
              "      <th>release_date</th>\n",
              "      <td>87</td>\n",
              "      <td>17336</td>\n",
              "    </tr>\n",
              "    <tr>\n",
              "      <th>runtime</th>\n",
              "      <td>263</td>\n",
              "      <td>353</td>\n",
              "    </tr>\n",
              "  </tbody>\n",
              "</table>\n",
              "</div>"
            ],
            "text/plain": [
              "                       Missing Values Totals  Unique Values Totals\n",
              "belongs_to_collection                  40972                  1698\n",
              "budget                                     0                  1226\n",
              "genres                                     0                  4069\n",
              "original_language                         11                    92\n",
              "release_date                              87                 17336\n",
              "runtime                                  263                   353"
            ]
          },
          "execution_count": 3,
          "metadata": {},
          "output_type": "execute_result"
        }
      ],
      "source": [
        "#| echo: false\n",
        "data_raw_predictors = data_raw.drop(['revenue', 'adult', 'homepage', 'id', 'imdb_id', 'original_title', 'poster_path', 'status', 'video', 'overview', 'production_companies', 'production_countries', 'spoken_languages', 'tagline', 'popularity', 'vote_average', 'vote_count', 'title'], axis=1)\n",
        "isna_preds_raw = data_raw_predictors.isna().sum()\n",
        "nunique_preds_raw = data_raw_predictors.nunique()\n",
        "pd.DataFrame({'Missing Values Totals': isna_preds_raw,\n",
        "             'Unique Values Totals': nunique_preds_raw})"
      ]
    },
    {
      "cell_type": "code",
      "execution_count": null,
      "id": "c632accb",
      "metadata": {
        "id": "c632accb",
        "outputId": "790c5460-05e4-4655-8717-2c759442524e"
      },
      "outputs": [
        {
          "data": {
            "text/html": [
              "<div>\n",
              "<style scoped>\n",
              "    .dataframe tbody tr th:only-of-type {\n",
              "        vertical-align: middle;\n",
              "    }\n",
              "\n",
              "    .dataframe tbody tr th {\n",
              "        vertical-align: top;\n",
              "    }\n",
              "\n",
              "    .dataframe thead th {\n",
              "        text-align: right;\n",
              "    }\n",
              "</style>\n",
              "<table border=\"1\" class=\"dataframe\">\n",
              "  <thead>\n",
              "    <tr style=\"text-align: right;\">\n",
              "      <th></th>\n",
              "      <th></th>\n",
              "      <th>Top Levels</th>\n",
              "      <th>Frequency</th>\n",
              "    </tr>\n",
              "  </thead>\n",
              "  <tbody>\n",
              "    <tr>\n",
              "      <th rowspan=\"3\" valign=\"top\">belongs_to_collection</th>\n",
              "      <th></th>\n",
              "      <td>{'id': 415931, 'name': 'The Bowery Boys', 'pos...</td>\n",
              "      <td>29</td>\n",
              "    </tr>\n",
              "    <tr>\n",
              "      <th></th>\n",
              "      <td>{'id': 421566, 'name': 'Totò Collection', 'pos...</td>\n",
              "      <td>27</td>\n",
              "    </tr>\n",
              "    <tr>\n",
              "      <th></th>\n",
              "      <td>{'id': 645, 'name': 'James Bond Collection', '...</td>\n",
              "      <td>26</td>\n",
              "    </tr>\n",
              "    <tr>\n",
              "      <th rowspan=\"3\" valign=\"top\">budget</th>\n",
              "      <th></th>\n",
              "      <td>0</td>\n",
              "      <td>36573</td>\n",
              "    </tr>\n",
              "    <tr>\n",
              "      <th></th>\n",
              "      <td>5000000</td>\n",
              "      <td>286</td>\n",
              "    </tr>\n",
              "    <tr>\n",
              "      <th></th>\n",
              "      <td>10000000</td>\n",
              "      <td>259</td>\n",
              "    </tr>\n",
              "    <tr>\n",
              "      <th rowspan=\"3\" valign=\"top\">genres</th>\n",
              "      <th></th>\n",
              "      <td>[{'id': 18, 'name': 'Drama'}]</td>\n",
              "      <td>5000</td>\n",
              "    </tr>\n",
              "    <tr>\n",
              "      <th></th>\n",
              "      <td>[{'id': 35, 'name': 'Comedy'}]</td>\n",
              "      <td>3621</td>\n",
              "    </tr>\n",
              "    <tr>\n",
              "      <th></th>\n",
              "      <td>[{'id': 99, 'name': 'Documentary'}]</td>\n",
              "      <td>2723</td>\n",
              "    </tr>\n",
              "    <tr>\n",
              "      <th rowspan=\"3\" valign=\"top\">original_language</th>\n",
              "      <th></th>\n",
              "      <td>en</td>\n",
              "      <td>32269</td>\n",
              "    </tr>\n",
              "    <tr>\n",
              "      <th></th>\n",
              "      <td>fr</td>\n",
              "      <td>2438</td>\n",
              "    </tr>\n",
              "    <tr>\n",
              "      <th></th>\n",
              "      <td>it</td>\n",
              "      <td>1529</td>\n",
              "    </tr>\n",
              "    <tr>\n",
              "      <th rowspan=\"3\" valign=\"top\">release_date</th>\n",
              "      <th></th>\n",
              "      <td>2008-01-01</td>\n",
              "      <td>136</td>\n",
              "    </tr>\n",
              "    <tr>\n",
              "      <th></th>\n",
              "      <td>2009-01-01</td>\n",
              "      <td>121</td>\n",
              "    </tr>\n",
              "    <tr>\n",
              "      <th></th>\n",
              "      <td>2007-01-01</td>\n",
              "      <td>118</td>\n",
              "    </tr>\n",
              "    <tr>\n",
              "      <th rowspan=\"3\" valign=\"top\">runtime</th>\n",
              "      <th></th>\n",
              "      <td>90.0</td>\n",
              "      <td>1558</td>\n",
              "    </tr>\n",
              "    <tr>\n",
              "      <th></th>\n",
              "      <td>0.0</td>\n",
              "      <td>107</td>\n",
              "    </tr>\n",
              "    <tr>\n",
              "      <th></th>\n",
              "      <td>100.0</td>\n",
              "      <td>33</td>\n",
              "    </tr>\n",
              "  </tbody>\n",
              "</table>\n",
              "</div>"
            ],
            "text/plain": [
              "                                                               Top Levels  \\\n",
              "belongs_to_collection   {'id': 415931, 'name': 'The Bowery Boys', 'pos...   \n",
              "                        {'id': 421566, 'name': 'Totò Collection', 'pos...   \n",
              "                        {'id': 645, 'name': 'James Bond Collection', '...   \n",
              "budget                                                                  0   \n",
              "                                                                  5000000   \n",
              "                                                                 10000000   \n",
              "genres                                      [{'id': 18, 'name': 'Drama'}]   \n",
              "                                           [{'id': 35, 'name': 'Comedy'}]   \n",
              "                                      [{'id': 99, 'name': 'Documentary'}]   \n",
              "original_language                                                      en   \n",
              "                                                                       fr   \n",
              "                                                                       it   \n",
              "release_date                                                   2008-01-01   \n",
              "                                                               2009-01-01   \n",
              "                                                               2007-01-01   \n",
              "runtime                                                              90.0   \n",
              "                                                                      0.0   \n",
              "                                                                    100.0   \n",
              "\n",
              "                       Frequency  \n",
              "belongs_to_collection         29  \n",
              "                              27  \n",
              "                              26  \n",
              "budget                     36573  \n",
              "                             286  \n",
              "                             259  \n",
              "genres                      5000  \n",
              "                            3621  \n",
              "                            2723  \n",
              "original_language          32269  \n",
              "                            2438  \n",
              "                            1529  \n",
              "release_date                 136  \n",
              "                             121  \n",
              "                             118  \n",
              "runtime                     1558  \n",
              "                             107  \n",
              "                              33  "
            ]
          },
          "execution_count": 88,
          "metadata": {},
          "output_type": "execute_result"
        }
      ],
      "source": [
        "#| echo: false\n",
        "frequencies = []\n",
        "for col in data_raw_predictors.columns:\n",
        "    for num in range(0, 3):\n",
        "        a = str(data_raw_predictors[col].value_counts().index[num])\n",
        "        b = str(data_raw_predictors[col].value_counts()[num])\n",
        "        holder = [a, b]\n",
        "        frequencies.append(holder)\n",
        "        \n",
        "df_example = pd.DataFrame(frequencies,index = [['belongs_to_collection']*3+['budget']*3+['genres']*3+['original_language']*3+['release_date']*3+['runtime']*3,\n",
        "                                      ['','','',\n",
        "                                       '','','',\n",
        "                                      '','','',\n",
        "                                      '','','',\n",
        "                                      '','','',\n",
        "                                      '','','']],\n",
        "                    columns = ['Top Levels','Frequency'])\n",
        "df_example"
      ]
    },
    {
      "cell_type": "markdown",
      "id": "fbb11c9b",
      "metadata": {
        "id": "fbb11c9b"
      },
      "source": [
        "## Exploratory data analysis"
      ]
    },
    {
      "cell_type": "markdown",
      "id": "e4bd74a9",
      "metadata": {
        "id": "e4bd74a9"
      },
      "source": [
        "If there is any EDA that helped with model development, put it here. If EDA didn't help then mention that, and you may show your EDA effort *(if any)* in the appendix.\n",
        "\n",
        "List the insights (as bullet points), if any, you got from EDA  that ended up being useful towards developing your final model. \n",
        "\n",
        "If there are too many plots / tables, you may put them into appendix, and just mention the insights you got from them."
      ]
    },
    {
      "cell_type": "markdown",
      "id": "d1f12d5d",
      "metadata": {
        "id": "d1f12d5d"
      },
      "source": [
        "Note that you can write code to publish the results of the code, but hide the code using the yaml setting `#|echo: false`. For example, the code below makes a plot, but the code itself is not published with Quarto in the report."
      ]
    },
    {
      "cell_type": "code",
      "execution_count": null,
      "id": "14a59729",
      "metadata": {
        "id": "14a59729",
        "outputId": "d44c30f4-9af9-4137-ba53-14de69bda3ff"
      },
      "outputs": [
        {
          "data": {
            "image/png": "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\n",
            "text/plain": [
              "<Figure size 432x288 with 1 Axes>"
            ]
          },
          "metadata": {
            "needs_background": "light"
          },
          "output_type": "display_data"
        }
      ],
      "source": [
        "#| echo: false\n",
        "import matplotlib.pyplot as plt\n",
        "plt.plot(range(10));"
      ]
    },
    {
      "cell_type": "markdown",
      "id": "d39c782c",
      "metadata": {
        "id": "d39c782c"
      },
      "source": [
        "## Approach\n",
        "\n",
        "What kind of a models did you use? What performance metric(s) did you optimize and why?\n",
        "\n",
        "Is there anything unorthodox / new in your approach? \n",
        "\n",
        "What problems did you anticipate? What problems did you encounter? \n",
        "\n",
        "Did your problem already have solution(s) (posted on Kaggle or elsewhere). If yes, then how did you build upon those solutions, what did you do differently? Is your model better as compared to those solutions in terms of prediction accuracy or your chosen metric?\n",
        "\n",
        "**Important: Mention any code repositories (with citations) or other sources that you used, and specifically what changes you made to them for your project.**"
      ]
    },
    {
      "cell_type": "markdown",
      "id": "acab331a",
      "metadata": {
        "id": "acab331a"
      },
      "source": [
        "## Developing the model: Hyperparameter tuning"
      ]
    },
    {
      "cell_type": "markdown",
      "id": "ae5ec4c9",
      "metadata": {
        "id": "ae5ec4c9"
      },
      "source": [
        "Every person must describe their hyperparameter tuning procedure. Show the grid of hyperparameter values over which the initial search was done *(you may paste your grid search / random search / any other search code)*, and the optimal hyperparameter values obtained. After getting the initial search results, how did you make decisions *(if any)* to further fine-tune your model. Did you do another grid / random search or did you tune hyperparameters sequentially? If you think you didn't need any fine tuning after the initial results, then mention that and explain why.\n",
        "\n",
        "Put each model in a section of its name and mention the name of the team-member tuning the model. Below is an example:"
      ]
    },
    {
      "cell_type": "markdown",
      "id": "ea422beb",
      "metadata": {
        "id": "ea422beb"
      },
      "source": [
        "### Lasso, Ridge & Catboost\n",
        "*By Sylvia Sherwood*"
      ]
    },
    {
      "cell_type": "markdown",
      "id": "b78fbd0e",
      "metadata": {
        "id": "b78fbd0e"
      },
      "source": [
        "### MARS, AdaBoost & LightGBM\n",
        "*By Sankaranarayanan Balasubramanian*"
      ]
    },
    {
      "cell_type": "markdown",
      "id": "2916849c",
      "metadata": {
        "id": "2916849c"
      },
      "source": [
        "### Bagged trees & Random forest\n",
        "*By Fiona Fe*"
      ]
    },
    {
      "cell_type": "markdown",
      "id": "37f552ef",
      "metadata": {
        "id": "37f552ef"
      },
      "source": [
        "### XGBoost & Lasso\n",
        "*By Samuel Sword*"
      ]
    },
    {
      "cell_type": "markdown",
      "source": [
        "####Naive XGBoost model:"
      ],
      "metadata": {
        "id": "SJMFNBxcyytd"
      },
      "id": "SJMFNBxcyytd"
    },
    {
      "cell_type": "code",
      "execution_count": null,
      "metadata": {
        "id": "Dno1wvVmi_KI"
      },
      "outputs": [],
      "source": [
        "model = xgb.XGBClassifier().fit(X_train, y_train)"
      ],
      "id": "Dno1wvVmi_KI"
    },
    {
      "cell_type": "code",
      "execution_count": null,
      "metadata": {
        "colab": {
          "base_uri": "https://localhost:8080/"
        },
        "id": "qenYolPwjEqQ",
        "outputId": "969bf2bd-ba05-4c2f-f407-e4cb4b453a0e"
      },
      "outputs": [
        {
          "name": "stdout",
          "output_type": "stream",
          "text": [
            "Test data performance metrics (with decision threshold of 0.818):\n",
            "Accuracy:  88.5234899328859\n",
            "Precision:  0.8982456140350877\n"
          ]
        }
      ],
      "source": [
        "# Performance metrics computation for the optimum decision threshold probability\n",
        "desired_threshold = 0.85\n",
        "\n",
        "y_pred_prob = model.predict_proba(X_test)[:,1] \n",
        "\n",
        "# Classifying observations in the positive class (y = 1) if the predicted probability is greater\n",
        "# than the desired decision threshold probability\n",
        "y_pred = y_pred_prob > desired_threshold\n",
        "y_pred = y_pred.astype(int)\n",
        "\n",
        "print('Test data performance metrics (with decision threshold of 0.818):')\n",
        "#Computing the accuracy\n",
        "print(\"Accuracy: \",accuracy_score(y_pred, y_test)*100)  \n",
        "#Computing the recall\n",
        "print(\"Precision: \", precision_score(y_test, y_pred))"
      ],
      "id": "qenYolPwjEqQ"
    },
    {
      "cell_type": "markdown",
      "source": [
        "The naive model performs fairly well; however, hyperparameter tuning was done to optimize the model."
      ],
      "metadata": {
        "id": "zbtMSwgCy7-h"
      },
      "id": "zbtMSwgCy7-h"
    },
    {
      "cell_type": "code",
      "execution_count": null,
      "metadata": {
        "colab": {
          "base_uri": "https://localhost:8080/"
        },
        "id": "u7AJKchdaz3E",
        "outputId": "92050642-bb7f-48eb-cce6-4655572b09a4"
      },
      "outputs": [
        {
          "name": "stdout",
          "output_type": "stream",
          "text": [
            "Fitting 5 folds for each of 200 candidates, totalling 1000 fits\n"
          ]
        },
        {
          "name": "stderr",
          "output_type": "stream",
          "text": [
            "/usr/local/lib/python3.10/dist-packages/xgboost/sklearn.py:1395: UserWarning: `use_label_encoder` is deprecated in 1.7.0.\n",
            "  warnings.warn(\"`use_label_encoder` is deprecated in 1.7.0.\")\n"
          ]
        },
        {
          "name": "stdout",
          "output_type": "stream",
          "text": [
            "{'scale_pos_weight': 1.25, 'reg_lambda': 100, 'n_estimators': 100, 'max_depth': 6, 'learning_rate': 0.3, 'gamma': 0} 0.9068128681178177\n",
            "Time taken =  7.520998700459798  minutes\n"
          ]
        }
      ],
      "source": [
        "#randomizedsearch\n",
        "start_time = time.time()\n",
        "param_grid = {'n_estimators':[10,100,500],\n",
        "                'max_depth': [2,4,6,8],\n",
        "              'learning_rate': [0.01,0.1, 0.3],\n",
        "               'gamma':[0,10,100,1000],\n",
        "               'reg_lambda':[0,10,100],\n",
        "                'scale_pos_weight':[1.25,1.75,2.25]#Control the balance of positive and negative weights, useful for unbalanced classes. A typical value to consider: sum(negative instances) / sum(positive instances).\n",
        "             }\n",
        "\n",
        "cv = StratifiedKFold(n_splits=5,shuffle=True,random_state=1)\n",
        "optimal_params = RandomizedSearchCV(estimator=xgb.XGBClassifier(objective = 'binary:logistic',random_state=1,\n",
        "                                                         use_label_encoder=False),\n",
        "                             param_distributions = param_grid,\n",
        "                             n_iter = 200,\n",
        "                             scoring = 'accuracy',\n",
        "                             verbose = 1,\n",
        "                             n_jobs=-1,\n",
        "                             cv = cv)\n",
        "optimal_params.fit(X_train,y_train)\n",
        "print(optimal_params.best_params_,optimal_params.best_score_)\n",
        "print(\"Time taken = \", (time.time()-start_time)/60, \" minutes\")"
      ],
      "id": "u7AJKchdaz3E"
    },
    {
      "cell_type": "markdown",
      "source": [
        "Note: after the tuning above, some further grid searches, along with manual tuning of learning rate and n_estimators was done, in which the following parameters were found:"
      ],
      "metadata": {
        "id": "Pb03gszP0oeH"
      },
      "id": "Pb03gszP0oeH"
    },
    {
      "cell_type": "code",
      "execution_count": null,
      "metadata": {
        "id": "TM0ZvhDfXSG4"
      },
      "outputs": [],
      "source": [
        "model = xgb.XGBClassifier(gamma= 0, learning_rate=0.25, max_depth=6, n_estimators= 150, reg_lambda=100, scale_pos_weight=1).fit(X_train, y_train)"
      ],
      "id": "TM0ZvhDfXSG4"
    },
    {
      "cell_type": "code",
      "execution_count": null,
      "metadata": {
        "colab": {
          "base_uri": "https://localhost:8080/"
        },
        "outputId": "ba520c4e-6c85-4d59-dcb7-47d1773d45c7",
        "id": "0NkN4AlU7Jpp"
      },
      "outputs": [
        {
          "output_type": "stream",
          "name": "stdout",
          "text": [
            "Test data performance metrics:\n",
            "Accuracy:  88.87024608501119\n",
            "Precision:  0.9307282415630551\n"
          ]
        }
      ],
      "source": [
        "# Performance metrics computation for the optimum decision threshold probability\n",
        "desired_threshold = 0.849\n",
        "\n",
        "y_pred_prob = model.predict_proba(X_test)[:,1] \n",
        "\n",
        "# Classifying observations in the positive class (y = 1) if the predicted probability is greater\n",
        "# than the desired decision threshold probability\n",
        "y_pred = y_pred_prob > desired_threshold\n",
        "y_pred = y_pred.astype(int)\n",
        "\n",
        "print('Test data performance metrics:')\n",
        "#Computing the accuracy\n",
        "print(\"Accuracy: \",accuracy_score(y_pred, y_test)*100)  \n",
        "#Computing the recall\n",
        "print(\"Precision: \", precision_score(y_test, y_pred))"
      ],
      "id": "0NkN4AlU7Jpp"
    },
    {
      "cell_type": "markdown",
      "source": [
        "####LassoCV model"
      ],
      "metadata": {
        "id": "3_vY_RCH0m_2"
      },
      "id": "3_vY_RCH0m_2"
    },
    {
      "cell_type": "markdown",
      "source": [
        "Naive model:"
      ],
      "metadata": {
        "id": "s4Btbfw78qRV"
      },
      "id": "s4Btbfw78qRV"
    },
    {
      "cell_type": "code",
      "execution_count": null,
      "metadata": {
        "id": "QiOJGinD2yJR"
      },
      "outputs": [],
      "source": [
        "model = LogisticRegression(penalty='l1', solver='liblinear').fit(X_train, y_train)"
      ],
      "id": "QiOJGinD2yJR"
    },
    {
      "cell_type": "code",
      "execution_count": null,
      "metadata": {
        "colab": {
          "base_uri": "https://localhost:8080/"
        },
        "outputId": "9d8e1f2b-1e9a-48a6-d9bd-4283c56bdaf0",
        "id": "I_5_LJwj2yJR"
      },
      "outputs": [
        {
          "output_type": "stream",
          "name": "stdout",
          "text": [
            "Test data performance metrics:\n",
            "Accuracy:  88.46756152125279\n",
            "Precision:  0.8931698774080561\n"
          ]
        }
      ],
      "source": [
        "# Performance metrics computation for the optimum decision threshold probability\n",
        "desired_threshold = 0.793\n",
        "y_pred_prob = model.predict_proba(X_test)[:,1] \n",
        "\n",
        "# Classifying observations in the positive class (y = 1) if the predicted probability is greater\n",
        "# than the desired decision threshold probability\n",
        "y_pred = y_pred_prob > desired_threshold\n",
        "y_pred = y_pred.astype(int)\n",
        "\n",
        "print('Test data performance metrics:')\n",
        "#Computing the accuracy\n",
        "print(\"Accuracy: \",accuracy_score(y_pred, y_test)*100)  \n",
        "#Computing the recall\n",
        "print(\"Precision: \", precision_score(y_test, y_pred))"
      ],
      "id": "I_5_LJwj2yJR"
    },
    {
      "cell_type": "markdown",
      "source": [
        "Tuning of the hyperparameter C yielded minimal success:"
      ],
      "metadata": {
        "id": "DnB-Cr8J8iJh"
      },
      "id": "DnB-Cr8J8iJh"
    },
    {
      "cell_type": "code",
      "execution_count": null,
      "metadata": {
        "id": "N4OVwhaP4cod"
      },
      "outputs": [],
      "source": [
        "model = LogisticRegression(penalty='l1', solver='liblinear', C=0.1).fit(X_train, y_train)"
      ],
      "id": "N4OVwhaP4cod"
    },
    {
      "cell_type": "code",
      "execution_count": null,
      "metadata": {
        "colab": {
          "base_uri": "https://localhost:8080/"
        },
        "outputId": "1caefe30-cb87-452c-ebe5-54e13079f2a7",
        "id": "tprs2MiCAqxB"
      },
      "outputs": [
        {
          "output_type": "stream",
          "name": "stdout",
          "text": [
            "Test data performance metrics:\n",
            "Accuracy:  88.46756152125279\n",
            "Precision:  0.8945518453427065\n"
          ]
        }
      ],
      "source": [
        "# Performance metrics computation for the optimum decision threshold probability\n",
        "desired_threshold = 0.8\n",
        "y_pred_prob = model.predict_proba(X_test)[:,1] \n",
        "\n",
        "# Classifying observations in the positive class (y = 1) if the predicted probability is greater\n",
        "# than the desired decision threshold probability\n",
        "y_pred = y_pred_prob > desired_threshold\n",
        "y_pred = y_pred.astype(int)\n",
        "\n",
        "print('Test data performance metrics:')\n",
        "#Computing the accuracy\n",
        "print(\"Accuracy: \",accuracy_score(y_pred, y_test)*100)  \n",
        "#Computing the recall\n",
        "print(\"Precision: \", precision_score(y_test, y_pred))"
      ],
      "id": "tprs2MiCAqxB"
    },
    {
      "cell_type": "markdown",
      "id": "be2594f1",
      "metadata": {
        "id": "be2594f1"
      },
      "source": [
        "## Model Ensemble "
      ]
    },
    {
      "cell_type": "markdown",
      "id": "fa68b0a5",
      "metadata": {
        "id": "fa68b0a5"
      },
      "source": [
        "Put the results of enembling individual models. Feel free to add subsections in this section to add more innovative ensembling methods."
      ]
    },
    {
      "cell_type": "markdown",
      "id": "66c5924a",
      "metadata": {
        "id": "66c5924a"
      },
      "source": [
        "### Voting ensemble"
      ]
    },
    {
      "cell_type": "markdown",
      "id": "78a31cb2",
      "metadata": {
        "id": "78a31cb2"
      },
      "source": [
        "The simplest voting ensemble will be the model where all models have equal weights.\n",
        "\n",
        "You may come up with innovative methods of estimating weights of the individual models, such as based on their cross-val error. Sometimes, these methods may work better than stacking ensembles, as stacking ensembles tend to overfit."
      ]
    },
    {
      "cell_type": "code",
      "source": [
        "#hard voting"
      ],
      "metadata": {
        "id": "0KHTNvYKA5U8"
      },
      "id": "0KHTNvYKA5U8",
      "execution_count": null,
      "outputs": []
    },
    {
      "cell_type": "code",
      "source": [
        "predictions = pd.DataFrame({'Decision Tree': y_pred_DT, 'XGBoost': y_pred_XGB, 'ADABoost': y_pred_ADA, 'Random Forest':y_pred_RF, 'Lasso': y_pred_lasso})\n",
        "predictions['majority'] = predictions['Decision Tree'] + predictions.XGBoost + predictions.ADABoost + predictions['Random Forest'] + predictions['Lasso']"
      ],
      "metadata": {
        "id": "MOTFTV473Ols"
      },
      "execution_count": null,
      "outputs": [],
      "id": "MOTFTV473Ols"
    },
    {
      "cell_type": "code",
      "source": [
        "majority_predictions = []\n",
        "for x in predictions.majority:\n",
        "  if x > 2:\n",
        "    majority_predictions.append(1)\n",
        "  if x <= 2:\n",
        "    majority_predictions.append(0)"
      ],
      "metadata": {
        "id": "sujrXpvr4Pvp"
      },
      "execution_count": null,
      "outputs": [],
      "id": "sujrXpvr4Pvp"
    },
    {
      "cell_type": "code",
      "source": [
        "mprecision_score(y_test, majority_predictions))"
      ],
      "metadata": {
        "colab": {
          "base_uri": "https://localhost:8080/"
        },
        "id": "HHwEV2F046sw",
        "outputId": "a0e91c98-588e-4bcc-d3a4-34565ea59d1c"
      },
      "execution_count": null,
      "outputs": [
        {
          "output_type": "stream",
          "name": "stdout",
          "text": [
            "Test data performance metrics of ensemble:\n",
            "Accuracy:  87.88590604026845\n",
            "Precision:  0.93058568329718\n"
          ]
        }
      ],
      "id": "HHwEV2F046sw"
    },
    {
      "cell_type": "markdown",
      "id": "bcff4cda",
      "metadata": {
        "id": "bcff4cda"
      },
      "source": [
        "### Stacking ensemble\n",
        "Try out different models as the metamodel. You may split work as follows. The person who worked on certain types of models *(say AdaBoost and MARS)* also uses those models as a metamodel in the stacking ensemble."
      ]
    },
    {
      "cell_type": "markdown",
      "id": "2b22a5f3",
      "metadata": {
        "id": "2b22a5f3"
      },
      "source": [
        "### Ensemble of ensembled models\n",
        "\n",
        "If you are creating multiple stacking ensembles *(based on different metamodels)*, you may ensemble them."
      ]
    },
    {
      "cell_type": "markdown",
      "id": "36fe5f5f",
      "metadata": {
        "id": "36fe5f5f"
      },
      "source": [
        "### Innovative ensembling methods\n",
        "*(Optional)*\n",
        "\n",
        "Some models may do better on certain subsets of the predictor space. You may find that out, and given a data point, choose the model(s) that will best predict for that data point. This is similar to the idea of developing a decision tree metamodel. However, decision tree is prone to overfitting.\n",
        "\n",
        "Another idea may be to correct the individual models with the intercept and slope *(note the tree-based models don't have an intercept and may suffer from a constant bias)*, and then ensemble them. This is equivalent to having a simple linear regression meta-model for each of the individual models, and then ensembling the meta-models with a meta-metamodel or a voting ensemble."
      ]
    },
    {
      "cell_type": "markdown",
      "id": "1b46343d",
      "metadata": {
        "id": "1b46343d"
      },
      "source": [
        "## Limitations of the model with regard to prediction"
      ]
    },
    {
      "cell_type": "markdown",
      "id": "c85ead90",
      "metadata": {
        "id": "c85ead90"
      },
      "source": [
        "Are you confident that you found the optimal hyperparameter values for each of your individual models, and that your individual models cannot be better tuned? Or, are there any models that could be better tuned if you had more time / resources, but you are limited by the amount of time you can spend on the course project *(equivalent to one assignment)*? If yes, then which models could be better tuned and how?\n",
        "\n",
        "Will it be possible / convenient / expensive for the stakeholders to collect the data relating to the predictors in the model. Using your model, how soon will the stakeholder be able to predict the outcome before the outcome occurs. For example, if the model predicts the number of bikes people will rent in Evanston on a certain day, then how many days before that day will your model be able to make the prediction. This will depend on how soon the data that your model uses becomes available. If you are predicting election results, how many days / weeks / months / years before the election can you predict the results. \n",
        "\n",
        "When will your model become too obsolete to be useful?"
      ]
    },
    {
      "cell_type": "markdown",
      "id": "f6026cb7",
      "metadata": {
        "id": "f6026cb7"
      },
      "source": [
        "## Other sections *(optional)*\n",
        "\n",
        "You are welcome to introduce additional sections or subsections, if required, to address any specific aspects of your project in detail. For example, you may briefly discuss potential future work that the research community could focus on to make further progress in the direction of your project's topic."
      ]
    },
    {
      "cell_type": "markdown",
      "id": "62a185cb",
      "metadata": {
        "id": "62a185cb"
      },
      "source": [
        "## Conclusions and Recommendations to stakeholder(s)\n",
        "\n",
        "What conclusions do you draw based on your model? You may draw conclusions based on prediction accuracy, or other performance metrics.\n",
        "\n",
        "How do you use those conclusions to come up with meaningful recommendations for stakeholders? The recommendations must be action-items for stakeholders that they can directly implement without any further analysis. Be as precise as possible. The stakeholder(s) are depending on you to come up with practically implementable recommendations, instead of having to think for themselves.\n",
        "\n",
        "If your recommendations are not practically implementable by stakeholders, how will they help them? Is there some additional data / analysis / domain expertise you need to do to make the recommendations implementable? \n",
        "\n",
        "Do the stakeholder(s) need to be aware about some limitations of your model? Is your model only good for one-time use, or is it possible to update your model at a certain frequency (based on recent data) to keep using it in the future? If it can be used in the future, then for how far into the future?"
      ]
    },
    {
      "cell_type": "markdown",
      "id": "0ca45613",
      "metadata": {
        "id": "0ca45613"
      },
      "source": [
        "Add details of each team member's contribution, other than the models contributed, in the table below."
      ]
    },
    {
      "cell_type": "markdown",
      "id": "5505da5c",
      "metadata": {
        "id": "5505da5c"
      },
      "source": [
        "<html>\n",
        "<style>\n",
        "table, td, th {\n",
        "  border: 1px solid black;\n",
        "}\n",
        "\n",
        "table {\n",
        "  border-collapse: collapse;\n",
        "  width: 100%;\n",
        "}\n",
        "\n",
        "th {\n",
        "  text-align: left;\n",
        "}\n",
        "    \n",
        "\n",
        "</style>\n",
        "<body>\n",
        "\n",
        "<h2>Individual contribution</h2>\n",
        "\n",
        "<table style=\"width:100%\">\n",
        "     <colgroup>\n",
        "       <col span=\"1\" style=\"width: 15%;\">\n",
        "       <col span=\"1\" style=\"width: 20%;\">\n",
        "       <col span=\"1\" style=\"width: 25%;\">\n",
        "       <col span=\"1\" style=\"width: 40%;\">\n",
        "    </colgroup>\n",
        "  <tr>\n",
        "    <th>Team member</th>\n",
        "    <th>Individual Model</th>\n",
        "    <th>Work other than individual model</th>    \n",
        "    <th>Details of work other than individual model</th>\n",
        "  </tr>\n",
        "  <tr>\n",
        "    <td>Sylvia Sherwood</td>\n",
        "    <td>Lasso, Ridge & Catboost</td>\n",
        "    <td>Data cleaning and EDA</td>    \n",
        "    <td>Imputed missing values and visualized data</td>\n",
        "  </tr>\n",
        "  <tr>\n",
        "    <td>Sankaranarayanan Balasubramanian</td>\n",
        "    <td>MARS, AdaBoost & LightGBM</td>\n",
        "    <td>Ensembling</td>    \n",
        "    <td>Stacking ensembles and voting ensemble</td>\n",
        "  </tr>\n",
        "    <tr>\n",
        "    <td>Fiona Fe</td>\n",
        "    <td>Bagged trees & Random forest</td>\n",
        "    <td>Variable selection</td>    \n",
        "    <td>Variable selection based on feature importance</td>\n",
        "  </tr>\n",
        "    <tr>\n",
        "    <td>Ryu Kimiko</td>\n",
        "    <td>XGBoost</td>\n",
        "    <td>Ensembling</td>    \n",
        "    <td>Innovative ensemble & stacking ensemble</td> \n",
        "  </tr>\n",
        "</table>"
      ]
    },
    {
      "cell_type": "markdown",
      "id": "00b1cafe",
      "metadata": {
        "id": "00b1cafe"
      },
      "source": [
        "## References {-}"
      ]
    },
    {
      "cell_type": "markdown",
      "id": "ebdb1aad",
      "metadata": {
        "id": "ebdb1aad"
      },
      "source": [
        "List and number all bibliographical references. When referenced in the text, enclose the citation number in square brackets, for example [1].\n",
        "\n",
        "[1] Authors. The frobnicatable foo filter, 2014. Face and Gesture submission ID 324. Supplied as additional material\n",
        "fg324.pdf. 3\n"
      ]
    },
    {
      "cell_type": "markdown",
      "id": "5831751c",
      "metadata": {
        "id": "5831751c"
      },
      "source": [
        "## Appendix {-}"
      ]
    },
    {
      "cell_type": "markdown",
      "id": "d13d374d",
      "metadata": {
        "id": "d13d374d"
      },
      "source": [
        "You may put additional stuff here as Appendix. You may refer to the Appendix in the main report to support your arguments. However, the appendix section is unlikely to be checked while grading, unless the grader deems it necessary."
      ]
    }
  ],
  "metadata": {
    "kernelspec": {
      "display_name": "Python 3 (ipykernel)",
      "language": "python",
      "name": "python3"
    },
    "language_info": {
      "codemirror_mode": {
        "name": "ipython",
        "version": 3
      },
      "file_extension": ".py",
      "mimetype": "text/x-python",
      "name": "python",
      "nbconvert_exporter": "python",
      "pygments_lexer": "ipython3",
      "version": "3.9.16"
    },
    "colab": {
      "provenance": []
    }
  },
  "nbformat": 4,
  "nbformat_minor": 5
}
=======
 "cells": [
  {
   "cell_type": "raw",
   "id": "33dd6c4c",
   "metadata": {},
   "source": [
    "---\n",
    "title: \"Project Report\"\n",
    "subtitle: Krish's Fanclub\n",
    "author: Eli Nacar, Jack McNally, Sam Sword, and Tess Wagner\n",
    "date: 05/23/2023\n",
    "number-sections: true\n",
    "abstract: _The ABSTRACT is to be in fully-justified italicized text at the top of the report, below the author information. The abstract section must summarise the problem statement, the developed model(s), the metric(s) optimized and the recommendations to the stakeholders based on the model (if any). You may also briefly mention any major EDA-based insights that helped develop the model or directly translated into recommendations to the stakeholders. However, the abstract must not be more than 200 words in length_.\n",
    "format: \n",
    "  html:\n",
    "    toc: true\n",
    "    toc-title: Contents\n",
    "    self-contained: true\n",
    "    font-size: 100%\n",
    "    toc-depth: 4\n",
    "    mainfont: serif\n",
    "jupyter: python3\n",
    "---"
   ]
  },
  {
   "cell_type": "markdown",
   "id": "aba5ee91",
   "metadata": {},
   "source": [
    "## Length of the report {-}\n",
    "The length of the report must be no more than 15 pages, when printed as PDF. However, there is no requirement on the minimum number of pages.\n",
    "\n",
    "You may put additional stuff as Appendix. You may refer to the Appendix in the main report to support your arguments. However, your appendix is unlikely to be checked while grading, unless the grader deems it necessary. The appendix and references will not be included in the page count, and there is no limit on the length of the appendix.\n",
    "\n",
    "**Delete this section from the report, when using this template.** "
   ]
  },
  {
   "cell_type": "markdown",
   "id": "93d3d9ed",
   "metadata": {},
   "source": [
    "## Code should be put separately in the code template {-}\n",
    "Your report should be in a research-paper like style. If there is something that can only be explained by showing the code, then you may put it, otherwise do not put the code in the report. We will check your code in the code template. \n",
    "\n",
    "However, feel free to write code that prints output and then hide the code using the *yaml* setting as shown in an example below *(in the EDA section)*\n",
    "\n",
    "**Delete this section from the report, when using this template.** "
   ]
  },
  {
   "cell_type": "markdown",
   "id": "0116f49b",
   "metadata": {},
   "source": [
    "## Background / Motivation\n",
    "\n",
    "What motivated you to work on this problem?\n",
    "\n",
    "Mention any background about the problem, if it is required to understand your analysis later on."
   ]
  },
  {
   "cell_type": "markdown",
   "id": "84ff1421",
   "metadata": {},
   "source": [
    "## Problem statement \n",
    "\n",
    "Describe your problem statement. Articulate your objectives using absolutely no jargon. "
   ]
  },
  {
   "cell_type": "markdown",
   "id": "38c7b95f",
   "metadata": {},
   "source": [
    "## Data sources\n",
    "What data did you use? Provide details about your data. Include links to data if you are using open-access data."
   ]
  },
  {
   "cell_type": "markdown",
   "id": "8c255035",
   "metadata": {},
   "source": [
    "## Stakeholders\n",
    "Who cares? If you are successful, what difference will it make to them?"
   ]
  },
  {
   "cell_type": "markdown",
   "id": "fe7ea9bb",
   "metadata": {},
   "source": [
    "## Data quality check / cleaning / preparation "
   ]
  },
  {
   "cell_type": "markdown",
   "id": "f264782d",
   "metadata": {},
   "source": [
    "Because the question we are trying to answer is a classification problem, we had to rework the structure of the response and some of the variables. For example, instead of looking at how much revenue each movie produced, we are predicting whether a movie produced revenue or not. To effectively do this, we changed `revenue` from a continuous variable to a categorical, binary response. We did this for a few of the predictors as well in order to better understand the relationships between the predictors and the response. After parsing through the data, we did not identify any observations that appeared to have incorrect values. While there were a large amount of missing values for `belongs_to_collection`, we identified that a missing value in this column represented a movie that did not belong to a collection. We changed this predictor into a binary variable to fix this issue. There were very few true missing values, and we decided to drop them because they would have been very difficult to impute correctly. For example, it is impossible to come up with a formula to impute missing release dates of movies based on the information of other movies. We decided that dropping these predictions would have a better result on our predictions than trying to impute these values, especially since these observations were a very small portion of the total data. "
   ]
  },
  {
   "cell_type": "code",
   "execution_count": 164,
   "id": "842c15f5",
   "metadata": {},
   "outputs": [
    {
     "name": "stderr",
     "output_type": "stream",
     "text": [
      "C:\\Users\\csky2\\AppData\\Local\\Temp\\ipykernel_9748\\1817818429.py:8: DtypeWarning: Columns (10) have mixed types. Specify dtype option on import or set low_memory=False.\n",
      "  data_raw = pd.read_csv('movies_metadata.csv')\n"
     ]
    }
   ],
   "source": [
    "#| echo: false\n",
    "#| warning: false\n",
    "import pandas as pd\n",
    "import numpy as np\n",
    "import matplotlib.pyplot as plt\n",
    "import seaborn as sns\n",
    "data = pd.read_csv('movies_classification_updated.csv', index_col = 'Unnamed: 0')\n",
    "data_raw = pd.read_csv('movies_metadata.csv')"
   ]
  },
  {
   "cell_type": "markdown",
   "id": "915e610d",
   "metadata": {},
   "source": [
    "Distribution of Response (original data):"
   ]
  },
  {
   "cell_type": "code",
   "execution_count": 151,
   "id": "12181bbf",
   "metadata": {},
   "outputs": [
    {
     "data": {
      "text/html": [
       "<div>\n",
       "<style scoped>\n",
       "    .dataframe tbody tr th:only-of-type {\n",
       "        vertical-align: middle;\n",
       "    }\n",
       "\n",
       "    .dataframe tbody tr th {\n",
       "        vertical-align: top;\n",
       "    }\n",
       "\n",
       "    .dataframe thead th {\n",
       "        text-align: right;\n",
       "    }\n",
       "</style>\n",
       "<table border=\"1\" class=\"dataframe\">\n",
       "  <thead>\n",
       "    <tr style=\"text-align: right;\">\n",
       "      <th></th>\n",
       "      <th>revenue</th>\n",
       "    </tr>\n",
       "  </thead>\n",
       "  <tbody>\n",
       "    <tr>\n",
       "      <th>count</th>\n",
       "      <td>4.546000e+04</td>\n",
       "    </tr>\n",
       "    <tr>\n",
       "      <th>mean</th>\n",
       "      <td>1.120935e+07</td>\n",
       "    </tr>\n",
       "    <tr>\n",
       "      <th>std</th>\n",
       "      <td>6.433225e+07</td>\n",
       "    </tr>\n",
       "    <tr>\n",
       "      <th>min</th>\n",
       "      <td>0.000000e+00</td>\n",
       "    </tr>\n",
       "    <tr>\n",
       "      <th>25%</th>\n",
       "      <td>0.000000e+00</td>\n",
       "    </tr>\n",
       "    <tr>\n",
       "      <th>50%</th>\n",
       "      <td>0.000000e+00</td>\n",
       "    </tr>\n",
       "    <tr>\n",
       "      <th>75%</th>\n",
       "      <td>0.000000e+00</td>\n",
       "    </tr>\n",
       "    <tr>\n",
       "      <th>max</th>\n",
       "      <td>2.787965e+09</td>\n",
       "    </tr>\n",
       "  </tbody>\n",
       "</table>\n",
       "</div>"
      ],
      "text/plain": [
       "            revenue\n",
       "count  4.546000e+04\n",
       "mean   1.120935e+07\n",
       "std    6.433225e+07\n",
       "min    0.000000e+00\n",
       "25%    0.000000e+00\n",
       "50%    0.000000e+00\n",
       "75%    0.000000e+00\n",
       "max    2.787965e+09"
      ]
     },
     "execution_count": 151,
     "metadata": {},
     "output_type": "execute_result"
    }
   ],
   "source": [
    "#| echo: false\n",
    "\n",
    "data_raw.describe()[['revenue']]"
   ]
  },
  {
   "cell_type": "markdown",
   "id": "e914dba8",
   "metadata": {},
   "source": [
    "Distribution of Response (cleaned data):"
   ]
  },
  {
   "cell_type": "code",
   "execution_count": 152,
   "id": "3db91671",
   "metadata": {},
   "outputs": [
    {
     "data": {
      "text/html": [
       "<div>\n",
       "<style scoped>\n",
       "    .dataframe tbody tr th:only-of-type {\n",
       "        vertical-align: middle;\n",
       "    }\n",
       "\n",
       "    .dataframe tbody tr th {\n",
       "        vertical-align: top;\n",
       "    }\n",
       "\n",
       "    .dataframe thead th {\n",
       "        text-align: right;\n",
       "    }\n",
       "</style>\n",
       "<table border=\"1\" class=\"dataframe\">\n",
       "  <thead>\n",
       "    <tr style=\"text-align: right;\">\n",
       "      <th></th>\n",
       "      <th>revenue</th>\n",
       "    </tr>\n",
       "  </thead>\n",
       "  <tbody>\n",
       "    <tr>\n",
       "      <th>0.0</th>\n",
       "      <td>0.834683</td>\n",
       "    </tr>\n",
       "    <tr>\n",
       "      <th>1.0</th>\n",
       "      <td>0.165317</td>\n",
       "    </tr>\n",
       "  </tbody>\n",
       "</table>\n",
       "</div>"
      ],
      "text/plain": [
       "      revenue\n",
       "0.0  0.834683\n",
       "1.0  0.165317"
      ]
     },
     "execution_count": 152,
     "metadata": {},
     "output_type": "execute_result"
    }
   ],
   "source": [
    "#| echo: false\n",
    "pd.DataFrame(data.revenue.value_counts()/data.shape[0])"
   ]
  },
  {
   "cell_type": "markdown",
   "id": "0e2a9753",
   "metadata": {},
   "source": [
    "#### Distribution of predictors (original data):\n",
    "Missing Values (original data):"
   ]
  },
  {
   "cell_type": "code",
   "execution_count": 153,
   "id": "7e1ab074",
   "metadata": {
    "scrolled": true
   },
   "outputs": [
    {
     "data": {
      "text/html": [
       "<div>\n",
       "<style scoped>\n",
       "    .dataframe tbody tr th:only-of-type {\n",
       "        vertical-align: middle;\n",
       "    }\n",
       "\n",
       "    .dataframe tbody tr th {\n",
       "        vertical-align: top;\n",
       "    }\n",
       "\n",
       "    .dataframe thead th {\n",
       "        text-align: right;\n",
       "    }\n",
       "</style>\n",
       "<table border=\"1\" class=\"dataframe\">\n",
       "  <thead>\n",
       "    <tr style=\"text-align: right;\">\n",
       "      <th></th>\n",
       "      <th>Missing Values Totals</th>\n",
       "      <th>Unique Values Totals</th>\n",
       "    </tr>\n",
       "  </thead>\n",
       "  <tbody>\n",
       "    <tr>\n",
       "      <th>belongs_to_collection</th>\n",
       "      <td>40972</td>\n",
       "      <td>1698</td>\n",
       "    </tr>\n",
       "    <tr>\n",
       "      <th>budget</th>\n",
       "      <td>0</td>\n",
       "      <td>1226</td>\n",
       "    </tr>\n",
       "    <tr>\n",
       "      <th>genres</th>\n",
       "      <td>0</td>\n",
       "      <td>4069</td>\n",
       "    </tr>\n",
       "    <tr>\n",
       "      <th>original_language</th>\n",
       "      <td>11</td>\n",
       "      <td>92</td>\n",
       "    </tr>\n",
       "    <tr>\n",
       "      <th>release_date</th>\n",
       "      <td>87</td>\n",
       "      <td>17336</td>\n",
       "    </tr>\n",
       "    <tr>\n",
       "      <th>runtime</th>\n",
       "      <td>263</td>\n",
       "      <td>353</td>\n",
       "    </tr>\n",
       "  </tbody>\n",
       "</table>\n",
       "</div>"
      ],
      "text/plain": [
       "                       Missing Values Totals  Unique Values Totals\n",
       "belongs_to_collection                  40972                  1698\n",
       "budget                                     0                  1226\n",
       "genres                                     0                  4069\n",
       "original_language                         11                    92\n",
       "release_date                              87                 17336\n",
       "runtime                                  263                   353"
      ]
     },
     "execution_count": 153,
     "metadata": {},
     "output_type": "execute_result"
    }
   ],
   "source": [
    "#| echo: false\n",
    "data_raw_predictors = data_raw.drop(['revenue', 'adult', 'homepage', 'id', 'imdb_id', 'original_title', 'poster_path', 'status', 'video', 'overview', 'production_companies', 'production_countries', 'spoken_languages', 'tagline', 'popularity', 'vote_average', 'vote_count', 'title'], axis=1)\n",
    "isna_preds_raw = data_raw_predictors.isna().sum()\n",
    "nunique_preds_raw = data_raw_predictors.nunique()\n",
    "pd.DataFrame({'Missing Values Totals': isna_preds_raw,\n",
    "             'Unique Values Totals': nunique_preds_raw})"
   ]
  },
  {
   "cell_type": "markdown",
   "id": "5fe53f60",
   "metadata": {},
   "source": [
    "Frequency of Predictors (original data):"
   ]
  },
  {
   "cell_type": "code",
   "execution_count": 157,
   "id": "d79008fc",
   "metadata": {},
   "outputs": [
    {
     "data": {
      "text/html": [
       "<div>\n",
       "<style scoped>\n",
       "    .dataframe tbody tr th:only-of-type {\n",
       "        vertical-align: middle;\n",
       "    }\n",
       "\n",
       "    .dataframe tbody tr th {\n",
       "        vertical-align: top;\n",
       "    }\n",
       "\n",
       "    .dataframe thead th {\n",
       "        text-align: right;\n",
       "    }\n",
       "</style>\n",
       "<table border=\"1\" class=\"dataframe\">\n",
       "  <thead>\n",
       "    <tr style=\"text-align: right;\">\n",
       "      <th></th>\n",
       "      <th></th>\n",
       "      <th>Top Levels</th>\n",
       "      <th>Frequency</th>\n",
       "    </tr>\n",
       "  </thead>\n",
       "  <tbody>\n",
       "    <tr>\n",
       "      <th rowspan=\"3\" valign=\"top\">belongs_to_collection</th>\n",
       "      <th></th>\n",
       "      <td>{'id': 415931, 'name': 'The Bowery Boys', 'pos...</td>\n",
       "      <td>29</td>\n",
       "    </tr>\n",
       "    <tr>\n",
       "      <th></th>\n",
       "      <td>{'id': 421566, 'name': 'Totò Collection', 'pos...</td>\n",
       "      <td>27</td>\n",
       "    </tr>\n",
       "    <tr>\n",
       "      <th></th>\n",
       "      <td>{'id': 645, 'name': 'James Bond Collection', '...</td>\n",
       "      <td>26</td>\n",
       "    </tr>\n",
       "    <tr>\n",
       "      <th rowspan=\"3\" valign=\"top\">budget</th>\n",
       "      <th></th>\n",
       "      <td>0</td>\n",
       "      <td>36573</td>\n",
       "    </tr>\n",
       "    <tr>\n",
       "      <th></th>\n",
       "      <td>5000000</td>\n",
       "      <td>286</td>\n",
       "    </tr>\n",
       "    <tr>\n",
       "      <th></th>\n",
       "      <td>10000000</td>\n",
       "      <td>259</td>\n",
       "    </tr>\n",
       "    <tr>\n",
       "      <th rowspan=\"3\" valign=\"top\">genres</th>\n",
       "      <th></th>\n",
       "      <td>[{'id': 18, 'name': 'Drama'}]</td>\n",
       "      <td>5000</td>\n",
       "    </tr>\n",
       "    <tr>\n",
       "      <th></th>\n",
       "      <td>[{'id': 35, 'name': 'Comedy'}]</td>\n",
       "      <td>3621</td>\n",
       "    </tr>\n",
       "    <tr>\n",
       "      <th></th>\n",
       "      <td>[{'id': 99, 'name': 'Documentary'}]</td>\n",
       "      <td>2723</td>\n",
       "    </tr>\n",
       "    <tr>\n",
       "      <th rowspan=\"3\" valign=\"top\">original_language</th>\n",
       "      <th></th>\n",
       "      <td>en</td>\n",
       "      <td>32269</td>\n",
       "    </tr>\n",
       "    <tr>\n",
       "      <th></th>\n",
       "      <td>fr</td>\n",
       "      <td>2438</td>\n",
       "    </tr>\n",
       "    <tr>\n",
       "      <th></th>\n",
       "      <td>it</td>\n",
       "      <td>1529</td>\n",
       "    </tr>\n",
       "    <tr>\n",
       "      <th rowspan=\"3\" valign=\"top\">release_date</th>\n",
       "      <th></th>\n",
       "      <td>2008-01-01</td>\n",
       "      <td>136</td>\n",
       "    </tr>\n",
       "    <tr>\n",
       "      <th></th>\n",
       "      <td>2009-01-01</td>\n",
       "      <td>121</td>\n",
       "    </tr>\n",
       "    <tr>\n",
       "      <th></th>\n",
       "      <td>2007-01-01</td>\n",
       "      <td>118</td>\n",
       "    </tr>\n",
       "    <tr>\n",
       "      <th rowspan=\"3\" valign=\"top\">runtime</th>\n",
       "      <th></th>\n",
       "      <td>90.0</td>\n",
       "      <td>1558</td>\n",
       "    </tr>\n",
       "    <tr>\n",
       "      <th></th>\n",
       "      <td>0.0</td>\n",
       "      <td>107</td>\n",
       "    </tr>\n",
       "    <tr>\n",
       "      <th></th>\n",
       "      <td>100.0</td>\n",
       "      <td>33</td>\n",
       "    </tr>\n",
       "  </tbody>\n",
       "</table>\n",
       "</div>"
      ],
      "text/plain": [
       "                                                               Top Levels  \\\n",
       "belongs_to_collection   {'id': 415931, 'name': 'The Bowery Boys', 'pos...   \n",
       "                        {'id': 421566, 'name': 'Totò Collection', 'pos...   \n",
       "                        {'id': 645, 'name': 'James Bond Collection', '...   \n",
       "budget                                                                  0   \n",
       "                                                                  5000000   \n",
       "                                                                 10000000   \n",
       "genres                                      [{'id': 18, 'name': 'Drama'}]   \n",
       "                                           [{'id': 35, 'name': 'Comedy'}]   \n",
       "                                      [{'id': 99, 'name': 'Documentary'}]   \n",
       "original_language                                                      en   \n",
       "                                                                       fr   \n",
       "                                                                       it   \n",
       "release_date                                                   2008-01-01   \n",
       "                                                               2009-01-01   \n",
       "                                                               2007-01-01   \n",
       "runtime                                                              90.0   \n",
       "                                                                      0.0   \n",
       "                                                                    100.0   \n",
       "\n",
       "                       Frequency  \n",
       "belongs_to_collection         29  \n",
       "                              27  \n",
       "                              26  \n",
       "budget                     36573  \n",
       "                             286  \n",
       "                             259  \n",
       "genres                      5000  \n",
       "                            3621  \n",
       "                            2723  \n",
       "original_language          32269  \n",
       "                            2438  \n",
       "                            1529  \n",
       "release_date                 136  \n",
       "                             121  \n",
       "                             118  \n",
       "runtime                     1558  \n",
       "                             107  \n",
       "                              33  "
      ]
     },
     "execution_count": 157,
     "metadata": {},
     "output_type": "execute_result"
    }
   ],
   "source": [
    "#| echo: false\n",
    "#| results-fold: true\n",
    "frequencies = []\n",
    "for col in data_raw_predictors.columns:\n",
    "    for num in range(0, 3):\n",
    "        a = str(data_raw_predictors[col].value_counts().index[num])\n",
    "        b = str(data_raw_predictors[col].value_counts()[num])\n",
    "        holder = [a, b]\n",
    "        frequencies.append(holder)\n",
    "        \n",
    "df_freq = pd.DataFrame(frequencies,index = [['belongs_to_collection']*3+['budget']*3+['genres']*3+['original_language']*3+['release_date']*3+['runtime']*3,\n",
    "                                      ['','','',\n",
    "                                       '','','',\n",
    "                                      '','','',\n",
    "                                      '','','',\n",
    "                                      '','','',\n",
    "                                      '','','']],\n",
    "                    columns = ['Top Levels','Frequency'])\n",
    "df_freq"
   ]
  },
  {
   "cell_type": "code",
   "execution_count": 156,
   "id": "1c6bb251",
   "metadata": {
    "scrolled": true
   },
   "outputs": [
    {
     "data": {
      "text/html": [
       "<div>\n",
       "<style scoped>\n",
       "    .dataframe tbody tr th:only-of-type {\n",
       "        vertical-align: middle;\n",
       "    }\n",
       "\n",
       "    .dataframe tbody tr th {\n",
       "        vertical-align: top;\n",
       "    }\n",
       "\n",
       "    .dataframe thead th {\n",
       "        text-align: right;\n",
       "    }\n",
       "</style>\n",
       "<table border=\"1\" class=\"dataframe\">\n",
       "  <thead>\n",
       "    <tr style=\"text-align: right;\">\n",
       "      <th></th>\n",
       "      <th></th>\n",
       "      <th>Top Levels</th>\n",
       "      <th>Frequency</th>\n",
       "    </tr>\n",
       "  </thead>\n",
       "  <tbody>\n",
       "    <tr>\n",
       "      <th rowspan=\"2\" valign=\"top\">belongs_to_collection</th>\n",
       "      <th></th>\n",
       "      <td>0</td>\n",
       "      <td>40237</td>\n",
       "    </tr>\n",
       "    <tr>\n",
       "      <th></th>\n",
       "      <td>1</td>\n",
       "      <td>4459</td>\n",
       "    </tr>\n",
       "    <tr>\n",
       "      <th rowspan=\"2\" valign=\"top\">budget</th>\n",
       "      <th></th>\n",
       "      <td>0</td>\n",
       "      <td>35845</td>\n",
       "    </tr>\n",
       "    <tr>\n",
       "      <th></th>\n",
       "      <td>5000000</td>\n",
       "      <td>25</td>\n",
       "    </tr>\n",
       "    <tr>\n",
       "      <th rowspan=\"2\" valign=\"top\">runtime</th>\n",
       "      <th></th>\n",
       "      <td>90.0</td>\n",
       "      <td>1478</td>\n",
       "    </tr>\n",
       "    <tr>\n",
       "      <th></th>\n",
       "      <td>0.0</td>\n",
       "      <td>106</td>\n",
       "    </tr>\n",
       "    <tr>\n",
       "      <th rowspan=\"2\" valign=\"top\">Animation</th>\n",
       "      <th></th>\n",
       "      <td>0</td>\n",
       "      <td>42785</td>\n",
       "    </tr>\n",
       "    <tr>\n",
       "      <th></th>\n",
       "      <td>1</td>\n",
       "      <td>1911</td>\n",
       "    </tr>\n",
       "    <tr>\n",
       "      <th rowspan=\"2\" valign=\"top\">Comedy</th>\n",
       "      <th></th>\n",
       "      <td>0</td>\n",
       "      <td>31704</td>\n",
       "    </tr>\n",
       "    <tr>\n",
       "      <th></th>\n",
       "      <td>1</td>\n",
       "      <td>12992</td>\n",
       "    </tr>\n",
       "    <tr>\n",
       "      <th rowspan=\"2\" valign=\"top\">Family</th>\n",
       "      <th></th>\n",
       "      <td>0</td>\n",
       "      <td>41966</td>\n",
       "    </tr>\n",
       "    <tr>\n",
       "      <th></th>\n",
       "      <td>1</td>\n",
       "      <td>2730</td>\n",
       "    </tr>\n",
       "    <tr>\n",
       "      <th rowspan=\"2\" valign=\"top\">Adventure</th>\n",
       "      <th></th>\n",
       "      <td>0</td>\n",
       "      <td>41229</td>\n",
       "    </tr>\n",
       "    <tr>\n",
       "      <th></th>\n",
       "      <td>1</td>\n",
       "      <td>3467</td>\n",
       "    </tr>\n",
       "    <tr>\n",
       "      <th rowspan=\"2\" valign=\"top\">Fantasy</th>\n",
       "      <th></th>\n",
       "      <td>0</td>\n",
       "      <td>42413</td>\n",
       "    </tr>\n",
       "    <tr>\n",
       "      <th></th>\n",
       "      <td>1</td>\n",
       "      <td>2283</td>\n",
       "    </tr>\n",
       "    <tr>\n",
       "      <th rowspan=\"2\" valign=\"top\">Romance</th>\n",
       "      <th></th>\n",
       "      <td>0</td>\n",
       "      <td>38041</td>\n",
       "    </tr>\n",
       "    <tr>\n",
       "      <th></th>\n",
       "      <td>1</td>\n",
       "      <td>6655</td>\n",
       "    </tr>\n",
       "    <tr>\n",
       "      <th rowspan=\"2\" valign=\"top\">Drama</th>\n",
       "      <th></th>\n",
       "      <td>0</td>\n",
       "      <td>24677</td>\n",
       "    </tr>\n",
       "    <tr>\n",
       "      <th></th>\n",
       "      <td>1</td>\n",
       "      <td>20019</td>\n",
       "    </tr>\n",
       "    <tr>\n",
       "      <th rowspan=\"2\" valign=\"top\">Action</th>\n",
       "      <th></th>\n",
       "      <td>0</td>\n",
       "      <td>38160</td>\n",
       "    </tr>\n",
       "    <tr>\n",
       "      <th></th>\n",
       "      <td>1</td>\n",
       "      <td>6536</td>\n",
       "    </tr>\n",
       "    <tr>\n",
       "      <th rowspan=\"2\" valign=\"top\">Crime</th>\n",
       "      <th></th>\n",
       "      <td>0</td>\n",
       "      <td>40420</td>\n",
       "    </tr>\n",
       "    <tr>\n",
       "      <th></th>\n",
       "      <td>1</td>\n",
       "      <td>4276</td>\n",
       "    </tr>\n",
       "    <tr>\n",
       "      <th rowspan=\"2\" valign=\"top\">Thriller</th>\n",
       "      <th></th>\n",
       "      <td>0</td>\n",
       "      <td>37136</td>\n",
       "    </tr>\n",
       "    <tr>\n",
       "      <th></th>\n",
       "      <td>1</td>\n",
       "      <td>7560</td>\n",
       "    </tr>\n",
       "    <tr>\n",
       "      <th rowspan=\"2\" valign=\"top\">Horror</th>\n",
       "      <th></th>\n",
       "      <td>0</td>\n",
       "      <td>40063</td>\n",
       "    </tr>\n",
       "    <tr>\n",
       "      <th></th>\n",
       "      <td>1</td>\n",
       "      <td>4633</td>\n",
       "    </tr>\n",
       "    <tr>\n",
       "      <th rowspan=\"2\" valign=\"top\">History</th>\n",
       "      <th></th>\n",
       "      <td>0</td>\n",
       "      <td>43308</td>\n",
       "    </tr>\n",
       "    <tr>\n",
       "      <th></th>\n",
       "      <td>1</td>\n",
       "      <td>1388</td>\n",
       "    </tr>\n",
       "    <tr>\n",
       "      <th rowspan=\"2\" valign=\"top\">Science Fiction</th>\n",
       "      <th></th>\n",
       "      <td>0</td>\n",
       "      <td>41690</td>\n",
       "    </tr>\n",
       "    <tr>\n",
       "      <th></th>\n",
       "      <td>1</td>\n",
       "      <td>3006</td>\n",
       "    </tr>\n",
       "    <tr>\n",
       "      <th rowspan=\"2\" valign=\"top\">Mystery</th>\n",
       "      <th></th>\n",
       "      <td>0</td>\n",
       "      <td>42245</td>\n",
       "    </tr>\n",
       "    <tr>\n",
       "      <th></th>\n",
       "      <td>1</td>\n",
       "      <td>2451</td>\n",
       "    </tr>\n",
       "    <tr>\n",
       "      <th rowspan=\"2\" valign=\"top\">War</th>\n",
       "      <th></th>\n",
       "      <td>0</td>\n",
       "      <td>43381</td>\n",
       "    </tr>\n",
       "    <tr>\n",
       "      <th></th>\n",
       "      <td>1</td>\n",
       "      <td>1315</td>\n",
       "    </tr>\n",
       "    <tr>\n",
       "      <th rowspan=\"2\" valign=\"top\">Foreign</th>\n",
       "      <th></th>\n",
       "      <td>0</td>\n",
       "      <td>43109</td>\n",
       "    </tr>\n",
       "    <tr>\n",
       "      <th></th>\n",
       "      <td>1</td>\n",
       "      <td>1587</td>\n",
       "    </tr>\n",
       "    <tr>\n",
       "      <th rowspan=\"2\" valign=\"top\">Music</th>\n",
       "      <th></th>\n",
       "      <td>0</td>\n",
       "      <td>43109</td>\n",
       "    </tr>\n",
       "    <tr>\n",
       "      <th></th>\n",
       "      <td>1</td>\n",
       "      <td>1587</td>\n",
       "    </tr>\n",
       "    <tr>\n",
       "      <th rowspan=\"2\" valign=\"top\">Documentary</th>\n",
       "      <th></th>\n",
       "      <td>0</td>\n",
       "      <td>40843</td>\n",
       "    </tr>\n",
       "    <tr>\n",
       "      <th></th>\n",
       "      <td>1</td>\n",
       "      <td>3853</td>\n",
       "    </tr>\n",
       "    <tr>\n",
       "      <th rowspan=\"2\" valign=\"top\">Western</th>\n",
       "      <th></th>\n",
       "      <td>0</td>\n",
       "      <td>43658</td>\n",
       "    </tr>\n",
       "    <tr>\n",
       "      <th></th>\n",
       "      <td>1</td>\n",
       "      <td>1038</td>\n",
       "    </tr>\n",
       "    <tr>\n",
       "      <th rowspan=\"2\" valign=\"top\">TV Movie</th>\n",
       "      <th></th>\n",
       "      <td>0</td>\n",
       "      <td>43947</td>\n",
       "    </tr>\n",
       "    <tr>\n",
       "      <th></th>\n",
       "      <td>1</td>\n",
       "      <td>749</td>\n",
       "    </tr>\n",
       "    <tr>\n",
       "      <th rowspan=\"2\" valign=\"top\">english</th>\n",
       "      <th></th>\n",
       "      <td>1</td>\n",
       "      <td>12808</td>\n",
       "    </tr>\n",
       "    <tr>\n",
       "      <th></th>\n",
       "      <td>0</td>\n",
       "      <td>31888</td>\n",
       "    </tr>\n",
       "    <tr>\n",
       "      <th rowspan=\"2\" valign=\"top\">release_year</th>\n",
       "      <th></th>\n",
       "      <td>2014</td>\n",
       "      <td>1944</td>\n",
       "    </tr>\n",
       "    <tr>\n",
       "      <th></th>\n",
       "      <td>2013</td>\n",
       "      <td>1865</td>\n",
       "    </tr>\n",
       "    <tr>\n",
       "      <th rowspan=\"2\" valign=\"top\">release_month</th>\n",
       "      <th></th>\n",
       "      <td>1.0</td>\n",
       "      <td>5780</td>\n",
       "    </tr>\n",
       "    <tr>\n",
       "      <th></th>\n",
       "      <td>9.0</td>\n",
       "      <td>4765</td>\n",
       "    </tr>\n",
       "  </tbody>\n",
       "</table>\n",
       "</div>"
      ],
      "text/plain": [
       "                        Top Levels Frequency\n",
       "belongs_to_collection            0     40237\n",
       "                                 1      4459\n",
       "budget                           0     35845\n",
       "                           5000000        25\n",
       "runtime                       90.0      1478\n",
       "                               0.0       106\n",
       "Animation                        0     42785\n",
       "                                 1      1911\n",
       "Comedy                           0     31704\n",
       "                                 1     12992\n",
       "Family                           0     41966\n",
       "                                 1      2730\n",
       "Adventure                        0     41229\n",
       "                                 1      3467\n",
       "Fantasy                          0     42413\n",
       "                                 1      2283\n",
       "Romance                          0     38041\n",
       "                                 1      6655\n",
       "Drama                            0     24677\n",
       "                                 1     20019\n",
       "Action                           0     38160\n",
       "                                 1      6536\n",
       "Crime                            0     40420\n",
       "                                 1      4276\n",
       "Thriller                         0     37136\n",
       "                                 1      7560\n",
       "Horror                           0     40063\n",
       "                                 1      4633\n",
       "History                          0     43308\n",
       "                                 1      1388\n",
       "Science Fiction                  0     41690\n",
       "                                 1      3006\n",
       "Mystery                          0     42245\n",
       "                                 1      2451\n",
       "War                              0     43381\n",
       "                                 1      1315\n",
       "Foreign                          0     43109\n",
       "                                 1      1587\n",
       "Music                            0     43109\n",
       "                                 1      1587\n",
       "Documentary                      0     40843\n",
       "                                 1      3853\n",
       "Western                          0     43658\n",
       "                                 1      1038\n",
       "TV Movie                         0     43947\n",
       "                                 1       749\n",
       "english                          1     12808\n",
       "                                 0     31888\n",
       "release_year                  2014      1944\n",
       "                              2013      1865\n",
       "release_month                  1.0      5780\n",
       "                               9.0      4765"
      ]
     },
     "execution_count": 156,
     "metadata": {},
     "output_type": "execute_result"
    }
   ],
   "source": [
    "#| echo: false\n",
    "data_predictors = data.drop(['revenue', 'title'], axis=1)\n",
    "frequencies_updated = []\n",
    "for col in data_predictors.columns:\n",
    "    try:\n",
    "        for num in range(0, 2):\n",
    "            a = str(data_predictors[col].value_counts().index[num])\n",
    "            b = str(data_predictors[col].value_counts()[num])\n",
    "            holder = [a, b]\n",
    "            frequencies_updated.append(holder)\n",
    "    except:\n",
    "        pass\n",
    "frequencies_updated.append(['2014', '1944'])\n",
    "frequencies_updated.append(['2013', '1865'])\n",
    "frequencies_updated.append(['1.0', '5780'])\n",
    "frequencies_updated.append(['9.0', '4765'])\n",
    "\n",
    "blanks = []\n",
    "for num in range(0,52):\n",
    "    blanks.append(' ')\n",
    "    \n",
    "df_freq_upd = pd.DataFrame(frequencies_updated,index = [['belongs_to_collection']*2+['budget']*2+['runtime']*2+['Animation']*2+['Comedy']*2+['Family']*2+['Adventure']*2+['Fantasy']*2+['Romance']*2+['Drama']*2+['Action']*2+['Crime']*2+['Thriller']*2+['Horror']*2+['History']*2+['Science Fiction']*2+['Mystery']*2+['War']*2+['Foreign']*2+['Music']*2+['Documentary']*2+['Western']*2+['TV Movie']*2+['english']*2+['release_year']*2+['release_month']*2,\n",
    "                                     blanks],\n",
    "                    columns = ['Top Levels','Frequency'])\n",
    "df_freq_upd"
   ]
  },
  {
   "cell_type": "markdown",
   "id": "fbb11c9b",
   "metadata": {},
   "source": [
    "## Exploratory data analysis"
   ]
  },
  {
   "cell_type": "markdown",
   "id": "e4bd74a9",
   "metadata": {},
   "source": [
    "Movies with larger budgets seemed to have a better chance of making a profit than movies with smaller budgets. Movies with shorter run times seemed to have a better chance of making a profit. These two predictors were identified as having high importances by some of our individual models. These relationships were helpful to recognize that these predictors were potentially more influential than others in our models."
   ]
  },
  {
   "cell_type": "code",
   "execution_count": 171,
   "id": "5f0164e8",
   "metadata": {},
   "outputs": [
    {
     "data": {
      "text/plain": [
       "<Axes: xlabel='runtime', ylabel='revenue'>"
      ]
     },
     "execution_count": 171,
     "metadata": {},
     "output_type": "execute_result"
    },
    {
     "data": {
      "image/png": "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",
      "text/plain": [
       "<Figure size 800x200 with 2 Axes>"
      ]
     },
     "metadata": {},
     "output_type": "display_data"
    }
   ],
   "source": [
    "#| echo:false\n",
    "fig, axes = plt.subplots(nrows = 1, ncols = 2, figsize = (8,2))\n",
    "plt.subplots_adjust(wspace = 0.3)\n",
    "sns.scatterplot(ax = axes[0], x = data.budget, y = data.revenue)\n",
    "sns.scatterplot(ax = axes[1], x = data.runtime, y = data.revenue)"
   ]
  },
  {
   "cell_type": "markdown",
   "id": "d1f12d5d",
   "metadata": {},
   "source": [
    "While most genres generally had more movies that produced revenue, there were a few expections.\n",
    "# add why this is useful"
   ]
  },
  {
   "cell_type": "code",
   "execution_count": 178,
   "id": "61979fba",
   "metadata": {},
   "outputs": [
    {
     "data": {
      "text/plain": [
       "<Axes: xlabel='TV Movie', ylabel='revenue'>"
      ]
     },
     "execution_count": 178,
     "metadata": {},
     "output_type": "execute_result"
    },
    {
     "data": {
      "image/png": "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",
      "text/plain": [
       "<Figure size 800x300 with 6 Axes>"
      ]
     },
     "metadata": {},
     "output_type": "display_data"
    }
   ],
   "source": [
    "#| echo:false\n",
    "fig, axes = plt.subplots(nrows = 2, ncols = 3, figsize = (8,3))\n",
    "plt.subplots_adjust(wspace = 0.4, hspace = 0.6)\n",
    "\n",
    "sns.barplot(ax = axes[0,0], x = data.Foreign, y = data.revenue)\n",
    "sns.barplot(ax = axes[0,1], x = data.Horror, y = data.revenue)\n",
    "sns.barplot(ax = axes[0,2], x = data.Documentary, y = data.revenue)\n",
    "sns.barplot(ax = axes[1,0], x = data.Western, y = data.revenue)\n",
    "sns.barplot(ax = axes[1,1], x = data['TV Movie'], y = data.revenue)"
   ]
  },
  {
   "cell_type": "markdown",
   "id": "d39c782c",
   "metadata": {},
   "source": [
    "## Approach\n",
    "\n",
    "What kind of a models did you use? What performance metric(s) did you optimize and why?\n",
    "\n",
    "Is there anything unorthodox / new in your approach? \n",
    "\n",
    "What problems did you anticipate? What problems did you encounter? \n",
    "\n",
    "Did your problem already have solution(s) (posted on Kaggle or elsewhere). If yes, then how did you build upon those solutions, what did you do differently? Is your model better as compared to those solutions in terms of prediction accuracy or your chosen metric?\n",
    "\n",
    "**Important: Mention any code repositories (with citations) or other sources that you used, and specifically what changes you made to them for your project.**"
   ]
  },
  {
   "cell_type": "markdown",
   "id": "acab331a",
   "metadata": {},
   "source": [
    "## Developing the model: Hyperparameter tuning"
   ]
  },
  {
   "cell_type": "markdown",
   "id": "ae5ec4c9",
   "metadata": {},
   "source": [
    "Every person must describe their hyperparameter tuning procedure. Show the grid of hyperparameter values over which the initial search was done *(you may paste your grid search / random search / any other search code)*, and the optimal hyperparameter values obtained. After getting the initial search results, how did you make decisions *(if any)* to further fine-tune your model. Did you do another grid / random search or did you tune hyperparameters sequentially? If you think you didn't need any fine tuning after the initial results, then mention that and explain why.\n",
    "\n",
    "Put each model in a section of its name and mention the name of the team-member tuning the model. Below is an example:"
   ]
  },
  {
   "cell_type": "markdown",
   "id": "ea422beb",
   "metadata": {},
   "source": [
    "### Lasso, Ridge & Catboost\n",
    "*By Sylvia Sherwood*"
   ]
  },
  {
   "cell_type": "markdown",
   "id": "b78fbd0e",
   "metadata": {},
   "source": [
    "### MARS, AdaBoost & LightGBM\n",
    "*By Sankaranarayanan Balasubramanian*"
   ]
  },
  {
   "cell_type": "markdown",
   "id": "2916849c",
   "metadata": {},
   "source": [
    "### Bagged trees & Random forest\n",
    "*By Fiona Fe*"
   ]
  },
  {
   "cell_type": "markdown",
   "id": "37f552ef",
   "metadata": {},
   "source": [
    "### XGBoost\n",
    "*By Ryu Kimiko*"
   ]
  },
  {
   "cell_type": "markdown",
   "id": "be2594f1",
   "metadata": {},
   "source": [
    "## Model Ensemble "
   ]
  },
  {
   "cell_type": "markdown",
   "id": "fa68b0a5",
   "metadata": {},
   "source": [
    "Put the results of enembling individual models. Feel free to add subsections in this section to add more innovative ensembling methods."
   ]
  },
  {
   "cell_type": "markdown",
   "id": "66c5924a",
   "metadata": {},
   "source": [
    "### Voting ensemble"
   ]
  },
  {
   "cell_type": "markdown",
   "id": "78a31cb2",
   "metadata": {},
   "source": [
    "The simplest voting ensemble will be the model where all models have equal weights.\n",
    "\n",
    "You may come up with innovative methods of estimating weights of the individual models, such as based on their cross-val error. Sometimes, these methods may work better than stacking ensembles, as stacking ensembles tend to overfit."
   ]
  },
  {
   "cell_type": "markdown",
   "id": "bcff4cda",
   "metadata": {},
   "source": [
    "### Stacking ensemble\n",
    "Try out different models as the metamodel. You may split work as follows. The person who worked on certain types of models *(say AdaBoost and MARS)* also uses those models as a metamodel in the stacking ensemble."
   ]
  },
  {
   "cell_type": "markdown",
   "id": "2b22a5f3",
   "metadata": {},
   "source": [
    "### Ensemble of ensembled models\n",
    "\n",
    "If you are creating multiple stacking ensembles *(based on different metamodels)*, you may ensemble them."
   ]
  },
  {
   "cell_type": "markdown",
   "id": "36fe5f5f",
   "metadata": {},
   "source": [
    "### Innovative ensembling methods\n",
    "*(Optional)*\n",
    "\n",
    "Some models may do better on certain subsets of the predictor space. You may find that out, and given a data point, choose the model(s) that will best predict for that data point. This is similar to the idea of developing a decision tree metamodel. However, decision tree is prone to overfitting.\n",
    "\n",
    "Another idea may be to correct the individual models with the intercept and slope *(note the tree-based models don't have an intercept and may suffer from a constant bias)*, and then ensemble them. This is equivalent to having a simple linear regression meta-model for each of the individual models, and then ensembling the meta-models with a meta-metamodel or a voting ensemble."
   ]
  },
  {
   "cell_type": "markdown",
   "id": "1b46343d",
   "metadata": {},
   "source": [
    "## Limitations of the model with regard to prediction"
   ]
  },
  {
   "cell_type": "markdown",
   "id": "c85ead90",
   "metadata": {},
   "source": [
    "Are you confident that you found the optimal hyperparameter values for each of your individual models, and that your individual models cannot be better tuned? Or, are there any models that could be better tuned if you had more time / resources, but you are limited by the amount of time you can spend on the course project *(equivalent to one assignment)*? If yes, then which models could be better tuned and how?\n",
    "\n",
    "Will it be possible / convenient / expensive for the stakeholders to collect the data relating to the predictors in the model. Using your model, how soon will the stakeholder be able to predict the outcome before the outcome occurs. For example, if the model predicts the number of bikes people will rent in Evanston on a certain day, then how many days before that day will your model be able to make the prediction. This will depend on how soon the data that your model uses becomes available. If you are predicting election results, how many days / weeks / months / years before the election can you predict the results. \n",
    "\n",
    "When will your model become too obsolete to be useful?"
   ]
  },
  {
   "cell_type": "markdown",
   "id": "f6026cb7",
   "metadata": {},
   "source": [
    "## Other sections *(optional)*\n",
    "\n",
    "You are welcome to introduce additional sections or subsections, if required, to address any specific aspects of your project in detail. For example, you may briefly discuss potential future work that the research community could focus on to make further progress in the direction of your project's topic."
   ]
  },
  {
   "cell_type": "markdown",
   "id": "62a185cb",
   "metadata": {},
   "source": [
    "## Conclusions and Recommendations to stakeholder(s)\n",
    "\n",
    "What conclusions do you draw based on your model? You may draw conclusions based on prediction accuracy, or other performance metrics.\n",
    "\n",
    "How do you use those conclusions to come up with meaningful recommendations for stakeholders? The recommendations must be action-items for stakeholders that they can directly implement without any further analysis. Be as precise as possible. The stakeholder(s) are depending on you to come up with practically implementable recommendations, instead of having to think for themselves.\n",
    "\n",
    "If your recommendations are not practically implementable by stakeholders, how will they help them? Is there some additional data / analysis / domain expertise you need to do to make the recommendations implementable? \n",
    "\n",
    "Do the stakeholder(s) need to be aware about some limitations of your model? Is your model only good for one-time use, or is it possible to update your model at a certain frequency (based on recent data) to keep using it in the future? If it can be used in the future, then for how far into the future?"
   ]
  },
  {
   "cell_type": "markdown",
   "id": "0ca45613",
   "metadata": {},
   "source": [
    "Add details of each team member's contribution, other than the models contributed, in the table below."
   ]
  },
  {
   "cell_type": "markdown",
   "id": "5505da5c",
   "metadata": {},
   "source": [
    "<html>\n",
    "<style>\n",
    "table, td, th {\n",
    "  border: 1px solid black;\n",
    "}\n",
    "\n",
    "table {\n",
    "  border-collapse: collapse;\n",
    "  width: 100%;\n",
    "}\n",
    "\n",
    "th {\n",
    "  text-align: left;\n",
    "}\n",
    "    \n",
    "\n",
    "</style>\n",
    "<body>\n",
    "\n",
    "<h2>Individual contribution</h2>\n",
    "\n",
    "<table style=\"width:100%\">\n",
    "     <colgroup>\n",
    "       <col span=\"1\" style=\"width: 15%;\">\n",
    "       <col span=\"1\" style=\"width: 20%;\">\n",
    "       <col span=\"1\" style=\"width: 25%;\">\n",
    "       <col span=\"1\" style=\"width: 40%;\">\n",
    "    </colgroup>\n",
    "  <tr>\n",
    "    <th>Team member</th>\n",
    "    <th>Individual Model</th>\n",
    "    <th>Work other than individual model</th>    \n",
    "    <th>Details of work other than individual model</th>\n",
    "  </tr>\n",
    "  <tr>\n",
    "    <td>Sylvia Sherwood</td>\n",
    "    <td>Lasso, Ridge & Catboost</td>\n",
    "    <td>Data cleaning and EDA</td>    \n",
    "    <td>Imputed missing values and visualized data</td>\n",
    "  </tr>\n",
    "  <tr>\n",
    "    <td>Sankaranarayanan Balasubramanian</td>\n",
    "    <td>MARS, AdaBoost & LightGBM</td>\n",
    "    <td>Ensembling</td>    \n",
    "    <td>Stacking ensembles and voting ensemble</td>\n",
    "  </tr>\n",
    "    <tr>\n",
    "    <td>Fiona Fe</td>\n",
    "    <td>Bagged trees & Random forest</td>\n",
    "    <td>Variable selection</td>    \n",
    "    <td>Variable selection based on feature importance</td>\n",
    "  </tr>\n",
    "    <tr>\n",
    "    <td>Ryu Kimiko</td>\n",
    "    <td>XGBoost</td>\n",
    "    <td>Ensembling</td>    \n",
    "    <td>Innovative ensemble & stacking ensemble</td> \n",
    "  </tr>\n",
    "</table>"
   ]
  },
  {
   "cell_type": "markdown",
   "id": "00b1cafe",
   "metadata": {},
   "source": [
    "## References {-}"
   ]
  },
  {
   "cell_type": "markdown",
   "id": "ebdb1aad",
   "metadata": {},
   "source": [
    "List and number all bibliographical references. When referenced in the text, enclose the citation number in square brackets, for example [1].\n",
    "\n",
    "[1] Authors. The frobnicatable foo filter, 2014. Face and Gesture submission ID 324. Supplied as additional material\n",
    "fg324.pdf. 3\n"
   ]
  },
  {
   "cell_type": "markdown",
   "id": "5831751c",
   "metadata": {},
   "source": [
    "## Appendix {-}"
   ]
  },
  {
   "cell_type": "markdown",
   "id": "d13d374d",
   "metadata": {},
   "source": [
    "You may put additional stuff here as Appendix. You may refer to the Appendix in the main report to support your arguments. However, the appendix section is unlikely to be checked while grading, unless the grader deems it necessary."
   ]
  }
 ],
 "metadata": {
  "kernelspec": {
   "display_name": "Python 3 (ipykernel)",
   "language": "python",
   "name": "python3"
  },
  "language_info": {
   "codemirror_mode": {
    "name": "ipython",
    "version": 3
   },
   "file_extension": ".py",
   "mimetype": "text/x-python",
   "name": "python",
   "nbconvert_exporter": "python",
   "pygments_lexer": "ipython3",
   "version": "3.9.16"
  }
 },
 "nbformat": 4,
 "nbformat_minor": 5
}
>>>>>>> 74f6ab5f32c20983b43be127a7fb11668840df60
